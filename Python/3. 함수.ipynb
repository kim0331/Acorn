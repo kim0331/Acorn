{
 "cells": [
  {
   "cell_type": "markdown",
   "metadata": {},
   "source": [
    "## 1. 함수\n",
    "\n",
    "* 정의 : 일정한 작업을 수행하는 코드 블럭\n",
    "* 장점\n",
    "    * 반복적인 코드를 없애주어 코드의 길이 단축\n",
    "    * 프로그램의 유지보수를 쉽게 해준다\n",
    "    "
   ]
  },
  {
   "cell_type": "markdown",
   "metadata": {},
   "source": [
    "### 1) 함수 생성\n",
    "\n",
    "    def 함수명(...) :\n",
    "        코드 정의\n",
    "        ...\n",
    "        [return ...]         # return : 생략 가능\n",
    "    "
   ]
  },
  {
   "cell_type": "code",
   "execution_count": 2,
   "metadata": {},
   "outputs": [],
   "source": [
    "def line() :\n",
    "    print('******************************')"
   ]
  },
  {
   "cell_type": "code",
   "execution_count": 7,
   "metadata": {},
   "outputs": [
    {
     "name": "stdout",
     "output_type": "stream",
     "text": [
      "******************************\n",
      "      친구 관리 프로그램      \n",
      "******************************\n",
      "1. 친구 목록 출력\n",
      "2. 친구 추가\n",
      "3. 친구 삭제\n",
      "4. 종료\n",
      "******************************\n"
     ]
    }
   ],
   "source": [
    "# 함수 적용 전\n",
    "print('******************************')\n",
    "print('      친구 관리 프로그램      ')\n",
    "print('******************************')\n",
    "print('1. 친구 목록 출력')\n",
    "print('2. 친구 추가')\n",
    "print('3. 친구 삭제')\n",
    "print('4. 종료')\n",
    "print('******************************')"
   ]
  },
  {
   "cell_type": "code",
   "execution_count": 8,
   "metadata": {},
   "outputs": [
    {
     "name": "stdout",
     "output_type": "stream",
     "text": [
      "******************************\n",
      "      친구 관리 프로그램      \n",
      "******************************\n",
      "1. 친구 목록 출력\n",
      "2. 친구 추가\n",
      "3. 친구 삭제\n",
      "4. 종료\n",
      "******************************\n"
     ]
    }
   ],
   "source": [
    "# 함수 적용 후\n",
    "line()\n",
    "print('      친구 관리 프로그램      ')\n",
    "line()\n",
    "print('1. 친구 목록 출력')\n",
    "print('2. 친구 추가')\n",
    "print('3. 친구 삭제')\n",
    "print('4. 종료')\n",
    "line()"
   ]
  },
  {
   "cell_type": "code",
   "execution_count": 9,
   "metadata": {},
   "outputs": [
    {
     "name": "stdout",
     "output_type": "stream",
     "text": [
      "****************************************\n"
     ]
    }
   ],
   "source": [
    "# 반복문 이용 함수 수정\n",
    "\n",
    "def line() :\n",
    "    for i in range(40) :\n",
    "        print('*', end='')\n",
    "    print()\n",
    "    \n",
    "line()"
   ]
  },
  {
   "cell_type": "markdown",
   "metadata": {},
   "source": [
    "### 2) 함수 호출 유형(방식)\n",
    "\n",
    "* 인자(인수)가 없는 방식 : 함수명()\n",
    "* 인자(인수)가 있는 방식 : 함수명(실인자(=실인수))\n",
    "    * 형식<br>\n",
    "        def 함수명(매개변수) :\n",
    "            코드 정의\n",
    "            ...\n",
    "            [return ...]\n",
    "* 반환값(return)이 있는 방식\n",
    "    * return 용도 :\n",
    "        * 값을 반환(1개만 반환)\n",
    "        * 함수 강제 종료"
   ]
  },
  {
   "cell_type": "code",
   "execution_count": 18,
   "metadata": {},
   "outputs": [
    {
     "name": "stdout",
     "output_type": "stream",
     "text": [
      "****************************************\n",
      "****************************************\n",
      "----------------------------------------\n"
     ]
    }
   ],
   "source": [
    "# 인자(인수)가 없는 방식\n",
    "def line() :\n",
    "    for v in range(40) :\n",
    "        print('*', end = '')\n",
    "    print()\n",
    "    \n",
    "\n",
    "line()\n",
    "\n",
    "# 인자(인수)가 있는 방식\n",
    "\n",
    "def line(a) :                             # 개수 정의\n",
    "    for v in range(a) :\n",
    "        print('*', end = '')\n",
    "    print()\n",
    "    \n",
    "line(40)\n",
    "\n",
    "\n",
    "def line(v1, v2) :                       # 개수 및 모양 정의\n",
    "    for i in range(v1) :\n",
    "        print(v2, end = '')\n",
    "    print()\n",
    "\n",
    "line(40, '-')"
   ]
  },
  {
   "cell_type": "code",
   "execution_count": 25,
   "metadata": {},
   "outputs": [
    {
     "name": "stdout",
     "output_type": "stream",
     "text": [
      "두 수의 교환\n",
      "결과 : 5 10\n"
     ]
    }
   ],
   "source": [
    "# 반환값이 있을 때\n",
    "\n",
    "def swap(num1, num2) :\n",
    "    temp = num1\n",
    "    num1 = num2\n",
    "    num2 = temp\n",
    "    \n",
    "    return num1, num2\n",
    "\n",
    "num1, num2 = 10, 5\n",
    "\n",
    "print('두 수의 교환')    # num1 = 10, num2 = 5  \n",
    "n1, n2 = swap(10, 5)     # 반환값 변수에 할당\n",
    "print('결과 :', n1, n2)  # 일회성 출력시 : print('결과 :'. swap(num1, num2))"
   ]
  },
  {
   "cell_type": "code",
   "execution_count": 27,
   "metadata": {},
   "outputs": [
    {
     "name": "stdout",
     "output_type": "stream",
     "text": [
      "두 수의 교환\n",
      "결과 : None\n"
     ]
    }
   ],
   "source": [
    "# return 용도\n",
    "\n",
    "def swap(num1, num2) :\n",
    "    temp = num1\n",
    "    \n",
    "    if num1 == 0 :\n",
    "        return                 # 강제 종료\n",
    "    \n",
    "    num1 = num2\n",
    "    num2 = temp\n",
    "    \n",
    "    return num1, num2          # 값 2개 아님. 하나로 패키징해서 튜플 1개로 반환\n",
    "\n",
    "\n",
    "num1 = 0\n",
    "num2 = 5\n",
    "\n",
    "print('두 수의 교환')\n",
    "print('결과 :', swap(num1, num2)) # 모듈화된 채로 반환"
   ]
  },
  {
   "cell_type": "markdown",
   "metadata": {},
   "source": [
    "### 3) 함수의 설계\n",
    "\n",
    "* 고려해야할 점\n",
    "    * 재사용성\n",
    "    * 단일 기능\n",
    "\n",
    "\n",
    "\n",
    "### 4) 함수의 종류\n",
    "* 내장함수(Built-in)\n",
    "* 외장함수\n",
    "    * pip : 설치\n",
    "    * import : 실행\n",
    "* 사용자 정의 함수"
   ]
  },
  {
   "cell_type": "markdown",
   "metadata": {},
   "source": [
    "## 2. 파이썬에서 함수를 지원하기 위한 문법\n"
   ]
  },
  {
   "cell_type": "code",
   "execution_count": 38,
   "metadata": {},
   "outputs": [
    {
     "name": "stdout",
     "output_type": "stream",
     "text": [
      "전국 대표\n",
      "지역 대표 홍길동\n",
      "전국 대표\n"
     ]
    }
   ],
   "source": [
    "# 변수와 유효(생존) 범위 : 지역 변수, 전역 변수\n",
    "\n",
    "player = '전국 대표'                    # player : 전역 변수. 어디서든 사용 가능\n",
    "\n",
    "def funcSoccer() :                      # 임시로 true 코드 생성 : pass\n",
    "    name = '홍길동'                     # name : 지역 변수. 함수 안에서만 사용 가능\n",
    "    player = '지역 대표'                # 새로운 player 변수가 생성됨. 위와 다름\n",
    "    print(player, name)\n",
    "\n",
    "\n",
    "print(player)\n",
    "funcSoccer()\n",
    "print(player)"
   ]
  },
  {
   "cell_type": "code",
   "execution_count": 37,
   "metadata": {},
   "outputs": [
    {
     "name": "stdout",
     "output_type": "stream",
     "text": [
      "전국 대표\n",
      "지역 대표 홍길동\n",
      "지역 대표\n"
     ]
    }
   ],
   "source": [
    "player = '전국 대표'                    \n",
    "\n",
    "def funcSoccer() :\n",
    "    global player                        # global : 전역 변수 호출\n",
    "    \n",
    "    name = '홍길동'\n",
    "    player = '지역 대표'                # 호출된 전역 변수에 새 데이터 할당\n",
    "    print(player, name)\n",
    "\n",
    "\n",
    "print(player)\n",
    "funcSoccer()\n",
    "print(player)"
   ]
  },
  {
   "cell_type": "code",
   "execution_count": 43,
   "metadata": {},
   "outputs": [
    {
     "name": "stdout",
     "output_type": "stream",
     "text": [
      "******************************\n",
      "******************************\n"
     ]
    }
   ],
   "source": [
    "# default 인수 : 일부분만 개수 지정 시 뒤에서부터 지정.\n",
    "\n",
    "def line(i=30, j='*') :      # default 값 지정 : 인수 미지정 시 '*'를 30개 출력\n",
    "    for v in range(i) :\n",
    "        print(j, end = '')\n",
    "    print()\n",
    "    \n",
    "line(30, '*')               # line() 사용 불가 : 인자 지정이 안 됐기 때문\n",
    "line()"
   ]
  },
  {
   "cell_type": "code",
   "execution_count": 45,
   "metadata": {},
   "outputs": [
    {
     "name": "stdout",
     "output_type": "stream",
     "text": [
      "안녕하세요~ 서울에 사는 홍길동님... 당신의 나이는 30 입니다.\n"
     ]
    }
   ],
   "source": [
    "def hello(name, addr, age) :\n",
    "       print('안녕하세요~ {}에 사는 {}님... 당신의 나이는 {} 입니다.'\n",
    "             .format(addr, name, age))\n",
    "        \n",
    "        \n",
    "hello('홍길동', '서울', 30)"
   ]
  },
  {
   "cell_type": "code",
   "execution_count": 50,
   "metadata": {},
   "outputs": [
    {
     "name": "stdout",
     "output_type": "stream",
     "text": [
      "이름을 반드시 입력해주세요.\n",
      "안녕하세요~ 경기에 사는 홍길동님... 당신의 나이는 45 입니다.\n"
     ]
    }
   ],
   "source": [
    "def hello(addr, age, name = None) :\n",
    "    if name == None :\n",
    "        print('이름을 반드시 입력해주세요.')\n",
    "        return\n",
    "    \n",
    "    print('안녕하세요~ {}에 사는 {}님... 당신의 나이는 {} 입니다.'\n",
    "          .format(addr, name, age))\n",
    "    \n",
    "    \n",
    "hello('경기', 45)\n",
    "hello('경기', 45, '홍길동')"
   ]
  },
  {
   "cell_type": "code",
   "execution_count": 51,
   "metadata": {},
   "outputs": [
    {
     "name": "stdout",
     "output_type": "stream",
     "text": [
      "홍길동\n",
      "('홍길동', '임꺽정')\n"
     ]
    }
   ],
   "source": [
    "# 가변 인수 * : def 함수명(*매개변수)\n",
    "\n",
    "def greeting(name) :\n",
    "    print(name)\n",
    "    \n",
    "greeting('홍길동')             # 매개변수가 2개 이상일 경우 에러\n",
    "\n",
    "\n",
    "def greeting(*name) :\n",
    "    print(name)\n",
    "    \n",
    "greeting('홍길동', '임꺽정')\n",
    "greeting(['홍길동', '임꺽정', '유비'])     # 리스트로 입력해도 1개의 튜플로 출력\n",
    "greeting(('홍길동', '임꺽정', '유비', '관우'))"
   ]
  },
  {
   "cell_type": "code",
   "execution_count": 56,
   "metadata": {},
   "outputs": [
    {
     "name": "stdout",
     "output_type": "stream",
     "text": [
      "('홍길동', '임꺽정')\n",
      "<class 'tuple'>\n",
      "홍길동\n",
      "홍\n",
      "-----------------------------------------\n",
      "(['홍길동', '임꺽정', '유비'],)\n",
      "<class 'tuple'>\n",
      "['홍길동', '임꺽정', '유비']\n",
      "홍길동\n",
      "-----------------------------------------\n",
      "(('홍길동', '임꺽정', '유비', '관우'),)\n",
      "<class 'tuple'>\n",
      "('홍길동', '임꺽정', '유비', '관우')\n",
      "홍길동\n",
      "-----------------------------------------\n"
     ]
    }
   ],
   "source": [
    "def greeting(*name) :\n",
    "    print(name)\n",
    "    print(type(name))\n",
    "    print(name[0])\n",
    "    print(name[0][0])\n",
    "    print('-----------------------------------------')\n",
    "    \n",
    "greeting('홍길동', '임꺽정')\n",
    "greeting(['홍길동', '임꺽정', '유비'])\n",
    "greeting(('홍길동', '임꺽정', '유비', '관우'))"
   ]
  },
  {
   "cell_type": "code",
   "execution_count": 63,
   "metadata": {},
   "outputs": [
    {
     "name": "stdout",
     "output_type": "stream",
     "text": [
      "홍길동 님 환영합니다 : 170 80\n"
     ]
    }
   ],
   "source": [
    "# 가변인수도 일부분만 개수 지정 시 맨 뒤부터 지정\n",
    "\n",
    "def greeting2(height, weight, *name) :\n",
    "    for n in name :\n",
    "        print(n, '님 환영합니다 :', height, weight)\n",
    "        \n",
    "\n",
    "greeting2(170, 80, '홍길동')"
   ]
  },
  {
   "cell_type": "code",
   "execution_count": 67,
   "metadata": {},
   "outputs": [
    {
     "name": "stdout",
     "output_type": "stream",
     "text": [
      "1 2 3 4 5\n"
     ]
    }
   ],
   "source": [
    "def asterisk_test(a, b) :\n",
    "    print(a, *b)                 # '*'을 붙이면 패킹했던 걸 언패킹해줌.\n",
    "    \n",
    "    \n",
    "asterisk_test(1, (2, 3, 4, 5))"
   ]
  },
  {
   "cell_type": "code",
   "execution_count": 70,
   "metadata": {},
   "outputs": [
    {
     "name": "stdout",
     "output_type": "stream",
     "text": [
      "80 170\n",
      "{'name': '홍길동', 'age': 20, 'addr': '서울'}\n"
     ]
    }
   ],
   "source": [
    "# ** : dict 형식으로 출력\n",
    "\n",
    "def asterisk_test2(weight, height, **other) :\n",
    "    print(weight, height)\n",
    "    print(other)\n",
    "    \n",
    "\n",
    "asterisk_test2(80, 170, name = '홍길동', age = 20, addr = '서울')"
   ]
  },
  {
   "cell_type": "code",
   "execution_count": 1,
   "metadata": {},
   "outputs": [
    {
     "name": "stdout",
     "output_type": "stream",
     "text": [
      "10 2 3 4\n"
     ]
    }
   ],
   "source": [
    "def asterisk_test3(a, b, c, d) :\n",
    "    print(a, b, c, d)\n",
    "    \n",
    "    \n",
    "data = {'c':3, 'b':2, 'd':4}\n",
    "asterisk_test3(10, **data)               # 전달할 때 dict 형식으로 전달"
   ]
  },
  {
   "cell_type": "markdown",
   "metadata": {},
   "source": [
    "### 3. 내장함수"
   ]
  },
  {
   "cell_type": "code",
   "execution_count": 4,
   "metadata": {},
   "outputs": [
    {
     "name": "stdout",
     "output_type": "stream",
     "text": [
      "True\n",
      "False\n",
      "True\n"
     ]
    }
   ],
   "source": [
    "# all() = and, any() = or\n",
    "\n",
    "print(all([1, 2, 3, -1, -2]))       # all() : 모든 값이 참이어야 True\n",
    "print(all([1, 2, 0, -1, -2]))       # all() : 하나라도 0이거나 값이 없으면 false\n",
    "\n",
    "print(any([0, 2, None, '', -2]))    # any() : 하나라도 값이 있으면 True"
   ]
  },
  {
   "cell_type": "code",
   "execution_count": 15,
   "metadata": {},
   "outputs": [
    {
     "name": "stdout",
     "output_type": "stream",
     "text": [
      "(0, '홍길동')\n",
      "(1, '임꺽정')\n",
      "(2, 3.14)\n",
      "(3, 1000)\n",
      "(4, True)\n",
      "0 : 홍길동\n",
      "1 : 임꺽정\n",
      "2 : 3.14\n",
      "3 : 1000\n",
      "4 : True\n"
     ]
    }
   ],
   "source": [
    "# enumerate(iterator) : 순서있는 자료형을 입력받아 인덱스 값을 포함해서 리턴.\n",
    "## 열거형, 집합자료형을 인자로 사용.\n",
    "## 순서있는 자료형 : 튜플, 리스트, str\n",
    "\n",
    "enum1 = enumerate(['홍길동', '임꺽정', 3.14, 1000, True]) # 인덱스 포함해 튜플로 전달\n",
    "enum2 = enumerate(['홍길동', '임꺽정', 3.14, 1000, True])\n",
    "\n",
    "for i in enum1 :\n",
    "    print(i)\n",
    "    \n",
    "for i, j in enum2 :\n",
    "    print(i,':', j)"
   ]
  },
  {
   "cell_type": "code",
   "execution_count": 16,
   "metadata": {},
   "outputs": [
    {
     "name": "stdout",
     "output_type": "stream",
     "text": [
      "3+4\n",
      "7\n"
     ]
    }
   ],
   "source": [
    "# eval(expression) : 표현식을 파이썬에서 실행 가능하게 만들어주는 역할\n",
    "\n",
    "print('3+4')\n",
    "print(eval('3+4'))       # 실제 식이 실행됨"
   ]
  },
  {
   "cell_type": "code",
   "execution_count": 4,
   "metadata": {},
   "outputs": [
    {
     "name": "stdout",
     "output_type": "stream",
     "text": [
      "12\n",
      "[12, 22, 32, 42, 52]\n",
      "<map object at 0x0000016BB1127188>\n",
      "[12, 22, 32, 42, 52]\n"
     ]
    }
   ],
   "source": [
    "# map(함수명, 집합자료형):집합의 각 요소가 함수에 의해 수행된 결과를 묶어서 리턴\n",
    "\n",
    "def calc(x) :\n",
    "    return x+2\n",
    "\n",
    "a = calc(10)\n",
    "print(a)\n",
    "\n",
    "data = [10, 20, 30, 40, 50]\n",
    "result=[]\n",
    "\n",
    "for v in data :\n",
    "    a=  calc(v)\n",
    "    result.append(a)\n",
    "    \n",
    "print(result)\n",
    "\n",
    "\n",
    "## 함수명() : 지금 바로 호출  //  함수명만 입력 : 나중에 호출 예약\n",
    "## callback 함수 : 지금 함수를 호출할 수 없을 때 함수명만 입력하는 경우\n",
    "### 여기서는 macp(calc, data)의 calc 부분\n",
    "\n",
    "print(map(calc, data))           # for 문과 동일한 결과\n",
    "print(list(map(calc, data)))     # 리스트로 결과값 출력"
   ]
  },
  {
   "cell_type": "code",
   "execution_count": 6,
   "metadata": {},
   "outputs": [
    {
     "name": "stdout",
     "output_type": "stream",
     "text": [
      "[12, 22, 32, 42, 52]\n"
     ]
    }
   ],
   "source": [
    "# lambda 함수 : 익명 함수. 일회용으로 사용할 때 사용\n",
    "## lambda 매개변수 : 리턴값\n",
    "\n",
    "result2 = list(map(lambda x : x+2, data))\n",
    "\n",
    "print(result2)"
   ]
  },
  {
   "cell_type": "code",
   "execution_count": 10,
   "metadata": {},
   "outputs": [
    {
     "name": "stdout",
     "output_type": "stream",
     "text": [
      "[('a1', 'b1'), ('a2', 'b2'), ('a3', 'b3')]\n",
      "[('a1', 'b1', 'c1'), ('a2', 'b2', 'c2'), ('a3', 'b3', 'c3')]\n",
      "0 a1 b1 c1\n",
      "1 a2 b2 c2\n",
      "2 a3 b3 c3\n"
     ]
    }
   ],
   "source": [
    "# zip(집합자료형) : 동일한 갯수로 이루어진 자료형을 묶어주는 역할\n",
    "\n",
    "a = ['a1', 'a2', 'a3']\n",
    "b = ['b1', 'b2', 'b3']\n",
    "c = ['c1', 'c2', 'c3', 'c4']\n",
    "\n",
    "print(list(zip(a, b)))\n",
    "print(list(zip(a, b, c)))        # 갯수가 안 맞으면 소용 없음\n",
    "\n",
    "for num, (a, b, c) in enumerate(zip(a, b, c)) :\n",
    "    print(num, a, b, c)"
   ]
  },
  {
   "cell_type": "markdown",
   "metadata": {},
   "source": [
    "### 4. 외장 함수\n",
    "\n",
    "* pip : 설치(파이썬의 기본 응용 프로그램)\n",
    "* import : 설치된 함수 호출\n",
    "* conda : 아나콘다에서 제공. pip와 유사"
   ]
  },
  {
   "cell_type": "code",
   "execution_count": 1,
   "metadata": {},
   "outputs": [
    {
     "name": "stdout",
     "output_type": "stream",
     "text": [
      "Package                            Version            \n",
      "---------------------------------- -------------------\n",
      "alabaster                          0.7.12             \n",
      "altgraph                           0.17               \n",
      "anaconda-client                    1.7.2              \n",
      "anaconda-navigator                 1.9.12             \n",
      "anaconda-project                   0.8.3              \n",
      "argh                               0.26.2             \n",
      "asn1crypto                         1.3.0              \n",
      "astroid                            2.3.3              \n",
      "astropy                            4.0                \n",
      "atomicwrites                       1.3.0              \n",
      "attrs                              19.3.0             \n",
      "autopep8                           1.4.4              \n",
      "Babel                              2.8.0              \n",
      "backcall                           0.1.0              \n",
      "backports.functools-lru-cache      1.6.1              \n",
      "backports.shutil-get-terminal-size 1.0.0              \n",
      "backports.tempfile                 1.0                \n",
      "backports.weakref                  1.0.post1          \n",
      "bcrypt                             3.1.7              \n",
      "beautifulsoup4                     4.8.2              \n",
      "bitarray                           1.2.1              \n",
      "bkcharts                           0.2                \n",
      "bleach                             3.1.0              \n",
      "bokeh                              1.4.0              \n",
      "boto                               2.49.0             \n",
      "Bottleneck                         1.3.2              \n",
      "certifi                            2019.11.28         \n",
      "cffi                               1.14.0             \n",
      "chardet                            3.0.4              \n",
      "Click                              7.0                \n",
      "cloudpickle                        1.3.0              \n",
      "clyent                             1.2.2              \n",
      "colorama                           0.4.3              \n",
      "comtypes                           1.1.7              \n",
      "conda                              4.8.2              \n",
      "conda-build                        3.18.11            \n",
      "conda-package-handling             1.6.0              \n",
      "conda-verify                       3.4.2              \n",
      "contextlib2                        0.6.0.post1        \n",
      "cryptography                       2.8                \n",
      "cycler                             0.10.0             \n",
      "Cython                             0.29.15            \n",
      "cytoolz                            0.10.1             \n",
      "dask                               2.11.0             \n",
      "decorator                          4.4.1              \n",
      "defusedxml                         0.6.0              \n",
      "diff-match-patch                   20181111           \n",
      "distributed                        2.11.0             \n",
      "docutils                           0.16               \n",
      "entrypoints                        0.3                \n",
      "et-xmlfile                         1.0.1              \n",
      "fastcache                          1.1.0              \n",
      "filelock                           3.0.12             \n",
      "flake8                             3.7.9              \n",
      "Flask                              1.1.1              \n",
      "fsspec                             0.6.2              \n",
      "future                             0.18.2             \n",
      "gevent                             1.4.0              \n",
      "glob2                              0.7                \n",
      "greenlet                           0.4.15             \n",
      "h5py                               2.10.0             \n",
      "HeapDict                           1.0.1              \n",
      "html5lib                           1.0.1              \n",
      "hypothesis                         5.5.4              \n",
      "idna                               2.8                \n",
      "imageio                            2.6.1              \n",
      "imagesize                          1.2.0              \n",
      "importlib-metadata                 1.5.0              \n",
      "intervaltree                       3.0.2              \n",
      "ipykernel                          5.1.4              \n",
      "ipython                            7.12.0             \n",
      "ipython-genutils                   0.2.0              \n",
      "ipywidgets                         7.5.1              \n",
      "isort                              4.3.21             \n",
      "itsdangerous                       1.1.0              \n",
      "jdcal                              1.4.1              \n",
      "jedi                               0.14.1             \n",
      "Jinja2                             2.11.1             \n",
      "joblib                             0.14.1             \n",
      "json5                              0.9.1              \n",
      "jsonschema                         3.2.0              \n",
      "jupyter                            1.0.0              \n",
      "jupyter-client                     5.3.4              \n",
      "jupyter-console                    6.1.0              \n",
      "jupyter-core                       4.6.1              \n",
      "jupyterlab                         1.2.6              \n",
      "jupyterlab-server                  1.0.6              \n",
      "jupyterthemes                      0.20.0             \n",
      "keyring                            21.1.0             \n",
      "kiwisolver                         1.1.0              \n",
      "lazy-object-proxy                  1.4.3              \n",
      "lesscpy                            0.14.0             \n",
      "libarchive-c                       2.8                \n",
      "llvmlite                           0.31.0             \n",
      "locket                             0.2.0              \n",
      "lxml                               4.5.0              \n",
      "MarkupSafe                         1.1.1              \n",
      "matplotlib                         3.1.3              \n",
      "mccabe                             0.6.1              \n",
      "menuinst                           1.4.16             \n",
      "mistune                            0.8.4              \n",
      "mkl-fft                            1.0.15             \n",
      "mkl-random                         1.1.0              \n",
      "mkl-service                        2.3.0              \n",
      "mock                               4.0.1              \n",
      "more-itertools                     8.2.0              \n",
      "mpmath                             1.1.0              \n",
      "msgpack                            0.6.1              \n",
      "multipledispatch                   0.6.0              \n",
      "navigator-updater                  0.2.1              \n",
      "nbconvert                          5.6.1              \n",
      "nbformat                           5.0.4              \n",
      "networkx                           2.4                \n",
      "nltk                               3.4.5              \n",
      "nose                               1.3.7              \n",
      "notebook                           6.0.3              \n",
      "numba                              0.48.0             \n",
      "numexpr                            2.7.1              \n",
      "numpy                              1.18.1             \n",
      "numpydoc                           0.9.2              \n",
      "olefile                            0.46               \n",
      "openpyxl                           3.0.3              \n",
      "packaging                          20.1               \n",
      "pandas                             1.0.1              \n",
      "pandocfilters                      1.4.2              \n",
      "paramiko                           2.7.1              \n",
      "parso                              0.5.2              \n",
      "partd                              1.1.0              \n",
      "path                               13.1.0             \n",
      "pathlib2                           2.3.5              \n",
      "pathtools                          0.1.2              \n",
      "patsy                              0.5.1              \n",
      "pefile                             2019.4.18          \n",
      "pep8                               1.7.1              \n",
      "pexpect                            4.8.0              \n",
      "pickleshare                        0.7.5              \n",
      "Pillow                             7.0.0              \n",
      "pip                                20.0.2             \n",
      "pkginfo                            1.5.0.1            \n",
      "pluggy                             0.13.1             \n",
      "ply                                3.11               \n",
      "prometheus-client                  0.7.1              \n",
      "prompt-toolkit                     3.0.3              \n",
      "psutil                             5.6.7              \n",
      "py                                 1.8.1              \n",
      "pycodestyle                        2.5.0              \n",
      "pycosat                            0.6.3              \n",
      "pycparser                          2.19               \n",
      "pycrypto                           2.6.1              \n",
      "pycurl                             7.43.0.5           \n",
      "pydocstyle                         4.0.1              \n",
      "pyflakes                           2.1.1              \n",
      "Pygments                           2.5.2              \n",
      "PyInstaller                        3.6                \n",
      "pylint                             2.4.4              \n",
      "PyNaCl                             1.3.0              \n",
      "pyodbc                             4.0.0-unsupported  \n",
      "pyOpenSSL                          19.1.0             \n",
      "pyparsing                          2.4.6              \n",
      "pyreadline                         2.1                \n",
      "pyrsistent                         0.15.7             \n",
      "PySocks                            1.7.1              \n",
      "pytest                             5.3.5              \n",
      "pytest-arraydiff                   0.3                \n",
      "pytest-astropy                     0.8.0              \n",
      "pytest-astropy-header              0.1.2              \n",
      "pytest-doctestplus                 0.5.0              \n",
      "pytest-openfiles                   0.4.0              \n",
      "pytest-remotedata                  0.3.2              \n",
      "python-dateutil                    2.8.1              \n",
      "python-jsonrpc-server              0.3.4              \n",
      "python-language-server             0.31.7             \n",
      "pytz                               2019.3             \n",
      "PyWavelets                         1.1.1              \n",
      "pywin32                            227                \n",
      "pywin32-ctypes                     0.2.0              \n",
      "pywinpty                           0.5.7              \n",
      "PyYAML                             5.3                \n",
      "pyzmq                              18.1.1             \n",
      "QDarkStyle                         2.8                \n",
      "QtAwesome                          0.6.1              \n",
      "qtconsole                          4.6.0              \n",
      "QtPy                               1.9.0              \n",
      "requests                           2.22.0             \n",
      "rope                               0.16.0             \n",
      "Rtree                              0.9.3              \n",
      "ruamel-yaml                        0.15.87            \n",
      "scikit-image                       0.16.2             \n",
      "scikit-learn                       0.22.1             \n",
      "scipy                              1.4.1              \n",
      "seaborn                            0.10.0             \n",
      "Send2Trash                         1.5.0              \n",
      "setuptools                         45.2.0.post20200210\n",
      "simplegeneric                      0.8.1              \n",
      "singledispatch                     3.4.0.3            \n",
      "six                                1.14.0             \n",
      "snowballstemmer                    2.0.0              \n",
      "sortedcollections                  1.1.2              \n",
      "sortedcontainers                   2.1.0              \n",
      "soupsieve                          1.9.5              \n",
      "Sphinx                             2.4.0              \n",
      "sphinxcontrib-applehelp            1.0.1              \n",
      "sphinxcontrib-devhelp              1.0.1              \n",
      "sphinxcontrib-htmlhelp             1.0.2              \n",
      "sphinxcontrib-jsmath               1.0.1              \n",
      "sphinxcontrib-qthelp               1.0.2              \n",
      "sphinxcontrib-serializinghtml      1.1.3              \n",
      "sphinxcontrib-websupport           1.2.0              \n",
      "spyder                             4.0.1              \n",
      "spyder-kernels                     1.8.1              \n",
      "SQLAlchemy                         1.3.13             \n",
      "statsmodels                        0.11.0             \n",
      "sympy                              1.5.1              \n",
      "tables                             3.6.1              \n",
      "tblib                              1.6.0              \n",
      "terminado                          0.8.3              \n",
      "testpath                           0.4.4              \n",
      "toolz                              0.10.0             \n",
      "tornado                            6.0.3              \n",
      "tqdm                               4.42.1             \n",
      "traitlets                          4.3.3              \n",
      "ujson                              1.35               \n",
      "unicodecsv                         0.14.1             \n",
      "urllib3                            1.25.8             \n",
      "watchdog                           0.10.2             \n",
      "wcwidth                            0.1.8              \n",
      "webencodings                       0.5.1              \n",
      "Werkzeug                           1.0.0              \n",
      "wheel                              0.34.2             \n",
      "widgetsnbextension                 3.5.1              \n",
      "win-inet-pton                      1.1.0              \n",
      "win-unicode-console                0.5                \n",
      "wincertstore                       0.2                \n",
      "wrapt                              1.11.2             \n",
      "xlrd                               1.2.0              \n",
      "XlsxWriter                         1.2.7              \n",
      "xlwings                            0.17.1             \n",
      "xlwt                               1.3.0              \n",
      "xmltodict                          0.12.0             \n",
      "yapf                               0.28.0             \n",
      "zict                               1.0.0              \n",
      "zipp                               2.2.0              \n"
     ]
    }
   ],
   "source": [
    "!pip list              # 설치된 패키지 출력. cmd에선 pip list"
   ]
  },
  {
   "cell_type": "code",
   "execution_count": 2,
   "metadata": {},
   "outputs": [
    {
     "data": {
      "text/plain": [
       "['__doc__',\n",
       " '__loader__',\n",
       " '__name__',\n",
       " '__package__',\n",
       " '__spec__',\n",
       " 'acos',\n",
       " 'acosh',\n",
       " 'asin',\n",
       " 'asinh',\n",
       " 'atan',\n",
       " 'atan2',\n",
       " 'atanh',\n",
       " 'ceil',\n",
       " 'copysign',\n",
       " 'cos',\n",
       " 'cosh',\n",
       " 'degrees',\n",
       " 'e',\n",
       " 'erf',\n",
       " 'erfc',\n",
       " 'exp',\n",
       " 'expm1',\n",
       " 'fabs',\n",
       " 'factorial',\n",
       " 'floor',\n",
       " 'fmod',\n",
       " 'frexp',\n",
       " 'fsum',\n",
       " 'gamma',\n",
       " 'gcd',\n",
       " 'hypot',\n",
       " 'inf',\n",
       " 'isclose',\n",
       " 'isfinite',\n",
       " 'isinf',\n",
       " 'isnan',\n",
       " 'ldexp',\n",
       " 'lgamma',\n",
       " 'log',\n",
       " 'log10',\n",
       " 'log1p',\n",
       " 'log2',\n",
       " 'modf',\n",
       " 'nan',\n",
       " 'pi',\n",
       " 'pow',\n",
       " 'radians',\n",
       " 'remainder',\n",
       " 'sin',\n",
       " 'sinh',\n",
       " 'sqrt',\n",
       " 'tan',\n",
       " 'tanh',\n",
       " 'tau',\n",
       " 'trunc']"
      ]
     },
     "execution_count": 2,
     "metadata": {},
     "output_type": "execute_result"
    }
   ],
   "source": [
    "import math            # 복잡한 수학 계산 함수 호출\n",
    "\n",
    "dir(math)              # math 함수의 내용 출력"
   ]
  },
  {
   "cell_type": "code",
   "execution_count": 3,
   "metadata": {},
   "outputs": [
    {
     "data": {
      "text/plain": [
       "2.0"
      ]
     },
     "execution_count": 3,
     "metadata": {},
     "output_type": "execute_result"
    }
   ],
   "source": [
    "import math\n",
    "math.sqrt(4)        # sqrt()로만 쓰면 안 됨. 불러온 함수를 앞에 입력해야 함"
   ]
  },
  {
   "cell_type": "code",
   "execution_count": 19,
   "metadata": {},
   "outputs": [
    {
     "name": "stdout",
     "output_type": "stream",
     "text": [
      "2020-05-13\n",
      "2020\n",
      "5\n",
      "13\n",
      "--------------------------------------------------------------------------\n",
      "2020-05-13 10:09:52.945573\n"
     ]
    }
   ],
   "source": [
    "# 날짜형 함수\n",
    "\n",
    "import datetime\n",
    "\n",
    "today = datetime.date.today()       # 오늘 날짜 출력\n",
    "print(today)\n",
    "print(today.year)                  # year : today의 속성. 연도만 출력\n",
    "print(today.month)                 # month : today의 속성, 월 출력\n",
    "print(today.day)                   # day : today의 속성, 일 출력\n",
    "\n",
    "print('--------------------------------------------------------------------------')\n",
    "\n",
    "ctime = datetime.datetime.today()                # 오늘 날짜 + 시간 출력\n",
    "print(ctime)"
   ]
  },
  {
   "cell_type": "code",
   "execution_count": 20,
   "metadata": {},
   "outputs": [
    {
     "name": "stdout",
     "output_type": "stream",
     "text": [
      "0:00:00\n",
      "1 day, 0:00:00\n",
      "2020-05-14\n",
      "2020-05-13 02:09:52.945573\n"
     ]
    }
   ],
   "source": [
    "# 날짜와 시간 연산\n",
    "\n",
    "var1 = datetime.timedelta()               # 숫자 연산이 가능하도록 시간 변경\n",
    "print(var1)                               # 디폴트가 0이기 때문에 0으로 출력\n",
    "\n",
    "print('-----------------------------------------------------------------------')\n",
    "\n",
    "var2 = datetime.timedelta(days=1)         # 증가할 day값 입력\n",
    "print(var2)\n",
    "\n",
    "print('-----------------------------------------------------------------------')\n",
    "\n",
    "var3 = datetime.timedelta(days=1)\n",
    "print(today + var3)                       # today보다 1일 뒤 날짜 출력\n",
    "\n",
    "print('-----------------------------------------------------------------------')\n",
    "\n",
    "var4 = datetime.timedelta(hours = -8)     # 8시간 전\n",
    "print(ctime + var4)                       # 지금 시간에서 8시간 전"
   ]
  },
  {
   "cell_type": "code",
   "execution_count": 27,
   "metadata": {},
   "outputs": [
    {
     "name": "stdout",
     "output_type": "stream",
     "text": [
      "<class 'datetime.date'>\n",
      "05/13/2020\n",
      "<class 'str'>\n",
      "--------------------------------------------------------------------------\n",
      "<class 'datetime.datetime'>\n",
      "<class 'str'>\n",
      "<class 'str'>\n",
      "2020-05-13 10:35:20\n"
     ]
    }
   ],
   "source": [
    "# 날짜 형식\n",
    "\n",
    "print(type(today))\n",
    "print(today.strftime('%m/%d/%Y'))\n",
    "\n",
    "# 날짜 형식의 변환\n",
    "## strftime() : 날짜를 문자열 형식으로 변환\n",
    "\n",
    "print(type(today.strftime('%m/%d/%Y')))\n",
    "\n",
    "print('-----------------------------------------------------------------------')\n",
    "\n",
    "print(type(ctime))\n",
    "strd = ctime.strftime('%Y-%m-%d %H:%M:%S')\n",
    "print(type(strd))\n",
    "\n",
    "## strptime() : 문자열을 날짜형으로 변환\n",
    "\n",
    "strdate = '2020-5-13 10:35:20'\n",
    "print(type(strdate))\n",
    "dstr = datetime.datetime.strptime(strdate, '%Y-%m-%d %H:%M:%S')\n",
    "print(dstr)"
   ]
  },
  {
   "cell_type": "markdown",
   "metadata": {},
   "source": [
    "### 5. 명령행 인자(Command Line Argument)"
   ]
  },
  {
   "cell_type": "code",
   "execution_count": 30,
   "metadata": {},
   "outputs": [
    {
     "name": "stdout",
     "output_type": "stream",
     "text": [
      "['C:\\\\Users\\\\acorn\\\\hyeonji\\\\pythonwork\\\\basic\\\\lecture', 'C:\\\\Users\\\\acorn\\\\Anaconda3\\\\python37.zip', 'C:\\\\Users\\\\acorn\\\\Anaconda3\\\\DLLs', 'C:\\\\Users\\\\acorn\\\\Anaconda3\\\\lib', 'C:\\\\Users\\\\acorn\\\\Anaconda3', '', 'C:\\\\Users\\\\acorn\\\\Anaconda3\\\\lib\\\\site-packages', 'C:\\\\Users\\\\acorn\\\\Anaconda3\\\\lib\\\\site-packages\\\\win32', 'C:\\\\Users\\\\acorn\\\\Anaconda3\\\\lib\\\\site-packages\\\\win32\\\\lib', 'C:\\\\Users\\\\acorn\\\\Anaconda3\\\\lib\\\\site-packages\\\\Pythonwin', 'C:\\\\Users\\\\acorn\\\\Anaconda3\\\\lib\\\\site-packages\\\\IPython\\\\extensions', 'C:\\\\Users\\\\acorn\\\\.ipython']\n",
      "win32\n",
      "3.7.6 (default, Jan  8 2020, 20:23:39) [MSC v.1916 64 bit (AMD64)]\n"
     ]
    }
   ],
   "source": [
    "import sys\n",
    "\n",
    "print(sys.path)                     # 현재 설정된 path 출력\n",
    "print(sys.platform)                 # 현재 운영체제\n",
    "print(sys.version)                  # 현재 사용 중인 버전\n",
    "\n",
    "# sys.exit() : 프로그램 완전 종료"
   ]
  },
  {
   "cell_type": "code",
   "execution_count": 31,
   "metadata": {},
   "outputs": [
    {
     "name": "stdout",
     "output_type": "stream",
     "text": [
      "C:\\Users\\acorn\\hyeonji\\pythonwork\\basic\\lecture\n",
      "0\n"
     ]
    }
   ],
   "source": [
    "# 파이썬 환경 내에서 os 명령어를 사용할 수 있게 해주는 모듈\n",
    "\n",
    "import os\n",
    "\n",
    "print(os.getcwd())            # 현재 작업 위치 출력\n",
    "print(os.system('dir'))"
   ]
  },
  {
   "cell_type": "markdown",
   "metadata": {},
   "source": [
    "### 6. 파일 처리 함수\n",
    "\n",
    "* open(파일명(경로 포함), 모드(읽기 방법)) : 파일 적재(load)\n",
    "    * 모드\n",
    "        * w : 쓰기 모드 - 기존 내용 위에 덮어쓰기\n",
    "        * r : 읽기 모드\n",
    "        * a : 추가 모드 - 기존 내용 뒤에 추가\n",
    "        * b : 바이너리 모드(w, r, a와 함께 사용)\n",
    "\n",
    "* close() : 파일을 언로드(unload). 메모리에서 파일 제거\n",
    "\n",
    "* 읽어올 때\n",
    "    * readline() : 한 행씩 읽음\n",
    "    * readlines() : 파일 안에 있는 전체 데이터 한 번에 읽음 - 한 줄씩 읽은 뒤 리스트로 저장\n",
    "    * read() : 파일 안에 있는 전체 데이터 한 번에 읽음 - 한 번에 읽어서 문자열로 저장\n",
    "    \n",
    "* 저장할 때 : write()\n",
    "\n",
    "---\n",
    "\n",
    "* 순차 처리 방식 \n",
    "* 임의로 접근할 수 있는 함수 제공 : seek(), tell()"
   ]
  },
  {
   "cell_type": "markdown",
   "metadata": {},
   "source": [
    "#### 1) 파일 불러오기"
   ]
  },
  {
   "cell_type": "code",
   "execution_count": 43,
   "metadata": {},
   "outputs": [
    {
     "name": "stdout",
     "output_type": "stream",
     "text": [
      "<_io.TextIOWrapper name='C:\\\\Users\\\\acorn\\\\hyeonji\\\\pythonwork\\\\filetest.txt' mode='r' encoding='cp949'>\n",
      "--------------------------------------------------------------------------\n",
      "<_io.TextIOWrapper name='..\\\\..\\\\filetest.txt' mode='r' encoding='cp949'>\n",
      "--------------------------------------------------------------------------\n",
      "abcdefg\n",
      "\n",
      "hijklmn\n",
      "\n",
      "opqrstr\n",
      "\n",
      "가나다라\n",
      "\n",
      "마바사아\n",
      "\n",
      "자차카타\n",
      "\n"
     ]
    }
   ],
   "source": [
    "# 그냥 경로 넣으면 에러 뜸 - \\문자를 실행하기 때문 = \\\\로 변경\n",
    "\n",
    "f = open('C:\\\\Users\\\\acorn\\\\hyeonji\\\\pythonwork\\\\filetest.txt', 'r')\n",
    "print(f)\n",
    "\n",
    "print('-----------------------------------------------------------------------')\n",
    "\n",
    "d = open('..\\\\..\\\\filetest.txt', 'r')  # 내 위치에서 두 개 상위 폴더로 올라감\n",
    "print(d)\n",
    "\n",
    "print('-----------------------------------------------------------------------')\n",
    "\n",
    "#print(d.readine()) 에러 - 코드가 다르기 때문 : ANSI 코드로 저장\n",
    "\n",
    "s = open('..\\\\..\\\\newfiletest.txt', 'r')\n",
    "print(s.readline())\n",
    "print(s.readline())\n",
    "print(s.readline())\n",
    "print(s.readline())\n",
    "print(s.readline())\n",
    "print(s.readline())\n",
    "s.close()"
   ]
  },
  {
   "cell_type": "code",
   "execution_count": 44,
   "metadata": {},
   "outputs": [
    {
     "name": "stdout",
     "output_type": "stream",
     "text": [
      "abcdefg\n",
      "\n",
      "hijklmn\n",
      "\n",
      "opqrstr\n",
      "\n",
      "가나다라\n",
      "\n",
      "마바사아\n",
      "\n",
      "자차카타\n"
     ]
    }
   ],
   "source": [
    "# 반복문으로 출력\n",
    "\n",
    "s = open('..\\\\..\\\\newfiletest.txt', 'r')\n",
    "\n",
    "while True :\n",
    "    line = s.readline()\n",
    "    if not line :            # line값이 T이기 때문에 not 넣어서 break\n",
    "        break               # line == False도 같은 의미(None은 안 됨)\n",
    "    else :\n",
    "        print(line)\n",
    "\n",
    "s. close()"
   ]
  },
  {
   "cell_type": "markdown",
   "metadata": {},
   "source": [
    "#### 2) 파일 읽기"
   ]
  },
  {
   "cell_type": "code",
   "execution_count": 48,
   "metadata": {},
   "outputs": [
    {
     "name": "stdout",
     "output_type": "stream",
     "text": [
      "abcdefg\n",
      "hijklmn\n",
      "opqrstr\n",
      "가나다라\n",
      "마바사아\n",
      "자차카타\n",
      "--------------------------------------------------------------------------\n",
      "abcdefg\n"
     ]
    }
   ],
   "source": [
    "# read()로 불렀을 때 각 문장은 \\n으로 구분됨\n",
    "# split()로 \\n을 조건 지정 - 각 문장 구분\n",
    "\n",
    "s = open('..\\\\..\\\\newfiletest.txt', 'r')\n",
    "data = s.read()\n",
    "print(data)\n",
    "\n",
    "print('-----------------------------------------------------------------------')\n",
    "\n",
    "sdata = data.split('\\n')\n",
    "print(sdata[0])\n",
    "\n",
    "s.close()"
   ]
  },
  {
   "cell_type": "code",
   "execution_count": 51,
   "metadata": {
    "scrolled": true
   },
   "outputs": [
    {
     "name": "stdout",
     "output_type": "stream",
     "text": [
      "0  :  abcdefg\n",
      "1  :  hijklmn\n",
      "2  :  opqrstr\n",
      "3  :  가나다라\n",
      "4  :  마바사아\n",
      "5  :  자차카타\n",
      "-----------------------------------------------------------------------\n",
      "0  :  abcdefg\n",
      "1  :  hijklmn\n",
      "2  :  opqrstr\n",
      "3  :  가나다라\n",
      "4  :  마바사아\n",
      "5  :  자차카타\n"
     ]
    }
   ],
   "source": [
    "count = 0\n",
    "\n",
    "for line in sdata :\n",
    "    print(count, ' : ', line)\n",
    "    count += 1\n",
    "    \n",
    "print('-----------------------------------------------------------------------')\n",
    "\n",
    "for count, line in enumerate(sdata) :\n",
    "    print(count, ' : ', line)"
   ]
  },
  {
   "cell_type": "markdown",
   "metadata": {},
   "source": [
    "#### 3) 파일 저장하기"
   ]
  },
  {
   "cell_type": "code",
   "execution_count": 56,
   "metadata": {},
   "outputs": [
    {
     "name": "stdout",
     "output_type": "stream",
     "text": [
      "<_io.TextIOWrapper name='..\\\\..\\\\n_filetest.txt' mode='w' encoding='cp949'>\n"
     ]
    }
   ],
   "source": [
    "s = open('..\\\\..\\\\n_filetest.txt', 'w')          # n_filetest 새로 생성\n",
    "print(s)\n",
    "\n",
    "s.write('이름 : 홍길동, ')          # n_filetest에 값 입력\n",
    "s.write('전화 : 010-111-1111, ')\n",
    "s.write('주소 : 서울시 강남구\\n')\n",
    "\n",
    "s.write('이름 : 임꺽정, ')\n",
    "s.write('전화 : 010-222-2222, ')\n",
    "s.write('주소 : 서울시 강북구\\n')\n",
    "\n",
    "s.close()"
   ]
  },
  {
   "cell_type": "code",
   "execution_count": 59,
   "metadata": {},
   "outputs": [],
   "source": [
    "s = open('..\\\\..\\\\n_filetest.txt', 'w')          # 기존 내용 삭제 후 입력됨\n",
    "\n",
    "s.write('이름 : 유비, ') \n",
    "s.write('전화 : 010-333-3333, ')\n",
    "s.write('주소 : 서울시 강서구\\n')\n",
    "\n",
    "s.close()\n",
    "\n",
    "s = open('..\\\\..\\\\n_filetest.txt', 'a')          # 기존 내용 아래 추가입력\n",
    "\n",
    "s.write('이름 : 관우, ') \n",
    "s.write('전화 : 010-444-4444, ')\n",
    "s.write('주소 : 서울시 강동구\\n')\n",
    "\n",
    "s.close()"
   ]
  },
  {
   "cell_type": "markdown",
   "metadata": {},
   "source": [
    "#### cf) csv 형식으로 저장\n",
    "\n",
    "* 데이터를 ,로 구분해서 저장 - 분리하기 쉬우라고"
   ]
  },
  {
   "cell_type": "code",
   "execution_count": 70,
   "metadata": {},
   "outputs": [
    {
     "name": "stdout",
     "output_type": "stream",
     "text": [
      "<_io.TextIOWrapper name='data\\\\filetest3.txt' mode='w' encoding='cp949'>\n"
     ]
    }
   ],
   "source": [
    "nums = [10, 20, 30, 40, 50, 60, 70, 80, 90]\n",
    "\n",
    "d = open('data\\\\filetest3.txt', 'w')\n",
    "print(d)\n",
    "\n",
    "count = len(nums)\n",
    "for i in range(count) :\n",
    "    if i < count-1 :\n",
    "        d.write(str(nums[i]) + ',')\n",
    "    else :\n",
    "        d.write(str(nums[i]))\n",
    "    \n",
    "d.close()"
   ]
  },
  {
   "cell_type": "code",
   "execution_count": 71,
   "metadata": {},
   "outputs": [],
   "source": [
    "# with 사용 : close() 없이 완료 가능\n",
    "nums = [10, 20, 30, 40, 50, 60, 70, 80, 90]\n",
    "count = len(nums)\n",
    "\n",
    "with open('data\\\\filetest3.txt', 'w') as d :\n",
    "    for i in range(count) :\n",
    "        if i < count-1 :\n",
    "            d.write(str(nums[i]) + ',')\n",
    "        else :\n",
    "            d.write(str(nums[i]))"
   ]
  },
  {
   "cell_type": "code",
   "execution_count": 5,
   "metadata": {},
   "outputs": [
    {
     "name": "stdout",
     "output_type": "stream",
     "text": [
      "파일 포인터 : 0\n",
      "\n",
      "---------------------\n",
      "abcdefg\n",
      "hijklmn\n",
      "opqrstr\n",
      "가나다라\n",
      "마바사아\n",
      "자차카타\n",
      "---------------------\n",
      "파일 포인터 : 55\n",
      "ijklmn\n",
      "\n"
     ]
    }
   ],
   "source": [
    "# 파일 임의 접근 : seek(), tell()\n",
    "## seek()의 두 번째 인자는 기준 위치 지정\n",
    "### 0 : default, 파일의 시작 위치\n",
    "### 1 : 파일의 현재 위치\n",
    "### 2 : 파일의 끝 위치\n",
    "\n",
    "with open('..\\\\..\\\\newfiletest.txt', 'r') as f :\n",
    "    print('파일 포인터 :', f.tell())\n",
    "    \n",
    "    print('\\n---------------------')\n",
    "    \n",
    "    for line in f :\n",
    "        print(line, end = '')\n",
    "        \n",
    "    print('\\n---------------------')\n",
    "    \n",
    "    print('파일 포인터 :', f.tell())\n",
    "    \n",
    "    f.seek(10,0)\n",
    "    \n",
    "    print(f.readline())         # 엔터 포함 10번째 위치 : i"
   ]
  },
  {
   "cell_type": "code",
   "execution_count": 3,
   "metadata": {},
   "outputs": [
    {
     "name": "stdout",
     "output_type": "stream",
     "text": [
      "['0507 수업 내용', '1. 변수와 자료형(2주차).ipynb', '1. 변수와 자료형.ipynb', '2. 제어문.ipynb', '3. 함수.ipynb', 'data']\n",
      "['1. 변수와 자료형(2주차).ipynb', '1. 변수와 자료형.ipynb', '2. 제어문.ipynb', '3. 함수.ipynb']\n",
      "['1. 변수와 자료형(2주차).ipynb', '1. 변수와 자료형.ipynb', '2. 제어문.ipynb', '3. 함수.ipynb']\n"
     ]
    }
   ],
   "source": [
    "# 동시에 여러 개의 파일을 불러오는 방법\n",
    "\n",
    "import glob\n",
    "\n",
    "files = glob.glob('*')        # 현재 위치에 있는 모든 것 출력 - list로\n",
    "print(files)\n",
    "\n",
    "files2 = glob.glob('*.ipynb')  # 현재 위치에 확장자가 .ipynb인 모든 파일명 출력\n",
    "print(files2)\n",
    "\n",
    "files3 = glob.glob('*.*')        # 현재 위치에 있는 모든 파일명 출력 - list로\n",
    "print(files3)"
   ]
  },
  {
   "cell_type": "markdown",
   "metadata": {},
   "source": [
    "## 3. 재귀함수(recursive function)\n",
    "\n",
    "* 스스로 호출\n",
    "* stack overflow 발생할 수 있음 - 그래서 잘 사용하지 않음\n",
    "* 알고리즘 테스트 때 사용"
   ]
  },
  {
   "cell_type": "code",
   "execution_count": 6,
   "metadata": {},
   "outputs": [
    {
     "name": "stdout",
     "output_type": "stream",
     "text": [
      "5\n"
     ]
    }
   ],
   "source": [
    "def countDown(n) :\n",
    "    if n == 0 :\n",
    "        print('완료')\n",
    "        return\n",
    "    else :\n",
    "        print(n)\n",
    "        countDown(n-1)  # countDown(5) 실행 후 재호출 - 반복문 없이 만들어짐\n",
    "            \n",
    "            \n",
    "countDown(5)"
   ]
  },
  {
   "cell_type": "code",
   "execution_count": null,
   "metadata": {},
   "outputs": [],
   "source": [
    "# 위와 같음\n",
    "\n",
    "def countDown2(n) :\n",
    "    if n == 0 :\n",
    "        print('완료')\n",
    "        return\n",
    "    else :\n",
    "        print(n)\n",
    "        \n",
    "            \n",
    "            \n",
    "for i in range(5, -1, -1) :\n",
    "    countDown2(i)\n",
    "    \n",
    "    \n",
    "countDown2(5)"
   ]
  }
 ],
 "metadata": {
  "kernelspec": {
   "display_name": "Python 3",
   "language": "python",
   "name": "python3"
  },
  "language_info": {
   "codemirror_mode": {
    "name": "ipython",
    "version": 3
   },
   "file_extension": ".py",
   "mimetype": "text/x-python",
   "name": "python",
   "nbconvert_exporter": "python",
   "pygments_lexer": "ipython3",
   "version": "3.8.3"
  }
 },
 "nbformat": 4,
 "nbformat_minor": 4
}
