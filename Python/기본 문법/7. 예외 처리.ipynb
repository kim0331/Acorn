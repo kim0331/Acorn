{
 "cells": [
  {
   "cell_type": "markdown",
   "metadata": {},
   "source": [
    "## 1. 예외처리를 하는 이유\n",
    "\n",
    "* 자연스러운 예외 메시지를 출력하기 위해\n",
    "    * 에러 발생 시 코드가 노출되면 해킹의 원인이 될 수 있기 때문에 이를 방지\n",
    "    \n",
    "* 프로그램의 비정상적인 종료를 방지하기 위해\n",
    "\n",
    "\n",
    "## 2. 문법\n",
    "\n",
    "1)\n",
    "\n",
    "    try :\n",
    "        코드\n",
    "        ...\n",
    "    except [예외처리 클래스 [as 변수] ] :\n",
    "        코드\n",
    "        ...\n",
    "        \n",
    "    [else :                   => 예외가 발생하지 않았을 때 실행될 코드\n",
    "        코드\n",
    "        ... ]\n",
    "        \n",
    "    [finally :                => 예외 발생과 무관하게 항상 실행\n",
    "        코드\n",
    "        ... ]\n",
    "        \n",
    "        \n",
    "## 3. traceback\n",
    "\n",
    "* 예외가 발생했을 때 예외정보를 추적\n",
    "\n",
    "\n",
    "## 4. raise\n",
    "\n",
    "* 일부러 예외 발생\n",
    "    * 예외처리를 제대로 했는지 확인하는 용\n",
    "    * 사용자 정의 예외처리 클래스 작성"
   ]
  },
  {
   "cell_type": "code",
   "execution_count": 1,
   "metadata": {},
   "outputs": [
    {
     "name": "stdout",
     "output_type": "stream",
     "text": [
      "5.0\n",
      "2\n",
      "나머지 코드 실행\n",
      "---------------------------------\n"
     ]
    },
    {
     "ename": "ZeroDivisionError",
     "evalue": "division by zero",
     "output_type": "error",
     "traceback": [
      "\u001b[1;31m---------------------------------------------------------------------------\u001b[0m",
      "\u001b[1;31mZeroDivisionError\u001b[0m                         Traceback (most recent call last)",
      "\u001b[1;32m<ipython-input-1-386fea41aed1>\u001b[0m in \u001b[0;36m<module>\u001b[1;34m\u001b[0m\n\u001b[0;32m     12\u001b[0m \u001b[1;33m\u001b[0m\u001b[0m\n\u001b[0;32m     13\u001b[0m \u001b[0mtest\u001b[0m\u001b[1;33m(\u001b[0m\u001b[1;36m2\u001b[0m\u001b[1;33m)\u001b[0m\u001b[1;33m\u001b[0m\u001b[1;33m\u001b[0m\u001b[0m\n\u001b[1;32m---> 14\u001b[1;33m \u001b[0mtest\u001b[0m\u001b[1;33m(\u001b[0m\u001b[1;36m0\u001b[0m\u001b[1;33m)\u001b[0m\u001b[1;33m\u001b[0m\u001b[1;33m\u001b[0m\u001b[0m\n\u001b[0m",
      "\u001b[1;32m<ipython-input-1-386fea41aed1>\u001b[0m in \u001b[0;36mtest\u001b[1;34m(num)\u001b[0m\n\u001b[0;32m      1\u001b[0m \u001b[1;32mdef\u001b[0m \u001b[0mtest\u001b[0m\u001b[1;33m(\u001b[0m\u001b[0mnum\u001b[0m\u001b[1;33m)\u001b[0m \u001b[1;33m:\u001b[0m\u001b[1;33m\u001b[0m\u001b[1;33m\u001b[0m\u001b[0m\n\u001b[1;32m----> 2\u001b[1;33m     \u001b[0ma\u001b[0m \u001b[1;33m=\u001b[0m \u001b[1;36m10\u001b[0m\u001b[1;33m/\u001b[0m\u001b[0mnum\u001b[0m\u001b[1;33m\u001b[0m\u001b[1;33m\u001b[0m\u001b[0m\n\u001b[0m\u001b[0;32m      3\u001b[0m     \u001b[0mprint\u001b[0m\u001b[1;33m(\u001b[0m\u001b[0ma\u001b[0m\u001b[1;33m)\u001b[0m\u001b[1;33m\u001b[0m\u001b[1;33m\u001b[0m\u001b[0m\n\u001b[0;32m      4\u001b[0m \u001b[1;33m\u001b[0m\u001b[0m\n\u001b[0;32m      5\u001b[0m     \u001b[0mb\u001b[0m \u001b[1;33m=\u001b[0m \u001b[1;33m[\u001b[0m\u001b[1;36m0\u001b[0m\u001b[1;33m,\u001b[0m \u001b[1;36m1\u001b[0m\u001b[1;33m,\u001b[0m \u001b[1;36m2\u001b[0m\u001b[1;33m,\u001b[0m \u001b[1;36m3\u001b[0m\u001b[1;33m,\u001b[0m \u001b[1;36m4\u001b[0m\u001b[1;33m,\u001b[0m \u001b[1;36m5\u001b[0m\u001b[1;33m]\u001b[0m\u001b[1;33m\u001b[0m\u001b[1;33m\u001b[0m\u001b[0m\n",
      "\u001b[1;31mZeroDivisionError\u001b[0m: division by zero"
     ]
    }
   ],
   "source": [
    "# 에러 발생\n",
    "\n",
    "def test(num) :\n",
    "    a = 10/num\n",
    "    print(a)\n",
    "        \n",
    "    b = [0, 1, 2, 3, 4, 5]\n",
    "    print(b[num])\n",
    "    \n",
    "    print('나머지 코드 실행')          # 이 부분이 else\n",
    "    print('---------------------------------')\n",
    "    \n",
    "    \n",
    "    \n",
    "test(2)\n",
    "test(0)      # 0으로 나누게 되면 에러 발생"
   ]
  },
  {
   "cell_type": "code",
   "execution_count": 2,
   "metadata": {},
   "outputs": [
    {
     "name": "stdout",
     "output_type": "stream",
     "text": [
      "5.0\n",
      "나머지 코드 실행\n",
      "0으로 나누면 안됩니다.\n",
      "나머지 코드 실행\n"
     ]
    }
   ],
   "source": [
    "# 예외처리\n",
    "\n",
    "def test(num) :\n",
    "    try :\n",
    "        a = 10/num\n",
    "        print(a)\n",
    "    except :\n",
    "        print('0으로 나누면 안됩니다.')\n",
    "    \n",
    "    print('나머지 코드 실행')\n",
    "    \n",
    "    \n",
    "    \n",
    "test(2)\n",
    "test(0)"
   ]
  },
  {
   "cell_type": "code",
   "execution_count": 2,
   "metadata": {},
   "outputs": [
    {
     "name": "stdout",
     "output_type": "stream",
     "text": [
      "5.0\n",
      "나머지 코드 실행\n",
      "------------------------\n",
      "0으로 나누면 안됩니다.\n"
     ]
    }
   ],
   "source": [
    "# 위와 유사. 에러가 안 났을 때만 이하 코드가 실행됨.\n",
    "\n",
    "def test(num) :\n",
    "    try :\n",
    "        a = 10/num\n",
    "        print(a)\n",
    "    except :\n",
    "        print('0으로 나누면 안됩니다.')\n",
    "    else :\n",
    "        print('나머지 코드 실행')\n",
    "        print('------------------------')\n",
    "    \n",
    "    \n",
    "    \n",
    "test(2)\n",
    "test(0)"
   ]
  },
  {
   "cell_type": "code",
   "execution_count": 3,
   "metadata": {},
   "outputs": [
    {
     "name": "stdout",
     "output_type": "stream",
     "text": [
      "5.0\n",
      "2\n",
      "나머지 코드 실행\n",
      "---------------------------------\n",
      "3.3333333333333335\n",
      "3\n",
      "나머지 코드 실행\n",
      "---------------------------------\n",
      "1.4285714285714286\n",
      "인덱스 범위를 초과했습니다.\n",
      "나머지 코드 실행\n",
      "---------------------------------\n",
      "0으로 나누면 안됩니다\n",
      "나머지 코드 실행\n",
      "---------------------------------\n"
     ]
    }
   ],
   "source": [
    "# 예외처리 클래스\n",
    "## 어떤 에러가 뜰지 모르기 때문에 정확히 메시지 작성이 어려움\n",
    "### 일부러 에러 발생한 뒤 작성\n",
    "## except : 여러 개 작성 가능\n",
    "\n",
    "def test(num) :\n",
    "    try :\n",
    "        a = 10/num\n",
    "        print(a)\n",
    "        \n",
    "        b = [0, 1, 2, 3, 4, 5]\n",
    "        print(b[num])\n",
    "    except ZeroDivisionError :\n",
    "        print('0으로 나누면 안됩니다')\n",
    "    except IndexError :\n",
    "        print('인덱스 범위를 초과했습니다.')\n",
    "    #except Exception :     # 만약 에러코드를 못 잡았을 때 가장 부모 에러코드 작성\n",
    "        #print('일반오류입니다.')  # 디테일한 원인 파악 불가, 정확한 메시지 작성 불가\n",
    "    print('나머지 코드 실행')\n",
    "    print('---------------------------------')\n",
    "    \n",
    "    \n",
    "test(2)\n",
    "test(3)\n",
    "test(7)\n",
    "test(0)"
   ]
  },
  {
   "cell_type": "code",
   "execution_count": 5,
   "metadata": {},
   "outputs": [
    {
     "name": "stdout",
     "output_type": "stream",
     "text": [
      "0으로 나누면 안됩니다 division by zero\n",
      "나머지 코드 실행\n",
      "---------------------------------\n"
     ]
    }
   ],
   "source": [
    "# as 변수\n",
    "\n",
    "def test(num) :\n",
    "    try :\n",
    "        a = 10/num\n",
    "        print(a)\n",
    "        \n",
    "        b = [0, 1, 2, 3, 4, 5]\n",
    "        print(b[num])\n",
    "    except ZeroDivisionError as ex :\n",
    "        print('0으로 나누면 안됩니다', ex)   # 에러코드가 출력됨.\n",
    "    except IndexError :\n",
    "        print('인덱스 범위를 초과했습니다.')\n",
    "        \n",
    "    print('나머지 코드 실행')\n",
    "    print('---------------------------------')\n",
    "    \n",
    "\n",
    "    \n",
    "test(0)"
   ]
  },
  {
   "cell_type": "code",
   "execution_count": 3,
   "metadata": {},
   "outputs": [
    {
     "name": "stdout",
     "output_type": "stream",
     "text": [
      "0으로 나누면 안됩니다 division by zero\n",
      "여기는 finally 영역입니다.\n",
      "10.0\n",
      "1\n",
      "여기는 finally 영역입니다.\n",
      "나머지 코드 실행\n",
      "---------------------------------\n"
     ]
    }
   ],
   "source": [
    "# finally\n",
    "\n",
    "def test(num) :\n",
    "    try :\n",
    "        a = 10/num\n",
    "        print(a)\n",
    "        \n",
    "        b = [0, 1, 2, 3, 4, 5]\n",
    "        print(b[num])\n",
    "        \n",
    "    except ZeroDivisionError as ex:\n",
    "        print('0으로 나누면 안됩니다', ex)\n",
    "        return\n",
    "        \n",
    "    except IndexError :\n",
    "        print('인덱스 범위를 초과했습니다.')\n",
    "        return\n",
    "        \n",
    "    except Exception :    \n",
    "        print('일반오류입니다.')\n",
    "        return\n",
    "        \n",
    "    finally :                      # return을 하더라도 finally 반드시 실행 - 안정성\n",
    "        print('여기는 finally 영역입니다.')\n",
    "        \n",
    "    print('나머지 코드 실행')\n",
    "    print('---------------------------------')\n",
    "    \n",
    "\n",
    "    \n",
    "##############################################################################\n",
    "\n",
    "\n",
    "test(0)\n",
    "test(1)"
   ]
  },
  {
   "cell_type": "code",
   "execution_count": 9,
   "metadata": {},
   "outputs": [
    {
     "name": "stdout",
     "output_type": "stream",
     "text": [
      "third\n",
      "에러 원인 : division by zero\n"
     ]
    }
   ],
   "source": [
    "# traceback\n",
    "\n",
    "def third() :\n",
    "    print('third')\n",
    "    try :\n",
    "        a = 10/0\n",
    "        print(a)\n",
    "    except ZeroDivisionError as err :\n",
    "        print('에러 원인 :', err)\n",
    "        traceback.print_exc()\n",
    "    \n",
    "def second() :\n",
    "    third()\n",
    "\n",
    "def first() :\n",
    "    second()\n",
    "\n",
    "#########################################\n",
    "\n",
    "first()"
   ]
  },
  {
   "cell_type": "code",
   "execution_count": 11,
   "metadata": {},
   "outputs": [
    {
     "name": "stdout",
     "output_type": "stream",
     "text": [
      "5.0\n",
      "0으로 나누면 안됩니다. \n"
     ]
    }
   ],
   "source": [
    "# raise : 예외 처리를 제대로 했는지 test\n",
    "\n",
    "def test() :\n",
    "    try :\n",
    "        a = 10/2\n",
    "        print(a)\n",
    "        raise ZeroDivisionError\n",
    "    except ZeroDivisionError as err :\n",
    "        print('0으로 나누면 안됩니다.', err)\n",
    "        \n",
    "######################################\n",
    "test()"
   ]
  },
  {
   "cell_type": "code",
   "execution_count": 14,
   "metadata": {},
   "outputs": [
    {
     "name": "stdout",
     "output_type": "stream",
     "text": [
      "프로그램 시작\n",
      "5.0\n",
      "음수로 나눌 수 없다.\n"
     ]
    }
   ],
   "source": [
    "# 음수로 나누었을 때 예외 발생\n",
    "## 현재 내가 만든 상황이므로 지정된 class가 없음 -> 만들어야 함\n",
    "## 음수로 나누었을 때를 에러로 지정할 클래스 생성\n",
    "\n",
    "class NegativeDivideError (Exception) :\n",
    "    pass\n",
    "\n",
    "####################################\n",
    "\n",
    "def positiveDivide(a, b) :\n",
    "    if b < 0 :\n",
    "        raise NegativeDivideError\n",
    "    \n",
    "    return a/b\n",
    "\n",
    "####################################\n",
    "\n",
    "def main() :\n",
    "    print('프로그램 시작')\n",
    "    \n",
    "    try :\n",
    "        result = positiveDivide(10,2)\n",
    "        print(result)\n",
    "        \n",
    "        result = positiveDivide(10, -2)\n",
    "        print(result)\n",
    "    except :\n",
    "        print('음수로 나눌 수 없다.')\n",
    "    \n",
    "###################################\n",
    "\n",
    "if __name__ == '__main__' :\n",
    "    main()"
   ]
  },
  {
   "cell_type": "code",
   "execution_count": null,
   "metadata": {},
   "outputs": [],
   "source": []
  }
 ],
 "metadata": {
  "kernelspec": {
   "display_name": "Python 3",
   "language": "python",
   "name": "python3"
  },
  "language_info": {
   "codemirror_mode": {
    "name": "ipython",
    "version": 3
   },
   "file_extension": ".py",
   "mimetype": "text/x-python",
   "name": "python",
   "nbconvert_exporter": "python",
   "pygments_lexer": "ipython3",
   "version": "3.8.3"
  }
 },
 "nbformat": 4,
 "nbformat_minor": 4
}
