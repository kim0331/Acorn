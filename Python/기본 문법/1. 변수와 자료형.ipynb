{
 "cells": [
  {
   "cell_type": "markdown",
   "metadata": {},
   "source": [
    "## 1. 변수(Variable)\n",
    "\n",
    "* 임시 기억(저장) 공간 : 데이터를 보관하는 공간(메모리)\n",
    " * 주기억장치에 저장\n",
    "   * 주기억장치 : 메모리(램)\n",
    "     * 휘발성\n",
    "   * 보조기억장치 : 하드디스크, USB\n",
    "     * 비휘발성\n",
    "   * 실제 데이터 사용 시 보조기억장치에 있는 메모리를 주기억장치에 옮김 > CPU가 수행하기 때문\n",
    "   \n",
    "* 별도의 절차(선언) 없이 사용 가능\n",
    "    * 메이저 언어(java, c, c++)에 비해 단순하게 사용 가능\n",
    "\n",
    "* 데이터 타입을 가리지 않음\n",
    "    * 데이터가 저장될 때 타입이 정해짐\n",
    "    \n",
    "* 값을 수정할 수 없음"
   ]
  },
  {
   "cell_type": "code",
   "execution_count": 25,
   "metadata": {},
   "outputs": [
    {
     "data": {
      "text/plain": [
       "20"
      ]
     },
     "execution_count": 25,
     "metadata": {},
     "output_type": "execute_result"
    }
   ],
   "source": [
    "a = 10 #assignment\n",
    "a \n",
    "\n",
    "a = 20\n",
    "a #변수는 바뀔 수 있다는 것"
   ]
  },
  {
   "cell_type": "code",
   "execution_count": 26,
   "metadata": {},
   "outputs": [
    {
     "data": {
      "text/plain": [
       "30"
      ]
     },
     "execution_count": 26,
     "metadata": {},
     "output_type": "execute_result"
    }
   ],
   "source": [
    "var1 = 30\n",
    "\n",
    "var1"
   ]
  },
  {
   "cell_type": "code",
   "execution_count": 27,
   "metadata": {},
   "outputs": [
    {
     "data": {
      "text/plain": [
       "3.14"
      ]
     },
     "execution_count": 27,
     "metadata": {},
     "output_type": "execute_result"
    }
   ],
   "source": [
    "a = 3.14\n",
    "a #정수가 아닌 실수, 문자 등 저장 가능"
   ]
  },
  {
   "cell_type": "code",
   "execution_count": 28,
   "metadata": {},
   "outputs": [
    {
     "data": {
      "text/plain": [
       "'파이썬'"
      ]
     },
     "execution_count": 28,
     "metadata": {},
     "output_type": "execute_result"
    }
   ],
   "source": [
    "b = \"파이썬\"\n",
    "b"
   ]
  },
  {
   "cell_type": "code",
   "execution_count": 29,
   "metadata": {},
   "outputs": [
    {
     "name": "stdout",
     "output_type": "stream",
     "text": [
      "10\n",
      "<class 'int'>\n",
      "\n",
      "-------------------------------------------------------------------------------------\n",
      "\n",
      "3.14\n",
      "<class 'float'>\n",
      "\n",
      "-------------------------------------------------------------------------------------\n",
      "\n",
      "홍길동\n",
      "<class 'str'>\n"
     ]
    }
   ],
   "source": [
    "a = 10\n",
    "print(a) #출력내용을 계속 확인 가능\n",
    "print(type(a)) #자료의 형식(타입)을 알려주는 함수\n",
    "print('\\n' + '-' * 85 + '\\n')\n",
    "\n",
    "a= 3.14\n",
    "print(a)\n",
    "print(type(a))\n",
    "print('\\n' + '-' * 85 + '\\n')\n",
    "\n",
    "a= \"홍길동\"\n",
    "print(a)\n",
    "print(type(a))"
   ]
  },
  {
   "cell_type": "markdown",
   "metadata": {},
   "source": [
    "#### 값 수정 불가"
   ]
  },
  {
   "cell_type": "code",
   "execution_count": 14,
   "metadata": {},
   "outputs": [
    {
     "name": "stdout",
     "output_type": "stream",
     "text": [
      "10\n",
      "\n",
      "-------------------------------------------------------------------------------------\n",
      "\n",
      "140727153566384\n",
      "\n",
      "-------------------------------------------------------------------------------------\n",
      "\n",
      "11\n",
      "\n",
      "-------------------------------------------------------------------------------------\n",
      "\n",
      "140727153566416\n"
     ]
    }
   ],
   "source": [
    "a = 10\n",
    "print(a)\n",
    "print('\\n' + '-' * 85 + '\\n')\n",
    "\n",
    "print(id(a)) # a의 주소값 확인\n",
    "print('\\n' + '-' * 85 + '\\n')\n",
    "\n",
    "a= 11\n",
    "print(a)\n",
    "print('\\n' + '-' * 85 + '\\n')\n",
    "\n",
    "print(id(a))\n",
    "\n",
    "# 실제로 a에는 10이 아닌 10의 주소값 저장.\n",
    "# 즉 a=10 이후 a=11을 했을 때 값이 수정된 게 아니라 새로운 값이 생긴 것.\n",
    "# a가 가진 주소값이 변경된 것.\n",
    "# a를 출력했을 때 다시 10이라는 데이터를 가져올 수 있는가? 없다.\n",
    "# 주소를 잃어버렸기 때문. 10은 쓰레기값이 되는 것.\n",
    "# 다시 a=10을 입력하면 10의 주소값을 가져올 수 있음.\n"
   ]
  },
  {
   "cell_type": "markdown",
   "metadata": {},
   "source": [
    "---"
   ]
  },
  {
   "cell_type": "markdown",
   "metadata": {},
   "source": [
    "# 2. 자료형(Data Type)\n",
    "\n",
    "* 종류\n",
    "    * 기본 자료형 : 데이터를 하나씩 저장할 수 있는 것. 수정 불가. 단일 데이터 저장\n",
    "        * 숫자형(Number) : int, float\n",
    "        * 문자형 : str\n",
    "        * 논리형 : bool (참/거짓 구분) \n",
    "        * 그 외 : complex(복소수), function\n",
    "        \n",
    "    * 집합(iter) 자료형 : 복잡한 데이터 저장\n",
    "        * list\n",
    "        * tuple\n",
    "        * dict\n",
    "        * set"
   ]
  },
  {
   "cell_type": "markdown",
   "metadata": {},
   "source": [
    "## 1) 기본 자료형\n",
    "### 문자형"
   ]
  },
  {
   "cell_type": "code",
   "execution_count": 9,
   "metadata": {},
   "outputs": [
    {
     "name": "stdout",
     "output_type": "stream",
     "text": [
      "abc\n",
      "\n",
      "-------------------------------------------------------------------------------------\n",
      "\n",
      "a10\n",
      "\n",
      "-------------------------------------------------------------------------------------\n",
      "\n",
      "abcdefg\n",
      "hijklmnn\n",
      "opqrstu\n"
     ]
    }
   ],
   "source": [
    "# 문자열\n",
    "\n",
    "a = 'a'\n",
    "a = 'ab'\n",
    "a = 'abc'\n",
    "\n",
    "print(a)\n",
    "print('\\n' + '-' * 85 + '\\n')\n",
    "\n",
    "# 다른 타입끼리 연산자 불가능 > 타입을 똑같이 해야 함\n",
    "\n",
    "a = 'a' + str(10) # str(10) : 10을 문자로 변환\n",
    "print(a)\n",
    "print('\\n' + '-' * 85 + '\\n')\n",
    "\n",
    "# + : 연결 연산자 / * : 반복 연산자\n",
    "\n",
    "# 여러 줄 문자를 쓰게 될 땐 \"\"\" \"\"\" or ''' '''사용 > 엔터 눌러도 여러 줄 입력 가능\n",
    "\n",
    "b = '''abcdefg\n",
    "hijklmnn\n",
    "opqrstu'''\n",
    "\n",
    "print(b)\n"
   ]
  },
  {
   "cell_type": "markdown",
   "metadata": {},
   "source": [
    "#### 특수(제어) 문자"
   ]
  },
  {
   "cell_type": "code",
   "execution_count": 10,
   "metadata": {},
   "outputs": [
    {
     "name": "stdout",
     "output_type": "stream",
     "text": [
      "안녕하세요 반갑습니다.\n",
      "\n",
      "-------------------------------------------------------------------------------------\n",
      "\n",
      "안녕하세요\n",
      "반갑습니다\n",
      "\n",
      "-------------------------------------------------------------------------------------\n",
      "\n",
      "안녕하세요\t반갑습니다\n",
      "\n",
      "-------------------------------------------------------------------------------------\n",
      "\n",
      "\t는 탭키의 기능입니다.\n",
      "\\t는 탭키의 기능입니다.\n",
      "\n",
      "-------------------------------------------------------------------------------------\n",
      "\n",
      "\"\\n은 엔터키 기능이다.\"\n"
     ]
    }
   ],
   "source": [
    "a = '안녕하세요 반갑습니다.'\n",
    "print(a)\n",
    "print('\\n' + '-' * 85 + '\\n')\n",
    "\n",
    "\n",
    "b = '안녕하세요\\n반갑습니다' # \\n : 엔터(줄바꿈)\n",
    "print(b)\n",
    "print('\\n' + '-' * 85 + '\\n')\n",
    "\n",
    "\n",
    "c = '안녕하세요\\t반갑습니다' # \\t : tab\n",
    "print(c)\n",
    "print('\\n' + '-' * 85 + '\\n')\n",
    "\n",
    "\n",
    "# escape 문자 \\ : 특수한 기능을 해제\n",
    "\n",
    "d = '\\t는 탭키의 기능입니다.'\n",
    "print(d) # \\t 출력 안 됨\n",
    "\n",
    "e = '\\\\t는 탭키의 기능입니다.'\n",
    "print(e) # \\t 출력\n",
    "print('\\n' + '-' * 85 + '\\n')\n",
    "\n",
    "# 따옴표도 출력하고 싶을 때 : \\' or \\\"\n",
    "n = '\\\"\\\\n은 엔터키 기능이다.\\\"'\n",
    "print(n)"
   ]
  },
  {
   "cell_type": "markdown",
   "metadata": {},
   "source": [
    "#### Index"
   ]
  },
  {
   "cell_type": "code",
   "execution_count": 3,
   "metadata": {},
   "outputs": [
    {
     "name": "stdout",
     "output_type": "stream",
     "text": [
      "o\n",
      "n\n",
      "o\n",
      "t o o\n",
      "too\n"
     ]
    }
   ],
   "source": [
    "# Indexing : 원하는 문자를 알아낼 때 사용\n",
    "## 맨 앞글자 위치 : 0 / 거꾸로 셀 때는 -1부터 시작\n",
    "## 공백도 문자에 포함\n",
    "### 인덱스 함수 : a[]\n",
    "\n",
    "a = 'Life is too short, You need Python'\n",
    "print(a[10])\n",
    "print(a[-1]) # 맨 마지막 위치 출력\n",
    "print(a[-2])\n",
    "\n",
    "print(a[8], a[9], a[10]) # 여러 문자를 따로따로 한 번에 출력\n",
    "print(a[8] + a[9] + a[10]) # 8~10번째 문자 하나씩 출력해서 묶는 것"
   ]
  },
  {
   "cell_type": "markdown",
   "metadata": {},
   "source": [
    "#### Slice"
   ]
  },
  {
   "cell_type": "code",
   "execution_count": 4,
   "metadata": {},
   "outputs": [
    {
     "name": "stdout",
     "output_type": "stream",
     "text": [
      "too\n",
      "\n",
      "-------------------------------------------------------------------------------------\n",
      "\n",
      "Life\n",
      "too short, You need Python\n",
      "ho\n"
     ]
    }
   ],
   "source": [
    "# Slicing : Index 확장판\n",
    "## a[m:n] : m번째부터 n-1번째까지 출력\n",
    "\n",
    "print(a[8:11]) # 8~10번째 문자 출력 : a[첫번째 원하는 위치, 마지막 원하는 위치+1]\n",
    "print('\\n' + '-' * 85 + '\\n')\n",
    "\n",
    "## 첫 번째, 맨 마지막 위치 생략 가능\n",
    "print(a[:4]) # 0번째부터 3번째까지 출력\n",
    "print(a[8:])\n",
    "print(a[-3:-1])"
   ]
  },
  {
   "cell_type": "markdown",
   "metadata": {},
   "source": [
    "#### 기본 자료형 수정 불가"
   ]
  },
  {
   "cell_type": "code",
   "execution_count": 16,
   "metadata": {},
   "outputs": [
    {
     "name": "stdout",
     "output_type": "stream",
     "text": [
      "pithon\n",
      "python\n"
     ]
    }
   ],
   "source": [
    "str1 = 'pithon'\n",
    "print(str1)\n",
    "#str1 = 'python' : 수정된 게 아니라 다른 주소에 새로운 데이터가 들어간 것\n",
    "\n",
    "#str1[1] = 'y' : 직접 위치에 가서 변경해야 하지만 에러가 뜸. 변경 불가.\n",
    "str2 = str1[:1] + 'y' + str1[2:] # 수정된 것이 아니라 틀린 글자를 새로 만든 것\n",
    "print(str2)"
   ]
  },
  {
   "cell_type": "markdown",
   "metadata": {},
   "source": [
    "#### len() : 문자 개수 = 문자열 전체 길이"
   ]
  },
  {
   "cell_type": "code",
   "execution_count": 17,
   "metadata": {},
   "outputs": [
    {
     "name": "stdout",
     "output_type": "stream",
     "text": [
      "34\n",
      "n\n"
     ]
    }
   ],
   "source": [
    "## len(a)\n",
    "a = 'Life is too short, You need python'\n",
    "print(len(a)) # 1부터 셈. 문자 주소는 0부터 시작. 마지막 문자 주소 입력시 n-1\n",
    "print(a[len(a)-1]) # print(a[33]), print(a[-1])과 같음"
   ]
  },
  {
   "cell_type": "markdown",
   "metadata": {},
   "source": [
    "#### count() : 앞에 문자열을 지정해줘야 함, 지정 글자의 개수 출력"
   ]
  },
  {
   "cell_type": "code",
   "execution_count": 18,
   "metadata": {},
   "outputs": [
    {
     "name": "stdout",
     "output_type": "stream",
     "text": [
      "5\n",
      "6\n"
     ]
    }
   ],
   "source": [
    "## a.count('문자')\n",
    "print(a.count('o')) # o의 개수\n",
    "print(a.count(' ')) # 공백의 개수"
   ]
  },
  {
   "cell_type": "markdown",
   "metadata": {},
   "source": [
    "#### find() : 내가 찾고자하는 문자가 있는지. 있으면 몇 번째인지"
   ]
  },
  {
   "cell_type": "code",
   "execution_count": 19,
   "metadata": {},
   "outputs": [
    {
     "name": "stdout",
     "output_type": "stream",
     "text": [
      "8\n",
      "-1\n"
     ]
    }
   ],
   "source": [
    "\n",
    "## a.find('문자')\n",
    "## if. 문자를 찾지 못 했을 때 -1 출력\n",
    "print(a.find('too')) # too라는 문자가 몇 번째에 있는지\n",
    "print(a.find('java'))"
   ]
  },
  {
   "cell_type": "markdown",
   "metadata": {},
   "source": [
    "#### index() : find()와 유사. 내가 찾는 문자가 몇 번째에 위치하는지."
   ]
  },
  {
   "cell_type": "code",
   "execution_count": 21,
   "metadata": {},
   "outputs": [
    {
     "name": "stdout",
     "output_type": "stream",
     "text": [
      "28\n"
     ]
    }
   ],
   "source": [
    "## a.index('문자')\n",
    "## if, 문자를 찾지 못 했을 때 Error\n",
    "print(a.index('python')) # python라는 문자가 몇 번째에 있는지\n",
    "# print(a.index('java')) : 찾을 수 없으므로 에러 출력"
   ]
  },
  {
   "cell_type": "markdown",
   "metadata": {},
   "source": [
    "#### join() : 문자열 삽입"
   ]
  },
  {
   "cell_type": "code",
   "execution_count": 22,
   "metadata": {},
   "outputs": [
    {
     "name": "stdout",
     "output_type": "stream",
     "text": [
      "abcde\n",
      "a,b,c,d,e\n"
     ]
    }
   ],
   "source": [
    "\n",
    "## '삽입할 문자'.join('문자열')\n",
    "str1 = 'abcde'\n",
    "print(str1)\n",
    "print(','.join(str1)) # str1 문자 사이에 ',' 삽입"
   ]
  },
  {
   "cell_type": "markdown",
   "metadata": {},
   "source": [
    "#### split() : 문자열 나누기"
   ]
  },
  {
   "cell_type": "code",
   "execution_count": 23,
   "metadata": {},
   "outputs": [
    {
     "name": "stdout",
     "output_type": "stream",
     "text": [
      "a,b,c,d,e\n",
      "['a', 'b', 'c', 'd', 'e']\n",
      "\n",
      "-------------------------------------------------------------------------------------\n",
      "\n",
      "홍길동 임꺽정 신돌석 유비 관우 장비\n",
      "['홍길동', '임꺽정', '신돌석', '유비', '관우', '장비']\n"
     ]
    }
   ],
   "source": [
    "## a.split('나눌 기준')\n",
    "str2 = ','.join(str1)\n",
    "print(str2)\n",
    "print(str2.split(',')) # ','을 기준으로 str2 분리\n",
    "\n",
    "print('\\n' + '-' * 85 + '\\n')\n",
    "\n",
    "str3 = '홍길동 임꺽정 신돌석 유비 관우 장비'\n",
    "print(str3)\n",
    "print(str3.split()) # 공백은 \" \" 또는 아무것도 입력 안 하는 걸로 표현 가능"
   ]
  },
  {
   "cell_type": "markdown",
   "metadata": {},
   "source": [
    "#### 문자열 제거 : lstrip(), rstrip(), strip()"
   ]
  },
  {
   "cell_type": "code",
   "execution_count": 25,
   "metadata": {},
   "outputs": [
    {
     "name": "stdout",
     "output_type": "stream",
     "text": [
      "      python\n",
      "python\n",
      "\n",
      "-------------------------------------------------------------------------------------\n",
      "\n",
      "python?\n",
      "python\n"
     ]
    }
   ],
   "source": [
    "## lstrip() : 왼쪽 문자 제거\n",
    "## () 안에 따로 설정 안 하면 공백 제거\n",
    "### a.lstrip('지우고 싶은 문자')\n",
    "str1 = \"      python\"\n",
    "print(str1)\n",
    "print(str1.lstrip()) # 공백 제거\n",
    "print('\\n' + '-' * 85 + '\\n')\n",
    "\n",
    "## rstrip() : 오른쪽 문자 제거\n",
    "## () 안에 따로 설정 안 하면 공백 제거\n",
    "### a.rstrip('지우고 싶은 문자')\n",
    "str2 = \"python?\"\n",
    "print(str2)\n",
    "print(str2.rstrip('?'))\n",
    "\n",
    "## strip() : 양쪽 문자 제거\n",
    "## () 안에 따로 설정 안 하면 공백 제거\n",
    "### a.strip('지우고 싶은 문자')"
   ]
  },
  {
   "cell_type": "markdown",
   "metadata": {},
   "source": [
    "#### 바꾸기 : replace(), translate(.maketrans())"
   ]
  },
  {
   "cell_type": "code",
   "execution_count": 26,
   "metadata": {},
   "outputs": [
    {
     "name": "stdout",
     "output_type": "stream",
     "text": [
      "Hello, World!\n",
      "Hello, Python!\n",
      "\n",
      "-------------------------------------------------------------------------------------\n",
      "\n",
      "일이삼사오육칠팔구\n",
      "일이삼사오육칠팔구\n",
      "1이3사5육칠팔구\n"
     ]
    }
   ],
   "source": [
    "## replace() : 문자열 변경\n",
    "### a.replace('원래 문자열', '바꿀 문자열')\n",
    "str1 = '''Hello, World!'''\n",
    "print(str1)\n",
    "str2 = str1.replace('World', 'Python')\n",
    "print(str2)\n",
    "print('\\n' + '-' * 85 + '\\n')\n",
    "\n",
    "## translate(maketrans()) : 중간 특정 문자열 변경\n",
    "### a.translate(a.maketrans('바꾸고 싶은 문자열', '바꿀 문자열'))\n",
    "str3 = '일이삼사오육칠팔구'\n",
    "print(str3)\n",
    "print(str3.replace('일삼오', '135')) # 변경 불가\n",
    "print(str3.translate(str3.maketrans('일삼오', '135'))) # 일삼오가 135로 변경"
   ]
  },
  {
   "cell_type": "markdown",
   "metadata": {},
   "source": [
    "#### 문자열 포매팅 : 문자열 안의 특정값을 바꾸는 것 (p.62 ~)"
   ]
  },
  {
   "cell_type": "code",
   "execution_count": 7,
   "metadata": {},
   "outputs": [
    {
     "name": "stdout",
     "output_type": "stream",
     "text": [
      "덧셈 결과 : 3 + 4 = 7\n",
      "\n",
      "-------------------------------------------------------------------------------------\n",
      "\n",
      "덧셈 결과 : 가 + 나 = 가나\n",
      "\n",
      "-------------------------------------------------------------------------------------\n",
      "\n",
      "덧셈 결과 : 10 + 15 = 25\n"
     ]
    }
   ],
   "source": [
    "## a.format(num1, num2, 결과값 수식)\n",
    "\n",
    "# Q.'덧셈 결과 : 3 + 4 = 7'와 같이 출력하고 싶을 때\n",
    "\n",
    "print('덧셈 결과 : 3 + 4 = 7') # 고정되어있기 때문에 수가 바뀌면 매번 수정해야 함\n",
    "print('\\n' + '-' * 85 + '\\n')\n",
    "\n",
    "num1, num2 = '가', '나' # num1에 3, num2에 4 할당\n",
    "\n",
    "### {} : placeorder. 변수 자리만 지정\n",
    "### {0} : 0번째\n",
    "### format() 안의 수 자리가 대입되는 자리와 같을 때 순서를 안 정해줘도 됨\n",
    "\n",
    "print( '덧셈 결과 : {0} + {1} = {2}'.format(num1, num2, num1+num2))\n",
    "# = print('덧셈 결과 : {} + {} = {}'.format(num1, num2, num1+num2)\n",
    "# num1에 어떤 타입이 들어와도 상관 없음\n",
    "print('\\n' + '-' * 85 + '\\n')\n",
    "\n",
    "## % 사용 방법 (타입 지정 : p.59)\n",
    "num3, num4 = 10, 15\n",
    "print('덧셈 결과 : %d + %d = %d' %(num3, num4, num3+num4)) # %d : 정수가 와야 함\n",
    " "
   ]
  },
  {
   "cell_type": "markdown",
   "metadata": {},
   "source": [
    "---"
   ]
  },
  {
   "cell_type": "markdown",
   "metadata": {},
   "source": [
    "## 2) 집합 자료형\n",
    "### (1) list\n",
    "\n",
    "* 임의의 객체를 순차적으로 저장하는 집합적 자료형\n",
    "* 각 값에 대해서 인덱스가 부여됨\n",
    "* 수정 가능\n",
    "* [ ]를 사용"
   ]
  },
  {
   "cell_type": "code",
   "execution_count": 5,
   "metadata": {},
   "outputs": [
    {
     "name": "stdout",
     "output_type": "stream",
     "text": [
      "<class 'int'>\n",
      "<class 'list'>\n",
      "1 3 5\n"
     ]
    }
   ],
   "source": [
    "n1, n2, n3, n3, n4 = 1, 3, 5, 7, 9\n",
    "n = [1, 3, 5, 7, 9]\n",
    "\n",
    "print(type(n1))\n",
    "print(type(n))\n",
    "print(n[0], n[1], n[2])"
   ]
  },
  {
   "cell_type": "code",
   "execution_count": 12,
   "metadata": {},
   "outputs": [
    {
     "name": "stdout",
     "output_type": "stream",
     "text": [
      "[10, 20, 3.14, True, False, '홍길동']\n",
      "\n",
      "-------------------------------------------------------------------------------------\n",
      "\n",
      "[10, 200, 3.14, True, False, '홍길동']\n"
     ]
    }
   ],
   "source": [
    "# 서로 다른 자료형을 하나로 묶을 수 있다.(모든 타입 입력 가능)\n",
    "a = [10, 20, 3.14, True, False, '홍길동'] # True, False는 bool형\n",
    "print(a) \n",
    "print('\\n' + '-' * 85 + '\\n')\n",
    "\n",
    "#수정이 가능하다\n",
    "a[1] = 200\n",
    "print(a)"
   ]
  },
  {
   "cell_type": "code",
   "execution_count": 30,
   "metadata": {},
   "outputs": [
    {
     "name": "stdout",
     "output_type": "stream",
     "text": [
      "[10, 20, 3.14, True, False, '홍길동']\n",
      "10 20 3.14\n",
      "10 ['a', 'b', 'c']\n",
      "b\n"
     ]
    }
   ],
   "source": [
    "# indexing : 특정 위치에 있는 데이터에 접근하는 방법\n",
    "\n",
    "a = [10, 20, 3.14, True, False, '홍길동']\n",
    "print(a) # 데이터를 꺼내온 것이 아님. index를 통해 꺼내옴\n",
    "print(a[0], a[1], a[2])\n",
    "\n",
    "b = [10, 20, 30, ['a', 'b', 'c']] # 복잡한 데이터도 처리 가능\n",
    "print(b[0], b[3])\n",
    "print(b[3][1])"
   ]
  },
  {
   "cell_type": "code",
   "execution_count": 37,
   "metadata": {},
   "outputs": [
    {
     "name": "stdout",
     "output_type": "stream",
     "text": [
      "[20, 3.14, True, False]\n",
      "3.14\n",
      "['b', 'c']\n"
     ]
    }
   ],
   "source": [
    "# slicing\n",
    "\n",
    "print(a[1:5])\n",
    "print(a[1:5][1])\n",
    "\n",
    "# b에 있는 데이터들 중 'b'와 'c' 출력\n",
    "print(b[3][1:])"
   ]
  },
  {
   "cell_type": "markdown",
   "metadata": {},
   "source": [
    "#### list 연산"
   ]
  },
  {
   "cell_type": "code",
   "execution_count": 51,
   "metadata": {},
   "outputs": [
    {
     "name": "stdout",
     "output_type": "stream",
     "text": [
      "[1, 2, 3, 4, 5, 6, 7, '홍길동']\n",
      "[1, 2, 3, 1, 2, 3, 1, 2, 3]\n"
     ]
    }
   ],
   "source": [
    "a = [1, 2, 3]\n",
    "b = [4, 5, 6, 7, '홍길동']\n",
    "print(a+b) # 데이터 연결\n",
    "\n",
    "print(a*3) # 데이터 반복\n",
    "\n"
   ]
  },
  {
   "cell_type": "code",
   "execution_count": 52,
   "metadata": {},
   "outputs": [
    {
     "name": "stdout",
     "output_type": "stream",
     "text": [
      "[1, 2, 3, 4, 5]\n",
      "[10, 2, 3, 4, 5]\n",
      "[10, 2, 3, 4, 5]\n",
      "\n",
      "-------------------------------------------------------------------------------------\n",
      "\n",
      "[10, 2, 3, 4, 5]\n",
      "a [10, 2, 3, 4, 5]\n",
      "b [10, 2, 3, 4, 5]\n",
      "c [100, 2, 3, 4, 5]\n"
     ]
    }
   ],
   "source": [
    "# 복사(얕은 복사, 깊은 복사) (p.108 ~)\n",
    "## 얕은 복사\n",
    "\n",
    "a = [1, 2, 3, 4, 5]\n",
    "print(a)\n",
    "b = a # b에 a를 할당 = a를 복사. a의 데이터를 넘긴 것이 아님 a 데이터의 주소 복사\n",
    "b[0] = 10\n",
    "print(a)\n",
    "print(b)\n",
    "print('\\n' + '-' * 85 + '\\n')\n",
    "\n",
    "## 깊은 복사\n",
    "\n",
    "c = a[:] # 전체 데이터의 주소 복사\n",
    "print(c)\n",
    "c[0] = 100\n",
    "print('a', a)\n",
    "print('b', b)\n",
    "print('c', c)"
   ]
  },
  {
   "cell_type": "markdown",
   "metadata": {},
   "source": [
    "#### list 만들기"
   ]
  },
  {
   "cell_type": "code",
   "execution_count": 55,
   "metadata": {},
   "outputs": [
    {
     "name": "stdout",
     "output_type": "stream",
     "text": [
      "<class 'list'>\n",
      "<class 'list'>\n",
      "<class 'list'>\n",
      "\n",
      "-------------------------------------------------------------------------------------\n",
      "\n",
      "[0, 1, 2, 3, 4, 5, 6, 7, 8, 9]\n"
     ]
    }
   ],
   "source": [
    "a = [1, 2, 3, 4]\n",
    "b = []\n",
    "c = list()\n",
    "\n",
    "print(type(a))\n",
    "print(type(b))\n",
    "print(type(c))"
   ]
  },
  {
   "cell_type": "markdown",
   "metadata": {},
   "source": [
    " #### range(초기값, 최종값+1, 증가값) : 설정한 범위만큼 순서대로 데이터 생성"
   ]
  },
  {
   "cell_type": "code",
   "execution_count": 59,
   "metadata": {},
   "outputs": [
    {
     "name": "stdout",
     "output_type": "stream",
     "text": [
      "[0, 1, 2, 3, 4, 5, 6, 7, 8, 9]\n",
      "\n",
      "-------------------------------------------------------------------------------------\n",
      "\n",
      "[0, 1, 2, 3, 4, 5, 6, 7, 8, 9]\n",
      "\n",
      "-------------------------------------------------------------------------------------\n",
      "\n",
      "[5, 6, 7, 8, 9, 10, 11]\n",
      "\n",
      "-------------------------------------------------------------------------------------\n",
      "\n",
      "[0, 2, 4, 6, 8, 10]\n"
     ]
    }
   ],
   "source": [
    "v = list(range(10)) # 0부터 10개의 수\n",
    "print(v)\n",
    "print('\\n' + '-' * 85 + '\\n')\n",
    "\n",
    "print(list(range(10)))\n",
    "print('\\n' + '-' * 85 + '\\n')\n",
    "\n",
    "print(list(range(5,12))) # 5부터 11까지\n",
    "\n",
    "print('\\n' + '-' * 85 + '\\n')\n",
    "\n",
    "print(list(range(0, 11, 2))) # 0부터 10까지 2씩 증가"
   ]
  },
  {
   "cell_type": "markdown",
   "metadata": {},
   "source": [
    "#### 삽입, 추가 : insert(), append(), extend()"
   ]
  },
  {
   "cell_type": "code",
   "execution_count": 69,
   "metadata": {},
   "outputs": [
    {
     "name": "stdout",
     "output_type": "stream",
     "text": [
      "[10, 20, 30]\n",
      "\n",
      "-------------------------------------------------------------------------------------\n",
      "\n",
      "[10, 20, 30, [31, 32, 33]]\n",
      "\n",
      "-------------------------------------------------------------------------------------\n",
      "\n",
      "[5, 10, 20, 30, [31, 32, 33]]\n",
      "[5, 10, 15, 20, 30, [31, 32, 33]]\n",
      "\n",
      "-------------------------------------------------------------------------------------\n",
      "\n",
      "[5, 10, 15, 20, 30, [31, 32, 33], 34, 35, 36]\n",
      "[5, 10, 15, 20, 30, [31, 32, 33], 34, 35, 36, 37, 38]\n"
     ]
    }
   ],
   "source": [
    "# a.append(값) : 맨 뒤에 값 추가\n",
    "\n",
    "a = []\n",
    "a.append(10)\n",
    "a.append(20)\n",
    "a.append(30)\n",
    "print(a)\n",
    "print('\\n' + '-' * 85 + '\\n')\n",
    "\n",
    "a.append([31, 32, 33]) # 맨 끝에 2차원으로 값 여러 개 추가, 단 [ ]로 묶어주어야 함\n",
    "print(a)\n",
    "print('\\n' + '-' * 85 + '\\n')\n",
    "\n",
    "# a.insert(위치, 값) : 원하는 위치에 값 추가\n",
    "a.insert(0, 5)\n",
    "print(a)\n",
    "\n",
    "a.insert(2,15)\n",
    "print(a)\n",
    "print('\\n' + '-' * 85 + '\\n')\n",
    "\n",
    "# a.extend() : 맨 끝에 1차원으로 값 여러 개 추가\n",
    "a.extend([34, 35, 36])\n",
    "print(a)\n",
    "\n",
    "# 연산자로 값 추가 가능\n",
    "a = a + [37, 38] # extend()와 같음\n",
    "print(a)"
   ]
  },
  {
   "cell_type": "markdown",
   "metadata": {},
   "source": [
    "#### 정렬 : sort(), reverse()"
   ]
  },
  {
   "cell_type": "code",
   "execution_count": 72,
   "metadata": {},
   "outputs": [
    {
     "name": "stdout",
     "output_type": "stream",
     "text": [
      "[1, 4, 3, 2]\n",
      "[1, 2, 3, 4]\n",
      "\n",
      "-------------------------------------------------------------------------------------\n",
      "\n",
      "[2, 7, 4, 5]\n",
      "[2, 4, 5, 7]\n",
      "[7, 5, 4, 2]\n"
     ]
    }
   ],
   "source": [
    "# a.sort() : 오름차순으로 정렬\n",
    "a = [1, 4, 3, 2]\n",
    "print(a)\n",
    "a.sort()\n",
    "print(a)\n",
    "\n",
    "print('\\n' + '-' * 85 + '\\n')\n",
    "\n",
    "# a.reverse() : 뒤집는 것 -> 리스트를 내림차순으로 정렬하고 싶을 때 sort() 이후 사용\n",
    "b = [2,7,4,5]\n",
    "print(b)\n",
    "b.sort()\n",
    "print(b)\n",
    "b.reverse()\n",
    "print(b)"
   ]
  },
  {
   "cell_type": "markdown",
   "metadata": {},
   "source": [
    "#### 삭제"
   ]
  },
  {
   "cell_type": "code",
   "execution_count": 79,
   "metadata": {},
   "outputs": [
    {
     "name": "stdout",
     "output_type": "stream",
     "text": [
      "[1, 2, 3, 1, 2, 3]\n",
      "[1, 1, 2, 3]\n",
      "\n",
      "-------------------------------------------------------------------------------------\n",
      "\n",
      "[1, 2, 3, 1, 2, 3]\n",
      "[]\n",
      "\n",
      "-------------------------------------------------------------------------------------\n",
      "\n",
      "[1, 2, 3, 1, 2, 3]\n",
      "[1, 2, 1, 2, 3]\n",
      "\n",
      "-------------------------------------------------------------------------------------\n",
      "\n",
      "[1, 2, 3, 1, 2, 3]\n",
      "[1, 2, 3, 2, 3]\n",
      "\n",
      "-------------------------------------------------------------------------------------\n",
      "\n",
      "[1, 2, 3, 1, 2, 3]\n"
     ]
    }
   ],
   "source": [
    "# 범위 지정 삭제\n",
    "a = [1, 2, 3, 1, 2, 3]\n",
    "print(a)\n",
    "a[1:3] = []\n",
    "print(a)\n",
    "\n",
    "print('\\n' + '-' * 85 + '\\n')\n",
    "\n",
    "a = [1, 2, 3, 1, 2, 3]\n",
    "print(a)\n",
    "a[:] = [] # 전체 데이터 삭제 - 리스트 메모리는 남음\n",
    "print(a)\n",
    "\n",
    "print('\\n' + '-' * 85 + '\\n')\n",
    "\n",
    "# remove(삭제 값)\n",
    "a = [1, 2, 3, 1, 2, 3]\n",
    "print(a)\n",
    "a.remove(3) # 첫 번째로 나오는 3을 삭제\n",
    "print(a)\n",
    "\n",
    "print('\\n' + '-' * 85 + '\\n')\n",
    "\n",
    "# del a[] : 인덱스나 슬라이스를 이용해서 삭제\n",
    "a = [1, 2, 3, 1, 2, 3]\n",
    "print(a)\n",
    "del a[3] # 주소 3에 들어있는 데이터 삭제\n",
    "print(a)\n",
    "\n",
    "print('\\n' + '-' * 85 + '\\n')\n",
    "\n",
    "a = [1, 2, 3, 1, 2, 3]\n",
    "print(a)\n",
    "del a # 전체 데이터 삭제 - 메모리까지 완전 삭제. print(a)하면 에러"
   ]
  },
  {
   "cell_type": "markdown",
   "metadata": {},
   "source": [
    "#### pop()"
   ]
  },
  {
   "cell_type": "code",
   "execution_count": 82,
   "metadata": {},
   "outputs": [
    {
     "name": "stdout",
     "output_type": "stream",
     "text": [
      "[1, 2]\n",
      "3\n"
     ]
    }
   ],
   "source": [
    "# stack : 임시 메모리 / heap : 실제 데이터\n",
    "# 입력 : push / 출력 : pop\n",
    "# push로 stack에 데이터 입력, pop으로 stack에서 뽑아오는 것\n",
    "# LIFO : 맨 마지막에 입력된 값이 먼저 나옴\n",
    "## a.pop()\n",
    "\n",
    "a = [1, 2, 3]\n",
    "b = a.pop() # 맨 마지막에 입력된 값 뽑아서 b에 할당\n",
    "print(a) # stack에 남은 값 출력\n",
    "print(b) # stack에서 뽑은 값 출력"
   ]
  },
  {
   "cell_type": "markdown",
   "metadata": {},
   "source": [
    "#### 검색 기능"
   ]
  },
  {
   "cell_type": "code",
   "execution_count": 84,
   "metadata": {},
   "outputs": [
    {
     "name": "stdout",
     "output_type": "stream",
     "text": [
      "True\n",
      "False\n"
     ]
    }
   ],
   "source": [
    "# in\n",
    "a = [1, 2, 3, 4, 5]\n",
    "print(2 in a) # a 안에 2가 존재하는지 bool 형으로 출력\n",
    "print(6 in a)"
   ]
  },
  {
   "cell_type": "markdown",
   "metadata": {},
   "source": [
    "### (2) tuple\n",
    "\n",
    "* list와 유사 - list의 기능을 거의 동일하게 사용 가능\n",
    "* ( )를 사용\n",
    "* 수정 불가"
   ]
  },
  {
   "cell_type": "code",
   "execution_count": 85,
   "metadata": {},
   "outputs": [
    {
     "name": "stdout",
     "output_type": "stream",
     "text": [
      "('a', 'b', 'c', 'd')\n",
      "<class 'tuple'>\n"
     ]
    }
   ],
   "source": [
    "a = ('a', 'b', 'c', 'd')\n",
    "print(a)\n",
    "print(type(a))"
   ]
  },
  {
   "cell_type": "code",
   "execution_count": 86,
   "metadata": {},
   "outputs": [
    {
     "ename": "TypeError",
     "evalue": "'tuple' object does not support item assignment",
     "output_type": "error",
     "traceback": [
      "\u001b[1;31m---------------------------------------------------------------------------\u001b[0m",
      "\u001b[1;31mTypeError\u001b[0m                                 Traceback (most recent call last)",
      "\u001b[1;32m<ipython-input-86-b2654f14833f>\u001b[0m in \u001b[0;36m<module>\u001b[1;34m\u001b[0m\n\u001b[1;32m----> 1\u001b[1;33m \u001b[0ma\u001b[0m\u001b[1;33m[\u001b[0m\u001b[1;36m0\u001b[0m\u001b[1;33m]\u001b[0m \u001b[1;33m=\u001b[0m \u001b[1;34m'A'\u001b[0m\u001b[1;33m\u001b[0m\u001b[1;33m\u001b[0m\u001b[0m\n\u001b[0m\u001b[0;32m      2\u001b[0m \u001b[0mprint\u001b[0m\u001b[1;33m(\u001b[0m\u001b[0ma\u001b[0m\u001b[1;33m)\u001b[0m\u001b[1;33m\u001b[0m\u001b[1;33m\u001b[0m\u001b[0m\n",
      "\u001b[1;31mTypeError\u001b[0m: 'tuple' object does not support item assignment"
     ]
    }
   ],
   "source": [
    "a[0] = 'A' # 수정 불가. 사용 시 에러 발생\n",
    "print(a)"
   ]
  },
  {
   "cell_type": "markdown",
   "metadata": {},
   "source": [
    "#### 타입 변환"
   ]
  },
  {
   "cell_type": "code",
   "execution_count": 91,
   "metadata": {},
   "outputs": [
    {
     "name": "stdout",
     "output_type": "stream",
     "text": [
      "('a', 'b', 'c', 'd')\n",
      "<class 'tuple'>\n",
      "\n",
      "-------------------------------------------------------------------------------------\n",
      "\n",
      "['a', 'b', 'c', 'd']\n",
      "<class 'list'>\n",
      "\n",
      "-------------------------------------------------------------------------------------\n",
      "\n",
      "('a', 'b', 'c', 'd')\n",
      "<class 'tuple'>\n"
     ]
    }
   ],
   "source": [
    "a = ('a', 'b', 'c', 'd')\n",
    "print(a)\n",
    "print(type(a))\n",
    "\n",
    "print('\\n' + '-' * 85 + '\\n')\n",
    "\n",
    "b = list(a) # list로 타입 변환\n",
    "print(b)\n",
    "print(type(b))\n",
    "\n",
    "print('\\n' + '-' * 85 + '\\n')\n",
    "\n",
    "c = tuple(b) # tuple로 타입 변환\n",
    "print(c)\n",
    "print(type(c))"
   ]
  },
  {
   "cell_type": "markdown",
   "metadata": {},
   "source": [
    "#### 자료형 함수"
   ]
  },
  {
   "cell_type": "code",
   "execution_count": 105,
   "metadata": {},
   "outputs": [
    {
     "name": "stdout",
     "output_type": "stream",
     "text": [
      "<class 'int'>\n",
      "\n",
      "-------------------------------------------------------------------------------------\n",
      "\n",
      "<class 'str'>\n",
      "\n",
      "-------------------------------------------------------------------------------------\n",
      "\n",
      "<class 'float'> 10.0\n",
      "\n",
      "-------------------------------------------------------------------------------------\n",
      "\n",
      "<class 'int'> 10\n",
      "\n",
      "-------------------------------------------------------------------------------------\n",
      "\n",
      "True\n",
      "True\n",
      "False\n",
      "False\n",
      "False\n",
      "False\n"
     ]
    }
   ],
   "source": [
    "a = 10\n",
    "print(type(a))\n",
    "\n",
    "print('\\n' + '-' * 85 + '\\n')\n",
    "\n",
    "a = str(10) # 문자열 함수로 변경\n",
    "print(type(a))\n",
    "\n",
    "print('\\n' + '-' * 85 + '\\n')\n",
    "\n",
    "a = float(10) # 실수형 함수로 변경\n",
    "print(type(a), a)\n",
    "\n",
    "print('\\n' + '-' * 85 + '\\n')\n",
    "\n",
    "a = int(10) # 정수형 함수로 변경\n",
    "print(type(a), a)\n",
    "\n",
    "print('\\n' + '-' * 85 + '\\n')\n",
    "\n",
    "print(bool('hello')) # bool 함수로 변경 - True / False로 변경\n",
    "print(bool(10))\n",
    "print(bool([])) # 값이 없으면 False\n",
    "print(bool(()))\n",
    "print(bool(\"\"))\n",
    "print(bool(None)) # 값이 없다는 의미의 None"
   ]
  },
  {
   "cell_type": "markdown",
   "metadata": {},
   "source": [
    "#### Packing, Unpacking"
   ]
  },
  {
   "cell_type": "code",
   "execution_count": 114,
   "metadata": {},
   "outputs": [
    {
     "name": "stdout",
     "output_type": "stream",
     "text": [
      "(10, 20, 30)\n",
      "<class 'tuple'>\n",
      "\n",
      "-------------------------------------------------------------------------------------\n",
      "\n",
      "10 20 30\n",
      "<class 'int'> <class 'int'> <class 'int'>\n"
     ]
    }
   ],
   "source": [
    "# Packing : 여러 개의 데이터를 하나의 변수에 입력시키는 것 -> 묶어서 입력\n",
    "\n",
    "a = 10, 20, 30\n",
    "print(a)\n",
    "print(type(a))\n",
    "\n",
    "print('\\n' + '-' * 85 + '\\n')\n",
    "\n",
    "# Unpacking : packing되어 있는 걸 하나씩 풀어주는 것 \n",
    "a1, a2, a3 = a\n",
    "print(a1, a2, a3)\n",
    "print(type(a1), type(a2), type(a3))"
   ]
  },
  {
   "cell_type": "markdown",
   "metadata": {},
   "source": [
    "### (3) dict\n",
    "\n",
    "* 용도 : 데이터 검색\n",
    "* list, tuple은 1개씩 저장되지만 dict는 1쌍으로 저장\n",
    "* { 키 : 값 }으로 저장\n",
    "* 인덱스 없음 = 순서가 없음\n",
    "* 키로 접근 가능 = 효율적임\n",
    "* 수정 가능"
   ]
  },
  {
   "cell_type": "code",
   "execution_count": 137,
   "metadata": {},
   "outputs": [
    {
     "name": "stdout",
     "output_type": "stream",
     "text": [
      "{'name': '홍길동', 'phone': '111-1111', 'age': 25}\n",
      "<class 'dict'>\n",
      "\n",
      "-------------------------------------------------------------------------------------\n",
      "\n",
      "{'name': '홍길동', 'phone': '111-1111', 'age': 30}\n",
      "\n",
      "-------------------------------------------------------------------------------------\n",
      "\n",
      "홍길동\n",
      "\n",
      "-------------------------------------------------------------------------------------\n",
      "\n",
      "홍길동\n",
      "None\n",
      "\n",
      "-------------------------------------------------------------------------------------\n",
      "\n",
      "{'name': '임꺽정', 'phone': '111-1111', 'age': 25}\n"
     ]
    }
   ],
   "source": [
    "# dict 입력 1\n",
    "a = {'name' : '홍길동', 'phone' : '111-1111', 'age' : 25}\n",
    "print(a)\n",
    "print(type(a))\n",
    "\n",
    "print('\\n' + '-' * 85 + '\\n')\n",
    "\n",
    "# dict 입력 2\n",
    "b = dict(name = '홍길동', phone = '111-1111', age = 30)\n",
    "print(b)\n",
    "\n",
    "print('\\n' + '-' * 85 + '\\n')\n",
    "\n",
    "print(a['name']) # 키로 접근 가능. 인덱스 사용 시 에러. 없는 데이터 출력 시 에러\n",
    "\n",
    "print('\\n' + '-' * 85 + '\\n')\n",
    "\n",
    "# get() : 출력. 없는 데이터 출력 시 None값 출력\n",
    "print(a.get('name'))\n",
    "print(a.get('address'))\n",
    "\n",
    "print('\\n' + '-' * 85 + '\\n')\n",
    "\n",
    "# 수정 가능\n",
    "a['name'] = '임꺽정'\n",
    "print(a)"
   ]
  },
  {
   "cell_type": "markdown",
   "metadata": {},
   "source": [
    "#### dict 출력"
   ]
  },
  {
   "cell_type": "code",
   "execution_count": 133,
   "metadata": {},
   "outputs": [
    {
     "name": "stdout",
     "output_type": "stream",
     "text": [
      "dict_keys(['name', 'phone', 'age'])\n",
      "\n",
      "-------------------------------------------------------------------------------------\n",
      "\n",
      "dict_values(['임꺽정', '111-1111', 25])\n",
      "\n",
      "-------------------------------------------------------------------------------------\n",
      "\n",
      "dict_items([('name', '임꺽정'), ('phone', '111-1111'), ('age', 25)])\n",
      "\n",
      "-------------------------------------------------------------------------------------\n",
      "\n",
      "<class 'dict_items'>\n",
      "\n",
      "-------------------------------------------------------------------------------------\n",
      "\n",
      "<class 'list'> [('name', '임꺽정'), ('phone', '111-1111'), ('age', 25)]\n"
     ]
    }
   ],
   "source": [
    "# keys() : 가지고 있는 키 값 출력\n",
    "print(a.keys())\n",
    "\n",
    "print('\\n' + '-' * 85 + '\\n')\n",
    "\n",
    "# values() : 가지고 있는 값 출력\n",
    "print(a.values())\n",
    "\n",
    "print('\\n' + '-' * 85 + '\\n')\n",
    "\n",
    "# items() : 가지고 있는 키, 값을 튜플 형태(한 쌍)로 출력\n",
    "print(a.items())\n",
    "\n",
    "print('\\n' + '-' * 85 + '\\n')\n",
    "\n",
    "b = a.items()\n",
    "print(type(b))\n",
    "\n",
    "print('\\n' + '-' * 85 + '\\n')\n",
    "\n",
    "c = list(b)\n",
    "print(type(c), c)"
   ]
  },
  {
   "cell_type": "markdown",
   "metadata": {},
   "source": [
    "#### 추가 기능"
   ]
  },
  {
   "cell_type": "code",
   "execution_count": 134,
   "metadata": {},
   "outputs": [
    {
     "name": "stdout",
     "output_type": "stream",
     "text": [
      "{'name': '임꺽정', 'phone': '111-1111', 'age': 25}\n",
      "\n",
      "-------------------------------------------------------------------------------------\n",
      "\n",
      "{'name': '임꺽정', 'phone': '111-1111', 'age': 25, 'address': '서울시 강남구'}\n"
     ]
    }
   ],
   "source": [
    "print(a)\n",
    "\n",
    "print('\\n' + '-' * 85 + '\\n')\n",
    "\n",
    "a['address'] = '서울시 강남구'\n",
    "print(a)"
   ]
  },
  {
   "cell_type": "markdown",
   "metadata": {},
   "source": [
    "#### 삭제"
   ]
  },
  {
   "cell_type": "code",
   "execution_count": 135,
   "metadata": {},
   "outputs": [
    {
     "name": "stdout",
     "output_type": "stream",
     "text": [
      "{'name': '임꺽정', 'phone': '111-1111', 'age': 25, 'address': '서울시 강남구'}\n",
      "\n",
      "-------------------------------------------------------------------------------------\n",
      "\n",
      "{'name': '임꺽정', 'phone': '111-1111', 'address': '서울시 강남구'}\n",
      "\n",
      "-------------------------------------------------------------------------------------\n",
      "\n",
      "{}\n"
     ]
    }
   ],
   "source": [
    "print(a)\n",
    "\n",
    "print('\\n' + '-' * 85 + '\\n')\n",
    "\n",
    "del a['age'] # 원하는 정보 메모리까지 삭제\n",
    "print(a)\n",
    "\n",
    "print('\\n' + '-' * 85 + '\\n')\n",
    "\n",
    "# clear() : 데이터 삭제\n",
    "a.clear() # 형식은 남겨두고 데이터 전체 삭제\n",
    "print(a)"
   ]
  },
  {
   "cell_type": "markdown",
   "metadata": {},
   "source": [
    "### (3) set\n",
    "\n",
    "* { } 사용 = dict와 동일\n",
    "* 값으로만 이루어짐(dict는 키:값 형태)\n",
    "* 순서 없음 = 인덱스 없음 -> print(a[0]) 사용 시 에러\n",
    "* 중복 불가\n",
    "* 접근 방법 : list나 tuple로 변경 후 접근\n",
    "* 수정 가능"
   ]
  },
  {
   "cell_type": "code",
   "execution_count": 142,
   "metadata": {},
   "outputs": [
    {
     "name": "stdout",
     "output_type": "stream",
     "text": [
      "{1, 2, 3, 4}\n",
      "<class 'set'>\n",
      "\n",
      "-------------------------------------------------------------------------------------\n",
      "\n",
      "1 2\n"
     ]
    }
   ],
   "source": [
    "a = {1, 2, 3, 4, 3, 2, 4}\n",
    "print(a) # 중복된 값 제거 후 출력\n",
    "print(type(a))\n",
    "\n",
    "print('\\n' + '-' * 85 + '\\n')\n",
    "\n",
    "# 출력\n",
    "b = list(a)\n",
    "print(b[0], b[1])"
   ]
  },
  {
   "cell_type": "markdown",
   "metadata": {},
   "source": [
    "#### 교집합, 합집합, 차집합 구하기"
   ]
  },
  {
   "cell_type": "code",
   "execution_count": 145,
   "metadata": {},
   "outputs": [
    {
     "name": "stdout",
     "output_type": "stream",
     "text": [
      "{4, 5, 6}\n",
      "\n",
      "-------------------------------------------------------------------------------------\n",
      "\n",
      "{1, 2, 3, 4, 5, 6, 7, 8, 9}\n",
      "\n",
      "-------------------------------------------------------------------------------------\n",
      "\n",
      "{1, 2, 3}\n"
     ]
    }
   ],
   "source": [
    "s1 = {1, 2, 3, 4, 5, 6}\n",
    "s2 = {4, 5, 6, 7, 8, 9}\n",
    "\n",
    "# 교집합 : intersection()\n",
    "print(s1.intersection(s2))\n",
    "\n",
    "print('\\n' + '-' * 85 + '\\n')\n",
    "\n",
    "# 합집합 : union()\n",
    "print(s1.union(s2))\n",
    "\n",
    "print('\\n' + '-' * 85 + '\\n')\n",
    "\n",
    "# 차집합 : difference()\n",
    "print(s1.difference(s2)) # print(s1 - s2)"
   ]
  },
  {
   "cell_type": "markdown",
   "metadata": {},
   "source": [
    "#### 데이터 추가, 삭제"
   ]
  },
  {
   "cell_type": "code",
   "execution_count": 149,
   "metadata": {},
   "outputs": [
    {
     "name": "stdout",
     "output_type": "stream",
     "text": [
      "{1, 2, 3, 4, 5, 6, 7, 8}\n",
      "\n",
      "-------------------------------------------------------------------------------------\n",
      "\n",
      "{4, 5, 6, 7, 8, 9, 10}\n",
      "\n",
      "-------------------------------------------------------------------------------------\n",
      "\n",
      "{1, 2, 3, 4, 5, 6, 7}\n"
     ]
    }
   ],
   "source": [
    "# 데이터 여러 개 추가 : update({})\n",
    "s1.update({7, 8})\n",
    "print(s1)\n",
    "\n",
    "print('\\n' + '-' * 85 + '\\n')\n",
    "\n",
    "# 데이터 한 개 추가 : add()\n",
    "s2.add(10)\n",
    "print(s2)\n",
    "\n",
    "print('\\n' + '-' * 85 + '\\n')\n",
    "\n",
    "# 데이터 삭제 : remove()\n",
    "s1.remove(8)\n",
    "print(s1)"
   ]
  },
  {
   "cell_type": "markdown",
   "metadata": {},
   "source": [
    "------------"
   ]
  },
  {
   "cell_type": "markdown",
   "metadata": {},
   "source": [
    "## 연산자(Operator)\n",
    "\n",
    "1) 산술 연산자\n",
    "* *, /, +, -\n",
    "* *, +는 반복, 연결 기능도 있음\n",
    "* % : 나머지\n",
    "* // : 정수형 몫\n",
    "* ** : 거듭제곱\n",
    "\n",
    "\n",
    "2) 비교 연산자\n",
    "* '>', '<', '>=', '<=' \n",
    "* == : 같다\n",
    "* != : 같지 않다\n",
    "* bool 형식으로 출력\n",
    "    \n",
    "    \n",
    "3) 논리 연산자 : bool 형식을 이용해 계산\n",
    "* and : 모두가 참일 때 T\n",
    "    \n",
    "        A          B            A and B\n",
    "        -------------------------------\n",
    "        T          T               T\n",
    "        T          F               F\n",
    "        F          T               F\n",
    "        F          F               F\n",
    "    \n",
    "* or :  한 쪽만 참이어도 T\n",
    "    \n",
    "        A          B            A or B\n",
    "        -------------------------------\n",
    "        T          T               T\n",
    "        T          F               T\n",
    "        F          T               T\n",
    "        F          F               F\n",
    "   \n",
    "* not(단항, 토글) : T는 F, F는 T로\n",
    "\n",
    "\n",
    "4) 대입(치환, 할당) 연산자\n",
    "* = : 오른쪽에 있는 값을 왼쪽에 할당\n",
    "* +=, -=, *=, /= ...\n",
    "\n",
    "\n",
    "5) 포함 여부 연산자\n",
    "* in, not in\n",
    "\n",
    "6) 비트 연산자\n",
    "* &(=and) : 둘 다 T일 때 T\n",
    "* |(=or) : 한 쪽만 T일 때 T\n",
    "* ^(=xor) : 두 값이 다를 때 T. 암호화/복호화 때 사용\n",
    "* ~(=not) : T를 F로, F를 T로.\n",
    "* <<, >> "
   ]
  },
  {
   "cell_type": "markdown",
   "metadata": {},
   "source": [
    "### 산술 연산자"
   ]
  },
  {
   "cell_type": "code",
   "execution_count": 1,
   "metadata": {},
   "outputs": [
    {
     "name": "stdout",
     "output_type": "stream",
     "text": [
      "3.3333333333333335\n",
      "\n",
      "-------------------------------------------------------------------------------------\n",
      "\n",
      "1\n",
      "\n",
      "-------------------------------------------------------------------------------------\n",
      "\n",
      "3\n",
      "\n",
      "-------------------------------------------------------------------------------------\n",
      "\n",
      "1024\n"
     ]
    }
   ],
   "source": [
    "print(10/3) # 몫+나머지 -> 실수형 : 사용 시 자리수 결정(소수점 아래 / 오차값 발생)\n",
    "print('\\n' + '-' * 85 + '\\n')\n",
    "\n",
    "print(10%3) # 나머지\n",
    "print('\\n' + '-' * 85 + '\\n')\n",
    "\n",
    "print(10//3) # 몫 -> 정수형\n",
    "print('\\n' + '-' * 85 + '\\n')\n",
    "\n",
    "print(2**10) # 2의 10제곱"
   ]
  },
  {
   "cell_type": "markdown",
   "metadata": {},
   "source": [
    "### 비교 연산자"
   ]
  },
  {
   "cell_type": "code",
   "execution_count": 2,
   "metadata": {},
   "outputs": [
    {
     "name": "stdout",
     "output_type": "stream",
     "text": [
      "False\n"
     ]
    }
   ],
   "source": [
    "print(100>200)"
   ]
  },
  {
   "cell_type": "markdown",
   "metadata": {},
   "source": [
    "### 대입 연산자"
   ]
  },
  {
   "cell_type": "code",
   "execution_count": 3,
   "metadata": {},
   "outputs": [
    {
     "name": "stdout",
     "output_type": "stream",
     "text": [
      "3\n",
      "\n",
      "-------------------------------------------------------------------------------------\n",
      "\n",
      "6\n"
     ]
    }
   ],
   "source": [
    "a = 1\n",
    "a = 2\n",
    "a = 3\n",
    "print(a)\n",
    "print('\\n' + '-' * 85 + '\\n')\n",
    "\n",
    "b = 1\n",
    "b += 2 # b = b + 2\n",
    "b += 3 # b = b + 3\n",
    "print(b)"
   ]
  },
  {
   "cell_type": "markdown",
   "metadata": {},
   "source": [
    "### 논리 연산자(단락 회로 연산자)\n",
    "* 쓸데없는 연산을 하지 않음"
   ]
  },
  {
   "cell_type": "code",
   "execution_count": 4,
   "metadata": {},
   "outputs": [
    {
     "name": "stdout",
     "output_type": "stream",
     "text": [
      "12\n",
      "\n",
      "-------------------------------------------------------------------------------------\n",
      "\n",
      "False\n"
     ]
    }
   ],
   "source": [
    "print(6 and 12) # 참거짓 판명하는 게 아니므로 무의미\n",
    "print('\\n' + '-' * 85 + '\\n')\n",
    "\n",
    "print(12>5 and 6<=3) # 둘 다 참이어야 T"
   ]
  },
  {
   "cell_type": "markdown",
   "metadata": {},
   "source": [
    "### 비트 연산자 : 10진수를 2진수로 변경한 뒤 계산"
   ]
  },
  {
   "cell_type": "code",
   "execution_count": 5,
   "metadata": {},
   "outputs": [
    {
     "name": "stdout",
     "output_type": "stream",
     "text": [
      "False\n",
      "\n",
      "-------------------------------------------------------------------------------------\n",
      "\n",
      "4\n",
      "\n",
      "-------------------------------------------------------------------------------------\n",
      "\n",
      "10\n",
      "\n",
      "-------------------------------------------------------------------------------------\n",
      "\n",
      "35494142\n",
      "\n",
      "-------------------------------------------------------------------------------------\n",
      "\n",
      "648723\n"
     ]
    }
   ],
   "source": [
    "print(12>5 & 6<=3) # 둘 다 참이어야 T\n",
    "print('\\n' + '-' * 85 + '\\n')\n",
    "\n",
    "print(12 & 6) # 2진수로 변경 : 12 = 1100, 6 = 0110 => 12 & 6 = 0100 = 4\n",
    "print('\\n' + '-' * 85 + '\\n')\n",
    "\n",
    "print(12^6) # 12(1100) ^ 6(0110) => 1010 = 10\n",
    "print('\\n' + '-' * 85 + '\\n')\n",
    "\n",
    "password = 648723\n",
    "key = 34897645\n",
    "\n",
    "encode = password ^ key # 암호화\n",
    "print(encode)\n",
    "print('\\n' + '-' * 85 + '\\n')\n",
    "\n",
    "decode = encode ^ key # 복호화\n",
    "print(decode)"
   ]
  },
  {
   "cell_type": "code",
   "execution_count": null,
   "metadata": {},
   "outputs": [],
   "source": []
  }
 ],
 "metadata": {
  "kernelspec": {
   "display_name": "Python 3",
   "language": "python",
   "name": "python3"
  },
  "language_info": {
   "codemirror_mode": {
    "name": "ipython",
    "version": 3
   },
   "file_extension": ".py",
   "mimetype": "text/x-python",
   "name": "python",
   "nbconvert_exporter": "python",
   "pygments_lexer": "ipython3",
   "version": "3.8.3"
  }
 },
 "nbformat": 4,
 "nbformat_minor": 4
}
