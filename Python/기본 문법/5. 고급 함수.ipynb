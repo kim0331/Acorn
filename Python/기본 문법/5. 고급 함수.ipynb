{
 "cells": [
  {
   "cell_type": "markdown",
   "metadata": {},
   "source": [
    "##  변수의 생존 범위\n",
    "\n",
    "* global\n",
    "* nonlocal"
   ]
  },
  {
   "cell_type": "markdown",
   "metadata": {},
   "source": [
    "### 1) nonlocal"
   ]
  },
  {
   "cell_type": "code",
   "execution_count": 50,
   "metadata": {},
   "outputs": [
    {
     "name": "stdout",
     "output_type": "stream",
     "text": [
      "100\n",
      "kbs2 함수 내부 : 2\n",
      "kbs1 함수 내부 : 1\n"
     ]
    }
   ],
   "source": [
    "# 함수 안에 함수 생성 가능\n",
    "\n",
    "a = 100\n",
    "\n",
    "def kbs1() :\n",
    "    a = 1\n",
    "    \n",
    "    def kbs2() :\n",
    "        a = 2\n",
    "        print('kbs2 함수 내부 :', a)\n",
    "        \n",
    "    kbs2()                               # kbs1을 호출하면 kbs2도 호출됨\n",
    "    print('kbs1 함수 내부 :', a)\n",
    "    \n",
    "    \n",
    "    \n",
    "print(a)             # a=100이 출력\n",
    "kbs1()               # a=1 출력\n",
    "\n",
    "# kbs1().kbs2()로 출력 불가 - a.b는 객체에서만 사용 가능"
   ]
  },
  {
   "cell_type": "code",
   "execution_count": 51,
   "metadata": {},
   "outputs": [
    {
     "name": "stdout",
     "output_type": "stream",
     "text": [
      "100\n",
      "kbs2 함수 내부 : 1\n",
      "kbs1 함수 내부 : 1\n"
     ]
    }
   ],
   "source": [
    "# 함수 내 변수 선언을 하지 않았을 때\n",
    "\n",
    "a = 100\n",
    "\n",
    "def kbs1() :\n",
    "    a = 1\n",
    "    \n",
    "    def kbs2() :\n",
    "        print('kbs2 함수 내부 :', a)\n",
    "        \n",
    "    kbs2()      # 따로 a값을 선언하지 않았기 때문에 가장 가까운 a의 값이 출력됨\n",
    "    print('kbs1 함수 내부 :', a)\n",
    "    \n",
    "    \n",
    "    \n",
    "print(a)             \n",
    "kbs1()"
   ]
  },
  {
   "cell_type": "code",
   "execution_count": 52,
   "metadata": {},
   "outputs": [
    {
     "name": "stdout",
     "output_type": "stream",
     "text": [
      "100\n",
      "kbs2 함수 내부 : 1\n",
      "kbs1 함수 내부 : 1\n"
     ]
    }
   ],
   "source": [
    "# 지역 변수의 값을 수정하고 싶을 때\n",
    "\n",
    "a = 100\n",
    "\n",
    "def kbs1() :\n",
    "    a = 1\n",
    "    \n",
    "    def kbs2() :\n",
    "        print('kbs2 함수 내부 :', a)\n",
    "        # a= 2     # 에러. 가져다 출력은 문제 없지만 수정 시 에러 발생.\n",
    "                   # 실제 참조가 아니기 때문\n",
    "        \n",
    "    kbs2()\n",
    "    print('kbs1 함수 내부 :', a)\n",
    "    \n",
    "    \n",
    "    \n",
    "print(a)             \n",
    "kbs1()"
   ]
  },
  {
   "cell_type": "code",
   "execution_count": 53,
   "metadata": {},
   "outputs": [
    {
     "name": "stdout",
     "output_type": "stream",
     "text": [
      "100\n",
      "kbs2 함수 내부 : 1\n",
      "kbs1 함수 내부 : 2\n"
     ]
    }
   ],
   "source": [
    "# 중복 함수일 때 이전 함수의 변수를 가져오고 싶을 때\n",
    "\n",
    "a = 100\n",
    "\n",
    "def kbs1() :\n",
    "    a = 1\n",
    "    \n",
    "    def kbs2() :\n",
    "        nonlocal a             # a = 1을 전역변수로 삼아서 가져오는 것.\n",
    "        \n",
    "        print('kbs2 함수 내부 :', a)       # 전역변수로 삼은 a = 1 츨력\n",
    "        a = 2                  # 값 수정됨\n",
    "        \n",
    "    kbs2()\n",
    "    print('kbs1 함수 내부 :', a)   # 수정된 값 a = 2가 출력\n",
    "    \n",
    "    \n",
    "    \n",
    "print(a)             \n",
    "kbs1()"
   ]
  },
  {
   "cell_type": "code",
   "execution_count": 54,
   "metadata": {},
   "outputs": [
    {
     "name": "stdout",
     "output_type": "stream",
     "text": [
      "100\n",
      "kbs2 함수 내부 : 100\n",
      "kbs1 함수 내부 : 1\n",
      "2\n"
     ]
    }
   ],
   "source": [
    "# global을 사용했을 경우\n",
    "\n",
    "a = 100\n",
    "\n",
    "def kbs1() :\n",
    "    a = 1\n",
    "    \n",
    "    def kbs2() :\n",
    "        global a             # global a를 쓸 경우 a = 100을 가져옴.\n",
    "        \n",
    "        print('kbs2 함수 내부 :', a)       # 전역변수 a = 100 츨력\n",
    "        a = 2                  # 값 수정됨\n",
    "        \n",
    "    kbs2()\n",
    "    print('kbs1 함수 내부 :', a)   # 원래 값 a = 1 출력\n",
    "    \n",
    "    \n",
    "    \n",
    "print(a)             \n",
    "kbs1()\n",
    "print(a)                   # 수정된 값 a = 2 출력"
   ]
  },
  {
   "cell_type": "markdown",
   "metadata": {},
   "source": [
    "### 2) Closer\n",
    "\n",
    "* 함수 밖에서 임의의 함수 안에 선언된 지역 변수를 계속 참조할 수 있게 하는 방법"
   ]
  },
  {
   "cell_type": "code",
   "execution_count": 55,
   "metadata": {},
   "outputs": [
    {
     "ename": "UnboundLocalError",
     "evalue": "local variable 'count' referenced before assignment",
     "output_type": "error",
     "traceback": [
      "\u001b[1;31m---------------------------------------------------------------------------\u001b[0m",
      "\u001b[1;31mUnboundLocalError\u001b[0m                         Traceback (most recent call last)",
      "\u001b[1;32m<ipython-input-55-3cc1f8d00f0f>\u001b[0m in \u001b[0;36m<module>\u001b[1;34m\u001b[0m\n\u001b[0;32m     11\u001b[0m \u001b[1;33m\u001b[0m\u001b[0m\n\u001b[0;32m     12\u001b[0m \u001b[1;33m\u001b[0m\u001b[0m\n\u001b[1;32m---> 13\u001b[1;33m \u001b[0mout\u001b[0m\u001b[1;33m(\u001b[0m\u001b[1;33m)\u001b[0m\u001b[1;33m\u001b[0m\u001b[1;33m\u001b[0m\u001b[0m\n\u001b[0m",
      "\u001b[1;32m<ipython-input-55-3cc1f8d00f0f>\u001b[0m in \u001b[0;36mout\u001b[1;34m()\u001b[0m\n\u001b[0;32m      8\u001b[0m         \u001b[0mprint\u001b[0m\u001b[1;33m(\u001b[0m\u001b[0mcount\u001b[0m\u001b[1;33m)\u001b[0m\u001b[1;33m\u001b[0m\u001b[1;33m\u001b[0m\u001b[0m\n\u001b[0;32m      9\u001b[0m \u001b[1;33m\u001b[0m\u001b[0m\n\u001b[1;32m---> 10\u001b[1;33m     \u001b[0minn\u001b[0m\u001b[1;33m(\u001b[0m\u001b[1;33m)\u001b[0m\u001b[1;33m\u001b[0m\u001b[1;33m\u001b[0m\u001b[0m\n\u001b[0m\u001b[0;32m     11\u001b[0m \u001b[1;33m\u001b[0m\u001b[0m\n\u001b[0;32m     12\u001b[0m \u001b[1;33m\u001b[0m\u001b[0m\n",
      "\u001b[1;32m<ipython-input-55-3cc1f8d00f0f>\u001b[0m in \u001b[0;36minn\u001b[1;34m()\u001b[0m\n\u001b[0;32m      5\u001b[0m \u001b[1;33m\u001b[0m\u001b[0m\n\u001b[0;32m      6\u001b[0m     \u001b[1;32mdef\u001b[0m \u001b[0minn\u001b[0m \u001b[1;33m(\u001b[0m\u001b[1;33m)\u001b[0m \u001b[1;33m:\u001b[0m\u001b[1;33m\u001b[0m\u001b[1;33m\u001b[0m\u001b[0m\n\u001b[1;32m----> 7\u001b[1;33m         \u001b[0mcount\u001b[0m \u001b[1;33m+=\u001b[0m \u001b[1;36m1\u001b[0m                 \u001b[1;31m# count += 1은 값을 참조하기 때문에 에러.\u001b[0m\u001b[1;33m\u001b[0m\u001b[1;33m\u001b[0m\u001b[0m\n\u001b[0m\u001b[0;32m      8\u001b[0m         \u001b[0mprint\u001b[0m\u001b[1;33m(\u001b[0m\u001b[0mcount\u001b[0m\u001b[1;33m)\u001b[0m\u001b[1;33m\u001b[0m\u001b[1;33m\u001b[0m\u001b[0m\n\u001b[0;32m      9\u001b[0m \u001b[1;33m\u001b[0m\u001b[0m\n",
      "\u001b[1;31mUnboundLocalError\u001b[0m: local variable 'count' referenced before assignment"
     ]
    }
   ],
   "source": [
    "#count = 0\n",
    "\n",
    "def out() :\n",
    "    count = 0\n",
    "    \n",
    "    def inn () :\n",
    "        count += 1                 # count += 1은 값을 참조하기 때문에 에러.\n",
    "        print(count)\n",
    "        \n",
    "    inn()\n",
    "    \n",
    "    \n",
    "out()"
   ]
  },
  {
   "cell_type": "code",
   "execution_count": 56,
   "metadata": {},
   "outputs": [
    {
     "name": "stdout",
     "output_type": "stream",
     "text": [
      "1\n",
      "1\n",
      "1\n"
     ]
    }
   ],
   "source": [
    "# nonlocal 사용\n",
    "\n",
    "def out() :\n",
    "    count = 0\n",
    "    \n",
    "    def inn () :\n",
    "        nonlocal count        # 지역변수를 참조하지만 값이 증가되진 않음\n",
    "        \n",
    "        count += 1\n",
    "        print(count)\n",
    "        \n",
    "    inn()\n",
    "    \n",
    "    \n",
    "out()\n",
    "out()\n",
    "out()"
   ]
  },
  {
   "cell_type": "code",
   "execution_count": 57,
   "metadata": {},
   "outputs": [
    {
     "name": "stdout",
     "output_type": "stream",
     "text": [
      "1\n",
      "2\n",
      "3\n"
     ]
    }
   ],
   "source": [
    "# global 사용\n",
    "\n",
    "count = 0                         # 전역변수 : 어떤 곳에서든 변할 수 있으므로 주의.\n",
    "                                  # 가급적 지역변수 사용.\n",
    "def out() :\n",
    "    count = 0\n",
    "    \n",
    "    def inn () :\n",
    "        #nonlocal count\n",
    "        global count              # global 사용해서 값 증가하게 만듦\n",
    "        \n",
    "        count += 1\n",
    "        print(count)\n",
    "        \n",
    "    inn()\n",
    "    \n",
    "    \n",
    "out()\n",
    "out()\n",
    "out()"
   ]
  },
  {
   "cell_type": "code",
   "execution_count": 58,
   "metadata": {},
   "outputs": [
    {
     "name": "stdout",
     "output_type": "stream",
     "text": [
      "1\n",
      "2\n",
      "3\n"
     ]
    }
   ],
   "source": [
    "# 전역 변수 사용 없이 값 증가하게 하는 방법                       \n",
    "\n",
    "def out() :\n",
    "    count = 0\n",
    "    \n",
    "    def inn () :\n",
    "        nonlocal count\n",
    "        \n",
    "        count += 1\n",
    "        print(count)\n",
    "        \n",
    "    inn()\n",
    "    return inn\n",
    "    \n",
    "    \n",
    "a = out()                # 객체 생성\n",
    "a()\n",
    "a()"
   ]
  },
  {
   "cell_type": "code",
   "execution_count": 59,
   "metadata": {},
   "outputs": [
    {
     "name": "stdout",
     "output_type": "stream",
     "text": [
      "2500.0\n",
      "3600.0\n",
      "1250.0\n"
     ]
    }
   ],
   "source": [
    "def outer(tax) :\n",
    "    def inner(su, dan) :\n",
    "        amount = su*dan*tax\n",
    "        return amount\n",
    "    \n",
    "    return inner\n",
    "\n",
    "\n",
    "tax_rate = outer(0.1)\n",
    "mouse = tax_rate(5, 5000)\n",
    "print(mouse)\n",
    "\n",
    "usb = tax_rate(3, 12000)\n",
    "print(usb)\n",
    "\n",
    "tax_rate2 = outer(0.05)\n",
    "mouse = tax_rate2(5, 5000)\n",
    "print(mouse)"
   ]
  },
  {
   "cell_type": "markdown",
   "metadata": {},
   "source": [
    "### 3) 람다 함수\n",
    "\n",
    "* 익명, 축약 함수\n",
    "* 코드를 짧게 줄이기 위함"
   ]
  },
  {
   "cell_type": "code",
   "execution_count": 60,
   "metadata": {},
   "outputs": [
    {
     "name": "stdout",
     "output_type": "stream",
     "text": [
      "30\n"
     ]
    }
   ],
   "source": [
    "def hap(x, y) :\n",
    "    return x + y\n",
    "\n",
    "\n",
    "result = hap(10, 20)\n",
    "print(result)"
   ]
  },
  {
   "cell_type": "code",
   "execution_count": 61,
   "metadata": {},
   "outputs": [
    {
     "name": "stdout",
     "output_type": "stream",
     "text": [
      "30\n"
     ]
    }
   ],
   "source": [
    "# 위와 동일\n",
    "\n",
    "print((lambda x, y : x + y)(10, 20))"
   ]
  },
  {
   "cell_type": "code",
   "execution_count": 62,
   "metadata": {},
   "outputs": [
    {
     "name": "stdout",
     "output_type": "stream",
     "text": [
      "30\n"
     ]
    }
   ],
   "source": [
    "# 위와 동일\n",
    "\n",
    "h1 = (lambda x, y : x + y)\n",
    "print(h1(10, 20))"
   ]
  },
  {
   "cell_type": "code",
   "execution_count": 63,
   "metadata": {},
   "outputs": [
    {
     "name": "stdout",
     "output_type": "stream",
     "text": [
      "1 (2, 3, 4, 5) {'m': 6, 'n': 7, 'o': 8}\n"
     ]
    }
   ],
   "source": [
    "def lambda_test(a, *b, **c) :\n",
    "    print(a, b, c)\n",
    "    \n",
    "lambda_test(1, 2, 3, 4, 5, m=6, n=7, o=8)"
   ]
  },
  {
   "cell_type": "code",
   "execution_count": 64,
   "metadata": {},
   "outputs": [
    {
     "name": "stdout",
     "output_type": "stream",
     "text": [
      "1 (2, 3, 4, 5) {'m': 6, 'n': 7, 'o': 8}\n"
     ]
    }
   ],
   "source": [
    "# 위와 동일\n",
    "\n",
    "(lambda a, *b, **c : print(a, b, c))(1, 2, 3, 4, 5, m=6, n=7, o=8)"
   ]
  },
  {
   "cell_type": "code",
   "execution_count": 65,
   "metadata": {},
   "outputs": [
    {
     "name": "stdout",
     "output_type": "stream",
     "text": [
      "[1, 4, 3, 16, 5]\n"
     ]
    }
   ],
   "source": [
    "data = [1,2, 3, 4, 5]\n",
    "\n",
    "def lam_test(x) :\n",
    "    if x%2 == 0 :\n",
    "        return x**2\n",
    "    else :\n",
    "        return x\n",
    "\n",
    "result = []\n",
    "    \n",
    "for i in data :\n",
    "    result.append(lam_test(i))\n",
    "    \n",
    "print(result)"
   ]
  },
  {
   "cell_type": "code",
   "execution_count": 66,
   "metadata": {},
   "outputs": [
    {
     "name": "stdout",
     "output_type": "stream",
     "text": [
      "[1, 4, 3, 16, 5]\n",
      "[1, 4, 3, 16, 5]\n"
     ]
    }
   ],
   "source": [
    "# 위와 동일\n",
    "\n",
    "print(list(map(lam_test, data)))\n",
    "print(list(map(lambda x : x**2 if x%2 == 0 else x, data)))"
   ]
  },
  {
   "cell_type": "markdown",
   "metadata": {},
   "source": [
    "### 4) 함수 장식자(decorator)\n",
    "\n",
    "* 일종의 함수  감싸기(wrapping)를 해주는 디자인 패턴\n",
    "* 메타 프로그래밍 기법\n",
    "* @classmethod, @staticmethod => 둘이 유사\n",
    "* @abstract"
   ]
  },
  {
   "cell_type": "code",
   "execution_count": 72,
   "metadata": {},
   "outputs": [
    {
     "data": {
      "text/plain": [
       "'홍길동'"
      ]
     },
     "execution_count": 72,
     "metadata": {},
     "output_type": "execute_result"
    }
   ],
   "source": [
    "def make2(fn) :                             # 매개변수도 함수라는 의미\n",
    "    return lambda : '안녕 ' + fn()           # 주소를 리턴한다는 의미\n",
    "\n",
    "\n",
    "def make1(fn) :\n",
    "    return lambda : '반가워 ' + fn()\n",
    "\n",
    "def hello() :\n",
    "    return '홍길동'\n",
    "\n",
    "hello()        # 괄호가 빠지면 함수의 주소값. 함수 호출 시 괄호도 입력"
   ]
  },
  {
   "cell_type": "code",
   "execution_count": 73,
   "metadata": {},
   "outputs": [
    {
     "data": {
      "text/plain": [
       "<function __main__.make1.<locals>.<lambda>()>"
      ]
     },
     "execution_count": 73,
     "metadata": {},
     "output_type": "execute_result"
    }
   ],
   "source": [
    "make1(hello)   # make1 함수의 주소 출력"
   ]
  },
  {
   "cell_type": "code",
   "execution_count": 75,
   "metadata": {},
   "outputs": [
    {
     "data": {
      "text/plain": [
       "'반가워 홍길동'"
      ]
     },
     "execution_count": 75,
     "metadata": {},
     "output_type": "execute_result"
    }
   ],
   "source": [
    "(make1(hello))()"
   ]
  },
  {
   "cell_type": "code",
   "execution_count": 77,
   "metadata": {},
   "outputs": [
    {
     "data": {
      "text/plain": [
       "<function __main__.make2.<locals>.<lambda>()>"
      ]
     },
     "execution_count": 77,
     "metadata": {},
     "output_type": "execute_result"
    }
   ],
   "source": [
    "make2(make1(hello))     # make2 함수 주소 출력"
   ]
  },
  {
   "cell_type": "code",
   "execution_count": 78,
   "metadata": {},
   "outputs": [
    {
     "data": {
      "text/plain": [
       "'안녕 반가워 홍길동'"
      ]
     },
     "execution_count": 78,
     "metadata": {},
     "output_type": "execute_result"
    }
   ],
   "source": [
    "(make2(make1(hello)))()"
   ]
  },
  {
   "cell_type": "code",
   "execution_count": 80,
   "metadata": {},
   "outputs": [
    {
     "name": "stdout",
     "output_type": "stream",
     "text": [
      "안녕 반가워 홍길동\n"
     ]
    }
   ],
   "source": [
    "hi = make2(make1(hello))\n",
    "print(hi())"
   ]
  },
  {
   "cell_type": "code",
   "execution_count": 81,
   "metadata": {},
   "outputs": [
    {
     "name": "stdout",
     "output_type": "stream",
     "text": [
      "안녕 반가워 임꺽정\n"
     ]
    }
   ],
   "source": [
    "@make2                        # 데코레이터. make1의 주소를 받음\n",
    "@make1                        # hello2의 주소를 받음\n",
    "def hello2() :\n",
    "    return '임꺽정'\n",
    "\n",
    "print(hello2())"
   ]
  },
  {
   "cell_type": "code",
   "execution_count": 83,
   "metadata": {},
   "outputs": [
    {
     "name": "stdout",
     "output_type": "stream",
     "text": [
      "결과는 13 입니다.\n"
     ]
    }
   ],
   "source": [
    "def outer(fn) :\n",
    "    def inner(n1, n2) :\n",
    "        print('결과는 {} 입니다.'.format(fn(n1, n2)))\n",
    "        \n",
    "    return inner\n",
    "        \n",
    "\n",
    "def func(n1, n2) :\n",
    "    return n1 + n2\n",
    "\n",
    "\n",
    "result = outer(func)\n",
    "result(10,3)"
   ]
  },
  {
   "cell_type": "code",
   "execution_count": 85,
   "metadata": {},
   "outputs": [
    {
     "name": "stdout",
     "output_type": "stream",
     "text": [
      "결과는 13 입니다.\n"
     ]
    }
   ],
   "source": [
    "# 위와 동일\n",
    "\n",
    "def outer(fn) :\n",
    "    def inner(n1, n2) :\n",
    "        print('결과는 {} 입니다.'.format(fn(n1, n2)))\n",
    "        \n",
    "    return inner\n",
    "        \n",
    "\n",
    "@outer\n",
    "def func(n1, n2) :\n",
    "    return n1 + n2\n",
    "\n",
    "\n",
    "\n",
    "func(10,3)"
   ]
  }
 ],
 "metadata": {
  "kernelspec": {
   "display_name": "Python 3",
   "language": "python",
   "name": "python3"
  },
  "language_info": {
   "codemirror_mode": {
    "name": "ipython",
    "version": 3
   },
   "file_extension": ".py",
   "mimetype": "text/x-python",
   "name": "python",
   "nbconvert_exporter": "python",
   "pygments_lexer": "ipython3",
   "version": "3.7.6"
  }
 },
 "nbformat": 4,
 "nbformat_minor": 4
}
