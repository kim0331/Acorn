{
 "cells": [
  {
   "cell_type": "markdown",
   "metadata": {},
   "source": [
    "# Control Statement : 제어문\n",
    "\n",
    "## 1. 조건문\n",
    "* if\n",
    "\n",
    "## 2. 반복문\n",
    "* for\n",
    "* while"
   ]
  },
  {
   "cell_type": "markdown",
   "metadata": {},
   "source": [
    "### 1) if : 조건식이 참이라면 코드 실행\n",
    "\n",
    "#### (1) if 단문\n",
    "\n",
    "    if 조건식 :           (:는 블럭. 아래에 조건식이 만들어지는 것)\n",
    "        문장              (탭 키 또는 blank 4칸 이상으로 들여쓰기. 가급적 blank.)"
   ]
  },
  {
   "cell_type": "code",
   "execution_count": 2,
   "metadata": {},
   "outputs": [
    {
     "name": "stdout",
     "output_type": "stream",
     "text": [
      "숫자 : 3\n",
      "홀수입니다.\n"
     ]
    }
   ],
   "source": [
    "# 입력받은 숫자가 짝수인지 홀수인지 판별하라\n",
    "\n",
    "num1 = int(input('숫자 : '))\n",
    "\n",
    "if num1%2 == 0 :\n",
    "    print('짝수입니다.')\n",
    "\n",
    "if num1%2 != 0 :\n",
    "    print('홀수입니다.')"
   ]
  },
  {
   "cell_type": "markdown",
   "metadata": {},
   "source": [
    "#### (2) if ~ else\n",
    "\n",
    "    if 조건식 :\n",
    "        문장\n",
    "        문장\n",
    "    else :\n",
    "        문장\n",
    "        문장"
   ]
  },
  {
   "cell_type": "code",
   "execution_count": 3,
   "metadata": {},
   "outputs": [
    {
     "name": "stdout",
     "output_type": "stream",
     "text": [
      "숫자 : 3\n",
      "홀수입니다.\n"
     ]
    }
   ],
   "source": [
    "# 입력받은 숫자가 짝수인지 홀수인지 판별하라\n",
    "\n",
    "num1 = int(input('숫자 : '))\n",
    "\n",
    "if num1%2 == 0 :\n",
    "    print('짝수입니다.')\n",
    "else :\n",
    "    print('홀수입니다.')"
   ]
  },
  {
   "cell_type": "markdown",
   "metadata": {},
   "source": [
    "##### 입력받은 값이 a, b, c, d이면 \"정답\"이라고 출력, 아니면 \"오답\" 출력"
   ]
  },
  {
   "cell_type": "code",
   "execution_count": 4,
   "metadata": {},
   "outputs": [
    {
     "name": "stdout",
     "output_type": "stream",
     "text": [
      "입력값 : 3\n",
      "정답입니다\n"
     ]
    }
   ],
   "source": [
    "var = str(input(\"입력값 : \"))\n",
    "\n",
    "if var == 'a' or 'b' or 'c' or 'd' :\n",
    "    print('정답입니다')\n",
    "else :\n",
    "    print('오답입니다')"
   ]
  },
  {
   "cell_type": "code",
   "execution_count": 5,
   "metadata": {},
   "outputs": [
    {
     "name": "stdout",
     "output_type": "stream",
     "text": [
      "정답을 입력하시오: \n",
      "오답\n"
     ]
    }
   ],
   "source": [
    "## 또 다른 방법\n",
    "answer = ['a', 'b', 'c', 'd']\n",
    "user = input('정답을 입력하시오: ')\n",
    "\n",
    "if user in answer:\n",
    "    print('정답')\n",
    "else:\n",
    "    print('오답')"
   ]
  },
  {
   "cell_type": "code",
   "execution_count": 10,
   "metadata": {},
   "outputs": [
    {
     "name": "stdout",
     "output_type": "stream",
     "text": [
      "오답\n"
     ]
    }
   ],
   "source": [
    "## 또 다른 방법\n",
    "correct = ('a', 'b', 'c', 'd')\n",
    "\n",
    "if correct.count(result) > 0 :\n",
    "    print('정답')\n",
    "else :\n",
    "    print('오답')"
   ]
  },
  {
   "cell_type": "code",
   "execution_count": 14,
   "metadata": {},
   "outputs": [
    {
     "name": "stdout",
     "output_type": "stream",
     "text": [
      "65\n"
     ]
    }
   ],
   "source": [
    "# 아스키코드 출력 방법\n",
    "print(ord('A'))"
   ]
  },
  {
   "cell_type": "markdown",
   "metadata": {},
   "source": [
    "#### (3) elif 문\n",
    "\n",
    "    if 조건식 :\n",
    "        문장\n",
    "        문장\n",
    "    elif 조건식 :\n",
    "        문장\n",
    "        문장\n",
    "    else :\n",
    "        문장"
   ]
  },
  {
   "cell_type": "code",
   "execution_count": 16,
   "metadata": {},
   "outputs": [
    {
     "name": "stdout",
     "output_type": "stream",
     "text": [
      "C\n"
     ]
    }
   ],
   "source": [
    "avg = 73\n",
    "\n",
    "if avg >=90 :\n",
    "    print('A')\n",
    "elif avg >=80 :\n",
    "    print('B')\n",
    "elif avg >=70 :\n",
    "    print('C')\n",
    "elif avg >=60 :\n",
    "    print('D')\n",
    "else :\n",
    "    print('F')"
   ]
  },
  {
   "cell_type": "markdown",
   "metadata": {},
   "source": [
    "#### (4) 조건문의 중첩(Nested)\n",
    "\n",
    "if 조건문 :\n",
    "\n",
    "    문장\n",
    "    \n",
    "    if 조건문 :\n",
    "        문장\n",
    "else :\n",
    "  \n",
    "    문장 "
   ]
  },
  {
   "cell_type": "code",
   "execution_count": 26,
   "metadata": {},
   "outputs": [
    {
     "name": "stdout",
     "output_type": "stream",
     "text": [
      "b가 가장 크다\n"
     ]
    }
   ],
   "source": [
    "# a, b, c 중 가장 큰 수는 어떤 것인가\n",
    "\n",
    "a, b, c = 8, 10, 3\n",
    "\n",
    "if a > b :\n",
    "    if a > c :\n",
    "        print('a가 가장 크다')\n",
    "    else :\n",
    "        print('c가 가장 크다')\n",
    "else :\n",
    "    if b > c :\n",
    "        print('b가 가장 크다')\n",
    "    else :\n",
    "        print('c가 가장 크다')\n",
    "    "
   ]
  },
  {
   "cell_type": "code",
   "execution_count": 37,
   "metadata": {},
   "outputs": [
    {
     "name": "stdout",
     "output_type": "stream",
     "text": [
      "0\n",
      "2\n"
     ]
    }
   ],
   "source": [
    "# 랜덤 선택\n",
    "\n",
    "import random\n",
    "\n",
    "print(random.randint(0,10)) # 0~10 사이 랜덤수 출력\n",
    "print(random.randint(1, 3))"
   ]
  },
  {
   "cell_type": "markdown",
   "metadata": {},
   "source": [
    "### 2) 반복문 while\n",
    "\n",
    "* 문법이 단순함\n",
    "* 조건식이 참일 때 문장 반복. 조건식이 거짓이 되는 순간 반복 종료\n",
    "* 주의할 점\n",
    "    * 무한반복이 이뤄지면 안 됨\n",
    "    * 반복 횟수를 틀리면 안 됨\n",
    "* 초기화, 조건식, 카운터를 주의할 것\n",
    "* 형식\n",
    "    while 조건식 :\n",
    "        문장"
   ]
  },
  {
   "cell_type": "code",
   "execution_count": 39,
   "metadata": {},
   "outputs": [
    {
     "name": "stdout",
     "output_type": "stream",
     "text": [
      "**********\n",
      "**********\n",
      "**********"
     ]
    }
   ],
   "source": [
    "# 화면에 *을 10개 출력\n",
    "\n",
    "print('**********')\n",
    "print('*' * 10)\n",
    "\n",
    "cnt = 0    # 초기화\n",
    "while cnt < 10 :    # 반복 수\n",
    "    print('*', end = '')      # 조건문 / 줄바꿈이 디폴트이므로 end=''를 통해 지움\n",
    "    cnt += 1                  # end는 조건 뒤에 무엇을 넣을 것인가를 설정"
   ]
  },
  {
   "cell_type": "code",
   "execution_count": 1,
   "metadata": {},
   "outputs": [
    {
     "name": "stdout",
     "output_type": "stream",
     "text": [
      "결과 : 55\n"
     ]
    }
   ],
   "source": [
    "# 1~10까지의 합계\n",
    "\n",
    "hap = 0\n",
    "i = 0\n",
    "while i <= 10 :\n",
    "    hap += i\n",
    "    i += 1\n",
    "print('결과 :', hap)"
   ]
  },
  {
   "cell_type": "code",
   "execution_count": 3,
   "metadata": {},
   "outputs": [
    {
     "name": "stdout",
     "output_type": "stream",
     "text": [
      "결과 : 1024\n"
     ]
    }
   ],
   "source": [
    "# 2의 10제곱을 구하라\n",
    "\n",
    "i = 0\n",
    "hap = 1\n",
    "while i < 10 :\n",
    "    hap *= 2\n",
    "    i+= 1\n",
    "print('결과 :', hap)"
   ]
  },
  {
   "cell_type": "markdown",
   "metadata": {},
   "source": [
    "### 2) 반복문 for\n",
    "\n",
    "* 반복횟수 지정 안 함 - 집합자료형 데이터 수만큼 반복\n",
    "* 형식\n",
    "\n",
    "    for 변수 in 집합자료형 :\n",
    "        문장"
   ]
  },
  {
   "cell_type": "code",
   "execution_count": 5,
   "metadata": {},
   "outputs": [
    {
     "name": "stdout",
     "output_type": "stream",
     "text": [
      "10\n",
      "20\n",
      "홍길동\n",
      "3.14\n",
      "True\n",
      "\n",
      "-------------------------------------------------------------------------------------\n",
      "\n",
      "10\n",
      "20\n",
      "홍길동\n",
      "3.14\n",
      "True\n"
     ]
    }
   ],
   "source": [
    "data1 = [10, 20, '홍길동', 3.14, True]\n",
    "\n",
    "v = 0\n",
    "while v < len(data1) :\n",
    "    print(data1[v])\n",
    "    v += 1\n",
    "\n",
    "print('\\n' + '-' * 85 + '\\n')\n",
    "    \n",
    "for i in data1 :\n",
    "    print(i)"
   ]
  },
  {
   "cell_type": "code",
   "execution_count": 11,
   "metadata": {},
   "outputs": [
    {
     "name": "stdout",
     "output_type": "stream",
     "text": [
      "**********"
     ]
    }
   ],
   "source": [
    "# for문을 이용한 '*' 10개 출력\n",
    "\n",
    "\n",
    "for i in range(1, 11) :\n",
    "    print('*', end = '')"
   ]
  },
  {
   "cell_type": "markdown",
   "metadata": {},
   "source": [
    "##### 반복문 강제 종료\n",
    "\n",
    "* break : 완전 종료\n",
    "* continue : 일시 종료\n"
   ]
  },
  {
   "cell_type": "code",
   "execution_count": 13,
   "metadata": {},
   "outputs": [
    {
     "name": "stdout",
     "output_type": "stream",
     "text": [
      "0\n",
      "1\n",
      "2\n",
      "3\n",
      "4\n",
      "0\n",
      "1\n",
      "2\n",
      "3\n",
      "4\n",
      "6\n",
      "7\n",
      "8\n",
      "9\n"
     ]
    }
   ],
   "source": [
    "for v in range(10) :\n",
    "    if v == 5 :\n",
    "        break            # v 가 5일 경우 반복문 종료. 5일 때 출력 안 함\n",
    "        \n",
    "    print(v)\n",
    "    \n",
    "print('\\n' + '-' * 85 + '\\n')\n",
    "\n",
    "for v in range(10) :\n",
    "    if v == 5 :\n",
    "        continue          # 일시 중단. 5 제외 모두 출력\n",
    "        \n",
    "    print(v)"
   ]
  },
  {
   "cell_type": "markdown",
   "metadata": {},
   "source": [
    "### 반복문 중첩"
   ]
  },
  {
   "cell_type": "code",
   "execution_count": 14,
   "metadata": {},
   "outputs": [
    {
     "name": "stdout",
     "output_type": "stream",
     "text": [
      "**********\n",
      "**********\n",
      "**********\n"
     ]
    }
   ],
   "source": [
    "for v1 in range(3) :\n",
    "    for v2 in range(10) :\n",
    "        print('*', end = '')\n",
    "    print()"
   ]
  },
  {
   "cell_type": "markdown",
   "metadata": {},
   "source": [
    "###### *로 직각삼각형 만들기"
   ]
  },
  {
   "cell_type": "code",
   "execution_count": 89,
   "metadata": {},
   "outputs": [
    {
     "name": "stdout",
     "output_type": "stream",
     "text": [
      "*\n",
      "**\n",
      "***\n",
      "****\n",
      "*****\n"
     ]
    }
   ],
   "source": [
    "for v1 in range(5) :\n",
    "    for v2 in range(v1+1) :\n",
    "        print('*', end = '')\n",
    "    print()"
   ]
  },
  {
   "cell_type": "markdown",
   "metadata": {},
   "source": [
    "##### 실행파일 만들기\n",
    "\n",
    "* pyinstaller, py2exe ...\n",
    "* pip : 프로그램 실행, 설치, 삭제 관리\n",
    "* cmd에서 pip install pyinstaller 입력 : pyinstaller 설치\n",
    "* https://media.readthedocs.org/pdf/pyinstaller/cross-compiling/pyinstaller.pdf\n",
    "* pyinstaller -F app.py : .py 파일을 실행파일로 변경\n",
    "* dist 파일 - .exe : 실행파일 생성됨\n"
   ]
  }
 ],
 "metadata": {
  "kernelspec": {
   "display_name": "Python 3",
   "language": "python",
   "name": "python3"
  },
  "language_info": {
   "codemirror_mode": {
    "name": "ipython",
    "version": 3
   },
   "file_extension": ".py",
   "mimetype": "text/x-python",
   "name": "python",
   "nbconvert_exporter": "python",
   "pygments_lexer": "ipython3",
   "version": "3.8.3"
  }
 },
 "nbformat": 4,
 "nbformat_minor": 4
}
