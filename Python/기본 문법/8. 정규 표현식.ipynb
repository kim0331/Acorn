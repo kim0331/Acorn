{
 "cells": [
  {
   "cell_type": "markdown",
   "metadata": {},
   "source": [
    "## Regular Expression\n",
    "\n",
    "* https://docs.python.org/3/library/re.html\n",
    "\n",
    "* 반복<br>\n",
    "    1) * : 0회 이상 반복 \n",
    "        ex) ab* : a, ab, abb, abbb, ...\n",
    "        ex) lo* l : ll, lol, lool, loool, ...\n",
    "        \n",
    "    2) + : 1회 이상 반복\n",
    "        ex) ab+ : ab, abb, abbb, abbbb, ...\n",
    "        \n",
    "    3) ? : 0 또는 1회\n",
    "        ex) ab? : a, ab\n",
    "        \n",
    "    4) {m} : m회 반복\n",
    "        ex) a{3}bc : aaabc\n",
    "        \n",
    "    5) {m, n} : m회부터 n회까지 반복\n",
    "        ex) a{2, 3}bc : aabc, aaabc\n",
    "        \n",
    "* 매칭 메타문자<br>\n",
    "        1) . : 줄바꿈 문자를 제외한 모든 문자와 매치\n",
    "            ex) a.b : aab, abb, acb, adb, ...\n",
    "        \n",
    "        2) ^ : 문자열의 시작과 매치\n",
    "            ex) ^a : a로 시작하는 걸 다 찾을 수 있음. a, ab, abc, ...\n",
    "        \n",
    "        3) $ : 문자열의 마지막과 매치\n",
    "      ex) a$ : a로 끝나야 함. zbda, ccca, dba, ...\n",
    "        \n",
    "        4) [ ] : 문자 집합 중 한 문자를 매치\n",
    "            ex) [abc]xyz : axyz, bxyz, cxyz\n",
    "            ex) [a-z]bc : 범위로 지정 가능. abc, bbc, cbc, dbc, ... \n",
    "            ex) [a-zA-Z]hello : ahello, Ahello ....\n",
    "            ex) [a-zA-Z0-9]hello : ahello, Ahello, 0hello, 1hello ....\n",
    "            ex) [a | b]hello : ahello, bhello\n",
    "            ex) a[.]b : a.b\n",
    "            ex) [a^bc]hello : ahello, chello\n",
    "        \n",
    "* 특수문자(\\문자) <br>\n",
    "    1) \\d : 모든 숫자와 매치\n",
    "        ex) ab\\dc : ab0c, ab1c, ab2c, ...\n",
    "        ex) ab\\d\\dc : ab00c, ab01c, ab11c, ...\n",
    "            = ab[0-9][0-9]c\n",
    "        \n",
    "    2) \\D : 숫자가 아닌 문자와 매치\n",
    "        ex) ab\\Dc : abac, abbc, abcc, ...\n",
    "        \n",
    "    3) \\s : 공백과 매치\n",
    "        ex) ab\\sc : ab c\n",
    "        ex) ab\\s\\sc : ab  c\n",
    "    \n",
    "    4) \\S : 공백이 아닌 모든 것과 매치\n",
    "        ex) ab\\Sc : ab0c, ab1c, abac, abbc, ...\n",
    "        \n",
    "    5) \\w : 숫자 또는 문자와 매치\n",
    "        ex) ab\\wc : abac, abAc, ab0c, ...\n",
    "            = [a-zA-Z0-9]hello : ahello, Ahello, 0hello, 1hello ....\n",
    "            \n",
    "    6) \\W : 숫자 또는 문자가 아닌 모든 문자(=특수문자)와 매치\n",
    "\n",
    "* 파이썬에서 제공하는 객체 또는 메서드(p.298~)\n",
    "    * compile() : 정규 표현식 객체 생성\n",
    "    * match() : 문자열의 처음부터 정규식과 매치되는지 조사\n",
    "    * search() : 문자열 전체를 검색하여 정규식과 매치되는지 조사\n",
    "    * split() : 문자열 분리\n",
    "    * findall() : 정규식과 매치되는 모든 문자열을 리스트로 리턴\n",
    "    * finditer() : 정규식과 매치되는 모든 문자열을 반복가능한 객체로 리턴\n",
    "    * sub() : 변경, 교체\n",
    "    ..."
   ]
  },
  {
   "cell_type": "code",
   "execution_count": 3,
   "metadata": {},
   "outputs": [
    {
     "name": "stdout",
     "output_type": "stream",
     "text": [
      "<re.Match object; span=(0, 15), match='3 abc diadjlaj;'>\n",
      "True\n",
      "None\n",
      "False\n"
     ]
    }
   ],
   "source": [
    "import re\n",
    "\n",
    "# 객체 생성\n",
    "\n",
    "p = re.compile('[0-9] [a-z]+ .+') # 공백도 문자임. 공백도 매칭되어야 함\n",
    "## p : 0-9까지 수 중 한 개, a-z 중 1개 이상, 모든 문자 중 1개 이상\n",
    "\n",
    "print(p.match('3 abc diadjlaj;'))  # 값이 있다.\n",
    "print(bool(p.match('3 abc diadjlaj;')))  # bool값으로 출력\n",
    "\n",
    "print(p.match('abc 10 asldfjal;')) # 값이 없다. none\n",
    "print(bool(p.match('abc 10 asldfjal;'))) # bool값으로 출력"
   ]
  },
  {
   "cell_type": "code",
   "execution_count": 7,
   "metadata": {},
   "outputs": [
    {
     "name": "stdout",
     "output_type": "stream",
     "text": [
      "True\n",
      "False\n",
      "True\n"
     ]
    }
   ],
   "source": [
    "# 객체를 생성하지 않고 함수 사용 : re.match('패턴', '데이터')\n",
    "\n",
    "print(bool(re.match('[0-9]*th', '35th')))\n",
    "print(bool(re.match('[0-9]*th', '     35th'))) # 완전히 같아야 함\n",
    "print(bool(re.search('[0-9]*th', '     35th')))  # 해당 문자가 포함돼있으면 T"
   ]
  },
  {
   "cell_type": "code",
   "execution_count": 19,
   "metadata": {},
   "outputs": [
    {
     "name": "stdout",
     "output_type": "stream",
     "text": [
      "True\n",
      "True\n",
      "False\n"
     ]
    }
   ],
   "source": [
    "# 010-222-3333 형태의 전화번호를 검색할 수 있도록\n",
    "\n",
    "import re\n",
    "\n",
    "phone = re.compile('010-[0-9]{3, 4}-[0-9]{4}')\n",
    "print(bool(re.match('010-[0-9]{4}-[0-9]{4}','010-5196-4232')))\n",
    "print(bool(phone.match('010-3332-4223')))\n",
    "print(bool(phone.match('011-2311-3131')))"
   ]
  },
  {
   "cell_type": "code",
   "execution_count": 18,
   "metadata": {},
   "outputs": [
    {
     "name": "stdout",
     "output_type": "stream",
     "text": [
      "['life', 'is', 'too', 'short']\n",
      "<callable_iterator object at 0x000001B910FD2988>\n",
      "<re.Match object; span=(0, 4), match='life'>\n",
      "<re.Match object; span=(9, 11), match='is'>\n",
      "<re.Match object; span=(16, 19), match='too'>\n",
      "<re.Match object; span=(23, 28), match='short'>\n"
     ]
    }
   ],
   "source": [
    "p = re.compile('[a-z]+')\n",
    "\n",
    "m = p.findall('life 333 is 222 too 10 short')\n",
    "print(m)\n",
    "\n",
    "m1 = p.finditer('life 333 is 222 too 10 short')\n",
    "print(m1)\n",
    "\n",
    "for i in m1 :\n",
    "    print(i)"
   ]
  },
  {
   "cell_type": "code",
   "execution_count": 20,
   "metadata": {},
   "outputs": [
    {
     "name": "stdout",
     "output_type": "stream",
     "text": [
      "['1', '2', '3', '4', '5', '5', '5', '6']\n",
      "['1234', '555', '6']\n",
      "['12', '34', '55']\n",
      "['123', '555']\n"
     ]
    }
   ],
   "source": [
    "data = '1234 abc가나다ABC_555_6'\n",
    "\n",
    "print(re.findall('[0-9]', data))\n",
    "print(re.findall('[0-9]+', data))\n",
    "print(re.findall('[0-9]{2}', data))\n",
    "print(re.findall('[0-9]{2,3}', data))"
   ]
  },
  {
   "cell_type": "code",
   "execution_count": 36,
   "metadata": {},
   "outputs": [
    {
     "name": "stdout",
     "output_type": "stream",
     "text": [
      "['abc', 'mbc']\n",
      "['1']\n",
      "['234 abc가나다ABC_555_6 mbc air air']\n",
      "['abc', 'air', 'air']\n",
      "['air']\n",
      "[]\n",
      "['air']\n"
     ]
    }
   ],
   "source": [
    "data = '1234 abc가나다ABC_555_6 mbc air air'\n",
    "data1 = '1234 abc가나다ABC_555_6 mbc air air lsinlkalnsg'\n",
    "data2 = '1234 abc가나다ABC_555_6 mbc air aginair'\n",
    "\n",
    "print(re.findall('.bc', data))\n",
    "print(re.findall('^1+', data))\n",
    "print(re.findall('[^1]+', data))\n",
    "print(re.findall('a..', data))\n",
    "print(re.findall('air$', data)) # data가 air로 끝나서 air 출력. 아니면 안 뜸.\n",
    "print(re.findall('air$', data1))\n",
    "print(re.findall('air$', data2))"
   ]
  },
  {
   "cell_type": "code",
   "execution_count": 31,
   "metadata": {},
   "outputs": [
    {
     "name": "stdout",
     "output_type": "stream",
     "text": [
      "['8', '0', '1', '0', '0', '5', '0']\n",
      "['80', '10', '50']\n",
      "['100']\n"
     ]
    }
   ],
   "source": [
    "data = 'tom 80, james 100, oscar 50'\n",
    "\n",
    "print(re.findall('\\d', data))  # [0-9] = \\d\n",
    "print(re.findall('\\d\\d', data)) # [0-9]{2}, \\d{2}\n",
    "print(re.findall('\\d\\d\\d', data)) #[0-9]{3}, \\d{3}"
   ]
  },
  {
   "cell_type": "code",
   "execution_count": 44,
   "metadata": {},
   "outputs": [
    {
     "name": "stdout",
     "output_type": "stream",
     "text": [
      "['mbc,kbs', 'sbs:ytn']\n",
      "['mbc', 'kbs sbs:ytn']\n",
      "['mbc', 'kbs', 'sbs', 'ytn']\n",
      "['mbc', 'kbs', 'sbs', 'ytn']\n"
     ]
    }
   ],
   "source": [
    "# split() : 디폴트가 공백. 기준을 하나만 둘 수 있음\n",
    "\n",
    "print('mbc,kbs sbs:ytn'.split())\n",
    "print('mbc,kbs sbs:ytn'.split(','))\n",
    "print(re.split('\\W+', 'mbc,kbs sbs:ytn'))\n",
    "print(re.split(',|:| ', 'mbc,kbs sbs:ytn'))"
   ]
  },
  {
   "cell_type": "code",
   "execution_count": 10,
   "metadata": {},
   "outputs": [
    {
     "name": "stdout",
     "output_type": "stream",
     "text": [
      "<class 'str'>\n",
      "888 abc가나다ABC_888\n"
     ]
    }
   ],
   "source": [
    "# sub()\n",
    "\n",
    "m = re.sub('[0-9]+', '888', '1234 abc가나다ABC_567')\n",
    "\n",
    "print(m)"
   ]
  },
  {
   "cell_type": "code",
   "execution_count": 14,
   "metadata": {},
   "outputs": [
    {
     "name": "stdout",
     "output_type": "stream",
     "text": [
      "<class 'str'>\n",
      "mbc,kbs,sbs,ytn\n"
     ]
    }
   ],
   "source": [
    "# 'mbc,kbs sbs:ytn'의 구분 기호를 ','로 통일하시오\n",
    "\n",
    "d = re.sub('\\W+', ',', 'mbc,kbs sbs:ytn')\n",
    "print(type(d))\n",
    "\n",
    "print(d)"
   ]
  },
  {
   "cell_type": "code",
   "execution_count": 5,
   "metadata": {},
   "outputs": [
    {
     "name": "stdout",
     "output_type": "stream",
     "text": [
      "<re.Match object; span=(0, 6), match='python'>\n",
      "python\n",
      "0 6\n",
      "(0, 6)\n"
     ]
    }
   ],
   "source": [
    "# match 객체의 메서드 => 중복된 데이터는 거를 수 있음.\n",
    "# findall을 사용해서 중복값도 출력하게 만듦.\n",
    "\n",
    "p = re.compile('[a-z]+')\n",
    "\n",
    "m = p.match('python 123 !? python')\n",
    "print(m)\n",
    "print(m.group()) # 매치된 데이터 출력\n",
    "print(m.start(), m.end()) # 매치된 문자열의 시작위치, 끝위치 출력\n",
    "print(m.span()) # 시작, 끝위치를 튜플로 출력"
   ]
  },
  {
   "cell_type": "code",
   "execution_count": 9,
   "metadata": {},
   "outputs": [
    {
     "name": "stdout",
     "output_type": "stream",
     "text": [
      "<re.Match object; span=(7, 13), match='python'>\n",
      "python\n",
      "7 13\n",
      "(7, 13)\n",
      "------------------------------------\n",
      "None\n"
     ]
    },
    {
     "ename": "AttributeError",
     "evalue": "'NoneType' object has no attribute 'group'",
     "output_type": "error",
     "traceback": [
      "\u001b[1;31m---------------------------------------------------------------------------\u001b[0m",
      "\u001b[1;31mAttributeError\u001b[0m                            Traceback (most recent call last)",
      "\u001b[1;32m<ipython-input-9-ccd0afc56ae8>\u001b[0m in \u001b[0;36m<module>\u001b[1;34m\u001b[0m\n\u001b[0;32m     13\u001b[0m \u001b[0mm1\u001b[0m \u001b[1;33m=\u001b[0m \u001b[0mp\u001b[0m\u001b[1;33m.\u001b[0m\u001b[0mmatch\u001b[0m\u001b[1;33m(\u001b[0m\u001b[1;34m'123 !? python'\u001b[0m\u001b[1;33m)\u001b[0m\u001b[1;33m\u001b[0m\u001b[1;33m\u001b[0m\u001b[0m\n\u001b[0;32m     14\u001b[0m \u001b[0mprint\u001b[0m\u001b[1;33m(\u001b[0m\u001b[0mm1\u001b[0m\u001b[1;33m)\u001b[0m\u001b[1;33m\u001b[0m\u001b[1;33m\u001b[0m\u001b[0m\n\u001b[1;32m---> 15\u001b[1;33m \u001b[0mprint\u001b[0m\u001b[1;33m(\u001b[0m\u001b[0mm1\u001b[0m\u001b[1;33m.\u001b[0m\u001b[0mgroup\u001b[0m\u001b[1;33m(\u001b[0m\u001b[1;33m)\u001b[0m\u001b[1;33m)\u001b[0m\u001b[1;33m\u001b[0m\u001b[1;33m\u001b[0m\u001b[0m\n\u001b[0m\u001b[0;32m     16\u001b[0m \u001b[0mprint\u001b[0m\u001b[1;33m(\u001b[0m\u001b[0mm1\u001b[0m\u001b[1;33m.\u001b[0m\u001b[0mstart\u001b[0m\u001b[1;33m(\u001b[0m\u001b[1;33m)\u001b[0m\u001b[1;33m,\u001b[0m \u001b[0mm1\u001b[0m\u001b[1;33m.\u001b[0m\u001b[0mend\u001b[0m\u001b[1;33m(\u001b[0m\u001b[1;33m)\u001b[0m\u001b[1;33m)\u001b[0m\u001b[1;33m\u001b[0m\u001b[1;33m\u001b[0m\u001b[0m\n\u001b[0;32m     17\u001b[0m \u001b[0mprint\u001b[0m\u001b[1;33m(\u001b[0m\u001b[0mm1\u001b[0m\u001b[1;33m.\u001b[0m\u001b[0mspan\u001b[0m\u001b[1;33m(\u001b[0m\u001b[1;33m)\u001b[0m\u001b[1;33m)\u001b[0m\u001b[1;33m\u001b[0m\u001b[1;33m\u001b[0m\u001b[0m\n",
      "\u001b[1;31mAttributeError\u001b[0m: 'NoneType' object has no attribute 'group'"
     ]
    }
   ],
   "source": [
    "# search 객체의 메서드\n",
    "## search는 데이터 전체에서 찾기 때문에 처음부터 매칭이 안 돼도 실행됨\n",
    "\n",
    "p = re.compile('[a-z]+')\n",
    "\n",
    "s = p.search('123 !? python') \n",
    "print(s)\n",
    "print(s.group())\n",
    "print(s.start(), s.end())\n",
    "print(s.span())\n",
    "\n",
    "print('------------------------------------')\n",
    "\n",
    "m1 = p.match('123 !? python')\n",
    "print(m1)\n",
    "print(m1.group()) # match는 처음부터 찾기 때문에 매칭되지 않으면 에러.\n",
    "print(m1.start(), m1.end())\n",
    "print(m1.span())"
   ]
  },
  {
   "cell_type": "code",
   "execution_count": 16,
   "metadata": {},
   "outputs": [
    {
     "name": "stdout",
     "output_type": "stream",
     "text": [
      "<re.Match object; span=(0, 3), match='a+b'>\n",
      "None\n",
      "<re.Match object; span=(0, 3), match='a\\nb'>\n"
     ]
    }
   ],
   "source": [
    "# 컴파일 옵션 : S(= DOTALL), I(= IGNORECASE), M(= MULTILINE)\n",
    "## S(= DOTALL) : 줄바꿈(\\n)도 매치되게 하기 위한 옵션\n",
    "\n",
    "p = re.compile('a.b')\n",
    "m1 = p.match('a+b')\n",
    "print(m1)\n",
    "\n",
    "m2 = p.match('a\\nb')\n",
    "print(m2)\n",
    "\n",
    "s = re.compile('a.b', re.S)\n",
    "m3 = s.match('a\\nb')\n",
    "print(m3)"
   ]
  },
  {
   "cell_type": "code",
   "execution_count": 20,
   "metadata": {},
   "outputs": [
    {
     "name": "stdout",
     "output_type": "stream",
     "text": [
      "<re.Match object; span=(0, 1), match='p'>\n",
      "None\n",
      "<re.Match object; span=(0, 1), match='p'>\n",
      "<re.Match object; span=(0, 1), match='P'>\n"
     ]
    }
   ],
   "source": [
    "## I(= IGNORECASE) : 대소문자 구별 없이 매치\n",
    "\n",
    "p = re.compile('[a-z]')\n",
    "print(p.match('python'))\n",
    "print(p.match('Python')) # 대문자일 경우 찾을 수 없음\n",
    "\n",
    "s = re.compile('[a-z]', re.I)\n",
    "print(s.match('python'))\n",
    "print(s.match('Python'))"
   ]
  },
  {
   "cell_type": "code",
   "execution_count": 29,
   "metadata": {},
   "outputs": [
    {
     "name": "stdout",
     "output_type": "stream",
     "text": [
      "['python one', 'python two', 'python three']\n",
      "['python one', 'python two', 'Python three']\n"
     ]
    }
   ],
   "source": [
    "## M(= MULTILINE) : 여러 줄에 적용\n",
    "\n",
    "data = '''python one\n",
    "life is too short\n",
    "python two\n",
    "you need python\n",
    "python three\n",
    "'''\n",
    "\n",
    "p = re.compile('^python\\s\\w+', re.M)\n",
    "print(p.findall(data))\n",
    "\n",
    "data2 = '''python one\n",
    "life is too short\n",
    "python two\n",
    "you need python\n",
    "Python three\n",
    "'''\n",
    "\n",
    "p2 = re.compile('^[p|P]ython\\s\\w+', re.M)\n",
    "print(p2.findall(data2))"
   ]
  },
  {
   "cell_type": "code",
   "execution_count": 42,
   "metadata": {},
   "outputs": [
    {
     "name": "stdout",
     "output_type": "stream",
     "text": [
      "['\"abc1.html\"', '\"abc2.html\"', '\"abc3.html\"']\n"
     ]
    }
   ],
   "source": [
    "data = '''\n",
    "<a href=\"abc1.html\">abc1</a>\n",
    "<a href=\"abc2.html\">abc2</a>\n",
    "<a href=\"abc3.html\">abc3</a>\n",
    "'''\n",
    "\n",
    "# [\"abc1.html\", \"abc2.html\", \"abc3.html\"] 출력\n",
    "\n",
    "p = re.compile('href=(\".+\")')\n",
    "print(p.findall(data))"
   ]
  },
  {
   "cell_type": "code",
   "execution_count": null,
   "metadata": {},
   "outputs": [],
   "source": []
  }
 ],
 "metadata": {
  "kernelspec": {
   "display_name": "Python 3",
   "language": "python",
   "name": "python3"
  },
  "language_info": {
   "codemirror_mode": {
    "name": "ipython",
    "version": 3
   },
   "file_extension": ".py",
   "mimetype": "text/x-python",
   "name": "python",
   "nbconvert_exporter": "python",
   "pygments_lexer": "ipython3",
   "version": "3.7.6"
  }
 },
 "nbformat": 4,
 "nbformat_minor": 4
}
