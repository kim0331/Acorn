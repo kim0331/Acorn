{
 "cells": [
  {
   "cell_type": "markdown",
   "metadata": {},
   "source": [
    "## 클래스\n",
    "\n",
    "### 1. 클래스의 특징\n",
    "\n",
    "* 묶음(block) : 변수와 함수를 묶어주는 단위\n",
    "    * 변수 -> 클래스 내에서는 멤버 변수라고 지칭 / 외부에서는 속성이라 지칭\n",
    "    * 함수 -> 멤버 함수 / 메서드\n",
    "\n",
    "* 설계도(추상적) -> 구현 : 객체, 인스턴스\n",
    "\n",
    "* . 접근 연산자 사용\n",
    "\n",
    "* 사용자 정의 자료형\n",
    "\n",
    "* 객체의 조건\n",
    "    * 상속성(inheritance) - 재사용 가능 : 비용, 시간 절약 가능\n",
    "    * 다형성(polymorphism)\n",
    "    * 캡슐화(encapsulation)\n",
    "\n",
    "* 객체 설계 원칙 (SOLID)\n",
    "\n",
    "* UML \n",
    "\n",
    "\n",
    "### 2. 클래스 작성 방법\n",
    "\n",
    "* 형식 1\n",
    "        class 이름 :\n",
    "            변수\n",
    "            함수\n",
    "            \n",
    "* 형식 2\n",
    "        class 이름(...) :\n",
    "            변수\n",
    "            함수"
   ]
  },
  {
   "cell_type": "code",
   "execution_count": null,
   "metadata": {},
   "outputs": [],
   "source": [
    "# 암묵적 관례 : 함수 - 소문자, 클래스 - 대문자로 사용\n",
    "\n",
    "class Test :\n",
    "    a = 10      # 아직 만들어진 것이 아님\n",
    "    \n",
    "Test()    # 객체 생성. 실제로 메모리에 할당\n",
    "print(Test().a)     # 객체가 생성됐기 때문에 Test() 안에 있는 a 출력 가능"
   ]
  },
  {
   "cell_type": "code",
   "execution_count": null,
   "metadata": {},
   "outputs": [],
   "source": [
    "Test().a = 100\n",
    "print(Test().a)     # 결국 a라는 다른 객체가 총 3개가 만들어짐.\n",
    "                    # 원래 a =10인 객체 a를 찾아갈 수 있는가? No\n",
    "                    # 주소를 저장하지 않았기 때문에 불가능\n",
    "        \n",
    "        \n",
    "print('\\n-----------------------------------------------------------------\\n')\n",
    "\n",
    "ob1 = Test()\n",
    "print(ob1.a)\n",
    "ob1.a = 100\n",
    "print(ob1.a)        # 변수에 주소를 꼭 저장해야 한다."
   ]
  },
  {
   "cell_type": "code",
   "execution_count": null,
   "metadata": {},
   "outputs": [],
   "source": [
    "class Test :\n",
    "    a = 10\n",
    "    \n",
    "    def display(self) :            # 클래스 안 함수는 무조건 self 지정\n",
    "        print('Test 클래스 :', self.a)\n",
    "        \n",
    "\n",
    "# display() 해도 출력 안 됨. display()는 Test에 소속되어있음.\n",
    "\n",
    "ob1 = Test()\n",
    "print(ob1.a)\n",
    "ob1.a = 100\n",
    "print(ob1.a)\n",
    "\n",
    "ob1.display()"
   ]
  },
  {
   "cell_type": "code",
   "execution_count": null,
   "metadata": {},
   "outputs": [],
   "source": [
    "ob2 = Test()  # 새로운 객체 ob2 생성\n",
    "\n",
    "print(ob2.a)"
   ]
  },
  {
   "cell_type": "code",
   "execution_count": null,
   "metadata": {},
   "outputs": [],
   "source": [
    "# 사용자 정의 함수\n",
    "\n",
    "print(type(ob2))     # class - Test 형\n",
    "\n",
    "a = 10\n",
    "print(type(a))       # class - int 형\n",
    "\n",
    "a = 'abcd'\n",
    "print(type(a))      # class - str 형"
   ]
  },
  {
   "cell_type": "code",
   "execution_count": null,
   "metadata": {},
   "outputs": [],
   "source": [
    "print(type(ob1))    # class : 하나의 자료형이기도 함"
   ]
  },
  {
   "cell_type": "code",
   "execution_count": 22,
   "metadata": {},
   "outputs": [
    {
     "name": "stdout",
     "output_type": "stream",
     "text": [
      "국적 : 한국\n",
      "이름 : 홍길동\n",
      "나이 : 20\n",
      "신장 : 170\n",
      "취미 : ['독서', '여행']\n",
      "--------------------------\n",
      "국적 : 프랑스\n",
      "이름 : 임꺽정\n",
      "나이 : 25\n",
      "신장 : 175\n",
      "취미 : ['독서', '여행', '우표수집']\n",
      "--------------------------\n",
      "국적 : 독일\n",
      "이름 : 신돌석\n",
      "나이 : 24\n",
      "신장 : 174\n",
      "취미 : ['낚시']\n",
      "--------------------------\n"
     ]
    }
   ],
   "source": [
    "# 사용자 정의 자료형\n",
    "\n",
    "## Q. 사용자 국적, 이름, 나이, 신장, 취미를 묶어서 저장하고 싶을 때\n",
    "## list에 저장하는 건 하나로 묶어서 저장하는 것이 아님. 일반적인 데이터 형식을 사용.\n",
    "\n",
    "class Person :                    # Person이라는 자료형 생성\n",
    "    nation = '한국'               # default = 한국\n",
    "    name = str()                  # 초기화 작업\n",
    "    age = int()\n",
    "    height = float()\n",
    "    hobby = []                    # 여러 개가 있을 수 있으니까 list로\n",
    "    \n",
    "    def display(self) :\n",
    "        print('국적 :', self.nation)\n",
    "        print('이름 :', self.name)\n",
    "        print('나이 :', self.age)\n",
    "        print('신장 :', self.height)\n",
    "        print('취미 :', self.hobby)\n",
    "        \n",
    "        print('--------------------------')\n",
    "        \n",
    "\n",
    "p1 = Person()    \n",
    "p1.nation = '한국'\n",
    "p1.name = '홍길동'\n",
    "p1.age = 20\n",
    "p1.height = 170\n",
    "p1.hobby = ['독서', '여행']\n",
    "\n",
    "p1.display()\n",
    "\n",
    "\n",
    "p2 = Person()    \n",
    "p2.nation = '프랑스'\n",
    "p2.name = '임꺽정'\n",
    "p2.age = 25\n",
    "p2.height = 175\n",
    "p2.hobby = ['독서', '여행', '우표수집']\n",
    "\n",
    "p2.display()\n",
    "\n",
    "p3 = Person()    \n",
    "p3.nation = '독일'\n",
    "p3.name = '신돌석'\n",
    "p3.age = 24\n",
    "p3.height = 174\n",
    "p3.hobby = ['낚시']\n",
    "\n",
    "p3.display()"
   ]
  },
  {
   "cell_type": "code",
   "execution_count": null,
   "metadata": {},
   "outputs": [],
   "source": [
    "print(type(p1))"
   ]
  },
  {
   "cell_type": "code",
   "execution_count": null,
   "metadata": {},
   "outputs": [],
   "source": [
    "# class에 출력 함수가 없을 경우\n",
    "## 따로 반복문을 만들어야 하기 때문에 불편하고 코드가 길어진다.\n",
    "\n",
    "class Person :                    \n",
    "    nation = '한국'               \n",
    "    name = str()                  \n",
    "    age = int()\n",
    "    height = float()\n",
    "    hobby = []                    \n",
    "    \n",
    "\n",
    "p1 = Person()    \n",
    "p1.nation = '한국'\n",
    "p1.name = '홍길동'\n",
    "p1.age = 20\n",
    "p1.height = 170\n",
    "p1.hobby = ['독서', '여행']\n",
    "\n",
    "p2 = Person()    \n",
    "p2.nation = '프랑스'\n",
    "p2.name = '임꺽정'\n",
    "p2.age = 25\n",
    "p2.height = 175\n",
    "p2.hobby = ['독서', '여행', '우표수집']\n",
    "\n",
    "p3 = Person()    \n",
    "p3.nation = '독일'\n",
    "p3.name = '신돌석'\n",
    "p3.age = 24\n",
    "p3.height = 174\n",
    "p3.hobby = ['낚시']\n",
    "\n",
    "data = [p1, p2, p3]\n",
    "\n",
    "for i in range(len(data)) :\n",
    "    print('국적 :', data[i].nation)             # nation : 멤버 변수 x 속성이 된다\n",
    "    print('이름 :', data[i].name)\n",
    "    print('나이 :', data[i].age)\n",
    "    print('신장 :', data[i].height)\n",
    "    print('취미 :', data[i].hobby)\n",
    "    print('--------------------------')"
   ]
  },
  {
   "cell_type": "markdown",
   "metadata": {},
   "source": [
    "### 3. 클래스 작성 문법\n",
    "\n",
    "* self\n",
    "    * 현재 사용 중인 객체의 주소를 저장하고 있는 참조 변수\n",
    "    * read only. 수정 불가. 읽을 수만 있음.\n",
    "\n",
    "* 생성자 메서드와 소멸자 메서드(p.199)\n",
    "    * 메서드의 한 종류 - 클래스에서만 사용 가능한 함수\n",
    "    * 생성자\n",
    "        * 용도 : 객체 생성\n",
    "        * 호출 시점 : 객체를 처음 생성할 때\n",
    "        * 한 번만 호출 가능 - 일회용.\n",
    "        * 모든 클래스에는 기본적으로 생성자를 가지고 있음 -> 값을 초기화하는 역할\n",
    "    * 소멸자\n",
    "        * 객체가 소멸할 때 호출됨\n",
    "        * heap이라는 메모리 해제 - close\n",
    "        * 메모리 해제 전 미처 하지 못한 걸 할 수 있게 해주는 역할\n",
    "        \n",
    "* static \n",
    "    * 동일한 공간을 모든 객체들이 공동으로 사용하는 메모리\n",
    "    * static 공간에 만들어지는 변수 = 클래스 변수(p.205)\n",
    "    \n",
    "* ' _ ', ' __ ' 의 의미\n",
    "    * _\n",
    "        * 기본 인터프리터(명령 프롬프트)에서 사용 : 최근 사용값 저장하고 불러오기\n",
    "        * 값을 무시\n",
    "        * 변수명과 함께 사용(접근 권한) : __ 와 함께 사용"
   ]
  },
  {
   "cell_type": "code",
   "execution_count": 82,
   "metadata": {},
   "outputs": [],
   "source": [
    "class Test1 :\n",
    "    a = int()           # 자료형 생략 가능 - setValue에서 생성되고 있음.\n",
    "    b = float()         # 자료형 생략 가능 - 정확성을 위해 지정한 것.\n",
    "    c = str()           # 자료형 생략 가능\n",
    "    \n",
    "    def show(self) :\n",
    "        print(self.a, self.b, self.c)\n",
    "        \n",
    "    def setValue(self, x, y, z) :\n",
    "        print('self의 주소 :', id(self))\n",
    "        self.a = x\n",
    "        self.b = y\n",
    "        self.c = z\n",
    "        "
   ]
  },
  {
   "cell_type": "code",
   "execution_count": 83,
   "metadata": {},
   "outputs": [
    {
     "name": "stdout",
     "output_type": "stream",
     "text": [
      "10 3.14 홍길동\n",
      "self의 주소 : 2056229013704\n",
      "20 3.4 임꺽정\n",
      "t1의 주소 : 2056229013704\n"
     ]
    }
   ],
   "source": [
    "t1 = Test1()\n",
    "t2 = Test1()\n",
    "t3 = Test1()\n",
    "\n",
    "t1.a = 10\n",
    "t1.b = 3.14\n",
    "t1.c = '홍길동'\n",
    "\n",
    "t1.show()\n",
    "\n",
    "t1.setValue(20, 3.4, '임꺽정')      # t1.a 등과 같음 - 간소화\n",
    "                                 # 4개의 인자 전달 - t1의 주소가 생략돼서 self로 전달\n",
    "t1.show()                        # t1의 주소값이 self로 전달되는 것.\n",
    "print('t1의 주소 :', id(t1))     # id() : 주소값 가져오기"
   ]
  },
  {
   "cell_type": "code",
   "execution_count": null,
   "metadata": {},
   "outputs": [],
   "source": [
    "# 생성자\n",
    "\n",
    "class Test2 :\n",
    "    a = int()\n",
    "    b = str()\n",
    "    \n",
    "    def __init__(self) :  # 딱히 작성할 코드가 없을 때 pass 사용 - 안 쓰면 에러 뜸\n",
    "        pass\n",
    "    \n",
    "    def show(self) :\n",
    "        print(self.a, self.b)\n",
    "\n",
    "\n",
    "t1 = Test2()\n",
    "t1.show()"
   ]
  },
  {
   "cell_type": "code",
   "execution_count": null,
   "metadata": {},
   "outputs": [],
   "source": [
    "# 함수는 호출해야 실행 - __init__는 호출을 안 했는데 실행?\n",
    "## Test()에서 호출이 됨\n",
    "## __init__ : 객체를 생성하는 생성자\n",
    "## => Test()를 호출했기 때문에 __init__도 호출된 것\n",
    "\n",
    "class Test2 :\n",
    "    a = int()\n",
    "    b = str()\n",
    "    \n",
    "    def __init__(self, argv=None) :\n",
    "        self.a = 10\n",
    "        self.b = '안녕하세요'\n",
    "        print('생성자 호출됨 :', argv)\n",
    "    \n",
    "    def show(self) :\n",
    "        print(self.a, self.b)\n",
    "\n",
    "\n",
    "t1 = Test2(15)\n",
    "t1.show()\n",
    "\n",
    "t2 = Test2()               # argv에 none값 디폴트로 넣으면 두 가지 방법 다 호출 가능\n",
    "t2.show()"
   ]
  },
  {
   "cell_type": "code",
   "execution_count": null,
   "metadata": {},
   "outputs": [],
   "source": [
    "class Test3 :\n",
    "    a = int()\n",
    "    b = str()\n",
    "      \n",
    "    def show(self) :\n",
    "        print(self.a, self.b)\n",
    "        \n",
    "    def setValue(self, a, b) :\n",
    "        self.a = a\n",
    "        self.b = b\n",
    "        \n",
    "    def __init__(self, a=None, b=None) :    # setValue를 사용하지 않아도 됨. 효율적.\n",
    "        self.a = a\n",
    "        self.b = b\n",
    "\n",
    "\n",
    "t1 = Test3()\n",
    "t1.a = 10\n",
    "t1.b = '안녕'\n",
    "t1.show()\n",
    "\n",
    "t1.setValue(20, 'hello')\n",
    "t1.show()\n",
    "\n",
    "t2 = Test3(30, 'hi')\n",
    "t2.show()"
   ]
  },
  {
   "cell_type": "code",
   "execution_count": null,
   "metadata": {},
   "outputs": [],
   "source": [
    "# 소멸자\n",
    "\n",
    "class Test2 :\n",
    "    a = int()\n",
    "    b = str()\n",
    "    \n",
    "    def __init__(self, argv=None) :\n",
    "        self.a = 10\n",
    "        self.b = '안녕하세요'\n",
    "        print('생성자 호출됨 :', argv)\n",
    "    \n",
    "    def __del__(self) :\n",
    "        print('소멸자 호출됨')\n",
    "    \n",
    "    def show(self) :\n",
    "        print(self.a, self.b)\n",
    "\n",
    "\n",
    "t1 = Test2(15)\n",
    "t1.show()\n",
    "\n",
    "t2 = Test2()\n",
    "t2.show()\n",
    "\n",
    "Test2()"
   ]
  },
  {
   "cell_type": "code",
   "execution_count": null,
   "metadata": {},
   "outputs": [],
   "source": [
    "# lastname : 객체가 생성돼야 만들어지는 변수\n",
    "# print(Family.lastname)이 출력되는 이유 : class는 static 공간을 가지고 있기 때문\n",
    "# class는 실행되면서 자기만의 공간을 가지고 있음 - static 공간\n",
    "\n",
    "class Family :\n",
    "    lastname = '김'\n",
    "    \n",
    "print(Family.lastname)\n",
    "\n",
    "v1 = Family()\n",
    "v2 = Family()\n",
    "\n",
    "Family.lastname = '박'\n",
    "\n",
    "print(v1.lastname, v2.lastname)\n",
    "\n",
    "v1.lastname = '이'\n",
    "\n",
    "print(v1.lastname, v2.lastname)"
   ]
  },
  {
   "cell_type": "code",
   "execution_count": 2,
   "metadata": {},
   "outputs": [
    {
     "name": "stdout",
     "output_type": "stream",
     "text": [
      "객체의 수 : 1\n",
      "객체의 수 : 1\n",
      "객체의 수 : 1\n"
     ]
    }
   ],
   "source": [
    "class Counter :\n",
    "    m_cnt = 0          # 객체가 몇 개인지 셀 변수 선언\n",
    "    \n",
    "    def __init__(self) :\n",
    "        self.m_cnt += 1      # 객체가 만들어질 때 각각의 m_cnt 생성\n",
    "        \n",
    "    def printCount(self) :\n",
    "        print('객체의 수 :', self.m_cnt)\n",
    "        \n",
    "        \n",
    "a, b, c = Counter(), Counter(), Counter()\n",
    "\n",
    "a.printCount()            # 각자의 공간에 객체 1개씩 생성됨\n",
    "b.printCount()\n",
    "c.printCount()            # 객체의 총 개수를 셀 수 없다"
   ]
  },
  {
   "cell_type": "code",
   "execution_count": 4,
   "metadata": {},
   "outputs": [
    {
     "name": "stdout",
     "output_type": "stream",
     "text": [
      "객체의 수 : 1\n",
      "객체의 수 : 1\n",
      "객체의 수 : 1\n"
     ]
    }
   ],
   "source": [
    "a, b, c = Counter(), Counter(), Counter()\n",
    "\n",
    "a.printCount()            # 각자의 공간에 객체 1개씩 생성됨\n",
    "b.printCount()\n",
    "c.printCount()"
   ]
  },
  {
   "cell_type": "code",
   "execution_count": 2,
   "metadata": {},
   "outputs": [
    {
     "name": "stdout",
     "output_type": "stream",
     "text": [
      "객체의 수 : 3\n",
      "객체의 수 : 3\n",
      "객체의 수 : 3\n"
     ]
    }
   ],
   "source": [
    "## 객체의 총 개수를 알아내려면 static 공간을 써야 한다는 것.\n",
    "### static 공간은 따로 주석을 달아서 관리해야 함 - 코드가 지저분해지는 것을 방지\n",
    "\n",
    "class Counter :\n",
    "    m_cnt = 0\n",
    "    \n",
    "    def __init__(self) :\n",
    "        Counter.m_cnt += 1          # 각자의 공간이 아니라 원래의 공간에 생성해라\n",
    "        \n",
    "    def printCount(self) :          # 똑같은 메서드가 3개 생성됨(객체별로 생성되므로)\n",
    "        print('객체의 수 :', Counter.m_cnt)\n",
    "        \n",
    "        \n",
    "a, b, c = Counter(), Counter(), Counter()\n",
    "\n",
    "a.printCount()         \n",
    "b.printCount()\n",
    "c.printCount()"
   ]
  },
  {
   "cell_type": "code",
   "execution_count": 3,
   "metadata": {},
   "outputs": [
    {
     "name": "stdout",
     "output_type": "stream",
     "text": [
      "객체의 수 : 6\n",
      "객체의 수 : 6\n",
      "객체의 수 : 6\n"
     ]
    }
   ],
   "source": [
    "a, b, c = Counter(), Counter(), Counter()\n",
    "\n",
    "a.printCount()         \n",
    "b.printCount()\n",
    "c.printCount()"
   ]
  },
  {
   "cell_type": "code",
   "execution_count": 9,
   "metadata": {},
   "outputs": [
    {
     "name": "stdout",
     "output_type": "stream",
     "text": [
      "객체의 수 : 3\n"
     ]
    }
   ],
   "source": [
    "class Counter :\n",
    "    m_cnt = 0\n",
    "    \n",
    "    def __init__(self) :\n",
    "        Counter.m_cnt += 1          \n",
    "        \n",
    "    def S_printCount() :    # 객체별로 생성되는 게 아니라 static 공간에 하나 생성됨\n",
    "        print('객체의 수 :', Counter.m_cnt)\n",
    "        \n",
    "        \n",
    "a, b, c = Counter(), Counter(), Counter()\n",
    "\n",
    "Counter.S_printCount()           # 객체로 연결 x 클래스로 연결해서 출력"
   ]
  },
  {
   "cell_type": "code",
   "execution_count": 11,
   "metadata": {},
   "outputs": [
    {
     "name": "stdout",
     "output_type": "stream",
     "text": [
      "객체의 수 : 9\n"
     ]
    }
   ],
   "source": [
    "a, b, c = Counter(), Counter(), Counter()\n",
    "\n",
    "Counter.S_printCount()          # a.S_printCount() 불가 - 에러"
   ]
  },
  {
   "cell_type": "code",
   "execution_count": 8,
   "metadata": {},
   "outputs": [
    {
     "name": "stdout",
     "output_type": "stream",
     "text": [
      "객체의 수 : 3\n",
      "객체의 수 : 3\n",
      "객체의 수 : 3\n"
     ]
    }
   ],
   "source": [
    "class Counter :\n",
    "    m_cnt = 0\n",
    "    \n",
    "    def __init__(self) :\n",
    "        Counter.m_cnt += 1          \n",
    "     \n",
    "    def S_printCount() :   \n",
    "        print('객체의 수 :', Counter.m_cnt)\n",
    "        \n",
    "    sprintcount = staticmethod(S_printCount)    # self가 없으면 멤버가 아님.\n",
    "                                                # 멤버로 등록한 것\n",
    "        \n",
    "        \n",
    "a, b, c = Counter(), Counter(), Counter()\n",
    "\n",
    "Counter.S_printCount()\n",
    "a.sprintcount()        # staticmethod() 사용시 객체로 출력 가능 : 클래스명이 길 때\n",
    "Counter.sprintcount()"
   ]
  },
  {
   "cell_type": "code",
   "execution_count": 12,
   "metadata": {},
   "outputs": [
    {
     "name": "stdout",
     "output_type": "stream",
     "text": [
      "객체의 수 : 3\n",
      "객체의 수 : 3\n"
     ]
    }
   ],
   "source": [
    "class Counter :\n",
    "    m_cnt = 0\n",
    "    \n",
    "    def __init__(self) :\n",
    "        Counter.m_cnt += 1          \n",
    "     \n",
    "    @staticmethod                     # decorator : staticmethod임을 표시\n",
    "    def S_printCount() :   \n",
    "        print('객체의 수 :', Counter.m_cnt)\n",
    "        \n",
    "\n",
    "a, b, c = Counter(), Counter(), Counter()\n",
    "\n",
    "Counter.S_printCount()\n",
    "a.S_printCount()"
   ]
  },
  {
   "cell_type": "code",
   "execution_count": 14,
   "metadata": {},
   "outputs": [
    {
     "name": "stdout",
     "output_type": "stream",
     "text": [
      "0\n"
     ]
    }
   ],
   "source": [
    "# 원래대로 설계된 멤버 변수 외에 객체 별로 별도의 멤버 변수 추가 가능\n",
    "\n",
    "class Test :\n",
    "    a = 0\n",
    "    \n",
    "    def show(self) :\n",
    "        print(self.a)\n",
    "        \n",
    "\n",
    "ob1 = Test()\n",
    "ob1.show()\n",
    "\n",
    "ob2 = Test()\n",
    "ob2.show()\n",
    "\n",
    "ob2.b = 20\n",
    "print(ob2.b)        # 실제 클래스의 설계도 변경 아님. 임시로 객체 ob2에 추가한 것\n",
    "\n"
   ]
  },
  {
   "cell_type": "code",
   "execution_count": 20,
   "metadata": {},
   "outputs": [
    {
     "name": "stdout",
     "output_type": "stream",
     "text": [
      "20 30\n",
      "10 60\n",
      "10 60\n",
      "0 가\n",
      "1 나\n",
      "2 다\n",
      "3 라\n",
      "0\n",
      "1\n",
      "2\n",
      "3\n",
      "**********"
     ]
    }
   ],
   "source": [
    "# _ : 값을 무시\n",
    "\n",
    "a, b, c = (10, 20, 30)\n",
    "\n",
    "_, b, c = (10, 20 ,30)          # 해당 위치 값 무시. b, c에 20, 30이 각각 저장\n",
    "\n",
    "print(b, c)\n",
    "\n",
    "a, _, _, _, _, b = (10, 20, 30, 40, 50, 60)\n",
    "print(a, b)\n",
    "\n",
    "a, *_, b = (10, 20, 30, 40, 50, 60)     # *_ 사용으로 개수 증가\n",
    "print(a, b)\n",
    "\n",
    "for a, b in enumerate(['가', '나', '다', '라']) :\n",
    "    print(a, b)           # a : 인덱스, b : 데이터 값\n",
    "    \n",
    "for a, _ in enumerate(['가', '나', '다', '라']) :\n",
    "    print(a)\n",
    "    \n",
    "    \n",
    "for _ in range(10) :                # 실질적으로 i를 쓰지 않으므로 _로 사용\n",
    "    print('*', end = '')"
   ]
  },
  {
   "cell_type": "code",
   "execution_count": 33,
   "metadata": {},
   "outputs": [
    {
     "name": "stdout",
     "output_type": "stream",
     "text": [
      "안녕하세요\n",
      "홍길동입니다\n",
      "다음에 또 봅시다\n"
     ]
    }
   ],
   "source": [
    "# _, __ : 접근 권한\n",
    "## __ : 접근을 못 하게 이름을 바꾸는 것\n",
    "\n",
    "class Test :           # class : 일종의 블랙박스 개념. 쉽게 접근하지 못하도록 보호\n",
    "    str1 = '안녕하세요'\n",
    "    _str2 = '홍길동입니다'   # 웬만하면 접근하지 마란 의미. 접근 가능하긴 함\n",
    "    __str3 = '다음에 또 봅시다'\n",
    "    \n",
    "    def show(self) :\n",
    "        print(self.__str3)\n",
    "        \n",
    "        \n",
    "dir(Test)\n",
    "\n",
    "ob1 = Test()\n",
    "\n",
    "\n",
    "\n",
    "print(ob1.str1)\n",
    "print(ob1._str2)\n",
    "ob1.show()     # print(ob1.__str3) 사용 시 에러 뜨므로 class에 함수 삽입하면 출력 가능"
   ]
  },
  {
   "cell_type": "markdown",
   "metadata": {},
   "source": [
    "---\n",
    "\n",
    "##### cf) List Comprehension(p.144)\n",
    "\n",
    "* 리스트 안에 반복문 포함"
   ]
  },
  {
   "cell_type": "code",
   "execution_count": 7,
   "metadata": {},
   "outputs": [
    {
     "name": "stdout",
     "output_type": "stream",
     "text": [
      "[0, 1, 2, 3, 4, 5, 6, 7, 8, 9]\n",
      "[0, 1, 2, 3, 4, 5, 6, 7, 8, 9]\n",
      "[0, 1, 2, 3, 4, 5, 6, 7, 8, 9, 0, 2, 4, 6, 8]\n",
      "[0, 2, 4, 6, 8]\n"
     ]
    }
   ],
   "source": [
    "# 리스트명 = [추가값 변수 for i in range() if 조건문]\n",
    "\n",
    "result = []\n",
    "\n",
    "for i in range(10) :\n",
    "    result.append(i)\n",
    "    \n",
    "print(result)\n",
    "\n",
    "result = [i for i in range(10)]\n",
    "print(result)\n",
    "\n",
    "for i in range(10) :\n",
    "    if i % 2 == 0 :\n",
    "        result.append(i)\n",
    "        \n",
    "print(result)\n",
    "\n",
    "result = [i for i in range(10) if i % 2 == 0]\n",
    "\n",
    "print(result)"
   ]
  },
  {
   "cell_type": "code",
   "execution_count": 19,
   "metadata": {},
   "outputs": [
    {
     "name": "stdout",
     "output_type": "stream",
     "text": [
      "['HW', 'Ho', 'Hr', 'Hl', 'Hd', 'eW', 'eo', 'er', 'el', 'ed', 'lW', 'lo', 'lr', 'll', 'ld', 'lW', 'lo', 'lr', 'll', 'ld', 'oW', 'oo', 'or', 'ol', 'od']\n",
      "['HW', 'Ho', 'Hr', 'Hl', 'Hd', 'eW', 'eo', 'er', 'el', 'ed', 'lW', 'lo', 'lr', 'll', 'ld', 'lW', 'lo', 'lr', 'll', 'ld', 'oW', 'oo', 'or', 'ol', 'od']\n"
     ]
    }
   ],
   "source": [
    "word1 = 'Hello'\n",
    "word2 = 'World'\n",
    "result = []\n",
    "\n",
    "# 1\n",
    "for i in word1 :\n",
    "    for j in word2 :\n",
    "        result.append(i + j)\n",
    "        \n",
    "print(result)\n",
    "\n",
    "result2 = [i + j for i in word1 for j in word2]\n",
    "print(result2)"
   ]
  },
  {
   "cell_type": "code",
   "execution_count": 24,
   "metadata": {},
   "outputs": [
    {
     "name": "stdout",
     "output_type": "stream",
     "text": [
      "['AD', 'AE', 'BD', 'BE', 'BA', 'CD', 'CE', 'CA']\n",
      "['AD', 'AE', 'BD', 'BE', 'BA', 'CD', 'CE', 'CA']\n"
     ]
    }
   ],
   "source": [
    "# 2\n",
    "\n",
    "case1 = ['A', 'B', 'C']\n",
    "case2 = ['D', 'E', 'A']\n",
    "result = []\n",
    "\n",
    "for i in case1 :\n",
    "    for j in case2 :\n",
    "        if i != j :\n",
    "            result.append(i + j)\n",
    "        \n",
    "print(result)\n",
    "\n",
    "\n",
    "result2 = [i + j for i in case1 for j in case2 if i != j]\n",
    "print(result2)"
   ]
  },
  {
   "cell_type": "code",
   "execution_count": 34,
   "metadata": {},
   "outputs": [
    {
     "name": "stdout",
     "output_type": "stream",
     "text": [
      "[['THE', 'the', 3], ['QUICK', 'quick', 5], ['BROWN', 'brown', 5], ['FOX', 'fox', 3], ['JUMP', 'jump', 4], ['OVER', 'over', 4], ['THE', 'the', 3], ['LAZY', 'lazy', 4], ['DOG', 'dog', 3]]\n",
      "[['THE', 'the', 3], ['QUICK', 'quick', 5], ['BROWN', 'brown', 5], ['FOX', 'fox', 3], ['JUMP', 'jump', 4], ['OVER', 'over', 4], ['THE', 'the', 3], ['LAZY', 'lazy', 4], ['DOG', 'dog', 3]]\n"
     ]
    }
   ],
   "source": [
    "# 3  [['THE', 'the', 3], ['QUICK', 'quick', 5]...]로 출력\n",
    "\n",
    "words = 'The quick brown fox jump over the lazy dog'\n",
    "\n",
    "\n",
    "result = []\n",
    "\n",
    "for i in words.split() :\n",
    "    result.append([i.upper(), i.lower(), len(i)])\n",
    "\n",
    "print(result)\n",
    "\n",
    "result2 = [[i.upper(), i.lower(), len(i)] for i in words.split()]\n",
    "print(result2)"
   ]
  },
  {
   "cell_type": "markdown",
   "metadata": {},
   "source": [
    "---"
   ]
  },
  {
   "cell_type": "markdown",
   "metadata": {},
   "source": [
    "### 4. 클래스의 상속\n",
    "\n",
    "* 기존의 기능을 물려받아 다양하게 확장하는 것. 그냥 물려받기만 하는 건 의미 없음.\n",
    "* 같은 프로그램을 또 만들 필요가 없음.\n",
    "* 시스템에서 자체적으로 복붙을 해주는 것.\n",
    "* 상속하는 클래스 : 부모 클래스 / 상속받는 클래스 : 자식 클래스\n",
    "* 부모 클래스는 완벽할 필요 없음. 한 부모 클래스 하위에 여러 자식 클래스 존재 가능.\n",
    "* 자식 클래스 생성 시 부모 클래스 메서드와 자식 클래스 메서드 모두 메모리에 저장\n",
    " \n",
    "* 상속 설계 시 고려할 점\n",
    "    * 부모 클래스는 최소한의 코드로 작성\n",
    "    * 중복된 코드가 있으면 안 됨 : 충돌이 생길 수 있기 때문에\n",
    "    * 상속받은 자식 클래스는 반드시 기능을 확장/추가해야 함\n",
    "\n",
    "* 다형성 : 하나를 가지고 여러가지를 할 수 있게 하는 것. \n",
    "    * 오버라이드(재정의)\n",
    "        * 상속과 관련\n",
    "        * 상속받은 메서드가 안 맞을 때 수정하는 경우\n",
    "        * ex) 기존 컴퓨터에 외장 하드 추가하는 등의 모습\n",
    "    * 오버로드(중복정의)\n",
    "        * 상속과 무관\n",
    "        * 똑같은 함수 이름으로 여러 개 만듦. - 한 이름으로 여러 기능(메서드) 사용 가능\n",
    "        * 파이썬에서 지원 안 함\n",
    "        * ex) 용도별 컴퓨터를 사는 것 - 좋지만 낭비가 됨\n",
    "        \n",
    "* super() : 부모 객체에 접근하기 위한 주소를 리턴\n",
    "    * 부모 클래스 = super class / 자식 클래스 = sub class\n",
    "\n",
    "* 표준화 : 코드의 일관성 유지\n",
    "\n",
    "* 다중 상속 : 부모 클래스가 여러 개 있는 것. 파이썬은 다중 상속 지원\n",
    "    * 필요한 기능만 물려받을 수 있게 하기 위해 부모 클래스를 분할, 상속 -> 표준화 가능\n",
    "    * 장점 : 편리성 극대화\n",
    "    * 단점 : 코드 중복 증가. 전체적 구성 파악이 어려움(=확장이 어려움)\n",
    "    \n",
    "* 추상 클래스(Abstract Class) : 추상 메서드를 한 개 이상 보유\n",
    "    * 추상 메서드 : 내용이 없는 메서드\n",
    "    \n",
    "* object : 모든 클래스가 다 쓸 수 있음. 파이썬 클래스의 원조.\n",
    "\n"
   ]
  },
  {
   "cell_type": "code",
   "execution_count": 3,
   "metadata": {},
   "outputs": [
    {
     "name": "stdout",
     "output_type": "stream",
     "text": [
      "멍멍\n",
      "움직인다\n",
      "현재 속도는 100\n",
      "움직인다\n"
     ]
    }
   ],
   "source": [
    "class Animal :\n",
    "    def move(self) :\n",
    "        print('움직인다')\n",
    "        \n",
    "class Dog(Animal) :       # 부모로부터 상속을 받겠다 : class 클래스명(부모 클래스명)\n",
    "    def bark(self) :\n",
    "        print('멍멍')\n",
    "\n",
    "class Horse(Animal) :\n",
    "    def speed(self, s) :\n",
    "        print('현재 속도는', s)\n",
    "        \n",
    "popee = Dog()\n",
    "popee.bark()\n",
    "popee.move()\n",
    "\n",
    "h1 = Horse()\n",
    "h1.speed(100)\n",
    "h1.move()"
   ]
  },
  {
   "cell_type": "code",
   "execution_count": 8,
   "metadata": {},
   "outputs": [
    {
     "name": "stdout",
     "output_type": "stream",
     "text": [
      "30\n",
      "600\n",
      "7\n",
      "81\n"
     ]
    }
   ],
   "source": [
    "# 전자 계산기\n",
    "\n",
    "class Calculator:\n",
    "    def __init__(self, first=None, second=None):\n",
    "        self.first = first\n",
    "        self.second = second\n",
    "        \n",
    "    def setData(self, first=None, second=None):    # 여러 번 사용하기 위해 중복 입력\n",
    "        self.first = first\n",
    "        self.second = second\n",
    "        \n",
    "    def sum(self):\n",
    "        return self.first + self.second\n",
    "    \n",
    "    def mul(self):\n",
    "        return self.first * self.second\n",
    "    \n",
    "    def div(self):\n",
    "        return self.first / self.second\n",
    "    \n",
    "    def sub(self):\n",
    "        return self.first - self.second\n",
    "    \n",
    "class Calc_v1(Calculator) :\n",
    "    def pow(self) :\n",
    "        return self.first ** self.second\n",
    "\n",
    "calc1 = Calculator()    # 생성자에 디폴트 none값 지정했기 때문에 변수 안 써도 됨\n",
    "calc1.setData(10, 20)\n",
    "print(calc1.sum())\n",
    "\n",
    "calc2 = Calculator(20, 30)      # 이후에 다른 값 넣을 땐 setData를 사용해야 함\n",
    "print(calc2.mul())\n",
    "\n",
    "calc3 = Calc_v1(3, 4)\n",
    "print(calc3.sum())\n",
    "print(calc3.pow())"
   ]
  },
  {
   "cell_type": "code",
   "execution_count": 9,
   "metadata": {},
   "outputs": [],
   "source": [
    "# 오버로드\n",
    "## 똑같은 메서드 display를 만듦으로써 display 이름 하나로 여러 기능 사용 가능\n",
    "## 구분 방법 : 이름만 같고 매개변수가 다르기 때문에 구분해서 호출 가능\n",
    "## 단 사용은 편리하지만 메서드가 늘어나기 때문에 메모리가 낭비된다\n",
    "\n",
    "class Test :\n",
    "    def display() :\n",
    "        print('기본값 출력')\n",
    "    \n",
    "    def dislay(a) :\n",
    "        print('a 출력 :', a)\n",
    "        \n",
    "    def display(a, b) :\n",
    "        print('a, b 출력 :', a, b)\n",
    "    "
   ]
  },
  {
   "cell_type": "code",
   "execution_count": 18,
   "metadata": {},
   "outputs": [
    {
     "name": "stdout",
     "output_type": "stream",
     "text": [
      "기본값 출력\n",
      "a 출력 : 2\n",
      "a, b 출력 : 2 , 3\n"
     ]
    }
   ],
   "source": [
    "## 파이썬에서는 default를 설정하여 실행 가능\n",
    "\n",
    "class Test :\n",
    "    def display(self, a=None, b=None) :\n",
    "        if a == None :\n",
    "            if b == None :\n",
    "                print('기본값 출력')\n",
    "        else :\n",
    "            if b == None :\n",
    "                print('a 출력 :', a)\n",
    "            else :\n",
    "                print('a, b 출력 :', a, ',', b)\n",
    "            \n",
    "            \n",
    "v1 = Test()\n",
    "v1.display()\n",
    "v1.display(2)\n",
    "v1.display(2, 3)"
   ]
  },
  {
   "cell_type": "code",
   "execution_count": 20,
   "metadata": {},
   "outputs": [
    {
     "name": "stdout",
     "output_type": "stream",
     "text": [
      "0으로 나눌 수 없다\n"
     ]
    }
   ],
   "source": [
    "# 오버라이드\n",
    "## 전자계산기 예제에서 second에 0이 들어가면 에러가 뜸 -> 오버라이드로 수정\n",
    "\n",
    "\n",
    "class Calculator:\n",
    "    def __init__(self, first=None, second=None):\n",
    "        self.first = first\n",
    "        self.second = second\n",
    "        \n",
    "    def setData(self, first=None, second=None):    \n",
    "        self.first = first\n",
    "        self.second = second\n",
    "        \n",
    "    def sum(self):\n",
    "        return self.first + self.second\n",
    "    \n",
    "    def mul(self):\n",
    "        return self.first * self.second\n",
    "    \n",
    "    def div(self):\n",
    "        return self.first / self.second\n",
    "    \n",
    "    def sub(self):\n",
    "        return self.first - self.second\n",
    "    \n",
    "class Calc_v1(Calculator) :\n",
    "    def pow(self) :\n",
    "        return self.first ** self.second\n",
    "    \n",
    "    def div(self) :           # 부모 클래스의 메서드명과 같아야 함\n",
    "        if self.second == 0 :\n",
    "            return '0으로 나눌 수 없다'\n",
    "        else :\n",
    "            return self.first / self.second\n",
    "        \n",
    "        \n",
    "calc4 = Calc_v1(4,0)\n",
    "print(calc4.div())"
   ]
  },
  {
   "cell_type": "code",
   "execution_count": 32,
   "metadata": {},
   "outputs": [
    {
     "name": "stdout",
     "output_type": "stream",
     "text": [
      "Employee 클래스\n",
      "나이 : 20, 하고싶은 말 : 일하는 동물\n",
      "나이 : 30, 하고싶은 말 : 일하는 동물\n",
      "일하는 동물\n",
      "난 사람이야\n",
      "30\n",
      "20\n"
     ]
    }
   ],
   "source": [
    "# super()\n",
    "\n",
    "class Person :\n",
    "    say = '난 사람이야'\n",
    "    age = 20\n",
    "    \n",
    "    def __init__(self, age) :\n",
    "        print('Person 클래스')\n",
    "        self.age = age\n",
    "        \n",
    "    def info(self) :\n",
    "        print('나이 : {}, 하고싶은 말 : {}'.format(self.age, self.say))\n",
    "        \n",
    "\n",
    "class Employee(Person) :\n",
    "    say = '일하는 동물'             # 자식 클래스 Employee의 say가 변경됨\n",
    "    subject = '근로자'\n",
    "    \n",
    "    def __init__(self) :\n",
    "        print('Employee 클래스')\n",
    "        \n",
    "    def einfo(self) :\n",
    "        print(self.say)            # 자식 클래스의 say\n",
    "        print(super().say)         # 부모 클래스의 say\n",
    "        \n",
    "        print(self.age)            # 자식 클래스의 age\n",
    "        print(super().age)         # 부모 클래스의 age\n",
    "        \n",
    "e1 = Employee()\n",
    "e1.info()\n",
    "e1.age = 30\n",
    "e1.info()\n",
    "e1.einfo()"
   ]
  },
  {
   "cell_type": "code",
   "execution_count": 57,
   "metadata": {},
   "outputs": [
    {
     "name": "stdout",
     "output_type": "stream",
     "text": [
      "Employee 클래스\n",
      "나이 : 20, 하고싶은 말 : 일하는 동물\n",
      "30\n"
     ]
    }
   ],
   "source": [
    "# 접근 제어\n",
    "\n",
    "class Person :\n",
    "    say = '난 사람이야'\n",
    "    __age = 20        # 이름이 변경된 것 - 자식에게 상속하지 않겠단 의미\n",
    "    \n",
    "    def __init__(self, age) :\n",
    "        print('Person 클래스')\n",
    "        self.__age = age\n",
    "        \n",
    "    def info(self) :\n",
    "        print('나이 : {}, 하고싶은 말 : {}'.format(self.__age, self.say))\n",
    "        \n",
    "    def setAge(self, age) :       # 외부가 아닌 setAge를 통해 __age에 접근, 수정 가능\n",
    "                                  # 여기서 setAge : setter method\n",
    "        self.__age = age          # 검증 코드\n",
    "\n",
    "    def getAge(self) :           # 여기서 getAge : getter method\n",
    "        return self.__age        # getAge로 간접 접근 : __age 출력\n",
    "\n",
    "    \n",
    "    \n",
    "class Employee(Person) :\n",
    "    say = '일하는 동물'             \n",
    "    subject = '근로자'\n",
    "    \n",
    "    def __init__(self) :\n",
    "        print('Employee 클래스')\n",
    "        \n",
    "    def einfo(self) :\n",
    "        #print(self.__age)          # 부모가 이름을 변경했으므로 자식은 쓸 수 없음  \n",
    "        #print(super().__age)       # 위와 동일 \n",
    "        \n",
    "        #print(self._Person__age)    # 바람직한 행동은 아님\n",
    "        #print(super()._Person__age) # 위와 동일\n",
    "        \n",
    "        pass\n",
    "        \n",
    "        \n",
    "        \n",
    "e1 = Employee()\n",
    "e1.info()\n",
    "\n",
    "# 에러 안 뜸 : 객체는 변수를 추가할 수 있기 때문에 age란 변수가 추가된 것\n",
    "#e1.age = 30 \n",
    "#e1.__age = 40      # __age란 변수가 추가된 것\n",
    "\n",
    "# 주소를 알고 있으니까 찾아가서 변경은 가능 - 바람직하지 못 함\n",
    "#e1._Person__age = 30\n",
    "\n",
    "e1.setAge(30)\n",
    "print(e1.getAge())"
   ]
  },
  {
   "cell_type": "code",
   "execution_count": 64,
   "metadata": {},
   "outputs": [
    {
     "name": "stdout",
     "output_type": "stream",
     "text": [
      "TV 볼륨의 크기는 10만큼 증가하여 현재 볼륨은 10 입니다.\n",
      "TV 볼륨의 크기는 3만큼 감소하여 현재 볼륨은 7 입니다.\n"
     ]
    }
   ],
   "source": [
    "# 표준화\n",
    "\n",
    "class Volume:\n",
    "    vol = 0\n",
    "    def volumeUp(self, vol):\n",
    "        self.vol += vol\n",
    "        print(\"볼륨의 크기는 %d만큼 증가하여 현재 볼륨은 %d 입니다.\"%\n",
    "              (vol, self.vol))\n",
    "        \n",
    "    def volumeDown(self, vol):\n",
    "        self.vol -= vol\n",
    "        print(\"볼륨의 크기는 %d만큼 감소하여 현재 볼륨은 %d 입니다.\"%\n",
    "              (vol, self.vol))\n",
    "        \n",
    "############################################\n",
    "\n",
    "## 자식 클래스가 되어 오버라이딩이 됨 -> 메서드가 동일해지는 것.\n",
    "\n",
    "class TV(Volume):\n",
    "    def volumeUp(self, vol):\n",
    "        self.vol += vol\n",
    "        print(\"TV 볼륨의 크기는 %d만큼 증가하여 현재 볼륨은 %d 입니다.\"% \n",
    "              (vol, self.vol))\n",
    "        \n",
    "    def volumeDown(self, vol):\n",
    "        self.vol -= vol\n",
    "        print(\"TV 볼륨의 크기는 %d만큼 감소하여 현재 볼륨은 %d 입니다.\"%\n",
    "              (vol, self.vol))\n",
    "\n",
    "############################################\n",
    "\n",
    "class Radio(Volume):\n",
    "    def volumeUp(self, vol):\n",
    "        self.vol += vol\n",
    "        print(\"Radio 볼륨의 크기는 %d만큼 증가하여 현재 볼륨은 %d 입니다.\"%\n",
    "              (vol, self.vol))\n",
    "        \n",
    "    def volumeDown(self, vol):\n",
    "        self.vol -= vol\n",
    "        print(\"Radio 볼륨의 크기는 %d만큼 감소하여 현재 볼륨은 %d 입니다.\"% \n",
    "              (vol, self.vol))\n",
    "\n",
    "############################################\n",
    "\n",
    "class Speaker(Volume):\n",
    "    def volumeUp(self, vol):\n",
    "        self.vol += vol\n",
    "        print(\"Speaker 볼륨의 크기는 %d만큼 증가하여 현재 볼륨은 %d 입니다.\"% \n",
    "              (vol, self.vol))\n",
    "        \n",
    "    def volumeDown(self, vol):\n",
    "        self.vol -= vol\n",
    "        print(\"Speaker 볼륨의 크기는 %d만큼 감소하여 현재 볼륨은 %d 입니다.\"% \n",
    "              (vol, self.vol))\n",
    "\n",
    "#############################################\n",
    "\n",
    "\n",
    "tv = TV()\n",
    "radio = Radio()\n",
    "speaker = Speaker()\n",
    "\n",
    "tv.volumeUp(10)\n",
    "tv.volumeDown(3)"
   ]
  },
  {
   "cell_type": "code",
   "execution_count": 65,
   "metadata": {},
   "outputs": [
    {
     "name": "stdout",
     "output_type": "stream",
     "text": [
      "통화 기능\n",
      "촬영 기능\n"
     ]
    }
   ],
   "source": [
    "# 다중 상속\n",
    "\n",
    "class Phone :\n",
    "    def call(self) :\n",
    "        print('통화 기능')\n",
    "        \n",
    "class Camera :\n",
    "    def picture(self) :\n",
    "        print('촬영 기능')\n",
    "        \n",
    "class PhoneCamera(Phone, Camera) :\n",
    "    pass\n",
    "\n",
    "\n",
    "cp = PhoneCamera()\n",
    "cp.call()\n",
    "cp.picture()"
   ]
  },
  {
   "cell_type": "code",
   "execution_count": 66,
   "metadata": {},
   "outputs": [
    {
     "name": "stdout",
     "output_type": "stream",
     "text": [
      "TV 볼륨의 크기는 10만큼 증가하여 현재 볼륨은 10 입니다.\n"
     ]
    }
   ],
   "source": [
    "# 추상 클래스와 추상 메서드\n",
    "## pass는 추상 메서드가 아님. 강제성이 없음\n",
    "## 추상 메서드로 만들면 반드시 오버라이딩을 해야 함\n",
    "\n",
    "\n",
    "class Volume:\n",
    "    vol = 0\n",
    "    def volumeUp(self, vol):\n",
    "        pass\n",
    "        \n",
    "    def volumeDown(self, vol):\n",
    "        pass\n",
    "        \n",
    "############################################\n",
    "\n",
    "class TV(Volume):\n",
    "    def volumeUp(self, vol):\n",
    "        self.vol += vol\n",
    "        print(\"TV 볼륨의 크기는 %d만큼 증가하여 현재 볼륨은 %d 입니다.\"% \n",
    "              (vol, self.vol))\n",
    "        \n",
    "    #def volumeDown(self, vol):\n",
    "    #    self.vol -= vol\n",
    "    #    print(\"TV 볼륨의 크기는 %d만큼 감소하여 현재 볼륨은 %d 입니다.\"%\n",
    "    #          (vol, self.vol))\n",
    "\n",
    "############################################\n",
    "\n",
    "tv = TV()\n",
    "tv.volumeUp(10)\n",
    "tv.volumeDown(7)     # 오버라이딩을 안 했기 때문에 출력이 안 됨"
   ]
  },
  {
   "cell_type": "code",
   "execution_count": 69,
   "metadata": {},
   "outputs": [
    {
     "name": "stdout",
     "output_type": "stream",
     "text": [
      "TV 볼륨의 크기는 10만큼 증가하여 현재 볼륨은 10 입니다.\n",
      "TV 볼륨의 크기는 7만큼 감소하여 현재 볼륨은 3 입니다.\n"
     ]
    },
    {
     "ename": "TypeError",
     "evalue": "Can't instantiate abstract class Volume with abstract methods volumeDown, volumeUp",
     "output_type": "error",
     "traceback": [
      "\u001b[1;31m---------------------------------------------------------------------------\u001b[0m",
      "\u001b[1;31mTypeError\u001b[0m                                 Traceback (most recent call last)",
      "\u001b[1;32m<ipython-input-69-ca36f2909b7b>\u001b[0m in \u001b[0;36m<module>\u001b[1;34m\u001b[0m\n\u001b[0;32m     31\u001b[0m \u001b[0mtv\u001b[0m\u001b[1;33m.\u001b[0m\u001b[0mvolumeDown\u001b[0m\u001b[1;33m(\u001b[0m\u001b[1;36m7\u001b[0m\u001b[1;33m)\u001b[0m\u001b[1;33m\u001b[0m\u001b[1;33m\u001b[0m\u001b[0m\n\u001b[0;32m     32\u001b[0m \u001b[1;33m\u001b[0m\u001b[0m\n\u001b[1;32m---> 33\u001b[1;33m \u001b[0mv1\u001b[0m \u001b[1;33m=\u001b[0m \u001b[0mVolume\u001b[0m\u001b[1;33m(\u001b[0m\u001b[1;33m)\u001b[0m\u001b[1;33m\u001b[0m\u001b[1;33m\u001b[0m\u001b[0m\n\u001b[0m\u001b[0;32m     34\u001b[0m \u001b[0mv1\u001b[0m\u001b[1;33m.\u001b[0m\u001b[0mvol\u001b[0m \u001b[1;33m=\u001b[0m \u001b[1;36m10\u001b[0m\u001b[1;33m\u001b[0m\u001b[1;33m\u001b[0m\u001b[0m\n",
      "\u001b[1;31mTypeError\u001b[0m: Can't instantiate abstract class Volume with abstract methods volumeDown, volumeUp"
     ]
    }
   ],
   "source": [
    "import abc\n",
    "\n",
    "class Volume(metaclass=abc.ABCMeta):      # 추상클래스임을 명시\n",
    "    vol = 0\n",
    "    \n",
    "    @abc.abstractmethod\n",
    "    def volumeUp(self, vol):         # 추상메서드가 됨\n",
    "        pass\n",
    "     \n",
    "    @abc.abstractmethod    \n",
    "    def volumeDown(self, vol):\n",
    "        pass\n",
    "        \n",
    "############################################\n",
    "\n",
    "class TV(Volume):\n",
    "    def volumeUp(self, vol):\n",
    "        self.vol += vol\n",
    "        print(\"TV 볼륨의 크기는 %d만큼 증가하여 현재 볼륨은 %d 입니다.\"% \n",
    "              (vol, self.vol))\n",
    "        \n",
    "    def volumeDown(self, vol):\n",
    "        self.vol -= vol\n",
    "        print(\"TV 볼륨의 크기는 %d만큼 감소하여 현재 볼륨은 %d 입니다.\"%\n",
    "            (vol, self.vol))\n",
    "\n",
    "############################################\n",
    "\n",
    "tv = TV()\n",
    "tv.volumeUp(10)\n",
    "tv.volumeDown(7)\n",
    "\n",
    "v1 = Volume()                # 추상클래스는 객체를 생성할 수 없다\n",
    "v1.vol = 10"
   ]
  },
  {
   "cell_type": "code",
   "execution_count": 74,
   "metadata": {},
   "outputs": [
    {
     "name": "stdout",
     "output_type": "stream",
     "text": [
      "<class 'int'>\n"
     ]
    },
    {
     "data": {
      "text/plain": [
       "['__abstractmethods__',\n",
       " '__class__',\n",
       " '__delattr__',\n",
       " '__dict__',\n",
       " '__dir__',\n",
       " '__doc__',\n",
       " '__eq__',\n",
       " '__format__',\n",
       " '__ge__',\n",
       " '__getattribute__',\n",
       " '__gt__',\n",
       " '__hash__',\n",
       " '__init__',\n",
       " '__init_subclass__',\n",
       " '__le__',\n",
       " '__lt__',\n",
       " '__module__',\n",
       " '__ne__',\n",
       " '__new__',\n",
       " '__reduce__',\n",
       " '__reduce_ex__',\n",
       " '__repr__',\n",
       " '__setattr__',\n",
       " '__sizeof__',\n",
       " '__str__',\n",
       " '__subclasshook__',\n",
       " '__weakref__',\n",
       " '_abc_impl',\n",
       " 'vol',\n",
       " 'volumeDown',\n",
       " 'volumeUp']"
      ]
     },
     "execution_count": 74,
     "metadata": {},
     "output_type": "execute_result"
    }
   ],
   "source": [
    "# object\n",
    "\n",
    "dir(object)\n",
    "\n",
    "a = int()\n",
    "print(type(a))\n",
    "dir(a)\n",
    "\n",
    "dir(tv)"
   ]
  },
  {
   "cell_type": "code",
   "execution_count": 77,
   "metadata": {},
   "outputs": [
    {
     "name": "stdout",
     "output_type": "stream",
     "text": [
      "파이썬 클래스\n",
      "파이썬 클래스\n",
      "파이썬 클래스\n",
      "------------------------------------------------\n",
      "데이터 변경\n",
      "데이터 변경2\n",
      "데이터 변경2\n"
     ]
    }
   ],
   "source": [
    "# __class__ : static 변수를 사용할 수 있게 함\n",
    "\n",
    "class Test:\n",
    "    data = '파이썬 클래스'\n",
    "    \n",
    "################################################\n",
    "\n",
    "ob1 = Test()\n",
    "ob2 = Test()\n",
    "\n",
    "print(ob1.data)\n",
    "print(ob2.data)\n",
    "print(Test.data)\n",
    "print('------------------------------------------------')\n",
    "\n",
    "ob1.data = '데이터 변경'\n",
    "Test.data = '데이터 변경2'\n",
    "\n",
    "print(ob1.data)\n",
    "print(ob2.data)             # 원형에서 바뀐 값을 참조하게 됨\n",
    "print(Test.data)"
   ]
  },
  {
   "cell_type": "code",
   "execution_count": 78,
   "metadata": {},
   "outputs": [
    {
     "name": "stdout",
     "output_type": "stream",
     "text": [
      "파이썬 클래스\n",
      "파이썬 클래스\n",
      "파이썬 클래스\n",
      "------------------------------------------------\n",
      "데이터 변경\n",
      "데이터 변경\n",
      "데이터 변경\n"
     ]
    }
   ],
   "source": [
    "class Test:\n",
    "    data = '파이썬 클래스'\n",
    "    \n",
    "################################################\n",
    "\n",
    "ob1 = Test()\n",
    "ob2 = Test()\n",
    "\n",
    "print(ob1.data)\n",
    "print(ob2.data)\n",
    "print(Test.data)\n",
    "print('------------------------------------------------')\n",
    "\n",
    "ob1.__class__.data = '데이터 변경'\n",
    "print(ob1.data)\n",
    "print(ob2.data)\n",
    "print(Test.data)"
   ]
  },
  {
   "cell_type": "code",
   "execution_count": 79,
   "metadata": {},
   "outputs": [
    {
     "name": "stdout",
     "output_type": "stream",
     "text": [
      "멍멍이 10\n",
      "야옹이 11\n",
      "예방접종을 받았음\n"
     ]
    },
    {
     "ename": "AttributeError",
     "evalue": "'Animal' object has no attribute 'etc'",
     "output_type": "error",
     "traceback": [
      "\u001b[1;31m---------------------------------------------------------------------------\u001b[0m",
      "\u001b[1;31mAttributeError\u001b[0m                            Traceback (most recent call last)",
      "\u001b[1;32m<ipython-input-79-493ff0cbb473>\u001b[0m in \u001b[0;36m<module>\u001b[1;34m\u001b[0m\n\u001b[0;32m     22\u001b[0m \u001b[0mdog\u001b[0m\u001b[1;33m.\u001b[0m\u001b[0metc\u001b[0m \u001b[1;33m=\u001b[0m \u001b[1;34m'예방접종을 받았음'\u001b[0m\u001b[1;33m\u001b[0m\u001b[1;33m\u001b[0m\u001b[0m\n\u001b[0;32m     23\u001b[0m \u001b[0mprint\u001b[0m\u001b[1;33m(\u001b[0m\u001b[0mdog\u001b[0m\u001b[1;33m.\u001b[0m\u001b[0metc\u001b[0m\u001b[1;33m)\u001b[0m\u001b[1;33m\u001b[0m\u001b[1;33m\u001b[0m\u001b[0m\n\u001b[1;32m---> 24\u001b[1;33m \u001b[0mprint\u001b[0m\u001b[1;33m(\u001b[0m\u001b[0mcat\u001b[0m\u001b[1;33m.\u001b[0m\u001b[0metc\u001b[0m\u001b[1;33m)\u001b[0m\u001b[1;33m\u001b[0m\u001b[1;33m\u001b[0m\u001b[0m\n\u001b[0m",
      "\u001b[1;31mAttributeError\u001b[0m: 'Animal' object has no attribute 'etc'"
     ]
    }
   ],
   "source": [
    "# __slots__ : 객체별로 변수 추가 금지\n",
    "\n",
    "class Animal :\n",
    "    name = '동물'\n",
    "    age = 0\n",
    "    \n",
    "    def display(self):\n",
    "        print(self.name, self.age)\n",
    "        \n",
    "dog = Animal()\n",
    "cat = Animal()\n",
    "\n",
    "dog.name = '멍멍이'\n",
    "dog.age = 10\n",
    "\n",
    "cat.name = '야옹이'\n",
    "cat.age = 11\n",
    "\n",
    "dog.display()\n",
    "cat.display()\n",
    "\n",
    "dog.etc = '예방접종을 받았음'\n",
    "print(dog.etc)\n",
    "# print(cat.etc) : 추가 안 해서 에러"
   ]
  },
  {
   "cell_type": "code",
   "execution_count": 81,
   "metadata": {},
   "outputs": [
    {
     "name": "stdout",
     "output_type": "stream",
     "text": [
      "멍멍이 10\n",
      "야옹이 11\n"
     ]
    }
   ],
   "source": [
    "class Animal :\n",
    "    __slots__ = ['name', 'age']\n",
    "    \n",
    "    def display(self):\n",
    "        print(self.name, self.age)\n",
    "        \n",
    "dog = Animal()\n",
    "cat = Animal()\n",
    "\n",
    "dog.name = '멍멍이'\n",
    "dog.age = 10\n",
    "\n",
    "cat.name = '야옹이'\n",
    "cat.age = 11\n",
    "\n",
    "dog.display()\n",
    "cat.display()\n",
    "\n",
    "#dog.etc = '예방접종을 받았음'   -> 변수를 추가할 수 없으므로 에러\n",
    "#print(dog.etc)\n",
    "# print(cat.etc)                 "
   ]
  },
  {
   "cell_type": "code",
   "execution_count": null,
   "metadata": {},
   "outputs": [],
   "source": []
  }
 ],
 "metadata": {
  "kernelspec": {
   "display_name": "Python 3",
   "language": "python",
   "name": "python3"
  },
  "language_info": {
   "codemirror_mode": {
    "name": "ipython",
    "version": 3
   },
   "file_extension": ".py",
   "mimetype": "text/x-python",
   "name": "python",
   "nbconvert_exporter": "python",
   "pygments_lexer": "ipython3",
   "version": "3.7.6"
  }
 },
 "nbformat": 4,
 "nbformat_minor": 4
}
