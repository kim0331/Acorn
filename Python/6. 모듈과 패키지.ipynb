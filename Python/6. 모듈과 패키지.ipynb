{
 "cells": [
  {
   "cell_type": "markdown",
   "metadata": {},
   "source": [
    "# 모듈\n",
    "\n",
    "## 1. 정의\n",
    "\n",
    "* 함수나 변수, 클래스들을 모아 놓은 파일 : .py\n",
    "* 비슷하거나 관련된 일을 하는 함수, 클래스, 상수값들을 모아서 하나의 파일에 저장하고, 추후에 재사용하기 위한 목적으로 만들어진 파일\n",
    "\n",
    "\n",
    "## 2. 종류\n",
    "\n",
    "* 표준 모듈\n",
    "* 사용자 정의 모듈\n",
    "* 서드 파티 모듈\n",
    "\n",
    "\n",
    "## 3. 모듈 사용 방법\n",
    "\n",
    "1) import 모듈명\n",
    "\n",
    "2) import 모듈명 as 별칭\n",
    "\n",
    "3) from 모듈명 import 변수, 함수, 클래스 : 구체적으로 명시해야 함\n",
    "\n",
    "4) from 모듈명 import * : 명시하기에 갯수가 많을 때 사용\n",
    "\n",
    "5) from 모듈명 import 변수/함수/클래스명 as 별칭\n",
    "\n",
    "\n",
    "## 4. 위치를 참조하는 방법\n",
    "\n",
    "1) 같은 경로 : 그냥 불러다 쓰면 됨\n",
    "\n",
    "2) 기존 모듈이 설치되어있는 경로에 복사 : 별로 좋지 못함\n",
    "    * 재설치할 경우 날라갈 위험 있음\n",
    "    * 리부팅 해야 할 경우가 있음\n",
    "    * 충돌이 일어날 경우가 있음\n",
    "    \n",
    "3) path를 이용한 경로\n",
    "    * sys.path.append('경로 추가') : 일시적\n",
    "    * 제어판 - 환경변수 - pythonpath : 영구적"
   ]
  },
  {
   "cell_type": "code",
   "execution_count": 1,
   "metadata": {},
   "outputs": [
    {
     "name": "stdout",
     "output_type": "stream",
     "text": [
      "func1 함수 호출 : 10 20\n",
      "홍길동 30\n",
      "파이썬 주식회사\n"
     ]
    }
   ],
   "source": [
    "# import 모듈명\n",
    "## 환경변수를 통해 path 설정을 했기 때문에 실행됨.\n",
    "\n",
    "import moduleTest\n",
    "\n",
    "moduleTest.func1(10, 20)\n",
    "\n",
    "ob1 = moduleTest.Ctest1('홍길동', 30)\n",
    "ob1.show()\n",
    "\n",
    "print(moduleTest.companyName)"
   ]
  },
  {
   "cell_type": "code",
   "execution_count": null,
   "metadata": {},
   "outputs": [],
   "source": [
    "# import 모듈명 as 별칭\n",
    "\n",
    "import moduleTest as mt\n",
    "\n",
    "mt.func1(10, 20)\n",
    "\n",
    "ob1 = mt.Ctest1('홍길동', 30)\n",
    "ob1.show()\n",
    "\n",
    "print(mt.companyName)"
   ]
  },
  {
   "cell_type": "code",
   "execution_count": null,
   "metadata": {},
   "outputs": [],
   "source": [
    "# from 모듈명 import 변수, 함수, 클래스\n",
    "\n",
    "from moduleTest import companyName, func1, Ctest1\n",
    "\n",
    "func1(10, 20)\n",
    "\n",
    "ob1 = Ctest1('홍길동', 30)\n",
    "ob1.show()\n",
    "\n",
    "print(companyName)"
   ]
  },
  {
   "cell_type": "code",
   "execution_count": null,
   "metadata": {},
   "outputs": [],
   "source": [
    "# from 모듈명 import *\n",
    "\n",
    "from moduleTest import *\n",
    "\n",
    "func1(10, 20)\n",
    "\n",
    "ob1 = Ctest1('홍길동', 30)\n",
    "ob1.show()\n",
    "\n",
    "print(companyName)"
   ]
  },
  {
   "cell_type": "code",
   "execution_count": null,
   "metadata": {},
   "outputs": [],
   "source": [
    "# from 모듈명 import 변수/함수/클래스명 as 별칭\n",
    "\n",
    "from moduleTest import companyName as cname\n",
    "\n",
    "print(cname)"
   ]
  },
  {
   "cell_type": "code",
   "execution_count": null,
   "metadata": {},
   "outputs": [],
   "source": [
    "# sys.path.append('경로 추가')\n",
    "## 경로를 바꿨기 때문에 위에 전부 에러 뜨는 게 맞음. 이 아래부터 제대로 실행.\n",
    "## 일시적으로 설정한 것. 영구적인 것은 환경변수에서 해야 함\n",
    "\n",
    "import sys\n",
    "print(sys.path)\n",
    "sys.path.append('C:\\\\Users\\\\acorn\\\\hyeonji\\\\pythonwork\\\\mylib')"
   ]
  },
  {
   "cell_type": "code",
   "execution_count": null,
   "metadata": {},
   "outputs": [],
   "source": [
    "import moduleTest\n",
    "\n",
    "moduleTest.func1(10, 20)\n",
    "\n",
    "ob1 = moduleTest.Ctest1('홍길동', 30)\n",
    "ob1.show()\n",
    "\n",
    "print(moduleTest.companyName)"
   ]
  },
  {
   "cell_type": "markdown",
   "metadata": {},
   "source": [
    "# 패키지\n",
    "\n",
    "* 여러 모듈을 모아놓은 폴더"
   ]
  }
 ],
 "metadata": {
  "kernelspec": {
   "display_name": "Python 3",
   "language": "python",
   "name": "python3"
  },
  "language_info": {
   "codemirror_mode": {
    "name": "ipython",
    "version": 3
   },
   "file_extension": ".py",
   "mimetype": "text/x-python",
   "name": "python",
   "nbconvert_exporter": "python",
   "pygments_lexer": "ipython3",
   "version": "3.8.3"
  }
 },
 "nbformat": 4,
 "nbformat_minor": 4
}
