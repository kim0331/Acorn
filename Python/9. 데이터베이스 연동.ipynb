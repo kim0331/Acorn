{
 "cells": [
  {
   "cell_type": "markdown",
   "metadata": {},
   "source": [
    "## 1. 파이썬과 MySQL 활용\n",
    "\n",
    "### 모듈\n",
    "\n",
    "1) mysqlclient, PyMySQL\n",
    "\n",
    "2) pop install mysqlclient, pip install PyMySQL"
   ]
  },
  {
   "cell_type": "markdown",
   "metadata": {},
   "source": [
    "### 1. mysqlclient 모듈 사용"
   ]
  },
  {
   "cell_type": "code",
   "execution_count": 1,
   "metadata": {},
   "outputs": [],
   "source": [
    "import MySQLdb"
   ]
  },
  {
   "cell_type": "code",
   "execution_count": 2,
   "metadata": {},
   "outputs": [
    {
     "name": "stdout",
     "output_type": "stream",
     "text": [
      "<_mysql.connection open to '127.0.0.1' at 000001F4C09C2B38>\n"
     ]
    }
   ],
   "source": [
    "# mysql 서버에 접속\n",
    "\n",
    "conn = MySQLdb.connect(host='127.0.0.1', user = 'root', password = '1111', \n",
    "                       database = 'testdb')\n",
    "print(conn)\n",
    "conn.close()"
   ]
  },
  {
   "cell_type": "code",
   "execution_count": 3,
   "metadata": {},
   "outputs": [
    {
     "name": "stdout",
     "output_type": "stream",
     "text": [
      "<_mysql.connection open to '127.0.0.1' at 000001F4C0C291E8>\n"
     ]
    }
   ],
   "source": [
    "config = {'host' : '127.0.0.1', 'user' : 'root', 'password' : '1111', \n",
    "          'database' : 'testdb'}\n",
    "\n",
    "conn = MySQLdb.connect(**config)\n",
    "print(conn)\n",
    "conn.close()"
   ]
  },
  {
   "cell_type": "code",
   "execution_count": 4,
   "metadata": {},
   "outputs": [
    {
     "name": "stdout",
     "output_type": "stream",
     "text": [
      "7369, SMITH, 800, CLERK, 20\n",
      "7499, ALLEN, 1600, SALESMAN, 30\n",
      "7521, WARD, 1250, SALESMAN, 30\n",
      "7566, JONES, 2975, MANAGER, 20\n",
      "7654, MARTIN, 1250, SALESMAN, 30\n",
      "7698, BLAKE, 2850, MANAGER, 30\n",
      "7782, CLARK, 2450, MANAGER, 10\n",
      "7788, SCOTT, 3000, ANALYST, 20\n",
      "7839, KING, 5000, PRESIDENT, 10\n",
      "7844, TURNER, 1500, SALESMAN, 30\n",
      "7876, ADAMS, 1100, CLERK, 20\n",
      "7900, JAMES, 950, CLERK, 30\n",
      "7902, FORD, 3000, ANALYST, 20\n",
      "7934, MILLER, 1300, CLERK, 10\n"
     ]
    }
   ],
   "source": [
    "# SELECT\n",
    "\n",
    "conn = MySQLdb.connect(**config)\n",
    "\n",
    "sql = 'SELECT empno, ename, sal, job, deptno FROM emp'\n",
    "\n",
    "cur = conn.cursor()\n",
    "cur.execute(sql)\n",
    "\n",
    "#print(cur)\n",
    "#print(type(cur))\n",
    "\n",
    "for data in cur :\n",
    "    print('%d, %s, %d, %s, %d'%data)        #언패킹\n",
    "    \n",
    "#언패킹 두 번째 방법\n",
    "# for empno, ename, sal, job, deptno in cur :\n",
    "#   print(empno, ename, sal, job, deptno)\n",
    "\n",
    "conn.close()"
   ]
  },
  {
   "cell_type": "code",
   "execution_count": 5,
   "metadata": {},
   "outputs": [],
   "source": [
    "# INSERT\n",
    "\n",
    "conn = MySQLdb.connect(**config)\n",
    "cur = conn.cursor()\n",
    "\n",
    "sql = '''\n",
    "INSERT INTO emp(empno, ename, sal, job, mgr, deptno, hiredate)\n",
    "VALUES(1, 'tom', 700, 'clerk', 7788, 20, now())'''\n",
    "\n",
    "cur.execute(sql)\n",
    "conn.commit()\n",
    "\n",
    "conn.close()"
   ]
  },
  {
   "cell_type": "code",
   "execution_count": 6,
   "metadata": {},
   "outputs": [],
   "source": [
    "conn = MySQLdb.connect(**config)\n",
    "cur = conn.cursor()\n",
    "\n",
    "v_empno = 5\n",
    "v_ename = 'Johnson'\n",
    "v_sal = 1500\n",
    "\n",
    "sql = 'INSERT INTO emp(empno, ename, sal, hiredate) VALUES(' + str(v_empno) + \", '\" + v_ename + \"', \" + str(v_sal) + ', now())'\n",
    "\n",
    "cur.execute(sql)\n",
    "conn.commit()\n",
    "\n",
    "conn.close()"
   ]
  },
  {
   "cell_type": "code",
   "execution_count": 7,
   "metadata": {},
   "outputs": [],
   "source": [
    "conn = MySQLdb.connect(**config)\n",
    "cur = conn.cursor()\n",
    "\n",
    "v_empno = 10\n",
    "v_ename = 'Jane'\n",
    "v_sal = 2000\n",
    "\n",
    "sql = 'INSERT INTO emp(empno, ename, sal, hiredate) VALUES(%s, %s, %s, now())'\n",
    "sql_data = (str(v_empno), v_ename, str(v_sal))\n",
    "\n",
    "cur.execute(sql, sql_data)\n",
    "conn.commit()\n",
    "\n",
    "conn.close()"
   ]
  },
  {
   "cell_type": "code",
   "execution_count": 8,
   "metadata": {},
   "outputs": [],
   "source": [
    "# DELETE\n",
    "\n",
    "conn = MySQLdb.connect(**config)\n",
    "cur = conn.cursor()\n",
    "\n",
    "sql = 'DELETE FROM emp WHERE empno IN (1, 5, 10)'\n",
    "\n",
    "cur.execute(sql)\n",
    "conn.commit()\n",
    "\n",
    "conn.close()"
   ]
  },
  {
   "cell_type": "markdown",
   "metadata": {},
   "source": [
    "### 2. PyMySQL 모듈 사용"
   ]
  },
  {
   "cell_type": "code",
   "execution_count": 9,
   "metadata": {},
   "outputs": [],
   "source": [
    "import pymysql"
   ]
  },
  {
   "cell_type": "code",
   "execution_count": 10,
   "metadata": {},
   "outputs": [
    {
     "name": "stdout",
     "output_type": "stream",
     "text": [
      "<pymysql.connections.Connection object at 0x000001F4C13A0588>\n"
     ]
    }
   ],
   "source": [
    "conn = pymysql.connect(host='127.0.0.1', user = 'root', password = '1111', \n",
    "                       database = 'testdb', port = 3306, charset = 'utf8')\n",
    "\n",
    "print(conn)\n",
    "conn.close()"
   ]
  },
  {
   "cell_type": "code",
   "execution_count": 11,
   "metadata": {},
   "outputs": [
    {
     "name": "stdout",
     "output_type": "stream",
     "text": [
      "<pymysql.connections.Connection object at 0x000001F4C13B8C08>\n"
     ]
    }
   ],
   "source": [
    "config = {'host' : '127.0.0.1', 'user' : 'root', 'password' : '1111', \n",
    "          'database' : 'testdb', 'port' : 3306, 'charset' : 'utf8'}\n",
    "\n",
    "conn = pymysql.connect(**config)\n",
    "print(conn)\n",
    "conn.close()"
   ]
  },
  {
   "cell_type": "code",
   "execution_count": 18,
   "metadata": {},
   "outputs": [],
   "source": [
    "conn = pymysql.connect(**config)\n",
    "cur = conn.cursor()\n",
    "\n",
    "sql = '''CREATE TABLE pythonTable(\n",
    "id    int    unsigned not null auto_increment,\n",
    "name    varchar(20)    not null,\n",
    "regdate    datetime,\n",
    "primary key(id));'''\n",
    "\n",
    "cur.execute(sql)\n",
    "conn.commit()\n",
    "\n",
    "conn.close()"
   ]
  },
  {
   "cell_type": "code",
   "execution_count": 13,
   "metadata": {},
   "outputs": [
    {
     "name": "stdout",
     "output_type": "stream",
     "text": [
      "('bonus',)\n",
      "('dept',)\n",
      "('emp',)\n",
      "('member',)\n",
      "('post',)\n",
      "('pythontable',)\n",
      "('salgrade',)\n",
      "('tbla',)\n",
      "('tblb',)\n",
      "('tblbook',)\n",
      "('tblc',)\n",
      "('tbldept',)\n",
      "('tblemp',)\n",
      "('tblindex',)\n",
      "('tbltest',)\n",
      "('vw_emp1',)\n"
     ]
    },
    {
     "name": "stderr",
     "output_type": "stream",
     "text": [
      "C:\\Users\\acorn\\Anaconda3\\lib\\site-packages\\pymysql\\cursors.py:170: Warning: (1050, \"Table 'pythontable' already exists\")\n",
      "  result = self._query(query)\n"
     ]
    }
   ],
   "source": [
    "conn = pymysql.connect(**config)\n",
    "cur = conn.cursor()\n",
    "\n",
    "sql = '''\n",
    "    CREATE TABLE IF NOT EXISTS pythonTable(\n",
    "            id    int    unsigned not null auto_increment,\n",
    "            name    varchar(20)    not null,\n",
    "            regdate    datetime,\n",
    "            primary key(id));'''\n",
    "\n",
    "cur.execute(sql)\n",
    "cur.execute('show tables')\n",
    "\n",
    "for i in cur :\n",
    "    print(i)\n",
    "\n",
    "conn.commit()\n",
    "\n",
    "conn.close()"
   ]
  },
  {
   "cell_type": "code",
   "execution_count": 14,
   "metadata": {},
   "outputs": [],
   "source": [
    "conn = pymysql.connect(**config)\n",
    "try :\n",
    "    cur = conn.cursor()\n",
    "    \n",
    "    sql = '''\n",
    "    INSERT INTO pythontable(name, regdate)\n",
    "    VALUES('tom', now());'''\n",
    "    \n",
    "    for num in range(10) :\n",
    "        cur.execute(sql)\n",
    "    \n",
    "    conn.commit()\n",
    "finally :\n",
    "    conn.close()"
   ]
  },
  {
   "cell_type": "code",
   "execution_count": 31,
   "metadata": {},
   "outputs": [],
   "source": [
    "# csv 파일을 DB에 저장하기\n",
    "\n",
    "'''\n",
    "CREATE TABLE IF NOT EXISTS suppliers(\n",
    "    Supplier_Name    varchar(20),\n",
    "    Invoice_Number   varchar(20),\n",
    "    Part_Number      varchar(20),\n",
    "    Cost             float,\n",
    "    Purchase_Date    date\n",
    ");\n",
    "'''\n",
    "\n",
    "import csv\n",
    "from datetime import datetime\n",
    "\n",
    "conn = pymysql.connect(**config)\n",
    "\n",
    "try :\n",
    "    cur = conn.cursor()\n",
    "    \n",
    "    file = csv.reader(open('C:/Users/acorn/hyeonji/database/input.csv'))\n",
    "    #print(file)\n",
    "    \n",
    "    header = next(file)\n",
    "    \n",
    "    for row in file :\n",
    "        data = []\n",
    "        for col in range(len(header)) :\n",
    "            if col == 4:\n",
    "                tmp = datetime.strptime(row[col], '%Y-%m-%d') \n",
    "                # 문자열을 날짜로 변경\n",
    "                data.append(tmp)\n",
    "            else :\n",
    "                data.append(row[col])\n",
    "                \n",
    "        cur.execute('INSERT INTO suppliers VALUES(%s, %s, %s, %s, %s)', data)\n",
    "     \n",
    "    conn.commit()\n",
    "    \n",
    "finally :\n",
    "    conn.close()"
   ]
  },
  {
   "cell_type": "code",
   "execution_count": 36,
   "metadata": {},
   "outputs": [],
   "source": [
    "# csv 파일을 DB에 저장하기2\n",
    "\n",
    "import csv\n",
    "from datetime import datetime\n",
    "\n",
    "conn = pymysql.connect(**config)\n",
    "\n",
    "try :\n",
    "    cur = conn.cursor()\n",
    "    \n",
    "    sql = 'delete from suppliers'\n",
    "    cur.execute(sql)\n",
    "    conn.commit()\n",
    "    \n",
    "    file = csv.reader(open('C:/Users/acorn/hyeonji/database/input.csv'))\n",
    "    #print(file)\n",
    "    \n",
    "    header = next(file)\n",
    "    \n",
    "    for row in file :\n",
    "        cur.execute('INSERT INTO suppliers VALUES(%s, %s, %s, %s, %s)', row)\n",
    "     \n",
    "    conn.commit()\n",
    "    \n",
    "finally :\n",
    "    conn.close()"
   ]
  },
  {
   "cell_type": "code",
   "execution_count": 42,
   "metadata": {},
   "outputs": [],
   "source": [
    "# DB에서 가져온 데이터를 csv로 저장하기\n",
    "\n",
    "conn = pymysql.connect(**config)\n",
    "\n",
    "try :\n",
    "    cur = conn.cursor()\n",
    "    \n",
    "    cur.execute('SELECT * FROM suppliers WHERE cost>500000')\n",
    "    #for i in cur : print(i)\n",
    "    \n",
    "    file = csv.writer(open('C:/Users/acorn/hyeonji/database/output.csv', 'w'), delimiter=',')\n",
    "    \n",
    "    header = ['Supplier Name', 'Invoice Name', 'Part Number', 'Cost', 'Purchase Date']\n",
    "    file.writerow(header)\n",
    "    \n",
    "    for row in cur:\n",
    "        file.writerow(row)\n",
    "    \n",
    "finally :\n",
    "    conn.close()"
   ]
  },
  {
   "cell_type": "markdown",
   "metadata": {},
   "source": [
    "## 2. 파이썬과 SQLite\n",
    "\n",
    "1. 로컬 DB로 사용할 수 있는 제품들\n",
    "    * Access\n",
    "    * SQLite\n",
    "    * Microsoft SQL Server Compact Edition\n",
    "    * Firebird Embeded Server\n",
    "    * H2\n",
    "    * HSQL\n",
    "    * Apache Derby\n",
    "    ...\n",
    "\n",
    "2. 특징\n",
    "    * 장점\n",
    "        * 파일 기반의 DBMS, 저메모리, 빠른 처리 속도\n",
    "        * 오픈 소스\n",
    "        * 별도의 DB 서버가 없어도 쉽고 편리하게 사용할 수 있는 Embeded SQL DB 엔진\n",
    "        * 안드로이드, 아이폰 등의 스마트폰에 기본 내장된 DB\n",
    "        * 표준 SQL 지원\n",
    "        * 파이썬에 내장\n",
    "    * 단점\n",
    "        * 컬럼을 삭제하거나 변경하는 것 등이 제한\n",
    "        * Left Outer Join만 지원\n",
    "        * 읽기 전용 뷰만 제공\n",
    "        \n",
    "3. 공식 사이트 : http://sqlite.org\n",
    "\n",
    "4. 클라이언트 툴\n",
    "    * http://www.sqliteexpert.com"
   ]
  },
  {
   "cell_type": "code",
   "execution_count": 47,
   "metadata": {},
   "outputs": [
    {
     "name": "stdout",
     "output_type": "stream",
     "text": [
      "2.6.0\n",
      "3.31.1\n"
     ]
    }
   ],
   "source": [
    "# sqliteexpert를 이용해서 db 생성 : mysqlite.db\n",
    "\n",
    "'''\n",
    "CREATE TABLE tblmember(\n",
    "    id    int,\n",
    "    name    varchar(10),\n",
    "    regdate    datetime);\n",
    "'''\n",
    "\n",
    "'''\n",
    "INSERT INTO tblmember VALUES(1, '홍길동', '2020-5-5');\n",
    "INSERT INTO tblmember VALUES(2, '임꺽정', date('now'));\n",
    "'''\n",
    "\n",
    "import sqlite3\n",
    "\n",
    "print(sqlite3.version)\n",
    "print(sqlite3.sqlite_version)"
   ]
  },
  {
   "cell_type": "code",
   "execution_count": 52,
   "metadata": {},
   "outputs": [
    {
     "name": "stdout",
     "output_type": "stream",
     "text": [
      "<sqlite3.Connection object at 0x000001F4C3121D50>\n",
      "<sqlite3.Cursor object at 0x000001F4C31E9420>\n"
     ]
    }
   ],
   "source": [
    "conn = sqlite3.connect('C:/Users/acorn/hyeonji/database/mysqlite.db')\n",
    "print(conn)\n",
    "cur = conn.cursor()\n",
    "print(cur)\n",
    "conn.close()"
   ]
  },
  {
   "cell_type": "code",
   "execution_count": 58,
   "metadata": {},
   "outputs": [
    {
     "name": "stdout",
     "output_type": "stream",
     "text": [
      "(1, '홍길동', '2020-5-5')\n",
      "(2, '임꺽정', '2020-05-28')\n"
     ]
    }
   ],
   "source": [
    "# SELECT\n",
    "\n",
    "conn = sqlite3.connect('C:/Users/acorn/hyeonji/database/mysqlite.db')\n",
    "cur = conn.cursor()\n",
    "\n",
    "cur.execute('SELECT * FROM tblmember')\n",
    "\n",
    "for row in cur :\n",
    "    print(row)\n",
    "    \n",
    "conn.close()"
   ]
  },
  {
   "cell_type": "code",
   "execution_count": 63,
   "metadata": {},
   "outputs": [],
   "source": [
    "# INSERT\n",
    "\n",
    "conn = sqlite3.connect('C:/Users/acorn/hyeonji/database/mysqlite.db')\n",
    "cur = conn.cursor()\n",
    "\n",
    "cur.execute(\"INSERT INTO tblmember VALUES(3, '홍경래', date('now'))\")\n",
    "\n",
    "conn.commit()\n",
    "conn.close()"
   ]
  },
  {
   "cell_type": "code",
   "execution_count": 66,
   "metadata": {},
   "outputs": [],
   "source": [
    "# csv 파일을 읽어서 DB에 저장\n",
    "\n",
    "'''\n",
    "CREATE TABLE IF NOT EXISTS suppliers(\n",
    "    Supplier_Name    varchar(20),\n",
    "    Invoice_Number   varchar(20),\n",
    "    Part_Number      varchar(20),\n",
    "    Cost             float,\n",
    "    Purchase_Date    date\n",
    ");\n",
    "'''\n",
    "\n",
    "import csv\n",
    "\n",
    "file = csv.reader(open('C:/Users/acorn/hyeonji/database/input.csv', 'r'), delimiter=',')\n",
    "header = next(file)\n",
    "\n",
    "\n",
    "conn = sqlite3.connect('C:/Users/acorn/hyeonji/database/mysqlite.db')\n",
    "cur = conn.cursor()\n",
    "\n",
    "\n",
    "for row in file :\n",
    "    cur.execute('INSERT INTO suppliers VALUES(?, ?, ?, ?, ?)', row)\n",
    "    \n",
    "    \n",
    "conn.commit()   \n",
    "conn.close()"
   ]
  },
  {
   "cell_type": "code",
   "execution_count": 67,
   "metadata": {},
   "outputs": [
    {
     "data": {
      "text/plain": [
       "'\\n1) mysql의 emp테이블을 emp.csv로 저장\\n\\n2) emp테이블을 이용해서 아래와 같은 프로그램\\n\\n예시)\\n        1. mysql\\n        2. sqlite\\n        연결할 db의 종류 :\\n        \\n        연결할 주소와 계정을 입력: (mysql일 경우)\\n        주소 : xxx.xxx.xxx.xxx\\n        아이디 : xxx\\n        패스워드 : xxx\\n        \\n        메뉴 선택\\n        1. 조회\\n        2. 입력\\n        3. 수정\\n        4. 삭제\\n        메뉴 : \\n    \\n'"
      ]
     },
     "execution_count": 67,
     "metadata": {},
     "output_type": "execute_result"
    }
   ],
   "source": [
    "\"\"\"\n",
    "1) mysql의 emp테이블을 emp.csv로 저장\n",
    "\n",
    "2) emp테이블을 이용해서 아래와 같은 프로그램\n",
    "\n",
    "예시)\n",
    "        1. mysql\n",
    "        2. sqlite\n",
    "        연결할 db의 종류 :\n",
    "        \n",
    "        연결할 주소와 계정을 입력: (mysql일 경우)\n",
    "        주소 : xxx.xxx.xxx.xxx\n",
    "        아이디 : xxx\n",
    "        패스워드 : xxx\n",
    "        \n",
    "        메뉴 선택\n",
    "        1. 조회\n",
    "        2. 입력\n",
    "        3. 수정\n",
    "        4. 삭제\n",
    "        메뉴 : \n",
    "    \n",
    "\"\"\""
   ]
  },
  {
   "cell_type": "code",
   "execution_count": 70,
   "metadata": {},
   "outputs": [
    {
     "data": {
      "text/plain": [
       "<sqlite3.Cursor at 0x1f4c3203420>"
      ]
     },
     "execution_count": 70,
     "metadata": {},
     "output_type": "execute_result"
    }
   ],
   "source": [
    "# 메모리 DB\n",
    "\n",
    "conn = sqlite3.connect(\":memory:\")\n",
    "cur = conn.cursor()\n",
    "#print(cur)\n",
    "\n",
    "cur.execute(\"CREATE TABLE phonebook(name text, phonenum varchar(20));\")\n",
    "cur.execute(\"INSERT INTO phonebook VALUES(?, ?);\", (\"Tom\", \"010-111-1111\"))"
   ]
  },
  {
   "cell_type": "code",
   "execution_count": 71,
   "metadata": {},
   "outputs": [
    {
     "name": "stdout",
     "output_type": "stream",
     "text": [
      "('Tom', '010-111-1111')\n"
     ]
    }
   ],
   "source": [
    "cur.execute(\"select * from phonebook\")\n",
    "\n",
    "for i in cur:\n",
    "    print(i)"
   ]
  },
  {
   "cell_type": "code",
   "execution_count": 78,
   "metadata": {},
   "outputs": [
    {
     "data": {
      "text/plain": [
       "<sqlite3.Cursor at 0x1f4c3203420>"
      ]
     },
     "execution_count": 78,
     "metadata": {},
     "output_type": "execute_result"
    }
   ],
   "source": [
    "# 입력 데이터 인자를 변수명 처리\n",
    "\n",
    "sql = \"INSERT INTO phonebook VALUES(:vName, :vPhone)\"\n",
    "cur.execute(sql, {\"vPhone\" : \"010-222-2222\", \"vName\" : \"Johnson\"})"
   ]
  },
  {
   "cell_type": "code",
   "execution_count": 79,
   "metadata": {},
   "outputs": [
    {
     "data": {
      "text/plain": [
       "<sqlite3.Cursor at 0x1f4c3203420>"
      ]
     },
     "execution_count": 79,
     "metadata": {},
     "output_type": "execute_result"
    }
   ],
   "source": [
    "# 여러 개의 데이터를 한 번에 처리 : executemany\n",
    "\n",
    "datalist = (('jane', '010-333-3333'), ('paul', '010-444-4444'), ('chris', '010-555-5555'))\n",
    "\n",
    "cur.executemany(\"INSERT INTO phonebook VALUES(?, ?);\", datalist)"
   ]
  },
  {
   "cell_type": "code",
   "execution_count": 80,
   "metadata": {},
   "outputs": [
    {
     "name": "stdout",
     "output_type": "stream",
     "text": [
      "('Tom', '010-111-1111')\n",
      "('Johnson', '010-222-2222')\n",
      "('jane', '010-333-3333')\n"
     ]
    }
   ],
   "source": [
    "# 입력 데이터가 여러 개일 때 : fetchmany\n",
    "\n",
    "cur.execute(\"select * from phonebook\")\n",
    "\n",
    "for i in cur.fetchmany(3) :\n",
    "    print(i)"
   ]
  },
  {
   "cell_type": "code",
   "execution_count": 82,
   "metadata": {},
   "outputs": [],
   "source": [
    "# 작업한 내용을 스크립트로 저장\n",
    "\n",
    "f = open('C:/Users/acorn/hyeonji/database/dump.sql', 'w')\n",
    "\n",
    "for line in conn.iterdump() :\n",
    "    #print(line)\n",
    "    f.write(\"{}\\n\".format(line))\n",
    "\n",
    "f.close()\n",
    "conn.close()"
   ]
  },
  {
   "cell_type": "code",
   "execution_count": 84,
   "metadata": {},
   "outputs": [
    {
     "name": "stdout",
     "output_type": "stream",
     "text": [
      "('Tom', '010-111-1111')\n",
      "('Johnson', '010-222-2222')\n",
      "('jane', '010-333-3333')\n"
     ]
    }
   ],
   "source": [
    "# 스크립트 불러오기\n",
    "\n",
    "conn = sqlite3.connect(\":memory:\")\n",
    "cur = conn.cursor()\n",
    "\n",
    "f = open('C:/Users/acorn/hyeonji/database/dump.sql')\n",
    "script = f.read()\n",
    "#print(script)\n",
    "\n",
    "cur.executescript(script)\n",
    "\n",
    "cur.execute(\"select * from phonebook\")\n",
    "\n",
    "for i in cur.fetchmany(3) :\n",
    "    print(i)\n",
    "    \n",
    "f.close()\n",
    "conn.close()"
   ]
  },
  {
   "cell_type": "markdown",
   "metadata": {},
   "source": [
    "## 3. MongoDB와 연동\n",
    "\n",
    "pip install pymongo"
   ]
  },
  {
   "cell_type": "code",
   "execution_count": 3,
   "metadata": {},
   "outputs": [
    {
     "name": "stdout",
     "output_type": "stream",
     "text": [
      "MongoClient(host=['127.0.0.1:27017'], document_class=dict, tz_aware=False, connect=True)\n"
     ]
    }
   ],
   "source": [
    "# 방법 1\n",
    "import pymongo\n",
    "\n",
    "conn = pymongo.MongoClient(\"127.0.0.1\", 27017)\n",
    "print(conn)\n",
    "conn.close()"
   ]
  },
  {
   "cell_type": "code",
   "execution_count": 2,
   "metadata": {
    "scrolled": true
   },
   "outputs": [
    {
     "name": "stdout",
     "output_type": "stream",
     "text": [
      "MongoClient(host=['127.0.0.1:27017'], document_class=dict, tz_aware=False, connect=True)\n"
     ]
    }
   ],
   "source": [
    "# 방법 2\n",
    "from pymongo import MongoClient\n",
    "\n",
    "conn = MongoClient(\"mongodb://127.0.0.1:27017\")\n",
    "print(conn)\n",
    "conn.close()"
   ]
  },
  {
   "cell_type": "code",
   "execution_count": 6,
   "metadata": {},
   "outputs": [
    {
     "name": "stdout",
     "output_type": "stream",
     "text": [
      "Database(MongoClient(host=['127.0.0.1:27017'], document_class=dict, tz_aware=False, connect=True), 'testdb')\n"
     ]
    }
   ],
   "source": [
    "# DB 연결\n",
    "\n",
    "conn = MongoClient(\"mongodb://127.0.0.1:27017\")\n",
    "\n",
    "#db = conn.testdb\n",
    "#db = conn.testdb2    -> 새로운 db 생성\n",
    "db = conn[\"testdb\"]\n",
    "\n",
    "print(db)\n",
    "\n",
    "conn.close()"
   ]
  },
  {
   "cell_type": "code",
   "execution_count": 7,
   "metadata": {},
   "outputs": [
    {
     "name": "stdout",
     "output_type": "stream",
     "text": [
      "Collection(Database(MongoClient(host=['127.0.0.1:27017'], document_class=dict, tz_aware=False, connect=True), 'testdb'), 'articles')\n"
     ]
    }
   ],
   "source": [
    "# Collection과 연결\n",
    "\n",
    "conn = MongoClient(\"mongodb://127.0.0.1:27017\")\n",
    "\n",
    "db = conn[\"testdb\"]\n",
    "#coll = db.articles\n",
    "#coll = db[\"articles\"]\n",
    "coll = db.get_collection(\"articles\")\n",
    "\n",
    "print(coll)\n",
    "\n",
    "conn.close()"
   ]
  },
  {
   "cell_type": "code",
   "execution_count": 10,
   "metadata": {},
   "outputs": [
    {
     "name": "stdout",
     "output_type": "stream",
     "text": [
      "6\n",
      "5ed0bdcb29e37669e377bb6c\n"
     ]
    },
    {
     "name": "stderr",
     "output_type": "stream",
     "text": [
      "C:\\Users\\acorn\\Anaconda3\\lib\\site-packages\\ipykernel_launcher.py:10: DeprecationWarning: count is deprecated. Use estimated_document_count or count_documents instead. Please note that $where must be replaced by $expr, $near must be replaced by $geoWithin with $center, and $nearSphere must be replaced by $geoWithin with $centerSphere\n",
      "  # Remove the CWD from sys.path while we load stuff.\n"
     ]
    }
   ],
   "source": [
    "# 데이터 한 개 입력\n",
    "## coll.count() : coll에 몇 개의 document가 있는지  확인\n",
    "## coll.insert_one({\"키\" : \"값\"})\n",
    "\n",
    "conn = MongoClient(\"mongodb://127.0.0.1:27017\")\n",
    "\n",
    "db = conn[\"testdb\"]\n",
    "coll = db.people\n",
    "\n",
    "print(coll.count())\n",
    "\n",
    "#data = {\"author\" : \"Mike\", \"text\" : \"my first blog post!\", \n",
    "#        \"tag\" : [\"mongodb\", \"python\"]}\n",
    "#coll.insert_one(data)\n",
    "\n",
    "data = {\"author\" : \"Mike\", \"text\" : \"my second blog post!\", \n",
    "        \"tag\" : [\"mongodb\", \"python\"]}\n",
    "post_id = coll.insert_one(data).inserted_id\n",
    "print(post_id)\n",
    "\n",
    "conn.close()"
   ]
  },
  {
   "cell_type": "code",
   "execution_count": 11,
   "metadata": {},
   "outputs": [
    {
     "name": "stdout",
     "output_type": "stream",
     "text": [
      "7\n",
      "17\n"
     ]
    },
    {
     "name": "stderr",
     "output_type": "stream",
     "text": [
      "C:\\Users\\acorn\\Anaconda3\\lib\\site-packages\\ipykernel_launcher.py:7: DeprecationWarning: count is deprecated. Use estimated_document_count or count_documents instead. Please note that $where must be replaced by $expr, $near must be replaced by $geoWithin with $center, and $nearSphere must be replaced by $geoWithin with $centerSphere\n",
      "  import sys\n",
      "C:\\Users\\acorn\\Anaconda3\\lib\\site-packages\\ipykernel_launcher.py:20: DeprecationWarning: count is deprecated. Use estimated_document_count or count_documents instead. Please note that $where must be replaced by $expr, $near must be replaced by $geoWithin with $center, and $nearSphere must be replaced by $geoWithin with $centerSphere\n"
     ]
    }
   ],
   "source": [
    "# 데이터 여러 개 입력\n",
    "\n",
    "conn = MongoClient(\"mongodb://127.0.0.1:27017\")\n",
    "db = conn[\"testdb\"]\n",
    "coll = db.people\n",
    "\n",
    "print(coll.count())\n",
    "\n",
    "'''\n",
    "data = []\n",
    "for i in range(10) :\n",
    "    temp = {\"number\" : i}\n",
    "    data.append(temp)\n",
    "        \n",
    "coll.insert_many(data)\n",
    "'''\n",
    "\n",
    "coll.insert_many([{\"number\" : i} for i in range(10)])\n",
    "\n",
    "print(coll.count())\n",
    "\n",
    "conn.close()"
   ]
  },
  {
   "cell_type": "code",
   "execution_count": 9,
   "metadata": {
    "scrolled": true
   },
   "outputs": [
    {
     "name": "stdout",
     "output_type": "stream",
     "text": [
      "{'_id': ObjectId('5ed0a24d7277e7fa4cc06bf1'), 'name': 'Abet', 'age': 20.0, 'score': 10.0}\n",
      "-------------------------------------------------------------------------------------\n",
      "{'_id': ObjectId('5ed0a24d7277e7fa4cc06bf2'), 'name': 'Betty', 'age': 20.0, 'score': 10.0}\n",
      "-------------------------------------------------------------------------------------\n",
      "{'_id': ObjectId('5ed0a24d7277e7fa4cc06bf1'), 'name': 'Abet', 'age': 20.0, 'score': 10.0}\n",
      "{'_id': ObjectId('5ed0a24d7277e7fa4cc06bf2'), 'name': 'Betty', 'age': 20.0, 'score': 10.0}\n",
      "{'_id': ObjectId('5ed0a24d7277e7fa4cc06bf3'), 'name': 'Charlie', 'age': 23.0, 'skills': ['mongodb', 'python']}\n",
      "{'_id': ObjectId('5ed0a24d7277e7fa4cc06bf4'), 'name': 'David', 'age': 23.0, 'score': 20.0}\n"
     ]
    }
   ],
   "source": [
    "# 조회\n",
    "\n",
    "conn = MongoClient(\"mongodb://127.0.0.1:27017\")\n",
    "db = conn[\"testdb\"]\n",
    "coll = db.people\n",
    "\n",
    "#for i in coll.find():\n",
    "#    print(i)\n",
    "\n",
    "\n",
    "# age가 20인 document 조회\n",
    "for i in coll.find({\"age\" : 20}) :\n",
    "    print(i)\n",
    "    print('-'*85)\n",
    "\n",
    "# age가 20 이상인 document 조회\n",
    "for i in coll.find({\"age\" : {\"$gte\" : 20}}) :\n",
    "    print(i)\n",
    "\n",
    "print(coll.find_one({\"author\" : \"Mike\"}))\n",
    "    \n",
    "conn.close()"
   ]
  },
  {
   "cell_type": "code",
   "execution_count": null,
   "metadata": {},
   "outputs": [],
   "source": [
    "# 데이터 수정\n",
    "\n",
    "conn = MongoClient(\"mongodb://127.0.0.1:27017\")\n",
    "db = conn[\"testdb\"]\n",
    "coll = db.people\n",
    "\n",
    "coll.update_one({\"author\" : \"Mike\"}, {\"$set\" :{\"text\" : \"my third blog post!\"}})\n",
    "\n",
    "print(coll.find_one({\"author\" : \"Mike\"}))\n",
    "\n",
    "conn.close()"
   ]
  }
 ],
 "metadata": {
  "kernelspec": {
   "display_name": "Python 3",
   "language": "python",
   "name": "python3"
  },
  "language_info": {
   "codemirror_mode": {
    "name": "ipython",
    "version": 3
   },
   "file_extension": ".py",
   "mimetype": "text/x-python",
   "name": "python",
   "nbconvert_exporter": "python",
   "pygments_lexer": "ipython3",
   "version": "3.7.6"
  }
 },
 "nbformat": 4,
 "nbformat_minor": 4
}
