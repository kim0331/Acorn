{
 "cells": [
  {
   "cell_type": "markdown",
   "metadata": {},
   "source": [
    "# 1. 서울시 구별 CCTV 현황 분석\n",
    "\n",
    "* http://opengov.seoul.go.kr\n",
    "* http://stat.seoul.go.kr"
   ]
  },
  {
   "cell_type": "code",
   "execution_count": 1,
   "metadata": {},
   "outputs": [],
   "source": [
    "import numpy as np\n",
    "import pandas as pd\n",
    "import matplotlib as mpl\n",
    "import matplotlib.pyplot as plt\n",
    "import seaborn as sns\n",
    "import matplotlib.font_manager as fm\n",
    "\n",
    "# 한글 폰트 설정\n",
    "import matplotlib.font_manager as fm\n",
    "font_name = fm.FontProperties(fname = 'C:/Windows/Fonts/malgun.ttf').get_name()\n",
    "plt.rc('font', family = font_name)\n",
    "\n",
    "# 마이너스(-) 폰트 설정\n",
    "mpl.rcParams['axes.unicode_minus'] = False"
   ]
  },
  {
   "cell_type": "markdown",
   "metadata": {},
   "source": [
    "## 1) 데이터 수집"
   ]
  },
  {
   "cell_type": "code",
   "execution_count": 2,
   "metadata": {},
   "outputs": [
    {
     "data": {
      "text/html": [
       "<div>\n",
       "<style scoped>\n",
       "    .dataframe tbody tr th:only-of-type {\n",
       "        vertical-align: middle;\n",
       "    }\n",
       "\n",
       "    .dataframe tbody tr th {\n",
       "        vertical-align: top;\n",
       "    }\n",
       "\n",
       "    .dataframe thead th {\n",
       "        text-align: right;\n",
       "    }\n",
       "</style>\n",
       "<table border=\"1\" class=\"dataframe\">\n",
       "  <thead>\n",
       "    <tr style=\"text-align: right;\">\n",
       "      <th></th>\n",
       "      <th>기관명</th>\n",
       "      <th>소계</th>\n",
       "      <th>2013년도 이전</th>\n",
       "      <th>2014년</th>\n",
       "      <th>2015년</th>\n",
       "      <th>2016년</th>\n",
       "    </tr>\n",
       "  </thead>\n",
       "  <tbody>\n",
       "    <tr>\n",
       "      <th>0</th>\n",
       "      <td>강남구</td>\n",
       "      <td>3238</td>\n",
       "      <td>1292</td>\n",
       "      <td>430</td>\n",
       "      <td>584</td>\n",
       "      <td>932</td>\n",
       "    </tr>\n",
       "    <tr>\n",
       "      <th>1</th>\n",
       "      <td>강동구</td>\n",
       "      <td>1010</td>\n",
       "      <td>379</td>\n",
       "      <td>99</td>\n",
       "      <td>155</td>\n",
       "      <td>377</td>\n",
       "    </tr>\n",
       "    <tr>\n",
       "      <th>2</th>\n",
       "      <td>강북구</td>\n",
       "      <td>831</td>\n",
       "      <td>369</td>\n",
       "      <td>120</td>\n",
       "      <td>138</td>\n",
       "      <td>204</td>\n",
       "    </tr>\n",
       "    <tr>\n",
       "      <th>3</th>\n",
       "      <td>강서구</td>\n",
       "      <td>911</td>\n",
       "      <td>388</td>\n",
       "      <td>258</td>\n",
       "      <td>184</td>\n",
       "      <td>81</td>\n",
       "    </tr>\n",
       "    <tr>\n",
       "      <th>4</th>\n",
       "      <td>관악구</td>\n",
       "      <td>2109</td>\n",
       "      <td>846</td>\n",
       "      <td>260</td>\n",
       "      <td>390</td>\n",
       "      <td>613</td>\n",
       "    </tr>\n",
       "  </tbody>\n",
       "</table>\n",
       "</div>"
      ],
      "text/plain": [
       "   기관명    소계  2013년도 이전  2014년  2015년  2016년\n",
       "0  강남구  3238       1292    430    584    932\n",
       "1  강동구  1010        379     99    155    377\n",
       "2  강북구   831        369    120    138    204\n",
       "3  강서구   911        388    258    184     81\n",
       "4  관악구  2109        846    260    390    613"
      ]
     },
     "execution_count": 2,
     "metadata": {},
     "output_type": "execute_result"
    }
   ],
   "source": [
    "# CCTV 자료 불러오기\n",
    "\n",
    "cctv_seoul = pd.read_csv('data/seoul/cctv.csv')\n",
    "cctv_seoul.head()"
   ]
  },
  {
   "cell_type": "code",
   "execution_count": 3,
   "metadata": {},
   "outputs": [
    {
     "data": {
      "text/html": [
       "<div>\n",
       "<style scoped>\n",
       "    .dataframe tbody tr th:only-of-type {\n",
       "        vertical-align: middle;\n",
       "    }\n",
       "\n",
       "    .dataframe tbody tr th {\n",
       "        vertical-align: top;\n",
       "    }\n",
       "\n",
       "    .dataframe thead th {\n",
       "        text-align: right;\n",
       "    }\n",
       "</style>\n",
       "<table border=\"1\" class=\"dataframe\">\n",
       "  <thead>\n",
       "    <tr style=\"text-align: right;\">\n",
       "      <th></th>\n",
       "      <th>자치구</th>\n",
       "      <th>계</th>\n",
       "      <th>계.1</th>\n",
       "      <th>계.2</th>\n",
       "      <th>65세이상고령자</th>\n",
       "    </tr>\n",
       "  </thead>\n",
       "  <tbody>\n",
       "    <tr>\n",
       "      <th>0</th>\n",
       "      <td>합계</td>\n",
       "      <td>10112070</td>\n",
       "      <td>9838892</td>\n",
       "      <td>273178</td>\n",
       "      <td>1382420</td>\n",
       "    </tr>\n",
       "    <tr>\n",
       "      <th>1</th>\n",
       "      <td>종로구</td>\n",
       "      <td>164348</td>\n",
       "      <td>154549</td>\n",
       "      <td>9799</td>\n",
       "      <td>26429</td>\n",
       "    </tr>\n",
       "    <tr>\n",
       "      <th>2</th>\n",
       "      <td>중구</td>\n",
       "      <td>135139</td>\n",
       "      <td>126082</td>\n",
       "      <td>9057</td>\n",
       "      <td>21655</td>\n",
       "    </tr>\n",
       "    <tr>\n",
       "      <th>3</th>\n",
       "      <td>용산구</td>\n",
       "      <td>245411</td>\n",
       "      <td>229909</td>\n",
       "      <td>15502</td>\n",
       "      <td>37238</td>\n",
       "    </tr>\n",
       "    <tr>\n",
       "      <th>4</th>\n",
       "      <td>성동구</td>\n",
       "      <td>314551</td>\n",
       "      <td>306532</td>\n",
       "      <td>8019</td>\n",
       "      <td>41752</td>\n",
       "    </tr>\n",
       "  </tbody>\n",
       "</table>\n",
       "</div>"
      ],
      "text/plain": [
       "   자치구         계      계.1     계.2  65세이상고령자\n",
       "0   합계  10112070  9838892  273178   1382420\n",
       "1  종로구    164348   154549    9799     26429\n",
       "2   중구    135139   126082    9057     21655\n",
       "3  용산구    245411   229909   15502     37238\n",
       "4  성동구    314551   306532    8019     41752"
      ]
     },
     "execution_count": 3,
     "metadata": {},
     "output_type": "execute_result"
    }
   ],
   "source": [
    "# 인구수 자료 불러오기\n",
    "\n",
    "pop_seoul = pd.read_excel('data/seoul/Report.xls', usecols = 'B, D, G, J, N',\n",
    "                         header = 2)\n",
    "pop_seoul.head()"
   ]
  },
  {
   "cell_type": "markdown",
   "metadata": {},
   "source": [
    "## 2) 전처리"
   ]
  },
  {
   "cell_type": "code",
   "execution_count": 4,
   "metadata": {},
   "outputs": [
    {
     "data": {
      "text/plain": [
       "Index(['구별', '소계', '2013년도 이전', '2014년', '2015년', '2016년'], dtype='object')"
      ]
     },
     "execution_count": 4,
     "metadata": {},
     "output_type": "execute_result"
    }
   ],
   "source": [
    "# 컬럼명 변경\n",
    "## cctv 자료에서 기관명이라는 컬럼명을 '구별'로 변경\n",
    "cctv_seoul.rename(columns={cctv_seoul.columns[0]:'구별'}, inplace=True)\n",
    "cctv_seoul.head()\n",
    "\n",
    "## 인구 자료 컬럼명 변경\n",
    "pop_seoul.rename(columns={pop_seoul.columns[0]: '구별',\n",
    "                          pop_seoul.columns[1]: '인구수',\n",
    "                          pop_seoul.columns[2]: '한국인',\n",
    "                          pop_seoul.columns[3]: '외국인',\n",
    "                          pop_seoul.columns[4]: '고령자'}, inplace=True)\n",
    "pop_seoul.head()\n",
    "\n",
    "cctv_seoul.columns"
   ]
  },
  {
   "cell_type": "markdown",
   "metadata": {},
   "source": [
    "## 3) 탐색적 데이터 분석"
   ]
  },
  {
   "cell_type": "code",
   "execution_count": 5,
   "metadata": {},
   "outputs": [
    {
     "name": "stdout",
     "output_type": "stream",
     "text": [
      "     구별    소계  2013년도 이전  2014년  2015년  2016년\n",
      "0   강남구  3238       1292    430    584    932\n",
      "18  양천구  2482       1843    142     30    467\n",
      "14  서초구  2297       1406    157    336    398\n",
      "4   관악구  2109        846    260    390    613\n",
      "21  은평구  2108       1138    224    278    468\n",
      "--------------------------------------------------------------------------------\n",
      "     구별   소계  2013년도 이전  2014년  2015년  2016년\n",
      "9   도봉구  825        238    159     42    386\n",
      "2   강북구  831        369    120    138    204\n",
      "5   광진구  878        573     78     53    174\n",
      "3   강서구  911        388    258    184     81\n",
      "24  중랑구  916        509    121    177    109\n"
     ]
    }
   ],
   "source": [
    "# 어느 구가 가장 cctv가 많이 설치되어있는가? (가장 적게 설치된 곳은 어디인가?)\n",
    "## cctv 데이터에서 소계를 기준으로 정렬\n",
    "\n",
    "print(cctv_seoul.sort_values(by = '소계', ascending = False).head())\n",
    "\n",
    "print('-'*80)\n",
    "\n",
    "print(cctv_seoul.sort_values(by = '소계').head())"
   ]
  },
  {
   "cell_type": "code",
   "execution_count": 6,
   "metadata": {},
   "outputs": [
    {
     "data": {
      "text/html": [
       "<div>\n",
       "<style scoped>\n",
       "    .dataframe tbody tr th:only-of-type {\n",
       "        vertical-align: middle;\n",
       "    }\n",
       "\n",
       "    .dataframe tbody tr th {\n",
       "        vertical-align: top;\n",
       "    }\n",
       "\n",
       "    .dataframe thead th {\n",
       "        text-align: right;\n",
       "    }\n",
       "</style>\n",
       "<table border=\"1\" class=\"dataframe\">\n",
       "  <thead>\n",
       "    <tr style=\"text-align: right;\">\n",
       "      <th></th>\n",
       "      <th>구별</th>\n",
       "      <th>소계</th>\n",
       "      <th>2013년도 이전</th>\n",
       "      <th>2014년</th>\n",
       "      <th>2015년</th>\n",
       "      <th>2016년</th>\n",
       "      <th>최근증가율</th>\n",
       "    </tr>\n",
       "  </thead>\n",
       "  <tbody>\n",
       "    <tr>\n",
       "      <th>22</th>\n",
       "      <td>종로구</td>\n",
       "      <td>1619</td>\n",
       "      <td>464</td>\n",
       "      <td>314</td>\n",
       "      <td>211</td>\n",
       "      <td>630</td>\n",
       "      <td>248.922414</td>\n",
       "    </tr>\n",
       "    <tr>\n",
       "      <th>9</th>\n",
       "      <td>도봉구</td>\n",
       "      <td>825</td>\n",
       "      <td>238</td>\n",
       "      <td>159</td>\n",
       "      <td>42</td>\n",
       "      <td>386</td>\n",
       "      <td>246.638655</td>\n",
       "    </tr>\n",
       "    <tr>\n",
       "      <th>12</th>\n",
       "      <td>마포구</td>\n",
       "      <td>980</td>\n",
       "      <td>314</td>\n",
       "      <td>118</td>\n",
       "      <td>169</td>\n",
       "      <td>379</td>\n",
       "      <td>212.101911</td>\n",
       "    </tr>\n",
       "    <tr>\n",
       "      <th>8</th>\n",
       "      <td>노원구</td>\n",
       "      <td>1566</td>\n",
       "      <td>542</td>\n",
       "      <td>57</td>\n",
       "      <td>451</td>\n",
       "      <td>516</td>\n",
       "      <td>188.929889</td>\n",
       "    </tr>\n",
       "    <tr>\n",
       "      <th>1</th>\n",
       "      <td>강동구</td>\n",
       "      <td>1010</td>\n",
       "      <td>379</td>\n",
       "      <td>99</td>\n",
       "      <td>155</td>\n",
       "      <td>377</td>\n",
       "      <td>166.490765</td>\n",
       "    </tr>\n",
       "  </tbody>\n",
       "</table>\n",
       "</div>"
      ],
      "text/plain": [
       "     구별    소계  2013년도 이전  2014년  2015년  2016년       최근증가율\n",
       "22  종로구  1619        464    314    211    630  248.922414\n",
       "9   도봉구   825        238    159     42    386  246.638655\n",
       "12  마포구   980        314    118    169    379  212.101911\n",
       "8   노원구  1566        542     57    451    516  188.929889\n",
       "1   강동구  1010        379     99    155    377  166.490765"
      ]
     },
     "execution_count": 6,
     "metadata": {},
     "output_type": "execute_result"
    }
   ],
   "source": [
    "# cctv 설치 증가율을 알아보자\n",
    "## cctv 설치 연도별 증가율을 구해서 '최근 증가율' 컬럼 새로 추가\n",
    "## ((2014+2015+2016)/2013년도 이전) *100\n",
    "\n",
    "cctv_seoul['최근증가율'] = ((cctv_seoul['2014년']+cctv_seoul['2015년']+cctv_seoul['2016년'])/cctv_seoul['2013년도 이전'])*100\n",
    "\n",
    "cctv_seoul.sort_values(by = '최근증가율', ascending = False).head()"
   ]
  },
  {
   "cell_type": "code",
   "execution_count": 7,
   "metadata": {},
   "outputs": [
    {
     "data": {
      "text/html": [
       "<div>\n",
       "<style scoped>\n",
       "    .dataframe tbody tr th:only-of-type {\n",
       "        vertical-align: middle;\n",
       "    }\n",
       "\n",
       "    .dataframe tbody tr th {\n",
       "        vertical-align: top;\n",
       "    }\n",
       "\n",
       "    .dataframe thead th {\n",
       "        text-align: right;\n",
       "    }\n",
       "</style>\n",
       "<table border=\"1\" class=\"dataframe\">\n",
       "  <thead>\n",
       "    <tr style=\"text-align: right;\">\n",
       "      <th></th>\n",
       "      <th>구별</th>\n",
       "      <th>인구수</th>\n",
       "      <th>한국인</th>\n",
       "      <th>외국인</th>\n",
       "      <th>고령자</th>\n",
       "    </tr>\n",
       "  </thead>\n",
       "  <tbody>\n",
       "    <tr>\n",
       "      <th>1</th>\n",
       "      <td>종로구</td>\n",
       "      <td>164348</td>\n",
       "      <td>154549</td>\n",
       "      <td>9799</td>\n",
       "      <td>26429</td>\n",
       "    </tr>\n",
       "    <tr>\n",
       "      <th>2</th>\n",
       "      <td>중구</td>\n",
       "      <td>135139</td>\n",
       "      <td>126082</td>\n",
       "      <td>9057</td>\n",
       "      <td>21655</td>\n",
       "    </tr>\n",
       "    <tr>\n",
       "      <th>3</th>\n",
       "      <td>용산구</td>\n",
       "      <td>245411</td>\n",
       "      <td>229909</td>\n",
       "      <td>15502</td>\n",
       "      <td>37238</td>\n",
       "    </tr>\n",
       "    <tr>\n",
       "      <th>4</th>\n",
       "      <td>성동구</td>\n",
       "      <td>314551</td>\n",
       "      <td>306532</td>\n",
       "      <td>8019</td>\n",
       "      <td>41752</td>\n",
       "    </tr>\n",
       "    <tr>\n",
       "      <th>5</th>\n",
       "      <td>광진구</td>\n",
       "      <td>371671</td>\n",
       "      <td>357149</td>\n",
       "      <td>14522</td>\n",
       "      <td>44470</td>\n",
       "    </tr>\n",
       "  </tbody>\n",
       "</table>\n",
       "</div>"
      ],
      "text/plain": [
       "    구별     인구수     한국인    외국인    고령자\n",
       "1  종로구  164348  154549   9799  26429\n",
       "2   중구  135139  126082   9057  21655\n",
       "3  용산구  245411  229909  15502  37238\n",
       "4  성동구  314551  306532   8019  41752\n",
       "5  광진구  371671  357149  14522  44470"
      ]
     },
     "execution_count": 7,
     "metadata": {},
     "output_type": "execute_result"
    }
   ],
   "source": [
    "# 인구수 데이터 분석\n",
    "## 필요없는 행 삭제 : del, drop\n",
    "pop_seoul.drop([0], inplace = True)\n",
    "pop_seoul.head()"
   ]
  },
  {
   "cell_type": "code",
   "execution_count": 8,
   "metadata": {},
   "outputs": [],
   "source": [
    "## 구별 데이터의 중복이나 결측치 등을 확인\n",
    "pop_seoul['구별'].unique()\n",
    "pop_seoul[pop_seoul['구별'].isnull()]\n",
    "\n",
    "## 확인한 결측치 삭제\n",
    "pop_seoul.drop([26], inplace = True)"
   ]
  },
  {
   "cell_type": "code",
   "execution_count": 9,
   "metadata": {},
   "outputs": [
    {
     "name": "stdout",
     "output_type": "stream",
     "text": [
      "     구별     인구수     한국인    외국인    고령자\n",
      "24  송파구  671994  665282   6712  77978\n",
      "16  강서구  608361  601696   6665  77381\n",
      "23  강남구  557865  552976   4889  65859\n",
      "11  노원구  555803  551902   3901  75081\n",
      "21  관악구  522292  504445  17847  70807\n"
     ]
    }
   ],
   "source": [
    "# 어느 구가 인구 수가 가장 많은가?\n",
    "print(pop_seoul.sort_values(by = '인구수', ascending = False).head())"
   ]
  },
  {
   "cell_type": "code",
   "execution_count": 10,
   "metadata": {},
   "outputs": [
    {
     "name": "stdout",
     "output_type": "stream",
     "text": [
      "      구별     인구수     한국인    외국인    고령자     외국인비율\n",
      "19  영등포구  403988  369128  34860  54704  8.628969\n",
      "18   금천구  253344  234238  19106  34640  7.541525\n",
      "17   구로구  440396  408369  32027  59838  7.272319\n",
      "2     중구  135139  126082   9057  21655  6.701988\n",
      "3    용산구  245411  229909  15502  37238  6.316750\n",
      "--------------------------------------------------------------------------------\n",
      "      구별     인구수     한국인    외국인    고령자     외국인비율      고령자비율\n",
      "9    강북구  327511  323862   3649  57002  1.114161  17.404606\n",
      "1    종로구  164348  154549   9799  26429  5.962348  16.081121\n",
      "2     중구  135139  126082   9057  21655  6.701988  16.024242\n",
      "10   도봉구  345041  342861   2180  54293  0.631809  15.735231\n",
      "6   동대문구  364962  349308  15654  56284  4.289214  15.421880\n"
     ]
    }
   ],
   "source": [
    "# 외국인비율, 고령자비율 컬럼을 추가해서 순위 확인\n",
    "pop_seoul['외국인비율'] = pop_seoul['외국인'] / pop_seoul['인구수'] * 100\n",
    "print(pop_seoul.sort_values(by = '외국인비율', ascending = False).head())\n",
    "print('-'*80)\n",
    "\n",
    "pop_seoul['고령자비율'] = pop_seoul['고령자'] / pop_seoul['인구수'] * 100\n",
    "print(pop_seoul.sort_values(by = '고령자비율', ascending = False).head())"
   ]
  },
  {
   "cell_type": "code",
   "execution_count": 11,
   "metadata": {},
   "outputs": [
    {
     "data": {
      "text/html": [
       "<div>\n",
       "<style scoped>\n",
       "    .dataframe tbody tr th:only-of-type {\n",
       "        vertical-align: middle;\n",
       "    }\n",
       "\n",
       "    .dataframe tbody tr th {\n",
       "        vertical-align: top;\n",
       "    }\n",
       "\n",
       "    .dataframe thead th {\n",
       "        text-align: right;\n",
       "    }\n",
       "</style>\n",
       "<table border=\"1\" class=\"dataframe\">\n",
       "  <thead>\n",
       "    <tr style=\"text-align: right;\">\n",
       "      <th></th>\n",
       "      <th>구별</th>\n",
       "      <th>소계</th>\n",
       "      <th>2013년도 이전</th>\n",
       "      <th>2014년</th>\n",
       "      <th>2015년</th>\n",
       "      <th>2016년</th>\n",
       "      <th>최근증가율</th>\n",
       "      <th>인구수</th>\n",
       "      <th>한국인</th>\n",
       "      <th>외국인</th>\n",
       "      <th>고령자</th>\n",
       "      <th>외국인비율</th>\n",
       "      <th>고령자비율</th>\n",
       "    </tr>\n",
       "  </thead>\n",
       "  <tbody>\n",
       "    <tr>\n",
       "      <th>0</th>\n",
       "      <td>강남구</td>\n",
       "      <td>3238</td>\n",
       "      <td>1292</td>\n",
       "      <td>430</td>\n",
       "      <td>584</td>\n",
       "      <td>932</td>\n",
       "      <td>150.619195</td>\n",
       "      <td>557865</td>\n",
       "      <td>552976</td>\n",
       "      <td>4889</td>\n",
       "      <td>65859</td>\n",
       "      <td>0.876377</td>\n",
       "      <td>11.805544</td>\n",
       "    </tr>\n",
       "    <tr>\n",
       "      <th>1</th>\n",
       "      <td>강동구</td>\n",
       "      <td>1010</td>\n",
       "      <td>379</td>\n",
       "      <td>99</td>\n",
       "      <td>155</td>\n",
       "      <td>377</td>\n",
       "      <td>166.490765</td>\n",
       "      <td>438225</td>\n",
       "      <td>434027</td>\n",
       "      <td>4198</td>\n",
       "      <td>56983</td>\n",
       "      <td>0.957955</td>\n",
       "      <td>13.003138</td>\n",
       "    </tr>\n",
       "    <tr>\n",
       "      <th>2</th>\n",
       "      <td>강북구</td>\n",
       "      <td>831</td>\n",
       "      <td>369</td>\n",
       "      <td>120</td>\n",
       "      <td>138</td>\n",
       "      <td>204</td>\n",
       "      <td>125.203252</td>\n",
       "      <td>327511</td>\n",
       "      <td>323862</td>\n",
       "      <td>3649</td>\n",
       "      <td>57002</td>\n",
       "      <td>1.114161</td>\n",
       "      <td>17.404606</td>\n",
       "    </tr>\n",
       "    <tr>\n",
       "      <th>3</th>\n",
       "      <td>강서구</td>\n",
       "      <td>911</td>\n",
       "      <td>388</td>\n",
       "      <td>258</td>\n",
       "      <td>184</td>\n",
       "      <td>81</td>\n",
       "      <td>134.793814</td>\n",
       "      <td>608361</td>\n",
       "      <td>601696</td>\n",
       "      <td>6665</td>\n",
       "      <td>77381</td>\n",
       "      <td>1.095567</td>\n",
       "      <td>12.719586</td>\n",
       "    </tr>\n",
       "    <tr>\n",
       "      <th>4</th>\n",
       "      <td>관악구</td>\n",
       "      <td>2109</td>\n",
       "      <td>846</td>\n",
       "      <td>260</td>\n",
       "      <td>390</td>\n",
       "      <td>613</td>\n",
       "      <td>149.290780</td>\n",
       "      <td>522292</td>\n",
       "      <td>504445</td>\n",
       "      <td>17847</td>\n",
       "      <td>70807</td>\n",
       "      <td>3.417054</td>\n",
       "      <td>13.556976</td>\n",
       "    </tr>\n",
       "  </tbody>\n",
       "</table>\n",
       "</div>"
      ],
      "text/plain": [
       "    구별    소계  2013년도 이전  2014년  2015년  2016년       최근증가율     인구수     한국인  \\\n",
       "0  강남구  3238       1292    430    584    932  150.619195  557865  552976   \n",
       "1  강동구  1010        379     99    155    377  166.490765  438225  434027   \n",
       "2  강북구   831        369    120    138    204  125.203252  327511  323862   \n",
       "3  강서구   911        388    258    184     81  134.793814  608361  601696   \n",
       "4  관악구  2109        846    260    390    613  149.290780  522292  504445   \n",
       "\n",
       "     외국인    고령자     외국인비율      고령자비율  \n",
       "0   4889  65859  0.876377  11.805544  \n",
       "1   4198  56983  0.957955  13.003138  \n",
       "2   3649  57002  1.114161  17.404606  \n",
       "3   6665  77381  1.095567  12.719586  \n",
       "4  17847  70807  3.417054  13.556976  "
      ]
     },
     "execution_count": 11,
     "metadata": {},
     "output_type": "execute_result"
    }
   ],
   "source": [
    "# cctv 데이터와 인구대비 데이터를 합치고 분석하기\n",
    "\n",
    "data_result = pd.merge(cctv_seoul, pop_seoul, on = '구별')\n",
    "data_result.head()"
   ]
  },
  {
   "cell_type": "code",
   "execution_count": 12,
   "metadata": {},
   "outputs": [
    {
     "data": {
      "text/html": [
       "<div>\n",
       "<style scoped>\n",
       "    .dataframe tbody tr th:only-of-type {\n",
       "        vertical-align: middle;\n",
       "    }\n",
       "\n",
       "    .dataframe tbody tr th {\n",
       "        vertical-align: top;\n",
       "    }\n",
       "\n",
       "    .dataframe thead th {\n",
       "        text-align: right;\n",
       "    }\n",
       "</style>\n",
       "<table border=\"1\" class=\"dataframe\">\n",
       "  <thead>\n",
       "    <tr style=\"text-align: right;\">\n",
       "      <th></th>\n",
       "      <th>구별</th>\n",
       "      <th>소계</th>\n",
       "      <th>최근증가율</th>\n",
       "      <th>인구수</th>\n",
       "      <th>한국인</th>\n",
       "      <th>외국인</th>\n",
       "      <th>고령자</th>\n",
       "      <th>외국인비율</th>\n",
       "      <th>고령자비율</th>\n",
       "    </tr>\n",
       "  </thead>\n",
       "  <tbody>\n",
       "    <tr>\n",
       "      <th>0</th>\n",
       "      <td>강남구</td>\n",
       "      <td>3238</td>\n",
       "      <td>150.619195</td>\n",
       "      <td>557865</td>\n",
       "      <td>552976</td>\n",
       "      <td>4889</td>\n",
       "      <td>65859</td>\n",
       "      <td>0.876377</td>\n",
       "      <td>11.805544</td>\n",
       "    </tr>\n",
       "    <tr>\n",
       "      <th>1</th>\n",
       "      <td>강동구</td>\n",
       "      <td>1010</td>\n",
       "      <td>166.490765</td>\n",
       "      <td>438225</td>\n",
       "      <td>434027</td>\n",
       "      <td>4198</td>\n",
       "      <td>56983</td>\n",
       "      <td>0.957955</td>\n",
       "      <td>13.003138</td>\n",
       "    </tr>\n",
       "    <tr>\n",
       "      <th>2</th>\n",
       "      <td>강북구</td>\n",
       "      <td>831</td>\n",
       "      <td>125.203252</td>\n",
       "      <td>327511</td>\n",
       "      <td>323862</td>\n",
       "      <td>3649</td>\n",
       "      <td>57002</td>\n",
       "      <td>1.114161</td>\n",
       "      <td>17.404606</td>\n",
       "    </tr>\n",
       "    <tr>\n",
       "      <th>3</th>\n",
       "      <td>강서구</td>\n",
       "      <td>911</td>\n",
       "      <td>134.793814</td>\n",
       "      <td>608361</td>\n",
       "      <td>601696</td>\n",
       "      <td>6665</td>\n",
       "      <td>77381</td>\n",
       "      <td>1.095567</td>\n",
       "      <td>12.719586</td>\n",
       "    </tr>\n",
       "    <tr>\n",
       "      <th>4</th>\n",
       "      <td>관악구</td>\n",
       "      <td>2109</td>\n",
       "      <td>149.290780</td>\n",
       "      <td>522292</td>\n",
       "      <td>504445</td>\n",
       "      <td>17847</td>\n",
       "      <td>70807</td>\n",
       "      <td>3.417054</td>\n",
       "      <td>13.556976</td>\n",
       "    </tr>\n",
       "  </tbody>\n",
       "</table>\n",
       "</div>"
      ],
      "text/plain": [
       "    구별    소계       최근증가율     인구수     한국인    외국인    고령자     외국인비율      고령자비율\n",
       "0  강남구  3238  150.619195  557865  552976   4889  65859  0.876377  11.805544\n",
       "1  강동구  1010  166.490765  438225  434027   4198  56983  0.957955  13.003138\n",
       "2  강북구   831  125.203252  327511  323862   3649  57002  1.114161  17.404606\n",
       "3  강서구   911  134.793814  608361  601696   6665  77381  1.095567  12.719586\n",
       "4  관악구  2109  149.290780  522292  504445  17847  70807  3.417054  13.556976"
      ]
     },
     "execution_count": 12,
     "metadata": {},
     "output_type": "execute_result"
    }
   ],
   "source": [
    "# 필요없는 컬럼 제거 : 2013년도 이전, 2014~2016년도\n",
    "\n",
    "del data_result['2013년도 이전']\n",
    "del data_result['2014년']\n",
    "del data_result['2015년']\n",
    "del data_result['2016년']\n",
    "\n",
    "data_result.head()"
   ]
  },
  {
   "cell_type": "code",
   "execution_count": 13,
   "metadata": {},
   "outputs": [
    {
     "data": {
      "text/html": [
       "<div>\n",
       "<style scoped>\n",
       "    .dataframe tbody tr th:only-of-type {\n",
       "        vertical-align: middle;\n",
       "    }\n",
       "\n",
       "    .dataframe tbody tr th {\n",
       "        vertical-align: top;\n",
       "    }\n",
       "\n",
       "    .dataframe thead th {\n",
       "        text-align: right;\n",
       "    }\n",
       "</style>\n",
       "<table border=\"1\" class=\"dataframe\">\n",
       "  <thead>\n",
       "    <tr style=\"text-align: right;\">\n",
       "      <th></th>\n",
       "      <th>소계</th>\n",
       "      <th>최근증가율</th>\n",
       "      <th>인구수</th>\n",
       "      <th>한국인</th>\n",
       "      <th>외국인</th>\n",
       "      <th>고령자</th>\n",
       "      <th>외국인비율</th>\n",
       "      <th>고령자비율</th>\n",
       "    </tr>\n",
       "    <tr>\n",
       "      <th>구별</th>\n",
       "      <th></th>\n",
       "      <th></th>\n",
       "      <th></th>\n",
       "      <th></th>\n",
       "      <th></th>\n",
       "      <th></th>\n",
       "      <th></th>\n",
       "      <th></th>\n",
       "    </tr>\n",
       "  </thead>\n",
       "  <tbody>\n",
       "    <tr>\n",
       "      <th>강남구</th>\n",
       "      <td>3238</td>\n",
       "      <td>150.619195</td>\n",
       "      <td>557865</td>\n",
       "      <td>552976</td>\n",
       "      <td>4889</td>\n",
       "      <td>65859</td>\n",
       "      <td>0.876377</td>\n",
       "      <td>11.805544</td>\n",
       "    </tr>\n",
       "    <tr>\n",
       "      <th>강동구</th>\n",
       "      <td>1010</td>\n",
       "      <td>166.490765</td>\n",
       "      <td>438225</td>\n",
       "      <td>434027</td>\n",
       "      <td>4198</td>\n",
       "      <td>56983</td>\n",
       "      <td>0.957955</td>\n",
       "      <td>13.003138</td>\n",
       "    </tr>\n",
       "    <tr>\n",
       "      <th>강북구</th>\n",
       "      <td>831</td>\n",
       "      <td>125.203252</td>\n",
       "      <td>327511</td>\n",
       "      <td>323862</td>\n",
       "      <td>3649</td>\n",
       "      <td>57002</td>\n",
       "      <td>1.114161</td>\n",
       "      <td>17.404606</td>\n",
       "    </tr>\n",
       "    <tr>\n",
       "      <th>강서구</th>\n",
       "      <td>911</td>\n",
       "      <td>134.793814</td>\n",
       "      <td>608361</td>\n",
       "      <td>601696</td>\n",
       "      <td>6665</td>\n",
       "      <td>77381</td>\n",
       "      <td>1.095567</td>\n",
       "      <td>12.719586</td>\n",
       "    </tr>\n",
       "    <tr>\n",
       "      <th>관악구</th>\n",
       "      <td>2109</td>\n",
       "      <td>149.290780</td>\n",
       "      <td>522292</td>\n",
       "      <td>504445</td>\n",
       "      <td>17847</td>\n",
       "      <td>70807</td>\n",
       "      <td>3.417054</td>\n",
       "      <td>13.556976</td>\n",
       "    </tr>\n",
       "  </tbody>\n",
       "</table>\n",
       "</div>"
      ],
      "text/plain": [
       "       소계       최근증가율     인구수     한국인    외국인    고령자     외국인비율      고령자비율\n",
       "구별                                                                      \n",
       "강남구  3238  150.619195  557865  552976   4889  65859  0.876377  11.805544\n",
       "강동구  1010  166.490765  438225  434027   4198  56983  0.957955  13.003138\n",
       "강북구   831  125.203252  327511  323862   3649  57002  1.114161  17.404606\n",
       "강서구   911  134.793814  608361  601696   6665  77381  1.095567  12.719586\n",
       "관악구  2109  149.290780  522292  504445  17847  70807  3.417054  13.556976"
      ]
     },
     "execution_count": 13,
     "metadata": {},
     "output_type": "execute_result"
    }
   ],
   "source": [
    "# 구별 컬럼을 인덱스로 설정\n",
    "data_result.set_index('구별', inplace = True)\n",
    "data_result.head()"
   ]
  },
  {
   "cell_type": "code",
   "execution_count": 14,
   "metadata": {},
   "outputs": [
    {
     "data": {
      "text/plain": [
       "array([[1.        , 0.23037183],\n",
       "       [0.23037183, 1.        ]])"
      ]
     },
     "execution_count": 14,
     "metadata": {},
     "output_type": "execute_result"
    }
   ],
   "source": [
    "# cctv 갯수(소계)와 인구 데이터 중 어느 변수와 관계가 있는지 확인\n",
    "## 상관계수 : -1 ~ 1\n",
    "## 0.3 이하 : 약한 상관관계\n",
    "## 0.7 이하 : 뚜렷한 상관관계\n",
    "\n",
    "np.corrcoef(data_result['고령자비율'],data_result['소계'])\n",
    "np.corrcoef(data_result['외국인비율'],data_result['소계'])\n",
    "np.corrcoef(data_result['인구수'],data_result['소계'])"
   ]
  },
  {
   "cell_type": "code",
   "execution_count": 15,
   "metadata": {},
   "outputs": [
    {
     "name": "stdout",
     "output_type": "stream",
     "text": [
      "       소계       최근증가율     인구수     한국인    외국인    고령자     외국인비율      고령자비율\n",
      "구별                                                                      \n",
      "강남구  3238  150.619195  557865  552976   4889  65859  0.876377  11.805544\n",
      "양천구  2482   34.671731  473087  469221   3866  56070  0.817186  11.851943\n",
      "서초구  2297   63.371266  445164  440954   4210  54055  0.945719  12.142716\n",
      "관악구  2109  149.290780  522292  504445  17847  70807  3.417054  13.556976\n",
      "은평구  2108   85.237258  490253  485902   4351  75535  0.887501  15.407351\n",
      "--------------------------------------------------------------------------------\n",
      "       소계       최근증가율     인구수     한국인    외국인    고령자     외국인비율      고령자비율\n",
      "구별                                                                      \n",
      "송파구  1081  104.347826  671994  665282   6712  77978  0.998818  11.603973\n",
      "강서구   911  134.793814  608361  601696   6665  77381  1.095567  12.719586\n",
      "강남구  3238  150.619195  557865  552976   4889  65859  0.876377  11.805544\n",
      "노원구  1566  188.929889  555803  551902   3901  75081  0.701867  13.508563\n",
      "관악구  2109  149.290780  522292  504445  17847  70807  3.417054  13.556976\n",
      "--------------------------------------------------------------------------------\n",
      "       소계       최근증가율     인구수     한국인    외국인    고령자     외국인비율      고령자비율\n",
      "구별                                                                      \n",
      "중구   1023  147.699758  135139  126082   9057  21655  6.701988  16.024242\n",
      "종로구  1619  248.922414  164348  154549   9799  26429  5.962348  16.081121\n",
      "용산구  2096   53.216374  245411  229909  15502  37238  6.316750  15.173729\n",
      "금천구  1348  100.000000  253344  234238  19106  34640  7.541525  13.673109\n",
      "성동구  1327   81.780822  314551  306532   8019  41752  2.549348  13.273523\n"
     ]
    }
   ],
   "source": [
    "print(data_result.sort_values(by = '소계', ascending = False).head())\n",
    "print('-'*80)\n",
    "\n",
    "print(data_result.sort_values(by = '인구수', ascending = False).head())\n",
    "print('-'*80)\n",
    "\n",
    "print(data_result.sort_values(by = '인구수').head())"
   ]
  },
  {
   "cell_type": "code",
   "execution_count": 17,
   "metadata": {},
   "outputs": [
    {
     "name": "stdout",
     "output_type": "stream",
     "text": [
      "       소계       최근증가율     인구수     한국인    외국인    고령자     외국인비율      고령자비율  \\\n",
      "구별                                                                         \n",
      "종로구  1619  248.922414  164348  154549   9799  26429  5.962348  16.081121   \n",
      "용산구  2096   53.216374  245411  229909  15502  37238  6.316750  15.173729   \n",
      "중구   1023  147.699758  135139  126082   9057  21655  6.701988  16.024242   \n",
      "강남구  3238  150.619195  557865  552976   4889  65859  0.876377  11.805544   \n",
      "금천구  1348  100.000000  253344  234238  19106  34640  7.541525  13.673109   \n",
      "\n",
      "       cctv비율  \n",
      "구별             \n",
      "종로구  0.985105  \n",
      "용산구  0.854077  \n",
      "중구   0.756998  \n",
      "강남구  0.580427  \n",
      "금천구  0.532083  \n"
     ]
    }
   ],
   "source": [
    "# 'cctv비율' 컬럼 추가 : 소계 / 인구수 * 100\n",
    "\n",
    "data_result['cctv비율'] = data_result['소계'] / data_result['인구수'] *100\n",
    "\n",
    "print(data_result.sort_values(by = 'cctv비율', ascending = False).head())"
   ]
  },
  {
   "cell_type": "markdown",
   "metadata": {},
   "source": [
    "## 4) 시각화"
   ]
  },
  {
   "cell_type": "code",
   "execution_count": 18,
   "metadata": {},
   "outputs": [
    {
     "data": {
      "text/plain": [
       "<matplotlib.axes._subplots.AxesSubplot at 0x143f494cb88>"
      ]
     },
     "execution_count": 18,
     "metadata": {},
     "output_type": "execute_result"
    },
    {
     "data": {
      "image/png": "[encoded data removed]",
      "text/plain": [
       "<Figure size 720x360 with 1 Axes>"
      ]
     },
     "metadata": {
      "needs_background": "light"
     },
     "output_type": "display_data"
    }
   ],
   "source": [
    "# cctv가 많이 설치된 구별로 그래프 그리기\n",
    "\n",
    "data_result['소계'].plot(kind = 'bar')\n",
    "data_result['소계'].plot.bar()\n",
    "data_result['소계'].plot(kind = 'bar', figsize = (10, 5), grid = True)"
   ]
  },
  {
   "cell_type": "code",
   "execution_count": 19,
   "metadata": {},
   "outputs": [
    {
     "data": {
      "text/plain": [
       "<matplotlib.axes._subplots.AxesSubplot at 0x143f55b8908>"
      ]
     },
     "execution_count": 19,
     "metadata": {},
     "output_type": "execute_result"
    },
    {
     "data": {
      "image/png": "[encoded data removed]",
      "text/plain": [
       "<Figure size 720x360 with 1 Axes>"
      ]
     },
     "metadata": {
      "needs_background": "light"
     },
     "output_type": "display_data"
    }
   ],
   "source": [
    "data_result['소계'].plot(kind='barh', figsize=(10, 5), grid=True)"
   ]
  },
  {
   "cell_type": "code",
   "execution_count": 20,
   "metadata": {},
   "outputs": [
    {
     "data": {
      "text/plain": [
       "<matplotlib.axes._subplots.AxesSubplot at 0x143f559a648>"
      ]
     },
     "execution_count": 20,
     "metadata": {},
     "output_type": "execute_result"
    },
    {
     "data": {
      "image/png": "[encoded data removed]",
      "text/plain": [
       "<Figure size 720x360 with 1 Axes>"
      ]
     },
     "metadata": {
      "needs_background": "light"
     },
     "output_type": "display_data"
    }
   ],
   "source": [
    "data_result['소계'].sort_values().plot(kind='barh', figsize=(10, 5), grid=True)"
   ]
  },
  {
   "cell_type": "code",
   "execution_count": 24,
   "metadata": {},
   "outputs": [
    {
     "data": {
      "image/png": "[encoded data removed]",
      "text/plain": [
       "<Figure size 432x432 with 1 Axes>"
      ]
     },
     "metadata": {
      "needs_background": "light"
     },
     "output_type": "display_data"
    }
   ],
   "source": [
    "# cctv 설치 대수와 인구수의 관계를 그래프로 확인\n",
    "\n",
    "plt.figure(figsize = (6, 6))\n",
    "plt.scatter(data_result['인구수'], data_result['소계'], s = 100)\n",
    "plt.xlabel('인구수')\n",
    "plt.ylabel('소계')\n",
    "plt.grid()"
   ]
  },
  {
   "cell_type": "code",
   "execution_count": 26,
   "metadata": {},
   "outputs": [
    {
     "name": "stdout",
     "output_type": "stream",
     "text": [
      " \n",
      "1 x + 2\n",
      "   2\n",
      "1 x + 2 x + 3\n"
     ]
    }
   ],
   "source": [
    "# poly1d() : 방정식 생성\n",
    "\n",
    "print(np.poly1d([1, 2]))   # 1차 방정식 생성\n",
    "print(np.poly1d([1, 2, 3]))  # 2차 방정식 생성"
   ]
  },
  {
   "cell_type": "code",
   "execution_count": 28,
   "metadata": {},
   "outputs": [
    {
     "name": "stdout",
     "output_type": "stream",
     "text": [
      "[1.10432363e-03 1.06864009e+03]\n",
      " \n",
      "0.001104 x + 1069\n"
     ]
    }
   ],
   "source": [
    "# 회귀선 작성 : polyfit()\n",
    "\n",
    "fp1 = np.polyfit(data_result['인구수'], data_result['소계'], 1)\n",
    "print(fp1)    # 기울기, 절편 출력\n",
    "\n",
    "f1 = np.poly1d(fp1)\n",
    "print(f1)"
   ]
  },
  {
   "cell_type": "code",
   "execution_count": 30,
   "metadata": {},
   "outputs": [
    {
     "data": {
      "image/png": "[encoded data removed]",
      "text/plain": [
       "<Figure size 432x432 with 1 Axes>"
      ]
     },
     "metadata": {
      "needs_background": "light"
     },
     "output_type": "display_data"
    }
   ],
   "source": [
    "fx = np.linspace(100000, 700000, 100)    # x좌표 범위 지정\n",
    "\n",
    "plt.figure(figsize = (6, 6))\n",
    "plt.scatter(data_result['인구수'], data_result['소계'], s = 100)\n",
    "#plt.plot(data_result['인구수'], f1(data_result['인구수']), lw = 3,\n",
    "#        color = 'g', ls = 'dashed')\n",
    "plt.plot(fx, f1(fx), lw = 3, color = 'g', ls = 'dashed')\n",
    "plt.xlabel('인구수')\n",
    "plt.ylabel('cctv 소계')\n",
    "plt.grid()"
   ]
  },
  {
   "cell_type": "code",
   "execution_count": 31,
   "metadata": {},
   "outputs": [
    {
     "data": {
      "text/html": [
       "<div>\n",
       "<style scoped>\n",
       "    .dataframe tbody tr th:only-of-type {\n",
       "        vertical-align: middle;\n",
       "    }\n",
       "\n",
       "    .dataframe tbody tr th {\n",
       "        vertical-align: top;\n",
       "    }\n",
       "\n",
       "    .dataframe thead th {\n",
       "        text-align: right;\n",
       "    }\n",
       "</style>\n",
       "<table border=\"1\" class=\"dataframe\">\n",
       "  <thead>\n",
       "    <tr style=\"text-align: right;\">\n",
       "      <th></th>\n",
       "      <th>소계</th>\n",
       "      <th>최근증가율</th>\n",
       "      <th>인구수</th>\n",
       "      <th>한국인</th>\n",
       "      <th>외국인</th>\n",
       "      <th>고령자</th>\n",
       "      <th>외국인비율</th>\n",
       "      <th>고령자비율</th>\n",
       "      <th>cctv비율</th>\n",
       "      <th>오차</th>\n",
       "    </tr>\n",
       "    <tr>\n",
       "      <th>구별</th>\n",
       "      <th></th>\n",
       "      <th></th>\n",
       "      <th></th>\n",
       "      <th></th>\n",
       "      <th></th>\n",
       "      <th></th>\n",
       "      <th></th>\n",
       "      <th></th>\n",
       "      <th></th>\n",
       "      <th></th>\n",
       "    </tr>\n",
       "  </thead>\n",
       "  <tbody>\n",
       "    <tr>\n",
       "      <th>강남구</th>\n",
       "      <td>3238</td>\n",
       "      <td>150.619195</td>\n",
       "      <td>557865</td>\n",
       "      <td>552976</td>\n",
       "      <td>4889</td>\n",
       "      <td>65859</td>\n",
       "      <td>0.876377</td>\n",
       "      <td>11.805544</td>\n",
       "      <td>0.580427</td>\n",
       "      <td>1553.296412</td>\n",
       "    </tr>\n",
       "    <tr>\n",
       "      <th>강동구</th>\n",
       "      <td>1010</td>\n",
       "      <td>166.490765</td>\n",
       "      <td>438225</td>\n",
       "      <td>434027</td>\n",
       "      <td>4198</td>\n",
       "      <td>56983</td>\n",
       "      <td>0.957955</td>\n",
       "      <td>13.003138</td>\n",
       "      <td>0.230475</td>\n",
       "      <td>542.582309</td>\n",
       "    </tr>\n",
       "    <tr>\n",
       "      <th>강북구</th>\n",
       "      <td>831</td>\n",
       "      <td>125.203252</td>\n",
       "      <td>327511</td>\n",
       "      <td>323862</td>\n",
       "      <td>3649</td>\n",
       "      <td>57002</td>\n",
       "      <td>1.114161</td>\n",
       "      <td>17.404606</td>\n",
       "      <td>0.253732</td>\n",
       "      <td>599.318223</td>\n",
       "    </tr>\n",
       "    <tr>\n",
       "      <th>강서구</th>\n",
       "      <td>911</td>\n",
       "      <td>134.793814</td>\n",
       "      <td>608361</td>\n",
       "      <td>601696</td>\n",
       "      <td>6665</td>\n",
       "      <td>77381</td>\n",
       "      <td>1.095567</td>\n",
       "      <td>12.719586</td>\n",
       "      <td>0.149747</td>\n",
       "      <td>829.467513</td>\n",
       "    </tr>\n",
       "    <tr>\n",
       "      <th>관악구</th>\n",
       "      <td>2109</td>\n",
       "      <td>149.290780</td>\n",
       "      <td>522292</td>\n",
       "      <td>504445</td>\n",
       "      <td>17847</td>\n",
       "      <td>70807</td>\n",
       "      <td>3.417054</td>\n",
       "      <td>13.556976</td>\n",
       "      <td>0.403797</td>\n",
       "      <td>463.580517</td>\n",
       "    </tr>\n",
       "  </tbody>\n",
       "</table>\n",
       "</div>"
      ],
      "text/plain": [
       "       소계       최근증가율     인구수     한국인    외국인    고령자     외국인비율      고령자비율  \\\n",
       "구별                                                                         \n",
       "강남구  3238  150.619195  557865  552976   4889  65859  0.876377  11.805544   \n",
       "강동구  1010  166.490765  438225  434027   4198  56983  0.957955  13.003138   \n",
       "강북구   831  125.203252  327511  323862   3649  57002  1.114161  17.404606   \n",
       "강서구   911  134.793814  608361  601696   6665  77381  1.095567  12.719586   \n",
       "관악구  2109  149.290780  522292  504445  17847  70807  3.417054  13.556976   \n",
       "\n",
       "       cctv비율           오차  \n",
       "구별                          \n",
       "강남구  0.580427  1553.296412  \n",
       "강동구  0.230475   542.582309  \n",
       "강북구  0.253732   599.318223  \n",
       "강서구  0.149747   829.467513  \n",
       "관악구  0.403797   463.580517  "
      ]
     },
     "execution_count": 31,
     "metadata": {},
     "output_type": "execute_result"
    }
   ],
   "source": [
    "# 각 데이터의 오차를 구해서 '오차' 컬럼 추가\n",
    "\n",
    "data_result['오차'] = np.abs(data_result['소계'] - f1(data_result['인구수']))\n",
    "data_result.head()"
   ]
  },
  {
   "cell_type": "code",
   "execution_count": 40,
   "metadata": {},
   "outputs": [
    {
     "data": {
      "text/html": [
       "<div>\n",
       "<style scoped>\n",
       "    .dataframe tbody tr th:only-of-type {\n",
       "        vertical-align: middle;\n",
       "    }\n",
       "\n",
       "    .dataframe tbody tr th {\n",
       "        vertical-align: top;\n",
       "    }\n",
       "\n",
       "    .dataframe thead th {\n",
       "        text-align: right;\n",
       "    }\n",
       "</style>\n",
       "<table border=\"1\" class=\"dataframe\">\n",
       "  <thead>\n",
       "    <tr style=\"text-align: right;\">\n",
       "      <th></th>\n",
       "      <th>소계</th>\n",
       "      <th>최근증가율</th>\n",
       "      <th>인구수</th>\n",
       "      <th>한국인</th>\n",
       "      <th>외국인</th>\n",
       "      <th>고령자</th>\n",
       "      <th>외국인비율</th>\n",
       "      <th>고령자비율</th>\n",
       "      <th>cctv비율</th>\n",
       "      <th>오차</th>\n",
       "    </tr>\n",
       "    <tr>\n",
       "      <th>구별</th>\n",
       "      <th></th>\n",
       "      <th></th>\n",
       "      <th></th>\n",
       "      <th></th>\n",
       "      <th></th>\n",
       "      <th></th>\n",
       "      <th></th>\n",
       "      <th></th>\n",
       "      <th></th>\n",
       "      <th></th>\n",
       "    </tr>\n",
       "  </thead>\n",
       "  <tbody>\n",
       "    <tr>\n",
       "      <th>강남구</th>\n",
       "      <td>3238</td>\n",
       "      <td>150.619195</td>\n",
       "      <td>557865</td>\n",
       "      <td>552976</td>\n",
       "      <td>4889</td>\n",
       "      <td>65859</td>\n",
       "      <td>0.876377</td>\n",
       "      <td>11.805544</td>\n",
       "      <td>0.580427</td>\n",
       "      <td>1553.296412</td>\n",
       "    </tr>\n",
       "    <tr>\n",
       "      <th>양천구</th>\n",
       "      <td>2482</td>\n",
       "      <td>34.671731</td>\n",
       "      <td>473087</td>\n",
       "      <td>469221</td>\n",
       "      <td>3866</td>\n",
       "      <td>56070</td>\n",
       "      <td>0.817186</td>\n",
       "      <td>11.851943</td>\n",
       "      <td>0.524639</td>\n",
       "      <td>890.918761</td>\n",
       "    </tr>\n",
       "    <tr>\n",
       "      <th>강서구</th>\n",
       "      <td>911</td>\n",
       "      <td>134.793814</td>\n",
       "      <td>608361</td>\n",
       "      <td>601696</td>\n",
       "      <td>6665</td>\n",
       "      <td>77381</td>\n",
       "      <td>1.095567</td>\n",
       "      <td>12.719586</td>\n",
       "      <td>0.149747</td>\n",
       "      <td>829.467513</td>\n",
       "    </tr>\n",
       "    <tr>\n",
       "      <th>용산구</th>\n",
       "      <td>2096</td>\n",
       "      <td>53.216374</td>\n",
       "      <td>245411</td>\n",
       "      <td>229909</td>\n",
       "      <td>15502</td>\n",
       "      <td>37238</td>\n",
       "      <td>6.316750</td>\n",
       "      <td>15.173729</td>\n",
       "      <td>0.854077</td>\n",
       "      <td>756.346747</td>\n",
       "    </tr>\n",
       "    <tr>\n",
       "      <th>서초구</th>\n",
       "      <td>2297</td>\n",
       "      <td>63.371266</td>\n",
       "      <td>445164</td>\n",
       "      <td>440954</td>\n",
       "      <td>4210</td>\n",
       "      <td>54055</td>\n",
       "      <td>0.945719</td>\n",
       "      <td>12.142716</td>\n",
       "      <td>0.515990</td>\n",
       "      <td>736.754790</td>\n",
       "    </tr>\n",
       "  </tbody>\n",
       "</table>\n",
       "</div>"
      ],
      "text/plain": [
       "       소계       최근증가율     인구수     한국인    외국인    고령자     외국인비율      고령자비율  \\\n",
       "구별                                                                         \n",
       "강남구  3238  150.619195  557865  552976   4889  65859  0.876377  11.805544   \n",
       "양천구  2482   34.671731  473087  469221   3866  56070  0.817186  11.851943   \n",
       "강서구   911  134.793814  608361  601696   6665  77381  1.095567  12.719586   \n",
       "용산구  2096   53.216374  245411  229909  15502  37238  6.316750  15.173729   \n",
       "서초구  2297   63.371266  445164  440954   4210  54055  0.945719  12.142716   \n",
       "\n",
       "       cctv비율           오차  \n",
       "구별                          \n",
       "강남구  0.580427  1553.296412  \n",
       "양천구  0.524639   890.918761  \n",
       "강서구  0.149747   829.467513  \n",
       "용산구  0.854077   756.346747  \n",
       "서초구  0.515990   736.754790  "
      ]
     },
     "execution_count": 40,
     "metadata": {},
     "output_type": "execute_result"
    }
   ],
   "source": [
    "df_sort = data_result.sort_values(by = '오차', ascending = False)\n",
    "df_sort.head()"
   ]
  },
  {
   "cell_type": "code",
   "execution_count": 47,
   "metadata": {},
   "outputs": [
    {
     "data": {
      "image/png": "[encoded data removed]",
      "text/plain": [
       "<Figure size 432x432 with 2 Axes>"
      ]
     },
     "metadata": {
      "needs_background": "light"
     },
     "output_type": "display_data"
    }
   ],
   "source": [
    "plt.figure(figsize = (6, 6))\n",
    "plt.scatter(data_result['인구수'], data_result['소계'], s = 100,\n",
    "           c = data_result['오차'])\n",
    "plt.plot(fx, f1(fx), lw = 3, color = 'g', ls = 'dashed')\n",
    "plt.xlabel('인구수')\n",
    "plt.ylabel('cctv 소계')\n",
    "plt.grid()\n",
    "plt.colorbar()\n",
    "\n",
    "\n",
    "for i in range(7) :\n",
    "    plt.text(df_sort['인구수'][i], df_sort['소계'][i], df_sort.index[i],\n",
    "            fontsize = 10)"
   ]
  },
  {
   "cell_type": "code",
   "execution_count": 48,
   "metadata": {},
   "outputs": [],
   "source": [
    "# 최종 결과물을 파일로 저장\n",
    "\n",
    "df_sort.to_csv('data/seoul/cctv_result_utf.csv', encoding = 'utf-8')\n",
    "df_sort.to_csv('data/seoul/cctv_result_euc.csv', encoding = 'euc-kr')"
   ]
  },
  {
   "cell_type": "code",
   "execution_count": null,
   "metadata": {},
   "outputs": [],
   "source": []
  }
 ],
 "metadata": {
  "kernelspec": {
   "display_name": "Python 3",
   "language": "python",
   "name": "python3"
  },
  "language_info": {
   "codemirror_mode": {
    "name": "ipython",
    "version": 3
   },
   "file_extension": ".py",
   "mimetype": "text/x-python",
   "name": "python",
   "nbconvert_exporter": "python",
   "pygments_lexer": "ipython3",
   "version": "3.7.6"
  }
 },
 "nbformat": 4,
 "nbformat_minor": 4
}
