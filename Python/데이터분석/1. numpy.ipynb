{
 "cells": [
  {
   "cell_type": "markdown",
   "metadata": {},
   "source": [
    "## 특징\n",
    "\n",
    "1) 벡터 및 행렬 연산과 관련된 편리한 기능을 제공\n",
    "\n",
    "2) list와 거의 동일하지만 numpy배열의 특징을 갖는다\n",
    "    * 배열 : 모든 원소가 같은 자료형이어야 한다. 원소의 개수를 바꿀 수 없다.\n",
    "    \n",
    "3) 빠른 속도를 지원\n",
    "\n",
    "4) 벡터화 연산, 배열 인덱싱을 통한 질의 가능\n",
    "\n",
    "5) http://www.numpy.org"
   ]
  },
  {
   "cell_type": "code",
   "execution_count": 1,
   "metadata": {},
   "outputs": [],
   "source": [
    "import numpy as np"
   ]
  },
  {
   "cell_type": "markdown",
   "metadata": {},
   "source": [
    "### 1차원 배열"
   ]
  },
  {
   "cell_type": "code",
   "execution_count": 14,
   "metadata": {},
   "outputs": [
    {
     "name": "stdout",
     "output_type": "stream",
     "text": [
      "[1, 2, 3, 4, 5, 10, 20, '가나다']\n",
      "<class 'list'>\n"
     ]
    }
   ],
   "source": [
    "a1 = [1, 2, 3, 4, 5, 10, 20, '가나다']\n",
    "print(a1)\n",
    "print(type(a1))"
   ]
  },
  {
   "cell_type": "code",
   "execution_count": 15,
   "metadata": {},
   "outputs": [
    {
     "name": "stdout",
     "output_type": "stream",
     "text": [
      "['1' '2' '3' '4' '5' '10' '20' '가나다']\n",
      "<class 'numpy.ndarray'>\n",
      "(8,)\n",
      "1\n",
      "8\n"
     ]
    }
   ],
   "source": [
    "a2 = np.array([1, 2, 3, 4, 5, 10, 20, '가나다'])\n",
    "print(a2)\n",
    "print(type(a2))\n",
    "print(a2.shape)       # (행 수, 열 수) 출력 \n",
    "print(a2.ndim)        # 몇 차원인지 출력\n",
    "print(len(a2))"
   ]
  },
  {
   "cell_type": "code",
   "execution_count": 19,
   "metadata": {},
   "outputs": [
    {
     "name": "stdout",
     "output_type": "stream",
     "text": [
      "[1, 2, 3, 4, 5, 6, 7, 8, 9, 1, 2, 3, 4, 5, 6, 7, 8, 9]\n",
      "[ 2  4  6  8 10 12 14 16 18]\n",
      "[ 3  4  5  6  7  8  9 10 11]\n",
      "-------------------------------------------------------------------------------------\n",
      "1\n"
     ]
    }
   ],
   "source": [
    "# 벡터화 연산\n",
    "\n",
    "data = [1, 2, 3, 4, 5, 6, 7, 8, 9]\n",
    "print(data*2)         # 리스트 2번 출력\n",
    "# print(data -2)      리스트 : 하나의 요소에 대해 연산 불가능\n",
    "\n",
    "data2 = np.array(data)\n",
    "print(data2 * 2)      # 각 요소에 대해 연산 가능\n",
    "print(data2 + 2)\n",
    "\n",
    "print('-'*85)\n",
    "\n",
    "print(data2[0])"
   ]
  },
  {
   "cell_type": "markdown",
   "metadata": {},
   "source": [
    "### 2차원 배열"
   ]
  },
  {
   "cell_type": "code",
   "execution_count": 18,
   "metadata": {},
   "outputs": [
    {
     "name": "stdout",
     "output_type": "stream",
     "text": [
      "[[0 1 2]\n",
      " [3 4 5]]\n",
      "(2, 3)\n",
      "2\n"
     ]
    }
   ],
   "source": [
    "arr = np.array([[0, 1, 2], [3, 4, 5]])\n",
    "print(arr)\n",
    "print(arr.shape)\n",
    "print(arr.ndim)"
   ]
  },
  {
   "cell_type": "code",
   "execution_count": 20,
   "metadata": {},
   "outputs": [
    {
     "name": "stdout",
     "output_type": "stream",
     "text": [
      "[0 1 2]\n",
      "1\n",
      "2\n",
      "3\n"
     ]
    }
   ],
   "source": [
    "print(arr[0])\n",
    "print(arr[0][1])\n",
    "print(len(arr))\n",
    "print(len(arr[0]))"
   ]
  },
  {
   "cell_type": "markdown",
   "metadata": {},
   "source": [
    "### 3차원 배열"
   ]
  },
  {
   "cell_type": "code",
   "execution_count": 21,
   "metadata": {},
   "outputs": [
    {
     "name": "stdout",
     "output_type": "stream",
     "text": [
      "[[[ 1  2  3  4]\n",
      "  [ 5  6  7  8]\n",
      "  [ 9 10 11 12]]\n",
      "\n",
      " [[13 14 15 16]\n",
      "  [17 18 19 20]\n",
      "  [21 22 23 24]]]\n"
     ]
    }
   ],
   "source": [
    "arr = np.array([[[1, 2, 3, 4],[5, 6, 7, 8],[9, 10, 11, 12]],\n",
    "                [[13, 14, 15, 16],[17, 18, 19, 20],[21, 22, 23, 24]]])\n",
    "print(arr)"
   ]
  },
  {
   "cell_type": "code",
   "execution_count": 27,
   "metadata": {},
   "outputs": [
    {
     "name": "stdout",
     "output_type": "stream",
     "text": [
      "[[ 1  2  3  4]\n",
      " [ 5  6  7  8]\n",
      " [ 9 10 11 12]]\n",
      "-------------------------------------------------------------------------------------\n",
      "[1 2 3 4]\n",
      "-------------------------------------------------------------------------------------\n",
      "[1]\n",
      "-------------------------------------------------------------------------------------\n",
      "(2, 3, 4)\n",
      "3\n",
      "2 , 3 , 4\n"
     ]
    }
   ],
   "source": [
    "print(arr[0])\n",
    "print('-'*85)\n",
    "\n",
    "print(arr[0][0])\n",
    "print('-'*85)\n",
    "\n",
    "print([arr[0][0][0]])\n",
    "print('-'*85)\n",
    "\n",
    "print(arr.shape)\n",
    "print(arr.ndim)\n",
    "print(len(arr), ',', len(arr[0]), ',', len(arr[0][0]))"
   ]
  },
  {
   "cell_type": "code",
   "execution_count": 28,
   "metadata": {},
   "outputs": [
    {
     "name": "stdout",
     "output_type": "stream",
     "text": [
      "3\n",
      "(1, 1, 1)\n"
     ]
    }
   ],
   "source": [
    "arr = np.array([[[1]]])\n",
    "\n",
    "print(arr.ndim)\n",
    "print(arr.shape)"
   ]
  },
  {
   "cell_type": "markdown",
   "metadata": {},
   "source": [
    "### 배열의 인덱싱"
   ]
  },
  {
   "cell_type": "code",
   "execution_count": 30,
   "metadata": {},
   "outputs": [
    {
     "name": "stdout",
     "output_type": "stream",
     "text": [
      "2 , 4\n"
     ]
    }
   ],
   "source": [
    "arr = np.array([0, 1, 2, 3, 4])\n",
    "print(arr[2], ',', arr[-1])"
   ]
  },
  {
   "cell_type": "code",
   "execution_count": 35,
   "metadata": {},
   "outputs": [
    {
     "name": "stdout",
     "output_type": "stream",
     "text": [
      "2 2 4 5\n"
     ]
    }
   ],
   "source": [
    "arr = np.array([[0, 1, 2], [3, 4, 5]])\n",
    "print(arr[0][2], arr[0, 2], arr[1, 1], arr[-1, -1]) # 한 번에 묶은 인덱싱 가능"
   ]
  },
  {
   "cell_type": "code",
   "execution_count": 79,
   "metadata": {},
   "outputs": [
    {
     "name": "stdout",
     "output_type": "stream",
     "text": [
      "[0 2 4 6 8]\n",
      "[0 1 0 1 0 1 0 1 0 1]\n",
      "[0 2 4 6 8]\n",
      "[3 6 9]\n",
      "[1 5 9]\n",
      "[9]\n"
     ]
    }
   ],
   "source": [
    "# fancy indexing\n",
    "\n",
    "arr = np.array([i for i in range(10)])\n",
    "idx = np.array([True, False, True, False, True, False, True, False, True, False])\n",
    "\n",
    "print(arr[idx])\n",
    "print(arr%2)\n",
    "print(arr[arr%2 == 0])\n",
    "\n",
    "\n",
    "# arr에서 3의 배수를 찾아라\n",
    "print(arr[(arr%3 == 0) & (arr != 0)])\n",
    "\n",
    "# arr에서 4로 나누면 1이 남는 수를 찾아라\n",
    "print(arr[arr%4 == 1])\n",
    "\n",
    "# arr에서 3으로 나누면 나눠지고 4로 나누면 1이 남는 수를 찾아라\n",
    "print(arr[(arr%3 == 0) & (arr%4 == 1)])"
   ]
  },
  {
   "cell_type": "markdown",
   "metadata": {},
   "source": [
    "### 배열의 슬라이싱"
   ]
  },
  {
   "cell_type": "code",
   "execution_count": 58,
   "metadata": {},
   "outputs": [
    {
     "name": "stdout",
     "output_type": "stream",
     "text": [
      "[0 1 2 3]\n",
      "[0 1]\n",
      "[[4 5]\n",
      " [8 9]]\n",
      "[[0 1]\n",
      " [4 5]]\n",
      "[[ 8  9 10 11]\n",
      " [ 4  5  6  7]\n",
      " [ 0  1  2  3]]\n"
     ]
    }
   ],
   "source": [
    "arr = np.array([[0, 1, 2, 3],\n",
    "              [4, 5, 6, 7],\n",
    "              [8, 9, 10, 11]])\n",
    "\n",
    "print(arr[0, :])\n",
    "\n",
    "print(arr[0, 0:2])\n",
    "\n",
    "print(arr[1:3, 0:2])\n",
    "\n",
    "# 0, 1, 4, 5 출력\n",
    "print(arr[:2, :2])\n",
    "\n",
    "# 행의 위치 변경\n",
    "print(arr[[2, 1, 0], :])"
   ]
  },
  {
   "cell_type": "markdown",
   "metadata": {},
   "source": [
    "### Numpy 자료형\n",
    "\n",
    "* b : 논리형\n",
    "* i : 정수                  ex) i8 : 64비트\n",
    "* u : 부호없는 정수(양수)\n",
    "* f : 부동소수점\n",
    "* c : 복소수\n",
    "* 0 : 객체\n",
    "* S : 바이트 문자열                      ex) S24 : 24글자\n",
    "* U : 유니코드"
   ]
  },
  {
   "cell_type": "code",
   "execution_count": 61,
   "metadata": {},
   "outputs": [
    {
     "name": "stdout",
     "output_type": "stream",
     "text": [
      "int32\n",
      "float64\n",
      "float64\n"
     ]
    }
   ],
   "source": [
    "arr = np.array([1, 2, 3])\n",
    "print(arr.dtype)\n",
    "\n",
    "arr = np.array([1.0, 2.0, 3.0])\n",
    "print(arr.dtype)\n",
    "\n",
    "arr = np.array([1, 2, 3.0])    # 자료형이 여러 개일 때 대분류로 출력\n",
    "print(arr.dtype)"
   ]
  },
  {
   "cell_type": "code",
   "execution_count": 62,
   "metadata": {},
   "outputs": [
    {
     "name": "stdout",
     "output_type": "stream",
     "text": [
      "float32\n",
      "3.0\n"
     ]
    }
   ],
   "source": [
    "arr = np.array([1, 2, 3], dtype = 'f')       # 자료형 변경\n",
    "print(arr.dtype)\n",
    "print(arr[0] + arr[1])"
   ]
  },
  {
   "cell_type": "code",
   "execution_count": 63,
   "metadata": {},
   "outputs": [
    {
     "name": "stdout",
     "output_type": "stream",
     "text": [
      "<U1\n",
      "12\n"
     ]
    }
   ],
   "source": [
    "arr = np.array([1, 2, 3], dtype = 'U')\n",
    "print(arr.dtype)\n",
    "print(arr[0] + arr[1])"
   ]
  },
  {
   "cell_type": "markdown",
   "metadata": {},
   "source": [
    "### 배열 생성"
   ]
  },
  {
   "cell_type": "code",
   "execution_count": 65,
   "metadata": {},
   "outputs": [
    {
     "name": "stdout",
     "output_type": "stream",
     "text": [
      "[0. 0. 0. 0. 0.]\n",
      "<class 'numpy.ndarray'>\n",
      "float64\n"
     ]
    }
   ],
   "source": [
    "arr = np.zeros(5)\n",
    "print(arr)\n",
    "print(type(arr))\n",
    "print(arr.dtype)"
   ]
  },
  {
   "cell_type": "code",
   "execution_count": 66,
   "metadata": {},
   "outputs": [
    {
     "name": "stdout",
     "output_type": "stream",
     "text": [
      "[0 0 0 0 0]\n",
      "int32\n"
     ]
    }
   ],
   "source": [
    "arr = np.zeros(5, dtype = 'i')\n",
    "print(arr)\n",
    "print(arr.dtype)"
   ]
  },
  {
   "cell_type": "code",
   "execution_count": 68,
   "metadata": {},
   "outputs": [
    {
     "name": "stdout",
     "output_type": "stream",
     "text": [
      "['' '' '' '' '']\n",
      "<U4\n",
      "['abc' 'abcd' 'abcd' '' '']\n"
     ]
    }
   ],
   "source": [
    "arr = np.zeros(5, dtype = 'U4')\n",
    "print(arr)\n",
    "print(arr.dtype)\n",
    "arr[0] = 'abc'\n",
    "arr[1] = 'abcd'\n",
    "arr[2] = 'abcde'\n",
    "print(arr)"
   ]
  },
  {
   "cell_type": "code",
   "execution_count": 69,
   "metadata": {},
   "outputs": [
    {
     "name": "stdout",
     "output_type": "stream",
     "text": [
      "[[0. 0. 0.]\n",
      " [0. 0. 0.]]\n"
     ]
    }
   ],
   "source": [
    "arr = np.zeros((2, 3))        # 0으로 채움\n",
    "print(arr)"
   ]
  },
  {
   "cell_type": "code",
   "execution_count": 71,
   "metadata": {},
   "outputs": [
    {
     "name": "stdout",
     "output_type": "stream",
     "text": [
      "[[[1. 1. 1. 1.]\n",
      "  [1. 1. 1. 1.]\n",
      "  [1. 1. 1. 1.]]\n",
      "\n",
      " [[1. 1. 1. 1.]\n",
      "  [1. 1. 1. 1.]\n",
      "  [1. 1. 1. 1.]]]\n"
     ]
    }
   ],
   "source": [
    "arr = np.ones((2, 3, 4))        # 1로 채움\n",
    "print(arr)"
   ]
  },
  {
   "cell_type": "code",
   "execution_count": 74,
   "metadata": {},
   "outputs": [
    {
     "name": "stdout",
     "output_type": "stream",
     "text": [
      "[[0. 0. 0.]\n",
      " [0. 0. 0.]]\n",
      "[[1. 1. 1.]\n",
      " [1. 1. 1.]]\n"
     ]
    }
   ],
   "source": [
    "arr1 = np.zeros((2, 3))\n",
    "arr2 = np.ones_like(arr1)\n",
    "print(arr1)\n",
    "print(arr2)"
   ]
  },
  {
   "cell_type": "code",
   "execution_count": 75,
   "metadata": {},
   "outputs": [
    {
     "name": "stdout",
     "output_type": "stream",
     "text": [
      "[[4.24399158e-314 8.48798317e-314 1.27319747e-313]\n",
      " [1.69759663e-313 2.12199579e-313 2.54639495e-313]\n",
      " [2.97079411e-313 3.39519327e-313 3.81959242e-313]\n",
      " [4.24399158e-313 4.66839074e-313 5.09278990e-313]]\n"
     ]
    }
   ],
   "source": [
    "arr = np.empty((4, 3))      # 초기화되지 않고 메모리에 있는 값 출력\n",
    "print(arr)"
   ]
  },
  {
   "cell_type": "code",
   "execution_count": 82,
   "metadata": {},
   "outputs": [
    {
     "name": "stdout",
     "output_type": "stream",
     "text": [
      "[0 1 2 3 4 5 6 7 8 9]\n",
      "[ 3  5  7  9 11 13 15 17 19]\n"
     ]
    }
   ],
   "source": [
    "arr = np.arange(10)      # range : list로 출력. arange는 배열로 출력.\n",
    "print(arr)\n",
    "print(np.arange(3, 21, 2))"
   ]
  },
  {
   "cell_type": "code",
   "execution_count": 88,
   "metadata": {},
   "outputs": [
    {
     "name": "stdout",
     "output_type": "stream",
     "text": [
      "[  0.  25.  50.  75. 100.]\n"
     ]
    }
   ],
   "source": [
    "arr = np.linspace(0, 100, 5)      # 좌표값을 만들 때 자주 사용\n",
    "print(arr)"
   ]
  },
  {
   "cell_type": "markdown",
   "metadata": {},
   "source": [
    "### 전치 연산(Transpose)"
   ]
  },
  {
   "cell_type": "code",
   "execution_count": 89,
   "metadata": {},
   "outputs": [
    {
     "name": "stdout",
     "output_type": "stream",
     "text": [
      "[[1 2 3]\n",
      " [4 5 6]]\n",
      "[[1 4]\n",
      " [2 5]\n",
      " [3 6]]\n"
     ]
    }
   ],
   "source": [
    "arr = np.array([[1, 2, 3], [4, 5, 6]])\n",
    "print(arr)\n",
    "print(arr.T)       # 행과 열 변경"
   ]
  },
  {
   "cell_type": "markdown",
   "metadata": {},
   "source": [
    "### 배열의 크기 변경 : reshape(), flatten(), ravel()"
   ]
  },
  {
   "cell_type": "code",
   "execution_count": 92,
   "metadata": {},
   "outputs": [
    {
     "name": "stdout",
     "output_type": "stream",
     "text": [
      "[ 0  1  2  3  4  5  6  7  8  9 10 11]\n",
      "(12,)\n"
     ]
    }
   ],
   "source": [
    "# 1차원\n",
    "\n",
    "arr = np.arange(12)\n",
    "print(arr)\n",
    "print(arr.shape)"
   ]
  },
  {
   "cell_type": "code",
   "execution_count": 93,
   "metadata": {},
   "outputs": [
    {
     "name": "stdout",
     "output_type": "stream",
     "text": [
      "[[ 0  1  2  3]\n",
      " [ 4  5  6  7]\n",
      " [ 8  9 10 11]]\n",
      "(3, 4)\n"
     ]
    }
   ],
   "source": [
    "# 2차원\n",
    "\n",
    "arr1 = arr.reshape(3, 4)\n",
    "print(arr1)\n",
    "print(arr1.shape)"
   ]
  },
  {
   "cell_type": "code",
   "execution_count": 94,
   "metadata": {},
   "outputs": [
    {
     "name": "stdout",
     "output_type": "stream",
     "text": [
      "[[ 0  1  2  3]\n",
      " [ 4  5  6  7]\n",
      " [ 8  9 10 11]]\n",
      "(3, 4)\n"
     ]
    }
   ],
   "source": [
    "arr2 = arr.reshape(3, -1)\n",
    "print(arr2)\n",
    "print(arr2.shape)"
   ]
  },
  {
   "cell_type": "code",
   "execution_count": 95,
   "metadata": {},
   "outputs": [
    {
     "name": "stdout",
     "output_type": "stream",
     "text": [
      "[[ 0  1  2  3]\n",
      " [ 4  5  6  7]\n",
      " [ 8  9 10 11]]\n",
      "(3, 4)\n"
     ]
    }
   ],
   "source": [
    "arr2 = arr.reshape(-1, 4)\n",
    "print(arr2)\n",
    "print(arr2.shape)"
   ]
  },
  {
   "cell_type": "code",
   "execution_count": 99,
   "metadata": {},
   "outputs": [
    {
     "name": "stdout",
     "output_type": "stream",
     "text": [
      "[[[ 0  1  2]\n",
      "  [ 3  4  5]]\n",
      "\n",
      " [[ 6  7  8]\n",
      "  [ 9 10 11]]]\n",
      "(2, 2, 3)\n"
     ]
    }
   ],
   "source": [
    "# 3차원\n",
    "\n",
    "arr3 = arr.reshape(2, 2, 3)\n",
    "print(arr3)\n",
    "print(arr3.shape)"
   ]
  },
  {
   "cell_type": "code",
   "execution_count": 100,
   "metadata": {},
   "outputs": [
    {
     "name": "stdout",
     "output_type": "stream",
     "text": [
      "[[[ 0  1  2]\n",
      "  [ 3  4  5]]\n",
      "\n",
      " [[ 6  7  8]\n",
      "  [ 9 10 11]]]\n",
      "(2, 2, 3)\n"
     ]
    }
   ],
   "source": [
    "arr3 = arr.reshape(2, 2, -1)\n",
    "print(arr3)\n",
    "print(arr3.shape)"
   ]
  },
  {
   "cell_type": "code",
   "execution_count": 105,
   "metadata": {},
   "outputs": [
    {
     "name": "stdout",
     "output_type": "stream",
     "text": [
      "[ 0  1  2  3  4  5  6  7  8  9 10 11]\n",
      "[ 0  1  2  3  4  5  6  7  8  9 10 11]\n"
     ]
    }
   ],
   "source": [
    "# 1차원으로 만들기\n",
    "\n",
    "print(arr2.flatten())\n",
    "print(arr3.ravel())"
   ]
  },
  {
   "cell_type": "markdown",
   "metadata": {},
   "source": [
    "### 배열 연결(병합) : stack(), hstack(), vstack(), dstack(), tile()"
   ]
  },
  {
   "cell_type": "code",
   "execution_count": 124,
   "metadata": {},
   "outputs": [
    {
     "name": "stdout",
     "output_type": "stream",
     "text": [
      "[[0. 0. 0. 1. 1.]\n",
      " [0. 0. 0. 1. 1.]]\n"
     ]
    }
   ],
   "source": [
    "# hstack() : 행 수가 같을 때 사용\n",
    "\n",
    "arr1 = np.zeros((2, 3))\n",
    "arr2 = np.ones((2, 2))\n",
    "\n",
    "arr3 = np.hstack([arr1, arr2])    # 2행 5열\n",
    "print(arr3)"
   ]
  },
  {
   "cell_type": "code",
   "execution_count": 126,
   "metadata": {},
   "outputs": [
    {
     "name": "stdout",
     "output_type": "stream",
     "text": [
      "[[0. 0. 0.]\n",
      " [0. 0. 0.]\n",
      " [1. 1. 1.]\n",
      " [1. 1. 1.]\n",
      " [1. 1. 1.]\n",
      " [1. 1. 1.]]\n"
     ]
    }
   ],
   "source": [
    "# vstack() : 열 수가 같을 때 사용\n",
    "\n",
    "arr1 = np.zeros((2, 3))\n",
    "arr2 = np.ones((4, 3))\n",
    "\n",
    "arr3 = np.vstack([arr1, arr2])    # 6행 3열\n",
    "print(arr3)"
   ]
  },
  {
   "cell_type": "code",
   "execution_count": 116,
   "metadata": {},
   "outputs": [
    {
     "name": "stdout",
     "output_type": "stream",
     "text": [
      "[[[1. 0.]\n",
      "  [1. 0.]\n",
      "  [1. 0.]\n",
      "  [1. 0.]]\n",
      "\n",
      " [[1. 0.]\n",
      "  [1. 0.]\n",
      "  [1. 0.]\n",
      "  [1. 0.]]\n",
      "\n",
      " [[1. 0.]\n",
      "  [1. 0.]\n",
      "  [1. 0.]\n",
      "  [1. 0.]]]\n"
     ]
    }
   ],
   "source": [
    "# dstack() : 차원을 합침(1차원 병합 시 2차원, 2차원 병합 시 3차원 생성)\n",
    "## 행열 수 같아야 함\n",
    "\n",
    "arr1 = np.ones((3, 4))\n",
    "arr2 = np.zeros((3, 4))\n",
    "\n",
    "arr3 = np.dstack([arr1, arr2])       # 3행 4열 2개 -> 3차원 4행 2열\n",
    "print(arr3)"
   ]
  },
  {
   "cell_type": "code",
   "execution_count": 135,
   "metadata": {},
   "outputs": [
    {
     "name": "stdout",
     "output_type": "stream",
     "text": [
      "[[[1. 1. 1. 1.]\n",
      "  [1. 1. 1. 1.]\n",
      "  [1. 1. 1. 1.]]\n",
      "\n",
      " [[0. 0. 0. 0.]\n",
      "  [0. 0. 0. 0.]\n",
      "  [0. 0. 0. 0.]]]\n",
      "-------------------------------------------------------------------------------------\n",
      "[[[1. 1. 1. 1.]\n",
      "  [0. 0. 0. 0.]]\n",
      "\n",
      " [[1. 1. 1. 1.]\n",
      "  [0. 0. 0. 0.]]\n",
      "\n",
      " [[1. 1. 1. 1.]\n",
      "  [0. 0. 0. 0.]]]\n",
      "-------------------------------------------------------------------------------------\n",
      "[[[1. 0.]\n",
      "  [1. 0.]\n",
      "  [1. 0.]\n",
      "  [1. 0.]]\n",
      "\n",
      " [[1. 0.]\n",
      "  [1. 0.]\n",
      "  [1. 0.]\n",
      "  [1. 0.]]\n",
      "\n",
      " [[1. 0.]\n",
      "  [1. 0.]\n",
      "  [1. 0.]\n",
      "  [1. 0.]]]\n"
     ]
    }
   ],
   "source": [
    "# stack() : hstack, vstack, dstack의 통합형.\n",
    "## 축(axis)을 지정해줘야 함 default = 0\n",
    "## axis = 0 : 열 기준으로 병합\n",
    "\n",
    "arr1 = np.ones((3, 4))\n",
    "arr2 = np.zeros((3, 4))\n",
    "\n",
    "arr3 = np.stack([arr1, arr2], axis = 0)\n",
    "print(arr3)\n",
    "\n",
    "print('-'*85)\n",
    "\n",
    "## axis = 1 : 행 기준으로 병합\n",
    "\n",
    "arr3 = np.stack([arr1, arr2], axis = 1)\n",
    "print(arr3)\n",
    "\n",
    "print('-'*85)\n",
    "\n",
    "## asix = 2 : 면 기준으로 병합\n",
    "\n",
    "arr3 = np.stack([arr1, arr2], axis = 2)\n",
    "print(arr3)"
   ]
  },
  {
   "cell_type": "code",
   "execution_count": 137,
   "metadata": {},
   "outputs": [
    {
     "name": "stdout",
     "output_type": "stream",
     "text": [
      "[[0 1 2]\n",
      " [3 4 5]]\n",
      "-------------------------------------------------------------------------------------\n",
      "[[0 1 2 0 1 2]\n",
      " [3 4 5 3 4 5]]\n",
      "-------------------------------------------------------------------------------------\n",
      "[[0 1 2 0 1 2]\n",
      " [3 4 5 3 4 5]\n",
      " [0 1 2 0 1 2]\n",
      " [3 4 5 3 4 5]\n",
      " [0 1 2 0 1 2]\n",
      " [3 4 5 3 4 5]]\n"
     ]
    }
   ],
   "source": [
    "# tile\n",
    "\n",
    "arr = np.array([[0, 1, 2], [3, 4, 5]])\n",
    "print(arr)\n",
    "\n",
    "print('-'*85)\n",
    "\n",
    "print(np.tile(arr, 2))\n",
    "\n",
    "print('-'*85)\n",
    "\n",
    "print(np.tile(arr, (3, 2)))"
   ]
  },
  {
   "cell_type": "markdown",
   "metadata": {},
   "source": [
    "### 2차원 그리드 포인트 생성 : meshgrid()"
   ]
  },
  {
   "cell_type": "code",
   "execution_count": 138,
   "metadata": {},
   "outputs": [
    {
     "name": "stdout",
     "output_type": "stream",
     "text": [
      "[0 1 2]\n",
      "[0 1 2 3 4]\n"
     ]
    }
   ],
   "source": [
    "x = np.arange(3)\n",
    "print(x)\n",
    "\n",
    "y = np.arange(5)\n",
    "print(y)"
   ]
  },
  {
   "cell_type": "code",
   "execution_count": 141,
   "metadata": {},
   "outputs": [
    {
     "name": "stdout",
     "output_type": "stream",
     "text": [
      "[[0 1 2]\n",
      " [0 1 2]\n",
      " [0 1 2]\n",
      " [0 1 2]\n",
      " [0 1 2]]\n",
      "-------------------------------------------------------------------------------------\n",
      "[[0 0 0]\n",
      " [1 1 1]\n",
      " [2 2 2]\n",
      " [3 3 3]\n",
      " [4 4 4]]\n"
     ]
    }
   ],
   "source": [
    "X, Y = np.meshgrid(x, y)\n",
    "print(X)\n",
    "\n",
    "print('-'*85)\n",
    "\n",
    "print(Y)"
   ]
  },
  {
   "cell_type": "code",
   "execution_count": 142,
   "metadata": {},
   "outputs": [
    {
     "data": {
      "text/plain": [
       "<matplotlib.collections.PathCollection at 0x23074ba3488>"
      ]
     },
     "execution_count": 142,
     "metadata": {},
     "output_type": "execute_result"
    },
    {
     "data": {
      "image/png": "[encoded data removed]",
      "text/plain": [
       "<Figure size 432x288 with 1 Axes>"
      ]
     },
     "metadata": {
      "needs_background": "light"
     },
     "output_type": "display_data"
    }
   ],
   "source": [
    "import matplotlib.pylab as pit\n",
    "pit.scatter(X,Y)"
   ]
  },
  {
   "cell_type": "code",
   "execution_count": 169,
   "metadata": {},
   "outputs": [
    {
     "name": "stdout",
     "output_type": "stream",
     "text": [
      "[[0 1 2]\n",
      " [0 1 2]\n",
      " [0 1 2]\n",
      " [0 1 2]\n",
      " [0 1 2]]\n",
      "[[0 0 0]\n",
      " [1 1 1]\n",
      " [2 2 2]\n",
      " [3 3 3]\n",
      " [4 4 4]]\n"
     ]
    },
    {
     "data": {
      "text/plain": [
       "[[(0, 0), (1, 0), (2, 0)],\n",
       " [(0, 1), (1, 1), (2, 1)],\n",
       " [(0, 2), (1, 2), (2, 2)],\n",
       " [(0, 3), (1, 3), (2, 3)],\n",
       " [(0, 4), (1, 4), (2, 4)]]"
      ]
     },
     "execution_count": 169,
     "metadata": {},
     "output_type": "execute_result"
    }
   ],
   "source": [
    "'''\n",
    "[ [(0, 0), (1, 0), (2, 0)],\n",
    "  [(0, 1), (1, 1), (2, 1)],\n",
    "  [(0, 2), (1, 2), (2, 2)],\n",
    "  [(0, 3), (1, 3), (2, 3)],\n",
    "  [(0, 4), (1, 4), (2, 4)]]\n",
    "'''\n",
    "print(X)\n",
    "print(Y)\n",
    "\n",
    "[list(zip(a, b)) for a, b in zip(X, Y)]"
   ]
  },
  {
   "cell_type": "markdown",
   "metadata": {},
   "source": [
    "### 브로드 캐스팅(BroadCasting)\n",
    "\n",
    "* 크기가 서로 다른 행렬(벡터)끼리 연산을 가능하게 하는 것"
   ]
  },
  {
   "cell_type": "code",
   "execution_count": 184,
   "metadata": {},
   "outputs": [
    {
     "name": "stdout",
     "output_type": "stream",
     "text": [
      "[0, 1, 2, 3, 4]\n",
      "[[0], [1], [2], [3], [4]]\n",
      "[range(0, 3), range(1, 4), range(2, 5), range(3, 6), range(4, 7)]\n"
     ]
    }
   ],
   "source": [
    "print([i for i in range(5)])\n",
    "print([[i] for i in range(5)])\n",
    "print([range(7)[i : i+3] for i in range(5)])"
   ]
  },
  {
   "cell_type": "code",
   "execution_count": 170,
   "metadata": {},
   "outputs": [
    {
     "name": "stdout",
     "output_type": "stream",
     "text": [
      "[[0 1 2]\n",
      " [1 2 3]\n",
      " [2 3 4]\n",
      " [3 4 5]\n",
      " [4 5 6]]\n",
      "[[0]\n",
      " [1]\n",
      " [2]\n",
      " [3]\n",
      " [4]]\n",
      "[[ 0  1  2]\n",
      " [ 2  3  4]\n",
      " [ 4  5  6]\n",
      " [ 6  7  8]\n",
      " [ 8  9 10]]\n",
      "[0 1 2]\n",
      "[[0 2 4]\n",
      " [1 3 5]\n",
      " [2 4 6]\n",
      " [3 5 7]\n",
      " [4 6 8]]\n"
     ]
    }
   ],
   "source": [
    "x = np.vstack([range(7)[i : i+3] for i in range(5)])\n",
    "print(x)\n",
    "y = np.arange(5)[: , np.newaxis]        # 2차원 인덱싱, np.newaxis : 축 생성\n",
    "print(y)\n",
    "\n",
    "print(x+y)\n",
    "\n",
    "y = np.arange(3)\n",
    "print(y)\n",
    "print(x+y)"
   ]
  },
  {
   "cell_type": "markdown",
   "metadata": {},
   "source": [
    "### 차원축소(dimension reduction) 연산\n",
    "\n",
    "* 최대값/최소값 : max(), min(), argmin(), argmax()\n",
    "* 대표값 : sum(), mean(), median(), std(), var()\n",
    "* 논리값 : all(), any()"
   ]
  },
  {
   "cell_type": "code",
   "execution_count": 173,
   "metadata": {},
   "outputs": [
    {
     "name": "stdout",
     "output_type": "stream",
     "text": [
      "0\n",
      "1\n"
     ]
    }
   ],
   "source": [
    "# 최대/최소값\n",
    "\n",
    "x = np.array([1, 3, 2])\n",
    "\n",
    "print(np.argmin(x)) # 최소값이 있는 위치(인덱스) 출력\n",
    "print(np.argmax(x)) # 최대값이 있는 위치(인덱스) 출력"
   ]
  },
  {
   "cell_type": "code",
   "execution_count": 174,
   "metadata": {},
   "outputs": [
    {
     "name": "stdout",
     "output_type": "stream",
     "text": [
      "True\n",
      "False\n"
     ]
    }
   ],
   "source": [
    "# 논리값\n",
    "\n",
    "print(np.any([True, True, False])) # 하나만 참이어도 참\n",
    "print(np.all([True, True, False])) # 모두가 참이어야 참"
   ]
  },
  {
   "cell_type": "code",
   "execution_count": 178,
   "metadata": {},
   "outputs": [
    {
     "name": "stdout",
     "output_type": "stream",
     "text": [
      "6\n",
      "[3 3]\n",
      "[2 4]\n"
     ]
    }
   ],
   "source": [
    "# 대표값\n",
    "\n",
    "x = np.array([[1, 1],\n",
    "             [2, 2]])\n",
    "\n",
    "print(x.sum())     # 전체 합\n",
    "print(x.sum(axis = 0))      #열 합계\n",
    "print(x.sum(axis = 1))      #행 합계"
   ]
  },
  {
   "cell_type": "markdown",
   "metadata": {},
   "source": [
    "### 기술 통계\n",
    "\n",
    "* len()\n",
    "* sum(), mean(), median(), std(), var()\n",
    "* percentile() : 사분위수"
   ]
  },
  {
   "cell_type": "code",
   "execution_count": 180,
   "metadata": {},
   "outputs": [
    {
     "name": "stdout",
     "output_type": "stream",
     "text": [
      "최소값 : -24.0\n",
      "최대값 : 23.0\n",
      "1사분위 : 0.0\n",
      "2사분위 : 5.0\n",
      "3사분위 : 10.0\n"
     ]
    }
   ],
   "source": [
    "x = np.array([18,   5,  10,  23,  19,  -8,  10,   0,   0,   5,   2,  15,   8,\n",
    "              2,   5,   4,  15,  -1,   4,  -7, -24,   7,   9,  -6,  23, -13])\n",
    "\n",
    "print('최소값 :', np.percentile(x, 0))\n",
    "print('최대값 :', np.percentile(x, 100))\n",
    "print('1사분위 :', np.percentile(x, 25))\n",
    "print('2사분위 :', np.percentile(x, 50))\n",
    "print('3사분위 :', np.percentile(x, 75))"
   ]
  },
  {
   "cell_type": "markdown",
   "metadata": {},
   "source": [
    "### 정렬"
   ]
  },
  {
   "cell_type": "code",
   "execution_count": 188,
   "metadata": {},
   "outputs": [
    {
     "name": "stdout",
     "output_type": "stream",
     "text": [
      "[[ 3  4  5  7]\n",
      " [ 1  9 11 12]\n",
      " [ 1  2 14 15]]\n",
      "[[ 3  4  5  7]\n",
      " [ 1  9 11 12]\n",
      " [ 1  2 14 15]]\n",
      "[[ 1  3  1  7]\n",
      " [ 2 12  5  9]\n",
      " [ 4 15 11 14]]\n",
      "[[ 4  3  5  7]\n",
      " [ 1 12 11  9]\n",
      " [ 2 15  1 14]]\n",
      "[[ 3  4  5  7]\n",
      " [ 1  9 11 12]\n",
      " [ 1  2 14 15]]\n"
     ]
    }
   ],
   "source": [
    "arr = np.array([[4, 3, 5, 7],\n",
    "               [1, 12, 11, 9],\n",
    "               [2, 15, 1, 14]])\n",
    "\n",
    "print(np.sort(arr))\n",
    "print(np.sort(arr, axis = 1))\n",
    "print(np.sort(arr, axis = 0))\n",
    "print(arr)\n",
    "arr = np.sort(arr)"
   ]
  },
  {
   "cell_type": "code",
   "execution_count": 187,
   "metadata": {},
   "outputs": [
    {
     "name": "stdout",
     "output_type": "stream",
     "text": [
      "[[ 3  4  5  7]\n",
      " [ 1  9 11 12]\n",
      " [ 1  2 14 15]]\n"
     ]
    }
   ],
   "source": [
    "arr = np.array([[4, 3, 5, 7],\n",
    "               [1, 12, 11, 9],\n",
    "               [2, 15, 1, 14]])\n",
    "\n",
    "arr.sort()          # in-place : 원본이 변경됨\n",
    "print(arr)"
   ]
  },
  {
   "cell_type": "code",
   "execution_count": 191,
   "metadata": {},
   "outputs": [
    {
     "name": "stdout",
     "output_type": "stream",
     "text": [
      "[2 3 1 0]\n",
      "[12 25 38 42]\n"
     ]
    }
   ],
   "source": [
    "# argsort() : 실제 값이 아닌 인덱스를 작은 수부터 정렬.\n",
    "\n",
    "arr = np.array([42, 38, 12, 25])\n",
    "idx = np.argsort(arr)\n",
    "print(idx)\n",
    "print(arr[idx])"
   ]
  },
  {
   "cell_type": "markdown",
   "metadata": {},
   "source": [
    "### 난수\n",
    "\n",
    "* rand() : 0 ~ 1 사이의 균일 분포\n",
    "* randn() : 가우시안 표준 정규 분포\n",
    "* randint() : 균일분포의 정수 난수"
   ]
  },
  {
   "cell_type": "code",
   "execution_count": 192,
   "metadata": {},
   "outputs": [
    {
     "name": "stdout",
     "output_type": "stream",
     "text": [
      "[0.78136903 0.63141362 0.48281885 0.65546128 0.04139469 0.60502061\n",
      " 0.06720991 0.57048843 0.84076412 0.59362811]\n",
      "-------------------------------------------------------------------------------------\n",
      "[ 1.28585558 -0.20594827 -0.29321062  2.0365455  -0.2359797   1.57181187\n",
      " -1.15179315 -0.37980225  1.71251132  1.93353019]\n",
      "-------------------------------------------------------------------------------------\n",
      "[[ 1.18938439 -0.46582273 -1.41109861 -2.11036513 -0.937097  ]\n",
      " [ 0.33466606 -1.5917045   0.56256808  0.27418128  0.90922741]\n",
      " [ 1.85868618 -0.44742772 -0.67369383  1.358558   -0.23867202]]\n"
     ]
    }
   ],
   "source": [
    "print(np.random.rand(10))\n",
    "print('-'*85)\n",
    "\n",
    "print(np.random.randn(10))\n",
    "print('-'*85)\n",
    "\n",
    "print(np.random.randn(3, 5))"
   ]
  },
  {
   "cell_type": "code",
   "execution_count": 194,
   "metadata": {},
   "outputs": [
    {
     "name": "stdout",
     "output_type": "stream",
     "text": [
      "2\n",
      "18\n",
      "[11 11 17 18 16 16 15 13 17 14 14 16 15 17 17 11 11 18 18 13 18 13 16 18\n",
      " 11 11 17 15 15 14 18 15 13 16 17 15 19 13 12 15 19 13 14 13 13 16 12 17\n",
      " 17 16 15 16 16 14 12 14 16 12 11 18 15 14 15 14 14 15 11 18 14 16 11 14\n",
      " 15 11 12 14 17 16 16 14 15 18 16 15 18 19 16 12 17 17 17 19 19 13 18 12\n",
      " 13 13 12 16]\n",
      "[[12 19 15 19]\n",
      " [15 18 14 14]\n",
      " [15 18 19 11]]\n"
     ]
    }
   ],
   "source": [
    "print(np.random.randint(10))         # 0~10까지의 난수\n",
    "print(np.random.randint(11, 20))         # 11~20까지의 난수\n",
    "print(np.random.randint(11, 20, size = 100)) \n",
    "print(np.random.randint(11, 20, size = (3, 4))) "
   ]
  },
  {
   "cell_type": "code",
   "execution_count": 196,
   "metadata": {},
   "outputs": [
    {
     "data": {
      "text/plain": [
       "array([0.54340494, 0.27836939, 0.42451759, 0.84477613, 0.00471886])"
      ]
     },
     "execution_count": 196,
     "metadata": {},
     "output_type": "execute_result"
    }
   ],
   "source": [
    "# 재현성 : test한 내용을 설명하고자 할때 똑같은 내용을 보여주기 위한 것.\n",
    "\n",
    "np.random.seed(100)\n",
    "np.random.rand(5)"
   ]
  },
  {
   "cell_type": "code",
   "execution_count": 197,
   "metadata": {},
   "outputs": [
    {
     "name": "stdout",
     "output_type": "stream",
     "text": [
      "[0 1 2 3 4 5 6 7 8 9]\n",
      "[8 4 3 0 1 6 7 9 5 2]\n"
     ]
    }
   ],
   "source": [
    "# 데이터의 순서 바꾸기\n",
    "\n",
    "x = np.arange(10)\n",
    "print(x)\n",
    "\n",
    "np.random.shuffle(x)\n",
    "print(x)"
   ]
  },
  {
   "cell_type": "code",
   "execution_count": 205,
   "metadata": {},
   "outputs": [
    {
     "data": {
      "text/plain": [
       "array([2, 2, 2, 3, 2, 2, 3, 0, 3, 0])"
      ]
     },
     "execution_count": 205,
     "metadata": {},
     "output_type": "execute_result"
    }
   ],
   "source": [
    "# 샘플링 : 복원, 비복원\n",
    "\n",
    "np.random.choice(5, 5)    # 0 ~ 5까지 수 중 5개\n",
    "np.random.choice(5, 3, replace = True)   # 선택한 데이터 다시 선택 가능\n",
    "\n",
    "np.random.choice(5, 5, replace = False)   # 선택한 데이터 다시 선택 불가능\n",
    "\n",
    "np.random.choice(5, 10, p=[0.1, 0, 0.3, 0.6, 0])  # p : 확률 지정"
   ]
  },
  {
   "cell_type": "markdown",
   "metadata": {},
   "source": [
    "### 정수형 데이터 카운팅 : unique(), bincount()"
   ]
  },
  {
   "cell_type": "code",
   "execution_count": 206,
   "metadata": {},
   "outputs": [
    {
     "name": "stdout",
     "output_type": "stream",
     "text": [
      "5\n",
      "['a' 'b' 'c']\n"
     ]
    }
   ],
   "source": [
    "arr = np.array(['a', 'b', 'b', 'c', 'a'])\n",
    "\n",
    "print(len(arr))\n",
    "print(np.unique(arr))"
   ]
  },
  {
   "cell_type": "code",
   "execution_count": 207,
   "metadata": {},
   "outputs": [
    {
     "name": "stdout",
     "output_type": "stream",
     "text": [
      "['a' 'b' 'c']\n",
      "[2 2 1]\n"
     ]
    }
   ],
   "source": [
    "# unique() : 데이터에서 중복된 값을 제거하고 중복되지 않은 값의 리스트 출력\n",
    "# return_counts : 인수를 True로 설정하면 각 값을 가진 갯수도 출력\n",
    "\n",
    "index, count = np.unique(arr, return_counts=True)\n",
    "print(index)\n",
    "print(count)"
   ]
  },
  {
   "cell_type": "code",
   "execution_count": 208,
   "metadata": {},
   "outputs": [
    {
     "name": "stdout",
     "output_type": "stream",
     "text": [
      "[0 2 3 1 0 0]\n"
     ]
    }
   ],
   "source": [
    "# bincount : 발생하지 않은 사건에 대해서도 카운팅\n",
    "\n",
    "arr = np.array([1, 1, 2, 2, 2, 3])\n",
    "print(np.bincount(arr, minlength = 6))"
   ]
  },
  {
   "cell_type": "markdown",
   "metadata": {},
   "source": [
    "### 데이터 분석 실습 : 영화 평점 데이터\n",
    "\n",
    "https://grouplens.org\n",
    "\n",
    "https://grouplens.org/datasets/movielens/ml-1m.zip"
   ]
  },
  {
   "cell_type": "code",
   "execution_count": 2,
   "metadata": {
    "scrolled": true
   },
   "outputs": [
    {
     "name": "stdout",
     "output_type": "stream",
     "text": [
      "[[        1      1193         5 978300760]\n",
      " [        1       661         3 978302109]\n",
      " [        1       914         3 978301968]\n",
      " ...\n",
      " [     6040       562         5 956704746]\n",
      " [     6040      1096         4 956715648]\n",
      " [     6040      1097         4 956715569]]\n",
      "(1000209, 4)\n"
     ]
    }
   ],
   "source": [
    "# 파일 불러오기 : np.loadtxt()\n",
    "\n",
    "data = np.loadtxt(\"data/movie/ratings.dat\", delimiter = '::', dtype = np.int64)\n",
    "print(data)\n",
    "print(data.shape)"
   ]
  },
  {
   "cell_type": "code",
   "execution_count": 3,
   "metadata": {},
   "outputs": [
    {
     "name": "stdout",
     "output_type": "stream",
     "text": [
      "[[        1      1193         5 978300760]\n",
      " [        1       661         3 978302109]\n",
      " [        1       914         3 978301968]\n",
      " [        1      3408         4 978300275]\n",
      " [        1      2355         5 978824291]\n",
      " [        1      1197         3 978302268]\n",
      " [        1      1287         5 978302039]\n",
      " [        1      2804         5 978300719]\n",
      " [        1       594         4 978302268]\n",
      " [        1       919         4 978301368]\n",
      " [        1       595         5 978824268]\n",
      " [        1       938         4 978301752]\n",
      " [        1      2398         4 978302281]\n",
      " [        1      2918         4 978302124]\n",
      " [        1      1035         5 978301753]\n",
      " [        1      2791         4 978302188]\n",
      " [        1      2687         3 978824268]\n",
      " [        1      2018         4 978301777]\n",
      " [        1      3105         5 978301713]\n",
      " [        1      2797         4 978302039]\n",
      " [        1      2321         3 978302205]]\n"
     ]
    }
   ],
   "source": [
    "# 1행부터 20행까지 출력\n",
    "\n",
    "print(data[:21, :])"
   ]
  },
  {
   "cell_type": "code",
   "execution_count": 4,
   "metadata": {},
   "outputs": [
    {
     "name": "stdout",
     "output_type": "stream",
     "text": [
      "[[   1  720]\n",
      " [   1 1270]\n",
      " [   1  527]\n",
      " [   1 2340]\n",
      " [   1   48]\n",
      " [   1 1097]\n",
      " [   1 1721]\n",
      " [   1 1545]\n",
      " [   1  745]\n",
      " [   1 2294]]\n"
     ]
    }
   ],
   "source": [
    "# 21행부터 30행까지 userid와 movieid만 출력\n",
    "\n",
    "print(data[21:31, :2])"
   ]
  },
  {
   "cell_type": "code",
   "execution_count": 5,
   "metadata": {},
   "outputs": [
    {
     "name": "stdout",
     "output_type": "stream",
     "text": [
      "3.581564453029317\n",
      "3.581564453029317\n"
     ]
    }
   ],
   "source": [
    "# 전체 평점 평균\n",
    "\n",
    "print(data[: , 2].mean())\n",
    "print(np.mean(data[:, 2]))"
   ]
  },
  {
   "cell_type": "code",
   "execution_count": 6,
   "metadata": {},
   "outputs": [
    {
     "name": "stdout",
     "output_type": "stream",
     "text": [
      "(6040,)\n",
      "결과 : [[1, 4.188679245283019], [2, 3.7131782945736433], [3, 3.9019607843137254], [4, 4.190476190476191], [5, 3.1464646464646466], [6, 3.9014084507042255], [7, 4.32258064516129], [8, 3.884892086330935], [9, 3.7358490566037736], [10, 4.114713216957606]]\n"
     ]
    }
   ],
   "source": [
    "# 사용자별 평점 평균(10명만 출력)\n",
    "\n",
    "user_id = np.unique(data[: , 0])\n",
    "print(user_id.shape)\n",
    "\n",
    "mean_value = []\n",
    "for id in user_id :\n",
    "    data_user = data[data[:, 0] == id, :]\n",
    "    value = data_user[:, 2].mean()\n",
    "    mean_value.append([id, value])\n",
    "    \n",
    "print('결과 :', mean_value[:10])"
   ]
  },
  {
   "cell_type": "code",
   "execution_count": 11,
   "metadata": {},
   "outputs": [
    {
     "name": "stdout",
     "output_type": "stream",
     "text": [
      "282\n",
      "[283.           4.96296296]\n",
      "4.962962962962963\n",
      "[ 282 2338 3323 ... 2743 4485 3597]\n"
     ]
    }
   ],
   "source": [
    "# 최고 평점 구하기\n",
    "\n",
    "arr_mean_values = np.array(mean_value)\n",
    "print(np.argmax(arr_mean_values[:, 1]))\n",
    "\n",
    "print(arr_mean_values[282])\n",
    "\n",
    "print(np.max(arr_mean_values[:, 1]))\n",
    "\n",
    "print(np.argsort(arr_mean_values[:, 1]))  # 오름차순 정렬\n",
    "print(np.argsort(arr_mean_values[:, 1])[::-1]) # 역순으로 정렬(인덱스 출력)"
   ]
  },
  {
   "cell_type": "code",
   "execution_count": 7,
   "metadata": {},
   "outputs": [
    {
     "name": "stdout",
     "output_type": "stream",
     "text": [
      "<class 'numpy.ndarray'>\n"
     ]
    }
   ],
   "source": [
    "# 사용자별 평점 평균 데이터를 파일로 저장\n",
    "\n",
    "arr_mean_values = np.array(mean_value)\n",
    "print(type(arr_mean_values))\n",
    "\n",
    "np.savetxt('data/movie/id_rations.csv', arr_mean_values, delimiter = ',', \n",
    "           fmt = '%.1f')"
   ]
  },
  {
   "cell_type": "code",
   "execution_count": 15,
   "metadata": {},
   "outputs": [
    {
     "data": {
      "text/plain": [
       "[9, 7, 5, 3, 1]"
      ]
     },
     "execution_count": 15,
     "metadata": {},
     "output_type": "execute_result"
    }
   ],
   "source": [
    "# :: (Extended Slices)\n",
    "\n",
    "arr = range(10)\n",
    "list(arr)\n",
    "\n",
    "list(arr[::2])     # 처음부터 끝까지 2칸씩 접근\n",
    "list(arr[1::2])    # 인덱스 1부터 2칸씩 접근\n",
    "list(arr[::-1])    # 역순으로 접근\n",
    "list(arr[::-2])    # 역순으로 2칸씩 접근\n",
    "list(arr[3::-1])   # 인덱스 3부터 역순으로\n",
    "list(arr[1:6:2])   # 인덱스 1부터 5(6-1)까지 2칸씩"
   ]
  },
  {
   "cell_type": "code",
   "execution_count": null,
   "metadata": {},
   "outputs": [],
   "source": []
  },
  {
   "cell_type": "code",
   "execution_count": null,
   "metadata": {},
   "outputs": [],
   "source": []
  }
 ],
 "metadata": {
  "kernelspec": {
   "display_name": "Python 3",
   "language": "python",
   "name": "python3"
  },
  "language_info": {
   "codemirror_mode": {
    "name": "ipython",
    "version": 3
   },
   "file_extension": ".py",
   "mimetype": "text/x-python",
   "name": "python",
   "nbconvert_exporter": "python",
   "pygments_lexer": "ipython3",
   "version": "3.7.6"
  }
 },
 "nbformat": 4,
 "nbformat_minor": 4
}
