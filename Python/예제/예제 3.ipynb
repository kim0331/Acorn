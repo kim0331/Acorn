{
 "cells": [
  {
   "cell_type": "markdown",
   "metadata": {},
   "source": [
    "# 예제 2의 모든 코드를 함수화 시키기"
   ]
  },
  {
   "cell_type": "markdown",
   "metadata": {},
   "source": [
    "##### 5. 전자 계산기 프로그램을 반복문을 이용해서 업그레이드\n",
    "(끝나는 조건은 연산자에 x를 입력하면 종료)"
   ]
  },
  {
   "cell_type": "code",
   "execution_count": null,
   "metadata": {},
   "outputs": [
    {
     "name": "stdout",
     "output_type": "stream",
     "text": [
      "연산자 : x\n"
     ]
    }
   ],
   "source": [
    "def cal(op):\n",
    "    if op == '+':\n",
    "        print(num1, '+', num2, '=', num1 + num2)\n",
    "    elif op == '-':\n",
    "        print(num1, '-', num2, '=', num1 - num2)\n",
    "    elif op == '*':\n",
    "        print(num1, '*', num2, '=', num1 * num2)\n",
    "    elif op == '/':\n",
    "        print(num1, '/', num2, '=', num1 / num2)\n",
    "    else:\n",
    "        if op != 'x':\n",
    "            print('연산자 입력이 잘못되었습니다.')\n",
    "\n",
    "\n",
    "op, num1, num2 = 0, 0, 0\n",
    "\n",
    "while True:\n",
    "    op = str(input('연산자 : '))\n",
    "    if op == 'x':\n",
    "        print('종료합니다.')\n",
    "        break\n",
    "    else:\n",
    "        num1 = int(input('숫자1 : '))\n",
    "        num2 = int(input('숫자2 : '))\n",
    "        cal(op)\n",
    "        "
   ]
  },
  {
   "cell_type": "markdown",
   "metadata": {},
   "source": [
    "##### 6. 가위 바위 보 게임을 반복문을 사용하여 업그레이드\n",
    "(끝나는 조건은 x나 q를 입력하면 종료)\n",
    "\n",
    "끝날 때 결과에 ?승 ?패 출력"
   ]
  },
  {
   "cell_type": "code",
   "execution_count": null,
   "metadata": {},
   "outputs": [],
   "source": [
    "def rsc(com, p1):\n",
    "    if com != p1:\n",
    "        if com == 0:\n",
    "            if p1 == '바위':\n",
    "                print('컴퓨터 : 가위, 사용자 :', p1, '\\n결과 : 사용자가 이겼습니다')\n",
    "                return 'win'\n",
    "            else:\n",
    "                print('컴퓨터 : 가위, 사용자 :', p1, '\\n결과 : 사용자가 졌습니다')\n",
    "                return 'lose'\n",
    "        if com == 1:\n",
    "            if p1 == '가위':\n",
    "                print('컴퓨터 : 바위, 사용자 :', p1, '\\n결과 : 사용자가 졌습니다')\n",
    "                return 'lose'\n",
    "            else:\n",
    "                print('컴퓨터 : 바위, 사용자 :', p1, '\\n결과 : 사용자가 이겼습니다')\n",
    "                return 'win'\n",
    "        else:\n",
    "            if p1 == '가위':\n",
    "                print('컴퓨터 : 보, 사용자 :', p1, '\\n결과 : 사용자가 이겼습니다')\n",
    "                return 'win'\n",
    "            else:\n",
    "                print('컴퓨터 : 보, 사용자 :', p1, '\\n결과 : 사용자가 졌습니다')\n",
    "                return 'lose'\n",
    "    else:\n",
    "        print('컴퓨터 : %s, 사용자 : %s \\n결과 : 비겼습니다.' % p1)\n",
    "        return draw\n",
    "\n",
    "\n",
    "import random\n",
    "\n",
    "n_win = 0\n",
    "n_draw = 0\n",
    "n_lose = 0\n",
    "\n",
    "while True:\n",
    "    p1 = input(\"가위, 바위, 보 중에서 하나를 선택(x나 q 입력시 종료) : \")\n",
    "    com = random.randint(0, 2)\n",
    "    if p1 == 'x' or p1 == 'q' :\n",
    "        print('종료합니다.', n_win, \"승\", n_draw, '무', n_lose, '패')\n",
    "        break\n",
    "    result = rsc(com, p1)\n",
    "    if result == 'win':\n",
    "        n_win += 1\n",
    "    elif result == 'lose':\n",
    "        n_lose += 1\n",
    "    else:\n",
    "        n_draw += 1"
   ]
  },
  {
   "cell_type": "markdown",
   "metadata": {},
   "source": [
    "##### 8. 친구 관리 프로그램\n",
    "====================\n",
    "\n",
    "1. 친구 리스트 출력\n",
    "\n",
    "2. 친구 추가\n",
    "\n",
    "3. 친구 삭제\n",
    "\n",
    "4. 이름 변경\n",
    "\n",
    "9. 종료\n",
    "\n",
    "메뉴를 선택 : 2 (엔터)\n",
    "\n",
    "##### 이름을 입력 : 홍길동 (엔터)\n",
    "-----------------------\n",
    "1.친구 리스트 출력\n",
    "\n",
    "2.친구 추가\n",
    "\n",
    "3.친구 삭제\n",
    "\n",
    "4.이름 변경\n",
    "\n",
    "9.종료\n",
    "\n",
    "메뉴를 선택 : 2 (엔터)\n",
    "\n",
    "##### 이름을 입력 : 임꺽정 (엔터)\n",
    "-----------------------\n",
    "1.친구 리스트 출력\n",
    "\n",
    "2.친구 추가\n",
    "\n",
    "3.친구 삭제\n",
    "\n",
    "4.이름 변경\n",
    "\n",
    "9.종료\n",
    "\n",
    "메뉴를 선택 : 1 (엔터)\n",
    "\n",
    "##### [\"홍길동\", \"임꺽정\"]\n",
    "----------------------\n",
    "1.친구 리스트 출력\n",
    "\n",
    "2.친구 추가\n",
    "\n",
    "3.친구 삭제\n",
    "\n",
    "4.이름 변경\n",
    "\n",
    "9.종료\n",
    "\n",
    "메뉴를 선택 : 4 (엔터)\n",
    "\n",
    "변경할 이름 선택 : 홍길동 (엔터)\n",
    "\n",
    "##### 변경하고 싶은 이름 입력 : 홍길순 (엔터)\n",
    "-------------------------------\n",
    "1.친구 리스트 출력\n",
    "\n",
    "2.친구 추가\n",
    "\n",
    "3.친구 삭제\n",
    "\n",
    "4.이름 변경\n",
    "\n",
    "9.종료\n",
    "\n",
    "메뉴를 선택 : 1 (엔터)\n",
    "\n",
    "\n",
    "##### [\"홍길순\", \"임꺽정\"]\n",
    "-------------------------------\n",
    "1.친구 리스트 출력\n",
    "\n",
    "2.친구 추가\n",
    "\n",
    "3.친구 삭제\n",
    "\n",
    "4.이름 변경\n",
    "\n",
    "9.종료\n",
    "\n",
    "메뉴를 선택 : 3 (엔터)\n",
    "\n",
    "삭제할 이름 입력 : 홍길순"
   ]
  },
  {
   "cell_type": "code",
   "execution_count": null,
   "metadata": {},
   "outputs": [],
   "source": [
    "Friend = []\n",
    "\n",
    "\n",
    "def change(num):\n",
    "    if num == 1:\n",
    "        print(Friend)\n",
    "    elif num == 2:\n",
    "        Friend.append(input('이름을 입력 :'))\n",
    "    elif num == 3:\n",
    "        Friend.remove(input('이름을 입력 :'))\n",
    "    else:\n",
    "        if num != 4 or num != 9:\n",
    "            print('번호를 잘못 입력하였습니다.')\n",
    "\n",
    "\n",
    "prompt = '''\n",
    "1. 친구 리스트 출력\n",
    "2. 친구 추가\n",
    "3. 친구 삭제\n",
    "4. 이름 변경\n",
    "9. 종료\n",
    "\n",
    "메뉴를 선택 : '''\n",
    "\n",
    "num = 0\n",
    "while True:\n",
    "    print(prompt)\n",
    "    num = int(input())\n",
    "    if num == 4:\n",
    "        for i in range(len(Friend)):\n",
    "            if Friend[i] == input('변경할 이름 선택 :'):\n",
    "                Friend[i] = input('변경하고 싶은 이름 입력 :')\n",
    "                break\n",
    "    elif num == 9:\n",
    "            print('종료되었습니다.')\n",
    "            break\n",
    "    else :\n",
    "        change(num)\n"
   ]
  },
  {
   "cell_type": "markdown",
   "metadata": {},
   "source": [
    "##### 10. 자리수의 합\n",
    "============\n",
    "\n",
    "예를 들어 1234라고 입력했을 경우 (1 + 2 + 3 + 4)를 계산하는 프로그램\n",
    "(0을 입력하면 종료)"
   ]
  },
  {
   "cell_type": "code",
   "execution_count": 4,
   "metadata": {},
   "outputs": [
    {
     "name": "stdout",
     "output_type": "stream",
     "text": [
      "수를 입력하시오(0 입력시 종료) : 12324\n",
      "12\n",
      "수를 입력하시오(0 입력시 종료) : 1234\n",
      "10\n",
      "수를 입력하시오(0 입력시 종료) : 0\n",
      "종료합니다\n"
     ]
    }
   ],
   "source": [
    "def hap(a) :\n",
    "    global sum\n",
    "    for i in range(0, len(a)) :\n",
    "            sum += int(a[i])\n",
    "    return sum\n",
    "\n",
    "while True :\n",
    "    num, sum = 0, 0\n",
    "    num = input('수를 입력하시오(0 입력시 종료) : ')\n",
    "    if num == '0' :\n",
    "        print('종료합니다')\n",
    "        break\n",
    "    else :\n",
    "        sum = hap(num)\n",
    "        print(sum)"
   ]
  },
  {
   "cell_type": "markdown",
   "metadata": {},
   "source": [
    "##### 11. 숫자 맞추기 게임\n",
    "=================\n",
    "\n",
    "1 부터 100사이의 숫자를 맞추시오\n",
    "숫자 입력 : 50\n",
    "낮음!\n",
    "\n",
    "숫자 입력 : 75\n",
    "낮음!\n",
    "\n",
    "...\n",
    "\n",
    "숫자 입력 : 89\n",
    "정답입니다!~~ 시도회수 : 7번"
   ]
  },
  {
   "cell_type": "code",
   "execution_count": null,
   "metadata": {},
   "outputs": [],
   "source": [
    "def game(num):\n",
    "    if v != num:\n",
    "        if v > num:\n",
    "            if v - num > 20:\n",
    "                 print(\"정답보다 많이 작아요\")\n",
    "            elif v - num > 10:\n",
    "                 print('조금 더 늘려보세요')\n",
    "            else :\n",
    "                 print('가까워졌어요!')\n",
    "        else:\n",
    "            if v < num:\n",
    "                if num - v > 20:\n",
    "                    print(\"정답보다 많이 커요\")\n",
    "                elif num - v > 10:\n",
    "                    print('조금 더 줄여보세요')\n",
    "                else :\n",
    "                    print('가까워졌어요!')\n",
    "\n",
    "\n",
    "import random\n",
    "\n",
    "v = random.randint(1, 100)\n",
    "i = 0\n",
    "print(v)\n",
    "while True:\n",
    "    i += 1\n",
    "    num = int(input(\"숫자 입력 : \"))\n",
    "    if v == num :\n",
    "        print('정답입니다. 시도 횟수 : ', i)\n",
    "        break\n",
    "    else : game(num)"
   ]
  },
  {
   "cell_type": "markdown",
   "metadata": {},
   "source": [
    "##### 12. *로 정삼각형 만들기 (1/ 3/ 5/ 7/ 9)"
   ]
  },
  {
   "cell_type": "code",
   "execution_count": 6,
   "metadata": {
    "scrolled": false
   },
   "outputs": [
    {
     "name": "stdout",
     "output_type": "stream",
     "text": [
      "    *\n",
      "   ***\n",
      "  *****\n",
      " *******\n",
      "*********\n"
     ]
    }
   ],
   "source": [
    "def tri(a) :\n",
    "    for i in range(0, a) :\n",
    "        for j in range((a-1)-i) :\n",
    "            print(' ', end = '')\n",
    "        print('*'*(2*i + 1))\n",
    "      \n",
    "    \n",
    "tri(5)"
   ]
  },
  {
   "cell_type": "code",
   "execution_count": 1,
   "metadata": {},
   "outputs": [
    {
     "name": "stdout",
     "output_type": "stream",
     "text": [
      "수를 입력하시오 : 5\n",
      "    *\n",
      "   ***\n",
      "  *****\n",
      " *******\n",
      "*********\n",
      "수를 입력하시오 : 0\n",
      "종료합니다.\n"
     ]
    }
   ],
   "source": [
    "def tri(a) :\n",
    "    for i in range(int(a)) :\n",
    "        for j in range((int(a)-1)-i) :\n",
    "            print(' ', end = '')\n",
    "        print('*'*(2*i + 1))\n",
    "    \n",
    "\n",
    "while True :\n",
    "    num, v = 0, 0\n",
    "    num = input('수를 입력하시오 : ')\n",
    "    if num == '0' :\n",
    "        print('종료합니다.')\n",
    "        break\n",
    "        \n",
    "    else :\n",
    "        tri(num)\n"
   ]
  },
  {
   "cell_type": "code",
   "execution_count": null,
   "metadata": {},
   "outputs": [],
   "source": []
  }
 ],
 "metadata": {
  "kernelspec": {
   "display_name": "Python 3",
   "language": "python",
   "name": "python3"
  },
  "language_info": {
   "codemirror_mode": {
    "name": "ipython",
    "version": 3
   },
   "file_extension": ".py",
   "mimetype": "text/x-python",
   "name": "python",
   "nbconvert_exporter": "python",
   "pygments_lexer": "ipython3",
   "version": "3.8.3"
  }
 },
 "nbformat": 4,
 "nbformat_minor": 4
}
