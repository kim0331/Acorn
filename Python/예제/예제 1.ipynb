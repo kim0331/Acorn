{
 "cells": [
  {
   "cell_type": "markdown",
   "metadata": {},
   "source": [
    "## 예시"
   ]
  },
  {
   "cell_type": "code",
   "execution_count": 1,
   "metadata": {},
   "outputs": [
    {
     "name": "stdout",
     "output_type": "stream",
     "text": [
      "당신의 이름은? Kim\n",
      "당신의 이름은 Kim 입니다.\n"
     ]
    }
   ],
   "source": [
    "name = input('당신의 이름은? ')\n",
    "print('당신의 이름은', name, '입니다.')"
   ]
  },
  {
   "cell_type": "code",
   "execution_count": 2,
   "metadata": {},
   "outputs": [
    {
     "name": "stdout",
     "output_type": "stream",
     "text": [
      "첫 번째 숫자? 7\n",
      "두 번째 숫자? 3\n",
      "두 수의 합 :  10\n"
     ]
    }
   ],
   "source": [
    "num1 = int(input('첫 번째 숫자? '))\n",
    "num2 = int(input('두 번째 숫자? '))\n",
    "\n",
    "print('두 수의 합 : ', num1+num2)"
   ]
  },
  {
   "cell_type": "markdown",
   "metadata": {},
   "source": [
    "### 예제 1\n",
    "두개의 double변수를 이용해서 각각 갤런과 리터값을 저장하고 갤런값을 해당하는 리터값으로 바꿔보자.(1갤런은 3.7584리터이다)"
   ]
  },
  {
   "cell_type": "code",
   "execution_count": 3,
   "metadata": {},
   "outputs": [
    {
     "name": "stdout",
     "output_type": "stream",
     "text": [
      "갤런 값 : 1\n",
      "1 갤런은 3.7584 리터 입니다.\n"
     ]
    }
   ],
   "source": [
    "G = int(input('갤런 값 : '))\n",
    "L = G * 3.7584\n",
    "\n",
    "print(G, '갤런은', L, '리터 입니다.')"
   ]
  },
  {
   "cell_type": "markdown",
   "metadata": {},
   "source": [
    "### 예제 2\n",
    "달의 중력은 지구 중력의 17% 정도이다. 달에서의 당신의 체중을 계산하는 프로그램을 작성하라."
   ]
  },
  {
   "cell_type": "code",
   "execution_count": 4,
   "metadata": {},
   "outputs": [
    {
     "name": "stdout",
     "output_type": "stream",
     "text": [
      "체중 : 100\n",
      "달에서 당신의 체중은 17.0 kg입니다.\n"
     ]
    }
   ],
   "source": [
    "w = int(input('체중 : '))\n",
    "moon = w*0.17\n",
    "\n",
    "print('달에서 당신의 체중은', moon, 'kg입니다.')"
   ]
  },
  {
   "cell_type": "markdown",
   "metadata": {},
   "source": [
    "### 예제 3\n",
    "번개가 얼마나 먼 곳에서 발생했나?\n",
    "(번개 소리를 들은 사람이 번개가 치는 곳에서부터 몇 피트 정도 떨어져 있는가를 계산하라. 소리는 공기 중을 약 1,100 피트/초의 속도로 진행한다. - 번개를 본 시각과 천둥소리를 들은 시각 사이의 시간을 알면 거리를 계산할 수 있다. 여기서는 7.2초로 가정하자)"
   ]
  },
  {
   "cell_type": "code",
   "execution_count": 5,
   "metadata": {},
   "outputs": [
    {
     "name": "stdout",
     "output_type": "stream",
     "text": [
      "당신은 번개로부터 7920.0 피트 떨어져있습니다.\n"
     ]
    }
   ],
   "source": [
    "time = 7.2\n",
    "d = time*1100\n",
    "\n",
    "print('당신은 번개로부터', d, '피트 떨어져있습니다.')"
   ]
  },
  {
   "cell_type": "markdown",
   "metadata": {},
   "source": [
    "### 예제 4 동전 교환 프로그램\n",
    "==================\n",
    "\n",
    "교환할 돈은 얼마입니까? 2763 (엔터키)\n",
    "\n",
    "결과:\n",
    "오백원짜리 ===> 5개\n",
    "백원짜리 ===> 2개\n",
    "오십원짜리 ===> 1개\n",
    "십원짜리 ===> 1개\n",
    "나머지 바꾸지 못한 잔돈 ===> 3원"
   ]
  },
  {
   "cell_type": "code",
   "execution_count": 6,
   "metadata": {},
   "outputs": [
    {
     "name": "stdout",
     "output_type": "stream",
     "text": [
      "교환할 돈은 얼마입니까? 2763\n",
      "오백원짜리 ===> 5 개\n",
      "백원짜리 ===> 2 개\n",
      "오십원짜리 ===> 1 개\n",
      "십원짜리 ===> 1 개\n",
      "나머지 바꾸지 못한 잔돈 ===> 3 원\n"
     ]
    }
   ],
   "source": [
    "num = int(input('교환할 돈은 얼마입니까? '))\n",
    "print('오백원짜리 ===>', num//500,'개')\n",
    "num%=500\n",
    "print('백원짜리 ===>', num//100,'개')\n",
    "num%=100\n",
    "print('오십원짜리 ===>', num//50,'개')\n",
    "num%=50\n",
    "print('십원짜리 ===>', num//10,'개')\n",
    "num%=10\n",
    "print('나머지 바꾸지 못한 잔돈 ===>', num,'원')"
   ]
  }
 ],
 "metadata": {
  "kernelspec": {
   "display_name": "Python 3",
   "language": "python",
   "name": "python3"
  },
  "language_info": {
   "codemirror_mode": {
    "name": "ipython",
    "version": 3
   },
   "file_extension": ".py",
   "mimetype": "text/x-python",
   "name": "python",
   "nbconvert_exporter": "python",
   "pygments_lexer": "ipython3",
   "version": "3.8.3"
  }
 },
 "nbformat": 4,
 "nbformat_minor": 4
}
