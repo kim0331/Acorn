{
 "cells": [
  {
   "cell_type": "markdown",
   "metadata": {},
   "source": [
    "##### 1. 윤년 계산 프로그램\n",
    "-------------------\n",
    "1) 기원 연수가 4로 나누어 떨어지는 해는 우선 윤년으로 한다.\n",
    "\n",
    "2) 그 중에서 100으로 나누어 떨어지는 해는 평년으로 한다.\n",
    "\n",
    "3) 다만 400으로 나누어 떨어지는 해는 다시 윤년으로 정한다.\n",
    "\n",
    "연도를 입력 : 2019(엔터)\n",
    "결과 : 윤년입니다.(윤년이 아닙니다)"
   ]
  },
  {
   "cell_type": "code",
   "execution_count": 1,
   "metadata": {},
   "outputs": [
    {
     "name": "stdout",
     "output_type": "stream",
     "text": [
      "연도 : 2019\n",
      "윤년이 아닙니다\n"
     ]
    }
   ],
   "source": [
    "year = int(input('연도 : '))\n",
    "\n",
    "if year % 4 == 0 :\n",
    "    if year % 400 == 0 :\n",
    "         print('윤년입니다')\n",
    "    elif year % 100 == 0 :\n",
    "        print('윤년이 아닙니다')\n",
    "    else :\n",
    "        print('윤년입니다')\n",
    "else :\n",
    "    print('윤년이 아닙니다')   \n"
   ]
  },
  {
   "cell_type": "markdown",
   "metadata": {},
   "source": [
    "##### 2. 전자 계산기 프로그램(사칙연산)\n",
    "-------------------------------------------\n",
    "연산자 : +\n",
    "\n",
    "숫자1 : 10\n",
    "\n",
    "숫자2 : 5\n",
    "\n",
    "결과 : 10 + 5 = 15"
   ]
  },
  {
   "cell_type": "code",
   "execution_count": 2,
   "metadata": {},
   "outputs": [
    {
     "name": "stdout",
     "output_type": "stream",
     "text": [
      "연산자 : +\n",
      "숫자1 : 10\n",
      "숫자2 : 5\n",
      "10 + 5 = 15\n"
     ]
    }
   ],
   "source": [
    "op = str(input('연산자 : '))\n",
    "num1 = int(input('숫자1 : '))\n",
    "num2 = int(input('숫자2 : '))\n",
    "\n",
    "if op == '+' :\n",
    "    print(num1, '+', num2, '=', num1+num2)\n",
    "elif op == '-' :\n",
    "    print(num1, '-', num2, '=', num1-num2)\n",
    "elif op == '*' :\n",
    "    print(num1, '*', num2, '=', num1*num2)\n",
    "elif op == '/' :\n",
    "    print(num1, '/', num2, '=', num1/num2)\n",
    "else :\n",
    "    print('연산자 입력이 잘못되었습니다.')"
   ]
  },
  {
   "cell_type": "markdown",
   "metadata": {},
   "source": [
    "##### 3. 아이디와 패스워드를 입력받아 로그인하는 프로그램 (id : tom, password : 1234)"
   ]
  },
  {
   "cell_type": "code",
   "execution_count": 3,
   "metadata": {},
   "outputs": [
    {
     "name": "stdout",
     "output_type": "stream",
     "text": [
      "아이디 : tom\n",
      "패스워드 : 1234\n",
      "로그인 성공\n"
     ]
    }
   ],
   "source": [
    "id = input('아이디 : ')\n",
    "pw = input('패스워드 : ')\n",
    "\n",
    "if id == 'tom' :\n",
    "    if pw == '1234' :\n",
    "        print('로그인 성공')\n",
    "    else :\n",
    "        print('패스워드가 틀렸습니다.')\n",
    "else :\n",
    "    if pw == '1234' :\n",
    "        print('아이디가 틀렸습니다.')\n",
    "    else :\n",
    "        print('모두 틀렸습니다.')"
   ]
  },
  {
   "cell_type": "markdown",
   "metadata": {},
   "source": [
    "##### 4. 가위바위보 프로그램\n",
    "\n",
    "(가위, 바위, 보) 중에서 하나를 선택 : 가위\n",
    "\n",
    "컴퓨터 : 바위, 사용자 : 가위\n",
    "\n",
    "결과 : 사용자가 이겼습니다.(졌습니다)\n"
   ]
  },
  {
   "cell_type": "code",
   "execution_count": 4,
   "metadata": {},
   "outputs": [
    {
     "name": "stdout",
     "output_type": "stream",
     "text": [
      "가위/바위/보 중에 하나를 선택 : 가위\n",
      "컴퓨터 : 바위, 사용자 : 가위 \n",
      "결과 : 사용자가 졌습니다\n"
     ]
    }
   ],
   "source": [
    "p1 = input('가위/바위/보 중에 하나를 선택 : ')\n",
    "\n",
    "import random\n",
    "com = random.randint(0, 2)\n",
    "\n",
    "if com == 0 :\n",
    "    if p1 == '가위' :\n",
    "        print('컴퓨터 : 가위, 사용자 :', p1, '\\n결과 : 비겼습니다')\n",
    "    elif p1 == '바위' :\n",
    "        print('컴퓨터 : 가위, 사용자 :', p1, '\\n결과 : 사용자가 이겼습니다')\n",
    "    else :\n",
    "        print('컴퓨터 : 가위, 사용자 :', p1, '\\n결과 : 사용자가 졌습니다')\n",
    "elif com == 1 :\n",
    "    if p1 == '가위' :\n",
    "        print('컴퓨터 : 바위, 사용자 :', p1, '\\n결과 : 사용자가 졌습니다')\n",
    "    elif p1 == '바위' :\n",
    "        print('컴퓨터 : 바위, 사용자 :', p1, '\\n결과 : 비겼습니다')\n",
    "    else :\n",
    "        print('컴퓨터 : 바위, 사용자 :', p1, '\\n결과 : 사용자가 이겼습니다')\n",
    "else :\n",
    "    if p1 == '가위' :\n",
    "        print('컴퓨터 : 보, 사용자 :', p1, '\\n결과 : 사용자가 이겼습니다')\n",
    "    elif p1 == '바위' :\n",
    "        print('컴퓨터 : 보, 사용자 :', p1, '\\n결과 : 사용자가 졌습니다')\n",
    "    else :\n",
    "        print('컴퓨터 : 보, 사용자 :', p1, '\\n결과 : 비겼습니다')"
   ]
  },
  {
   "cell_type": "markdown",
   "metadata": {},
   "source": [
    "##### 5. 전자 계산기 프로그램을 반복문을 이용해서 업그레이드\n",
    "(끝나는 조건은 연산자에 x를 입력하면 종료)"
   ]
  },
  {
   "cell_type": "code",
   "execution_count": 5,
   "metadata": {},
   "outputs": [
    {
     "name": "stdout",
     "output_type": "stream",
     "text": [
      "연산자 : +\n",
      "숫자1 : 10\n",
      "숫자2 : 3\n",
      "10 + 3 = 13\n",
      "연산자 : =\n",
      "연산자 입력이 잘못되었습니다.\n",
      "연산자 : x\n",
      "종료합니다.\n"
     ]
    }
   ],
   "source": [
    "op, num1, num2 = 0, 0, 0\n",
    "\n",
    "while True :\n",
    "    op = str(input('연산자 : '))\n",
    "    if op == '+' :\n",
    "        num1 = int(input('숫자1 : '))\n",
    "        num2 = int(input('숫자2 : '))\n",
    "        print(num1, '+', num2, '=', num1+num2)\n",
    "    elif op == '-' :\n",
    "        print(num1, '-', num2, '=', num1-num2)\n",
    "    elif op == '*' :\n",
    "        print(num1, '*', num2, '=', num1*num2)\n",
    "    elif op == '/' :\n",
    "        print(num1, '/', num2, '=', num1/num2)\n",
    "    else :\n",
    "        if op != 'x' :\n",
    "            print('연산자 입력이 잘못되었습니다.')\n",
    "    if op == 'x' :\n",
    "        print('종료합니다.')\n",
    "        break\n",
    "        "
   ]
  },
  {
   "cell_type": "markdown",
   "metadata": {},
   "source": [
    "##### 6. 가위 바위 보 게임을 반복문을 사용하여 업그레이드\n",
    "(끝나는 조건은 x나 q를 입력하면 종료)\n",
    "\n",
    "끝날 때 결과에 ?승 ?패 출력"
   ]
  },
  {
   "cell_type": "code",
   "execution_count": 6,
   "metadata": {},
   "outputs": [
    {
     "name": "stdout",
     "output_type": "stream",
     "text": [
      "가위, 바위, 보 중에서 하나를 선택 : 가위\n",
      "컴퓨터 : 보, 사용자 : 가위\n",
      "사용자가 이겼습니다\n",
      "가위, 바위, 보 중에서 하나를 선택 : 바위\n",
      "컴퓨터 : 보, 사용자 : 바위\n",
      "사용자가 졌습니다\n",
      "가위, 바위, 보 중에서 하나를 선택 : 보\n",
      "컴퓨터 : 가위, 사용자 : 보\n",
      "사용자가 졌습니다\n",
      "가위, 바위, 보 중에서 하나를 선택 : q\n",
      "종료되었습니다. 1 승 0 무 2 패\n"
     ]
    }
   ],
   "source": [
    "import random\n",
    "win = 0\n",
    "draw = 0\n",
    "lose = 0\n",
    "\n",
    "while True:\n",
    "    user = input(\"가위, 바위, 보 중에서 하나를 선택 : \")\n",
    "    com = random.randint(0,2)\n",
    "    if user == '가위':\n",
    "        if com == 0:\n",
    "            print(\"컴퓨터 : 가위, 사용자 : 가위\")\n",
    "            print(\"비겼습니다\")\n",
    "            draw += 1\n",
    "        elif com == 1:\n",
    "            print(\"컴퓨터 : 바위, 사용자 : 가위\")\n",
    "            print(\"사용자가 졌습니다.\")\n",
    "            lose += 1\n",
    "        else:\n",
    "            print(\"컴퓨터 : 보, 사용자 : 가위\")\n",
    "            print(\"사용자가 이겼습니다\")\n",
    "            win += 1\n",
    "    elif user == '바위':\n",
    "        if com == 0:\n",
    "            print(\"컴퓨터 : 가위, 사용자 : 바위\")\n",
    "            print(\"사용자가 이겼습니다\")\n",
    "            win += 1\n",
    "        elif com == 1:\n",
    "            print(\"컴퓨터 : 바위, 사용자 : 바위\")\n",
    "            print(\"비겼습니다\")\n",
    "            draw += 1\n",
    "        else:\n",
    "            print(\"컴퓨터 : 보, 사용자 : 바위\")\n",
    "            print(\"사용자가 졌습니다\")\n",
    "            lose += 1\n",
    "    elif user == '보':\n",
    "        if com == 0:\n",
    "            print(\"컴퓨터 : 가위, 사용자 : 보\")\n",
    "            print(\"사용자가 졌습니다\")\n",
    "            lose += 1\n",
    "        elif com == 1:\n",
    "            print(\"컴퓨터 : 바위, 사용자 : 보\")\n",
    "            print(\"사용자가 이겼습니다\")\n",
    "            win += 1\n",
    "        else:\n",
    "            print(\"컴퓨터 : 보, 사용자 : 보\")\n",
    "            print(\"비겼습니다\")\n",
    "            draw += 1\n",
    "    if user == 'x' or user == 'q':\n",
    "        print('종료되었습니다.', win,\"승\",draw,'무',lose,'패')\n",
    "        break"
   ]
  },
  {
   "cell_type": "markdown",
   "metadata": {},
   "source": [
    "##### 7. 숫자를 입력받아서 짝수의 합과 홀수의 합을 구하시오.(0을 입력하면 종료)"
   ]
  },
  {
   "cell_type": "code",
   "execution_count": 7,
   "metadata": {},
   "outputs": [
    {
     "name": "stdout",
     "output_type": "stream",
     "text": [
      "입력값(0 입력시 종료) : 1\n",
      "입력값(0 입력시 종료) : 2\n",
      "입력값(0 입력시 종료) : 3\n",
      "입력값(0 입력시 종료) : 4\n",
      "입력값(0 입력시 종료) : 5\n",
      "입력값(0 입력시 종료) : 6\n",
      "입력값(0 입력시 종료) : 7\n",
      "입력값(0 입력시 종료) : 0\n",
      "짝수 합 : 12 홀수 합 : 16\n"
     ]
    }
   ],
   "source": [
    "num1, num2 = 0, 0\n",
    "while True :\n",
    "    num = int(input('입력값(0 입력시 종료) : '))\n",
    "    if num == 0 :\n",
    "        break\n",
    "    elif num%2 == 0 :\n",
    "        num1+=num\n",
    "    else :\n",
    "        num2+=num\n",
    "print('짝수 합 :', num1, '홀수 합 :', num2)"
   ]
  },
  {
   "cell_type": "markdown",
   "metadata": {},
   "source": [
    "##### 8. 친구 관리 프로그램\n",
    "====================\n",
    "\n",
    "1. 친구 리스트 출력\n",
    "\n",
    "2. 친구 추가\n",
    "\n",
    "3. 친구 삭제\n",
    "\n",
    "4. 이름 변경\n",
    "\n",
    "9. 종료\n",
    "\n",
    "메뉴를 선택 : 2 (엔터)\n",
    "\n",
    "##### 이름을 입력 : 홍길동 (엔터)\n",
    "-----------------------\n",
    "1.친구 리스트 출력\n",
    "\n",
    "2.친구 추가\n",
    "\n",
    "3.친구 삭제\n",
    "\n",
    "4.이름 변경\n",
    "\n",
    "9.종료\n",
    "\n",
    "메뉴를 선택 : 2 (엔터)\n",
    "\n",
    "##### 이름을 입력 : 임꺽정 (엔터)\n",
    "-----------------------\n",
    "1.친구 리스트 출력\n",
    "\n",
    "2.친구 추가\n",
    "\n",
    "3.친구 삭제\n",
    "\n",
    "4.이름 변경\n",
    "\n",
    "9.종료\n",
    "\n",
    "메뉴를 선택 : 1 (엔터)\n",
    "\n",
    "##### [\"홍길동\", \"임꺽정\"]\n",
    "----------------------\n",
    "1.친구 리스트 출력\n",
    "\n",
    "2.친구 추가\n",
    "\n",
    "3.친구 삭제\n",
    "\n",
    "4.이름 변경\n",
    "\n",
    "9.종료\n",
    "\n",
    "메뉴를 선택 : 4 (엔터)\n",
    "\n",
    "변경할 이름 선택 : 홍길동 (엔터)\n",
    "\n",
    "##### 변경하고 싶은 이름 입력 : 홍길순 (엔터)\n",
    "-------------------------------\n",
    "1.친구 리스트 출력\n",
    "\n",
    "2.친구 추가\n",
    "\n",
    "3.친구 삭제\n",
    "\n",
    "4.이름 변경\n",
    "\n",
    "9.종료\n",
    "\n",
    "메뉴를 선택 : 1 (엔터)\n",
    "\n",
    "\n",
    "##### [\"홍길순\", \"임꺽정\"]\n",
    "-------------------------------\n",
    "1.친구 리스트 출력\n",
    "\n",
    "2.친구 추가\n",
    "\n",
    "3.친구 삭제\n",
    "\n",
    "4.이름 변경\n",
    "\n",
    "9.종료\n",
    "\n",
    "메뉴를 선택 : 3 (엔터)\n",
    "\n",
    "삭제할 이름 입력 : 홍길순"
   ]
  },
  {
   "cell_type": "code",
   "execution_count": 8,
   "metadata": {},
   "outputs": [
    {
     "name": "stdout",
     "output_type": "stream",
     "text": [
      "\n",
      "1. 친구 리스트 출력\n",
      "2. 친구 추가\n",
      "3. 친구 삭제\n",
      "4. 이름 변경\n",
      "9. 종료\n",
      "\n",
      "메뉴를 선택 : \n",
      "2\n",
      "이름을 입력 :홍길동\n",
      "\n",
      "1. 친구 리스트 출력\n",
      "2. 친구 추가\n",
      "3. 친구 삭제\n",
      "4. 이름 변경\n",
      "9. 종료\n",
      "\n",
      "메뉴를 선택 : \n",
      "2\n",
      "이름을 입력 :임꺽정\n",
      "\n",
      "1. 친구 리스트 출력\n",
      "2. 친구 추가\n",
      "3. 친구 삭제\n",
      "4. 이름 변경\n",
      "9. 종료\n",
      "\n",
      "메뉴를 선택 : \n",
      "1\n",
      "['홍길동', '임꺽정']\n",
      "\n",
      "1. 친구 리스트 출력\n",
      "2. 친구 추가\n",
      "3. 친구 삭제\n",
      "4. 이름 변경\n",
      "9. 종료\n",
      "\n",
      "메뉴를 선택 : \n",
      "4\n",
      "변경할 이름 선택 :홍길동\n",
      "변경하고 싶은 이름 입력 :홍길순\n",
      "\n",
      "1. 친구 리스트 출력\n",
      "2. 친구 추가\n",
      "3. 친구 삭제\n",
      "4. 이름 변경\n",
      "9. 종료\n",
      "\n",
      "메뉴를 선택 : \n",
      "1\n",
      "['홍길순', '임꺽정']\n",
      "\n",
      "1. 친구 리스트 출력\n",
      "2. 친구 추가\n",
      "3. 친구 삭제\n",
      "4. 이름 변경\n",
      "9. 종료\n",
      "\n",
      "메뉴를 선택 : \n",
      "3\n",
      "이름을 입력 :홍길순\n",
      "\n",
      "1. 친구 리스트 출력\n",
      "2. 친구 추가\n",
      "3. 친구 삭제\n",
      "4. 이름 변경\n",
      "9. 종료\n",
      "\n",
      "메뉴를 선택 : \n",
      "1\n",
      "['임꺽정']\n",
      "\n",
      "1. 친구 리스트 출력\n",
      "2. 친구 추가\n",
      "3. 친구 삭제\n",
      "4. 이름 변경\n",
      "9. 종료\n",
      "\n",
      "메뉴를 선택 : \n",
      "9\n"
     ]
    }
   ],
   "source": [
    "Friend = []\n",
    "\n",
    "prompt = '''\n",
    "1. 친구 리스트 출력\n",
    "2. 친구 추가\n",
    "3. 친구 삭제\n",
    "4. 이름 변경\n",
    "9. 종료\n",
    "\n",
    "메뉴를 선택 : '''\n",
    "num = 0\n",
    "while True :\n",
    "    print(prompt)\n",
    "    num = int(input())\n",
    "    if num == 1 :\n",
    "        print(Friend)\n",
    "    elif num == 2 :\n",
    "        Friend.append(input('이름을 입력 :'))\n",
    "    elif num == 3 :\n",
    "        Friend.remove(input('이름을 입력 :'))\n",
    "    elif num == 4 :\n",
    "        for i in range(len(Friend)) :\n",
    "            if Friend[i] == input('변경할 이름 선택 :') :\n",
    "                Friend[i] = input('변경하고 싶은 이름 입력 :')\n",
    "                break\n",
    "    if num == 9 :\n",
    "        break\n",
    "        "
   ]
  },
  {
   "cell_type": "markdown",
   "metadata": {},
   "source": [
    "##### 9. 팩토리얼 계산\n",
    "=============\n",
    "\n",
    "정수 입력 : 3 (엔터)\n",
    "결과 : 3의 팩토리얼은 6이다."
   ]
  },
  {
   "cell_type": "code",
   "execution_count": 9,
   "metadata": {},
   "outputs": [
    {
     "name": "stdout",
     "output_type": "stream",
     "text": [
      "정수 입력 :3\n",
      "결과 : 3의 팩토리얼은 6이다.\n"
     ]
    }
   ],
   "source": [
    "num = int(input('정수 입력 :'))\n",
    "\n",
    "i = 0\n",
    "hap = 1\n",
    "\n",
    "while i < num :\n",
    "    i += 1\n",
    "    hap *= i\n",
    "    \n",
    "print('결과 : %d의 팩토리얼은 %d이다.' % (num, hap))"
   ]
  },
  {
   "cell_type": "markdown",
   "metadata": {},
   "source": [
    "##### 10. 자리수의 합\n",
    "============\n",
    "\n",
    "예를 들어 1234라고 입력했을 경우 (1 + 2 + 3 + 4)를 계산하는 프로그램\n",
    "(0을 입력하면 종료)"
   ]
  },
  {
   "cell_type": "code",
   "execution_count": 10,
   "metadata": {},
   "outputs": [
    {
     "name": "stdout",
     "output_type": "stream",
     "text": [
      "수를 입력하시오(0 입력시 종료) : 1234\n",
      "10\n",
      "수를 입력하시오(0 입력시 종료) : 0\n",
      "종료합니다\n"
     ]
    }
   ],
   "source": [
    "while True :\n",
    "    num, sum = 0, 0\n",
    "    num = str(input('수를 입력하시오(0 입력시 종료) : '))\n",
    "    if num == '0' :\n",
    "        print('종료합니다')\n",
    "        break\n",
    "    else :\n",
    "        for i in range(0, len(num)) :\n",
    "            sum += int(num[i])\n",
    "        print(sum)"
   ]
  },
  {
   "cell_type": "markdown",
   "metadata": {},
   "source": [
    "##### 11. 숫자 맞추기 게임\n",
    "=================\n",
    "\n",
    "1 부터 100사이의 숫자를 맞추시오\n",
    "숫자 입력 : 50\n",
    "낮음!\n",
    "\n",
    "숫자 입력 : 75\n",
    "낮음!\n",
    "\n",
    "...\n",
    "\n",
    "숫자 입력 : 89\n",
    "정답입니다!~~ 시도횟수 : 7번"
   ]
  },
  {
   "cell_type": "code",
   "execution_count": 18,
   "metadata": {},
   "outputs": [
    {
     "name": "stdout",
     "output_type": "stream",
     "text": [
      "숫자 입력 : 40\n",
      "조금 더 늘려보세요\n",
      "숫자 입력 : 50\n",
      "가까워졌어요!\n",
      "숫자 입력 : 5\n",
      "정답보다 많이 작아요\n",
      "숫자 입력 : 55\n",
      "거의 다 왔어요!\n",
      "숫자 입력 : 56\n",
      "거의 다 왔어요!\n",
      "숫자 입력 : 57\n",
      "거의 다 왔어요!\n",
      "숫자 입력 : 58\n",
      "거의 다 왔어요!\n",
      "숫자 입력 : 59\n",
      "거의 다 왔어요!\n",
      "숫자 입력 : 60\n",
      "정답입니다. 시도 횟수 :  9\n"
     ]
    }
   ],
   "source": [
    "import random\n",
    "v = random.randint(1,100)\n",
    "i = 0\n",
    "\n",
    "while True:\n",
    "    i += 1\n",
    "    num = int(input(\"숫자 입력 : \"))\n",
    "    if v > num :\n",
    "        if v - num > 20:\n",
    "            print(\"정답보다 많이 작아요\")\n",
    "        elif v - num > 10 :\n",
    "            print('조금 더 늘려보세요')\n",
    "        elif v - num > 5 :\n",
    "            print('가까워졌어요!')\n",
    "        elif v - num > 0 :\n",
    "            print('거의 다 왔어요!')\n",
    "    elif v < num :\n",
    "        if num - v > 20 :\n",
    "            print(\"정답보다 많이 커요\")\n",
    "        elif num - v > 10 :\n",
    "            print('조금 더 줄여보세요')\n",
    "        elif num - v > 5 :\n",
    "            print('가까워졌어요!')\n",
    "        elif num - v > 0 :\n",
    "            print('거의 다 왔어요!')\n",
    "            \n",
    "    else :\n",
    "        print('정답입니다. 시도 횟수 : ', i)\n",
    "        break"
   ]
  },
  {
   "cell_type": "markdown",
   "metadata": {},
   "source": [
    "##### 12. *로 정삼각형 만들기 (1/ 3/ 5/ 7/ 9)"
   ]
  },
  {
   "cell_type": "code",
   "execution_count": 19,
   "metadata": {},
   "outputs": [
    {
     "name": "stdout",
     "output_type": "stream",
     "text": [
      "    *\n",
      "   ***\n",
      "  *****\n",
      " *******\n",
      "*********\n"
     ]
    }
   ],
   "source": [
    "for i in range(5):\n",
    "    for j in range(4-i):\n",
    "        print(' ', end = '')\n",
    "    print('*'*(2*i + 1))"
   ]
  },
  {
   "cell_type": "code",
   "execution_count": null,
   "metadata": {},
   "outputs": [],
   "source": []
  }
 ],
 "metadata": {
  "kernelspec": {
   "display_name": "Python 3",
   "language": "python",
   "name": "python3"
  },
  "language_info": {
   "codemirror_mode": {
    "name": "ipython",
    "version": 3
   },
   "file_extension": ".py",
   "mimetype": "text/x-python",
   "name": "python",
   "nbconvert_exporter": "python",
   "pygments_lexer": "ipython3",
   "version": "3.8.3"
  }
 },
 "nbformat": 4,
 "nbformat_minor": 4
}
